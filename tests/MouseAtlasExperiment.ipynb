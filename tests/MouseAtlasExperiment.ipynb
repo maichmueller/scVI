{
 "cells": [
  {
   "cell_type": "code",
   "execution_count": 1,
   "metadata": {},
   "outputs": [
    {
     "name": "stderr",
     "output_type": "stream",
     "text": [
      "[2019-09-04 10:52:34,768] INFO - scvi._settings | Added StreamHandler with custom formatter to 'scvi' logger.\n",
      "/home/michael/anaconda3/envs/scvi/lib/python3.7/site-packages/sklearn/utils/linear_assignment_.py:21: DeprecationWarning: The linear_assignment_ module is deprecated in 0.21 and will be removed from 0.23. Use scipy.optimize.linear_sum_assignment instead.\n",
      "  DeprecationWarning)\n"
     ]
    }
   ],
   "source": [
    "from scvi.dataset import EbiData, MouseAtlas, UnionDataset, AnnDatasetFromAnnData\n",
    "from Eval_basis import *\n",
    "import scanpy as sc\n",
    "import pandas as pd\n",
    "import scipy.sparse as sparse\n",
    "from tqdm import tqdm_notebook as tqdm"
   ]
  },
  {
   "cell_type": "code",
   "execution_count": null,
   "metadata": {},
   "outputs": [],
   "source": []
  },
  {
   "cell_type": "code",
   "execution_count": 2,
   "metadata": {},
   "outputs": [],
   "source": [
    "mouse_union = UnionDataset(\"./data\", \n",
    "                              gene_map_load_filename=\"gene_maps/ensembl_mouse_genes-proteincoding\", \n",
    "                              low_memory=False)"
   ]
  },
  {
   "cell_type": "code",
   "execution_count": 3,
   "metadata": {
    "scrolled": false
   },
   "outputs": [
    {
     "name": "stderr",
     "output_type": "stream",
     "text": [
      "Concatenating datasets: 100%|██████████| 1/1 [13:31<00:00, 811.43s/it]\n",
      "[2019-09-04 11:07:16,829] INFO - scvi.dataset.dataset | Union dataset is set to ignore batch annotation.\n",
      "[2019-09-04 11:07:26,619] INFO - scvi.dataset.dataset | Remapping labels to [0,N]\n",
      "[2019-09-04 11:07:26,752] INFO - scvi.dataset.dataset | Remapping batch_indices to [0,N]\n",
      "[2019-09-04 11:07:26,782] INFO - scvi.dataset.dataset | Union dataset is set to ignore batch annotation.\n",
      "[2019-09-04 11:07:26,799] INFO - scvi.dataset.dataset | Joined 1 datasets to one of shape 1331984 x 22250.\n"
     ]
    },
    {
     "data": {
      "text/plain": [
       "GeneExpressionDataset object with n_cells x nb_genes = 1331984 x 22250\n",
       "    gene_attribute_names: 'gene_names'\n",
       "    cell_attribute_names: 'local_vars', 'local_means', 'labels', 'batch_indices'\n",
       "    cell_categorical_attribute_names: 'labels', 'batch_indices'"
      ]
     },
     "execution_count": 3,
     "metadata": {},
     "output_type": "execute_result"
    }
   ],
   "source": [
    "fpaths_and_fnames = {'data': \"./data/mouse_atlas/cleaned_data_sparse.npz\",\n",
    "                     'cell': \"./data/mouse_atlas/cell_annotation.csv\",\n",
    "                     'gene': \"./data/mouse_atlas/gene_annotation.csv\",\n",
    "                     'pheno': \"./data/mouse_atlas/phenotype_data.csv\"}\n",
    "\n",
    "mouse_union.join_datasets(data_source=\"memory\", \n",
    "                          data_target=\"memory\",\n",
    "                          gene_datasets=[MouseAtlas(\"./data/mouse_atlas\",\n",
    "                                                    fpaths_and_fnames,\n",
    "                                                    True,\n",
    "                                                    False)])"
   ]
  },
  {
   "cell_type": "code",
   "execution_count": 4,
   "metadata": {
    "scrolled": true
   },
   "outputs": [
    {
     "name": "stdout",
     "output_type": "stream",
     "text": [
      "Training VAE\n",
      "Initializing training.\n",
      "training: 100%|██████████| 100/100 [3:49:32<00:00, 157.67s/it] \n"
     ]
    }
   ],
   "source": [
    "n_epochs = 100\n",
    "colors=None\n",
    "\n",
    "print(\"Training VAE\")\n",
    "\n",
    "trainer = train_vae(mouse_union, \"./data\", f\"../trained_models/mouse_atlas\", n_epochs=n_epochs)\n",
    "# trainer_small = train_vae(data_small, \"./data\", f\"small_{tissue}_data_portion\", n_epochs=n_epochs)\n",
    "\n"
   ]
  },
  {
   "cell_type": "code",
   "execution_count": 5,
   "metadata": {},
   "outputs": [
    {
     "name": "stderr",
     "output_type": "stream",
     "text": [
      "[2019-09-04 15:00:25,225] WARNING - scvi.dataset.dataset | This dataset has some empty cells, this might fail scVI inference.Data should be filtered with `my_dataset.filter_cells_by_count()\n",
      "WARNING:scvi.dataset.dataset:This dataset has some empty cells, this might fail scVI inference.Data should be filtered with `my_dataset.filter_cells_by_count()\n",
      "[2019-09-04 15:00:25,276] INFO - scvi.dataset.dataset | Remapping labels to [0,N]\n",
      "INFO:scvi.dataset.dataset:Remapping labels to [0,N]\n",
      "[2019-09-04 15:00:25,282] INFO - scvi.dataset.dataset | Remapping batch_indices to [0,N]\n",
      "INFO:scvi.dataset.dataset:Remapping batch_indices to [0,N]\n",
      "[2019-09-04 15:00:26,367] INFO - scvi.dataset.dataset | Computing the library size for the new data\n",
      "INFO:scvi.dataset.dataset:Computing the library size for the new data\n",
      "[2019-09-04 15:00:27,462] INFO - scvi.dataset.dataset | Downsampled from 50896 to 35577 cells\n",
      "INFO:scvi.dataset.dataset:Downsampled from 50896 to 35577 cells\n",
      "Concatenating datasets: 100%|██████████| 1/1 [00:34<00:00, 34.92s/it]\n",
      "[2019-09-04 15:01:02,886] INFO - scvi.dataset.dataset | Union dataset is set to ignore batch annotation.\n",
      "INFO:scvi.dataset.dataset:Union dataset is set to ignore batch annotation.\n",
      "[2019-09-04 15:01:04,208] INFO - scvi.dataset.dataset | Remapping labels to [0,N]\n",
      "INFO:scvi.dataset.dataset:Remapping labels to [0,N]\n",
      "[2019-09-04 15:01:04,213] INFO - scvi.dataset.dataset | Remapping batch_indices to [0,N]\n",
      "INFO:scvi.dataset.dataset:Remapping batch_indices to [0,N]\n",
      "[2019-09-04 15:01:04,214] INFO - scvi.dataset.dataset | Union dataset is set to ignore batch annotation.\n",
      "INFO:scvi.dataset.dataset:Union dataset is set to ignore batch annotation.\n",
      "[2019-09-04 15:01:04,215] INFO - scvi.dataset.dataset | Joined 1 datasets to one of shape 35577 x 22250.\n",
      "INFO:scvi.dataset.dataset:Joined 1 datasets to one of shape 35577 x 22250.\n"
     ]
    },
    {
     "data": {
      "text/plain": [
       "GeneExpressionDataset object with n_cells x nb_genes = 35577 x 22250\n",
       "    gene_attribute_names: 'gene_names'\n",
       "    cell_attribute_names: 'local_vars', 'local_means', 'labels', 'batch_indices'\n",
       "    cell_categorical_attribute_names: 'labels', 'batch_indices'"
      ]
     },
     "execution_count": 5,
     "metadata": {},
     "output_type": "execute_result"
    }
   ],
   "source": [
    "mouse_ebi_celltype_data = UnionDataset(\"./data\", \n",
    "                              gene_map_load_filename=\"gene_maps/ensembl_mouse_genes-proteincoding\", \n",
    "                              low_memory=False)\n",
    "mouse_ebi_celltype_data.join_datasets(data_source=\"memory\", \n",
    "                             data_target=\"memory\", \n",
    "                             gene_datasets=[EbiData(\"./data\")])"
   ]
  },
  {
   "cell_type": "code",
   "execution_count": 10,
   "metadata": {},
   "outputs": [],
   "source": [
    "dot_size = (mpl.rcParams['lines.markersize'] ** 2.0)\n",
    "\n",
    "posterior_big = plot_tsne(trainer, trainer.model, mouse_union, f\"./plots/mouse_atlas_tsne\", image_datatype=\"pdf\",\n",
    "                          colors=colors, s=dot_size, edgecolors='black')\n",
    "\n",
    "# posterior_ebi_annotated = trainer.create_posterior(model, ebi_with_celltypes, indices=np.arange(len(dataset)))\n",
    "posterior_ebi_annotated = plot_tsne(trainer, trainer.model, mouse_ebi_celltype_data, f\"./plots/ebi_annotated_in_mouse_atlas\",\n",
    "                                    image_datatype=\"pdf\",\n",
    "                                    colors=colors, s=dot_size, edgecolors='black')"
   ]
  },
  {
   "cell_type": "code",
   "execution_count": null,
   "metadata": {},
   "outputs": [],
   "source": []
  }
 ],
 "metadata": {
  "kernelspec": {
   "display_name": "Python [conda env:scvi] *",
   "language": "python",
   "name": "conda-env-scvi-py"
  },
  "language_info": {
   "codemirror_mode": {
    "name": "ipython",
    "version": 3
   },
   "file_extension": ".py",
   "mimetype": "text/x-python",
   "name": "python",
   "nbconvert_exporter": "python",
   "pygments_lexer": "ipython3",
   "version": "3.7.4"
  }
 },
 "nbformat": 4,
 "nbformat_minor": 2
}
