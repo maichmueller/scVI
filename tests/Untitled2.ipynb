{
 "cells": [
  {
   "cell_type": "code",
   "execution_count": null,
   "metadata": {},
   "outputs": [],
   "source": [
    "import rpy2.robjects as robjects\n",
    "r = robjects.r"
   ]
  },
  {
   "cell_type": "code",
   "execution_count": null,
   "metadata": {},
   "outputs": [],
   "source": [
    "r[\"\"\"if (!requireNamespace(\"BiocManager\", quietly = TRUE))\n",
    "         install.packages(\"BiocManager\")\n",
    "         BiocManager::install(\"monocle\")\n",
    "  \"\"\"]"
   ]
  },
  {
   "cell_type": "code",
   "execution_count": null,
   "metadata": {},
   "outputs": [],
   "source": [
    "readRDS = r[f'df <- readRDS({filename})']"
   ]
  },
  {
   "cell_type": "code",
   "execution_count": null,
   "metadata": {},
   "outputs": [],
   "source": [
    "r[f\"(write.csv(df@phenoData@data, {filename}\"]\n",
    "r[f\"(write.csv(df@featureData@data, {filename}\"]"
   ]
  },
  {
   "cell_type": "code",
   "execution_count": null,
   "metadata": {},
   "outputs": [],
   "source": [
    "r[\"\"\"write_dgCMatrix_csv <- function(mat,\n",
    "                                filename,\n",
    "                                col1_name = \"gene\",\n",
    "                                chunk_size = 1000) {\n",
    "\n",
    "  #library(Matrix)\n",
    "  #library(data.table)\n",
    "\n",
    "  # Transpose so retrieval of \"rows\" is much faster\n",
    "  mat <- Matrix::t(mat)\n",
    "\n",
    "  # Row names\n",
    "  row_names <- colnames(mat)\n",
    "\n",
    "  # gene names are now columns\n",
    "  col_names <- rownames(mat)\n",
    "\n",
    "  n_row <- length(row_names)\n",
    "  n_col <- length(col_names)\n",
    "\n",
    "  n_chunks <- floor(n_row/chunk_size)\n",
    "\n",
    "  # Initial chunk\n",
    "  chunk <- 1\n",
    "  chunk_start <- 1 + chunk_size * (chunk - 1)\n",
    "  chunk_end <- chunk_size * chunk\n",
    "  print(paste0(\"Writing rows \",chunk_start,\" to \", chunk_end))\n",
    "  chunk_mat <- t(as.matrix(mat[,chunk_start:chunk_end]))\n",
    "  chunk_df <- cbind(data.frame(col1 = row_names[chunk_start:chunk_end]),as.data.frame(chunk_mat))\n",
    "  names(chunk_df)[1] <- col1_name\n",
    "  data.table::fwrite(chunk_df, file = filename, append = F)\n",
    "\n",
    "  # chunkation over chunks\n",
    "  for(chunk in 2:n_chunks) {\n",
    "    chunk_start <- 1 + chunk_size * (chunk - 1)\n",
    "    chunk_end <- chunk_size * chunk\n",
    "    print(paste0(\"Writing rows \",chunk_start,\" to \", chunk_end))\n",
    "    chunk_mat <- t(as.matrix(mat[,chunk_start:chunk_end]))\n",
    "    chunk_df <- cbind(data.frame(col1 = row_names[chunk_start:chunk_end]),as.data.frame(chunk_mat))\n",
    "    data.table::fwrite(chunk_df, file = filename, append = T)\n",
    "  }\n",
    "\n",
    "  # Remaining samples\n",
    "  chunk_start <- (n_chunks*chunk_size + 1)\n",
    "  chunk_end <- n_row\n",
    "  print(paste0(\"Writing rows \",chunk_start,\" to \", chunk_end))\n",
    "  chunk_mat <- t(as.matrix(mat[,chunk_start:chunk_end]))\n",
    "  chunk_df <- cbind(data.frame(col1 = row_names[chunk_start:chunk_end]),as.data.frame(chunk_mat))\n",
    "  data.table::fwrite(chunk_df, file = filename, append = T)\n",
    "\n",
    "}\"\"\"]"
   ]
  },
  {
   "cell_type": "code",
   "execution_count": null,
   "metadata": {},
   "outputs": [],
   "source": [
    "r[f'write_dgCMatrix_csv(df@assayData$exprs, {filename}, col1_name = \"gene\", chunk_size = 100)']"
   ]
  }
 ],
 "metadata": {
  "kernelspec": {
   "display_name": "Python [conda env:rpy2]",
   "language": "python",
   "name": "conda-env-rpy2-py"
  },
  "language_info": {
   "codemirror_mode": {
    "name": "ipython",
    "version": 3
   },
   "file_extension": ".py",
   "mimetype": "text/x-python",
   "name": "python",
   "nbconvert_exporter": "python",
   "pygments_lexer": "ipython3",
   "version": "3.7.4"
  }
 },
 "nbformat": 4,
 "nbformat_minor": 2
}
