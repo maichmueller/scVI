{
 "cells": [
  {
   "cell_type": "code",
   "execution_count": null,
   "metadata": {},
   "outputs": [],
   "source": [
    "from scvi.dataset import EbiData, MouseAtlas, UnionDataset, AnnDatasetFromAnnData\n",
    "from Eval_basis import *\n",
    "import scanpy as sc\n",
    "import pandas as pd\n",
    "import scipy.sparse as sparse\n",
    "from tqdm import tqdm_notebook as tqdm"
   ]
  },
  {
   "cell_type": "code",
   "execution_count": null,
   "metadata": {},
   "outputs": [],
   "source": []
  },
  {
   "cell_type": "code",
   "execution_count": null,
   "metadata": {
    "scrolled": true
   },
   "outputs": [],
   "source": [
    "conv = pd.read_csv(\"./data/gene_maps/hugo_mouse_genes-proteincoding.csv\", header=0, index_col=0)\n",
    "conv.index = conv.index.str.lower()\n",
    "\n",
    "data_path = os.path.join((\"./data\"))\n",
    "mouse_data_path = os.path.join(data_path, \"mouse_data\")\n",
    "dsets = [] \n",
    "for file in os.listdir(f\"{data_path}/mouse_data\"):\n",
    "#     if \"droplet\" in file:\n",
    "    dset = sc.read_h5ad(os.path.join(mouse_data_path, file))\n",
    "    dset.obs.rename(columns={\"cell_ontology_class\": \"cell_types\"}, inplace=True)\n",
    "    \n",
    "    dset = AnnDatasetFromAnnData(dset)\n",
    "    \n",
    "    gns_conved = conv.reindex(np.char.upper(dset.gene_names))[\"ensembl\"]\n",
    "    if not isinstance(dset.X, np.ndarray):\n",
    "        X = dset.X.toarray()\n",
    "    else:\n",
    "        X = dset.X\n",
    "    mask = ~gns_conved.isnull()\n",
    "    \n",
    "    dset.gene_names = gns_conved[mask].values.astype(str)\n",
    "    dset.X = X[:, mask]\n",
    "    dset.cell_types = np.array([ct.replace(\"ï\", \"i\") for ct in dset.cell_types])\n",
    "    \n",
    "    dsets.append(dset)"
   ]
  },
  {
   "cell_type": "code",
   "execution_count": null,
   "metadata": {},
   "outputs": [],
   "source": [
    "mouse_muris_senis = UnionDataset(\"./data\", \n",
    "                                 gene_map_load_filename=\"gene_maps/ensembl_mouse_genes-proteincoding\", \n",
    "                                 low_memory=False)"
   ]
  },
  {
   "cell_type": "code",
   "execution_count": null,
   "metadata": {},
   "outputs": [],
   "source": [
    "mouse_muris_senis.join_datasets(data_source=\"memory\", \n",
    "                                data_target=\"memory\",\n",
    "                                gene_datasets=dsets)\n",
    "mouse_muris_senis.name = \"Tabula Muris Senis\""
   ]
  },
  {
   "cell_type": "code",
   "execution_count": null,
   "metadata": {},
   "outputs": [],
   "source": [
    "n_epochs = 100\n",
    "colors=None\n",
    "\n",
    "print(\"Training VAE\")\n",
    "\n",
    "trainer = train_vae(complete_mouse, \"./data\", f\"../trained_models/tabula_muris_data\", n_epochs=n_epochs)\n",
    "# trainer_small = train_vae(data_small, \"./data\", f\"small_{tissue}_data_portion\", n_epochs=n_epochs)\n",
    "\n"
   ]
  },
  {
   "cell_type": "code",
   "execution_count": null,
   "metadata": {},
   "outputs": [],
   "source": [
    "mouse_ebi_celltype_data = UnionDataset(\"./data\", \n",
    "                              gene_map_load_filename=\"gene_maps/ensembl_mouse_genes-proteincoding\", \n",
    "                              low_memory=False)\n",
    "mouse_ebi_celltype_data.join_datasets(data_source=\"memory\", \n",
    "                             data_target=\"memory\", \n",
    "                             gene_datasets=[EbiData(\"./data\")])"
   ]
  },
  {
   "cell_type": "code",
   "execution_count": null,
   "metadata": {},
   "outputs": [],
   "source": [
    "dot_size = (mpl.rcParams['lines.markersize'] ** 2.0)\n",
    "\n",
    "posterior_big = plot_tsne(trainer, trainer.model, complete_mouse, f\"./tabula_muris_tsne\", image_datatype=\"pdf\",\n",
    "                          colors=colors, s=dot_size, edgecolors='black')\n",
    "\n",
    "# posterior_ebi_annotated = trainer.create_posterior(model, ebi_with_celltypes, indices=np.arange(len(dataset)))\n",
    "posterior_ebi_annotated = plot_tsne(trainer_big, trainer_big.model, ebi_with_celltypes, f\"./plots/ebi_annotated_in_tabula-muris\",\n",
    "                                    image_datatype=\"pdf\", colors=colors, s=dot_size, edgecolors='black')"
   ]
  },
  {
   "cell_type": "code",
   "execution_count": null,
   "metadata": {},
   "outputs": [],
   "source": []
  }
 ],
 "metadata": {
  "kernelspec": {
   "display_name": "Python [conda env:scvi] *",
   "language": "python",
   "name": "conda-env-scvi-py"
  },
  "language_info": {
   "codemirror_mode": {
    "name": "ipython",
    "version": 3
   },
   "file_extension": ".py",
   "mimetype": "text/x-python",
   "name": "python",
   "nbconvert_exporter": "python",
   "pygments_lexer": "ipython3",
   "version": "3.7.4"
  }
 },
 "nbformat": 4,
 "nbformat_minor": 2
}
