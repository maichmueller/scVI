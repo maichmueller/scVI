{
 "cells": [
  {
   "cell_type": "code",
   "execution_count": 1,
   "metadata": {},
   "outputs": [
    {
     "name": "stderr",
     "output_type": "stream",
     "text": [
      "[2019-08-22 17:15:08,109] INFO - scvi._settings | Added StreamHandler with custom formatter to 'scvi' logger.\n",
      "/home/michael/anaconda3/envs/scvi/lib/python3.7/site-packages/sklearn/utils/linear_assignment_.py:21: DeprecationWarning: The linear_assignment_ module is deprecated in 0.21 and will be removed from 0.23. Use scipy.optimize.linear_sum_assignment instead.\n",
      "  DeprecationWarning)\n"
     ]
    }
   ],
   "source": [
    "from scvi.dataset import EbiData, MouseAtlas, UnionDataset, AnnDatasetFromAnnData\n",
    "from Eval_basis import *\n",
    "import scanpy as sc\n",
    "import pandas as pd\n",
    "import scipy.sparse as sparse"
   ]
  },
  {
   "cell_type": "code",
   "execution_count": null,
   "metadata": {},
   "outputs": [],
   "source": [
    "ebi_1 = EbiData(\"./data\", 'E-MTAB-6946', result_file='raw')"
   ]
  },
  {
   "cell_type": "code",
   "execution_count": null,
   "metadata": {},
   "outputs": [],
   "source": [
    "ebi_2 = EbiData(\"./data\", 'E-MTAB-7320', result_file='raw')"
   ]
  },
  {
   "cell_type": "code",
   "execution_count": null,
   "metadata": {},
   "outputs": [],
   "source": []
  },
  {
   "cell_type": "code",
   "execution_count": null,
   "metadata": {},
   "outputs": [],
   "source": [
    "fpaths_and_fnames = {'data': \"./data/mouse_atlas/cleaned_data_sparse.npz\",\n",
    "                     'cell': \"./data/mouse_atlas/cell_annotation.csv\",\n",
    "                     'gene': \"./data/mouse_atlas/gene_annotation.csv\",\n",
    "                     'pheno': \"./data/mouse_atlas/phenotype_data.csv\"}\n",
    "mouse_atlas = MouseAtlas(\"./data/mouse_atlas\",\n",
    "                   fpaths_and_fnames,\n",
    "                   True,\n",
    "                   False)"
   ]
  },
  {
   "cell_type": "code",
   "execution_count": null,
   "metadata": {
    "scrolled": true
   },
   "outputs": [],
   "source": [
    "conv = pd.read_csv(\"./data/gene_maps/hugo_mouse_genes-proteincoding.csv\", header=0, index_col=0)\n",
    "conv.index = conv.index.str.lower()\n",
    "\n",
    "data_path = os.path.join((\"./data\"))\n",
    "mouse_data_path = os.path.join(data_path, \"mouse_data\")\n",
    "dsets = [] \n",
    "for file in os.listdir(f\"{data_path}/mouse_data\"):\n",
    "#     if \"droplet\" in file:\n",
    "    dset = sc.read_h5ad(os.path.join(mouse_data_path, file))\n",
    "    dset.obs.rename(columns={\"cell_ontology_class\": \"cell_types\"}, inplace=True)\n",
    "    \n",
    "    dset = AnnDatasetFromAnnData(dset)\n",
    "    \n",
    "    gns_conved = conv.reindex(np.char.lower(dset.gene_names))[\"ensembl\"]\n",
    "    if not isinstance(dset.X, np.ndarray):\n",
    "        X = dset.X.toarray()\n",
    "    else:\n",
    "        X = dset.X\n",
    "    mask = ~gns_conved.isnull()\n",
    "    \n",
    "    dset.gene_names = gns_conved[mask].values.astype(str)\n",
    "    dset.X = X[:, mask]\n",
    "    dset.cell_types = np.array([ct.replace(\"ï\", \"i\") for ct in dset.cell_types])\n",
    "    \n",
    "    dsets.append(dset)"
   ]
  },
  {
   "cell_type": "code",
   "execution_count": null,
   "metadata": {},
   "outputs": [],
   "source": [
    "mouse_muris_senis = UnionDataset(\"./data\", \n",
    "                                 gene_map_load_filename=\"gene_maps/ensembl_mouse_genes-proteincoding\", \n",
    "                                 low_memory=False)"
   ]
  },
  {
   "cell_type": "code",
   "execution_count": null,
   "metadata": {
    "scrolled": true
   },
   "outputs": [],
   "source": [
    "mouse_muris_senis.join_datasets(data_source=\"memory\", \n",
    "                                data_target=\"memory\",\n",
    "                                gene_datasets=dsets)\n",
    "mouse_muris_senis.name = \"Tabula Muris Senis\""
   ]
  },
  {
   "cell_type": "code",
   "execution_count": null,
   "metadata": {},
   "outputs": [],
   "source": [
    "dsets = None\n",
    "mouse_muris_senis.cell_types = np.array([ct.replace(\"ï\", \"i\") for ct in mouse_muris_senis.cell_types])"
   ]
  },
  {
   "cell_type": "code",
   "execution_count": null,
   "metadata": {},
   "outputs": [],
   "source": [
    "complete_mouse = UnionDataset(\"./data\", \n",
    "                              gene_map_load_filename=\"gene_maps/ensembl_mouse_genes-proteincoding\", \n",
    "                              low_memory=False)"
   ]
  },
  {
   "cell_type": "code",
   "execution_count": null,
   "metadata": {
    "scrolled": false
   },
   "outputs": [],
   "source": [
    "complete_mouse.join_datasets(data_source=\"memory\", \n",
    "                             data_target=\"hdf5\", \n",
    "                             out_filename=\"mouse_data_all\", \n",
    "                             gene_datasets=[mouse_muris_senis, ebi_1, ebi_2, mouse_atlas])"
   ]
  },
  {
   "cell_type": "code",
   "execution_count": null,
   "metadata": {
    "scrolled": true
   },
   "outputs": [],
   "source": [
    "mouse_muris_senis.cell_types"
   ]
  },
  {
   "cell_type": "code",
   "execution_count": null,
   "metadata": {},
   "outputs": [],
   "source": [
    "complete_mouse = UnionDataset(\"./data\", \n",
    "                              gene_map_load_filename=\"gene_maps/ensembl_mouse_genes-proteincoding\", \n",
    "                              data_load_filename=\"mouse_data_all\",\n",
    "                              low_memory=True)"
   ]
  },
  {
   "cell_type": "code",
   "execution_count": null,
   "metadata": {},
   "outputs": [],
   "source": [
    "complete_mouse.gene_names"
   ]
  },
  {
   "cell_type": "code",
   "execution_count": null,
   "metadata": {
    "scrolled": true
   },
   "outputs": [],
   "source": [
    "n_epochs = 100\n",
    "colors=None\n",
    "\n",
    "print(\"Training VAE\")\n",
    "\n",
    "trainer = train_vae(complete_mouse, \"./data\", f\"max_data_model\", n_epochs=n_epochs)\n",
    "# trainer_small = train_vae(data_small, \"./data\", f\"small_{tissue}_data_portion\", n_epochs=n_epochs)\n",
    "\n"
   ]
  },
  {
   "cell_type": "code",
   "execution_count": null,
   "metadata": {},
   "outputs": [],
   "source": [
    "ebi_with_celltypes = EbiData(\"./data\")"
   ]
  },
  {
   "cell_type": "code",
   "execution_count": null,
   "metadata": {},
   "outputs": [],
   "source": [
    "dot_size = (mpl.rcParams['lines.markersize'] ** 2.0)\n",
    "\n",
    "posterior_big = plot_tsne(trainer, trainer.model, complete_mouse, f\"./max_data_model\",\n",
    "                          colors=colors, s=dot_size, edgecolors='black')\n",
    "\n",
    "# posterior_ebi_annotated = trainer.create_posterior(model, ebi_with_celltypes, indices=np.arange(len(dataset)))\n",
    "posterior_ebi_annotated = plot_tsne(trainer_big, trainer_big.model, ebi_with_celltypes, f\"./plots/small_{tissue}_data_portion_in_big\",\n",
    "#                                    colors=colors, s=dot_size, edgecolors='black')\n"
   ]
  },
  {
   "cell_type": "code",
   "execution_count": null,
   "metadata": {},
   "outputs": [],
   "source": []
  },
  {
   "cell_type": "code",
   "execution_count": null,
   "metadata": {},
   "outputs": [],
   "source": []
  },
  {
   "cell_type": "code",
   "execution_count": null,
   "metadata": {},
   "outputs": [],
   "source": []
  },
  {
   "cell_type": "code",
   "execution_count": null,
   "metadata": {},
   "outputs": [],
   "source": []
  },
  {
   "cell_type": "code",
   "execution_count": null,
   "metadata": {},
   "outputs": [],
   "source": []
  },
  {
   "cell_type": "code",
   "execution_count": null,
   "metadata": {},
   "outputs": [],
   "source": []
  },
  {
   "cell_type": "code",
   "execution_count": null,
   "metadata": {},
   "outputs": [],
   "source": []
  }
 ],
 "metadata": {
  "kernelspec": {
   "display_name": "Python [conda env:scvi] *",
   "language": "python",
   "name": "conda-env-scvi-py"
  },
  "language_info": {
   "codemirror_mode": {
    "name": "ipython",
    "version": 3
   },
   "file_extension": ".py",
   "mimetype": "text/x-python",
   "name": "python",
   "nbconvert_exporter": "python",
   "pygments_lexer": "ipython3",
   "version": "3.7.4"
  }
 },
 "nbformat": 4,
 "nbformat_minor": 2
}
