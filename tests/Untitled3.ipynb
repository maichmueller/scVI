{
 "cells": [
  {
   "cell_type": "code",
   "execution_count": 1,
   "metadata": {},
   "outputs": [
    {
     "name": "stderr",
     "output_type": "stream",
     "text": [
      "[2019-09-04 16:33:09,449] INFO - scvi._settings | Added StreamHandler with custom formatter to 'scvi' logger.\n",
      "/home/michael/anaconda3/envs/scvi/lib/python3.7/site-packages/sklearn/utils/linear_assignment_.py:21: DeprecationWarning: The linear_assignment_ module is deprecated in 0.21 and will be removed from 0.23. Use scipy.optimize.linear_sum_assignment instead.\n",
      "  DeprecationWarning)\n"
     ]
    }
   ],
   "source": [
    "from scvi.dataset import EbiData, MouseAtlas, UnionDataset, AnnDatasetFromAnnData\n",
    "from Eval_basis import *\n",
    "import scanpy as sc\n",
    "import pandas as pd\n",
    "import scipy.sparse as sparse\n",
    "from tqdm import tqdm_notebook as tqdm\n",
    "import urllib"
   ]
  },
  {
   "cell_type": "code",
   "execution_count": 2,
   "metadata": {
    "scrolled": true
   },
   "outputs": [
    {
     "name": "stderr",
     "output_type": "stream",
     "text": [
      "[2019-09-04 16:33:12,297] INFO - scvi.dataset.anndataset | Dense size under 1Gb, casting to dense format (np.ndarray).\n",
      "[2019-09-04 16:33:12,840] INFO - scvi.dataset.dataset | Remapping batch_indices to [0,N]\n",
      "[2019-09-04 16:33:12,840] INFO - scvi.dataset.dataset | Remapping labels to [0,N]\n",
      "[2019-09-04 16:33:13,011] INFO - scvi.dataset.dataset | Computing the library size for the new data\n",
      "[2019-09-04 16:33:13,192] INFO - scvi.dataset.dataset | Downsampled from 7916 to 7916 cells\n",
      "[2019-09-04 16:33:14,176] INFO - scvi.dataset.dataset | Computing the library size for the new data\n",
      "[2019-09-04 16:33:15,222] INFO - scvi.dataset.anndataset | Dense size under 1Gb, casting to dense format (np.ndarray).\n",
      "[2019-09-04 16:33:15,530] INFO - scvi.dataset.dataset | Remapping batch_indices to [0,N]\n",
      "[2019-09-04 16:33:15,531] INFO - scvi.dataset.dataset | Remapping labels to [0,N]\n",
      "[2019-09-04 16:33:15,607] INFO - scvi.dataset.dataset | Computing the library size for the new data\n",
      "[2019-09-04 16:33:15,708] INFO - scvi.dataset.dataset | Downsampled from 2812 to 2812 cells\n",
      "[2019-09-04 16:33:16,037] INFO - scvi.dataset.dataset | Computing the library size for the new data\n",
      "[2019-09-04 16:33:16,880] INFO - scvi.dataset.anndataset | Dense size under 1Gb, casting to dense format (np.ndarray).\n",
      "[2019-09-04 16:33:17,163] INFO - scvi.dataset.dataset | Remapping batch_indices to [0,N]\n",
      "[2019-09-04 16:33:17,164] INFO - scvi.dataset.dataset | Remapping labels to [0,N]\n",
      "[2019-09-04 16:33:17,228] INFO - scvi.dataset.dataset | Computing the library size for the new data\n",
      "[2019-09-04 16:33:17,301] INFO - scvi.dataset.dataset | Downsampled from 3132 to 3132 cells\n",
      "[2019-09-04 16:33:17,598] INFO - scvi.dataset.dataset | Computing the library size for the new data\n",
      "[2019-09-04 16:33:18,434] INFO - scvi.dataset.anndataset | Dense size under 1Gb, casting to dense format (np.ndarray).\n",
      "[2019-09-04 16:33:18,836] INFO - scvi.dataset.dataset | Remapping batch_indices to [0,N]\n",
      "[2019-09-04 16:33:18,837] INFO - scvi.dataset.dataset | Remapping labels to [0,N]\n",
      "[2019-09-04 16:33:18,961] INFO - scvi.dataset.dataset | Computing the library size for the new data\n",
      "[2019-09-04 16:33:19,082] INFO - scvi.dataset.dataset | Downsampled from 5080 to 5080 cells\n",
      "[2019-09-04 16:33:19,797] INFO - scvi.dataset.dataset | Computing the library size for the new data\n",
      "[2019-09-04 16:33:20,921] INFO - scvi.dataset.anndataset | Dense size under 1Gb, casting to dense format (np.ndarray).\n",
      "[2019-09-04 16:33:21,292] INFO - scvi.dataset.dataset | Remapping batch_indices to [0,N]\n",
      "[2019-09-04 16:33:21,293] INFO - scvi.dataset.dataset | Remapping labels to [0,N]\n",
      "[2019-09-04 16:33:21,388] INFO - scvi.dataset.dataset | Computing the library size for the new data\n",
      "[2019-09-04 16:33:21,489] INFO - scvi.dataset.dataset | Downsampled from 4454 to 4454 cells\n",
      "[2019-09-04 16:33:22,166] INFO - scvi.dataset.dataset | Computing the library size for the new data\n",
      "[2019-09-04 16:33:24,522] INFO - scvi.dataset.dataset | Remapping batch_indices to [0,N]\n",
      "[2019-09-04 16:33:24,523] INFO - scvi.dataset.dataset | Remapping labels to [0,N]\n",
      "[2019-09-04 16:33:24,801] INFO - scvi.dataset.dataset | Computing the library size for the new data\n",
      "[2019-09-04 16:33:25,082] INFO - scvi.dataset.dataset | Downsampled from 17491 to 17491 cells\n",
      "[2019-09-04 16:33:27,680] INFO - scvi.dataset.dataset | Computing the library size for the new data\n",
      "[2019-09-04 16:33:32,044] INFO - scvi.dataset.dataset | Remapping batch_indices to [0,N]\n",
      "[2019-09-04 16:33:32,045] INFO - scvi.dataset.dataset | Remapping labels to [0,N]\n",
      "[2019-09-04 16:33:32,398] INFO - scvi.dataset.dataset | Computing the library size for the new data\n",
      "[2019-09-04 16:33:32,745] INFO - scvi.dataset.dataset | Downsampled from 24969 to 24969 cells\n",
      "[2019-09-04 16:33:36,546] INFO - scvi.dataset.dataset | Computing the library size for the new data\n",
      "[2019-09-04 16:33:40,362] INFO - scvi.dataset.anndataset | Dense size under 1Gb, casting to dense format (np.ndarray).\n",
      "[2019-09-04 16:33:40,655] INFO - scvi.dataset.dataset | Remapping batch_indices to [0,N]\n",
      "[2019-09-04 16:33:40,656] INFO - scvi.dataset.dataset | Remapping labels to [0,N]\n",
      "[2019-09-04 16:33:40,737] INFO - scvi.dataset.dataset | Computing the library size for the new data\n",
      "[2019-09-04 16:33:40,810] INFO - scvi.dataset.dataset | Downsampled from 2723 to 2723 cells\n",
      "[2019-09-04 16:33:41,143] INFO - scvi.dataset.dataset | Computing the library size for the new data\n",
      "[2019-09-04 16:33:43,596] INFO - scvi.dataset.dataset | Remapping batch_indices to [0,N]\n",
      "[2019-09-04 16:33:43,597] INFO - scvi.dataset.dataset | Remapping labels to [0,N]\n",
      "[2019-09-04 16:33:43,934] INFO - scvi.dataset.dataset | Computing the library size for the new data\n",
      "[2019-09-04 16:33:44,290] INFO - scvi.dataset.dataset | Downsampled from 19101 to 19101 cells\n",
      "[2019-09-04 16:33:47,233] INFO - scvi.dataset.dataset | Computing the library size for the new data\n",
      "[2019-09-04 16:33:49,902] INFO - scvi.dataset.anndataset | Dense size under 1Gb, casting to dense format (np.ndarray).\n",
      "[2019-09-04 16:33:50,131] INFO - scvi.dataset.dataset | Remapping batch_indices to [0,N]\n",
      "[2019-09-04 16:33:50,132] INFO - scvi.dataset.dataset | Remapping labels to [0,N]\n",
      "[2019-09-04 16:33:50,171] INFO - scvi.dataset.dataset | Computing the library size for the new data\n",
      "[2019-09-04 16:33:50,213] INFO - scvi.dataset.dataset | Downsampled from 1608 to 1608 cells\n",
      "[2019-09-04 16:33:50,350] INFO - scvi.dataset.dataset | Computing the library size for the new data\n",
      "[2019-09-04 16:33:51,483] INFO - scvi.dataset.anndataset | Dense size under 1Gb, casting to dense format (np.ndarray).\n",
      "[2019-09-04 16:33:52,171] INFO - scvi.dataset.dataset | Remapping batch_indices to [0,N]\n",
      "[2019-09-04 16:33:52,172] INFO - scvi.dataset.dataset | Remapping labels to [0,N]\n",
      "[2019-09-04 16:33:52,434] INFO - scvi.dataset.dataset | Computing the library size for the new data\n",
      "[2019-09-04 16:33:52,717] INFO - scvi.dataset.dataset | Downsampled from 11392 to 11392 cells\n",
      "[2019-09-04 16:33:54,163] INFO - scvi.dataset.dataset | Computing the library size for the new data\n",
      "[2019-09-04 16:33:56,140] INFO - scvi.dataset.anndataset | Dense size under 1Gb, casting to dense format (np.ndarray).\n",
      "[2019-09-04 16:33:56,419] INFO - scvi.dataset.dataset | Remapping batch_indices to [0,N]\n",
      "[2019-09-04 16:33:56,420] INFO - scvi.dataset.dataset | Remapping labels to [0,N]\n",
      "[2019-09-04 16:33:56,487] INFO - scvi.dataset.dataset | Computing the library size for the new data\n",
      "[2019-09-04 16:33:56,553] INFO - scvi.dataset.dataset | Downsampled from 2353 to 2353 cells\n",
      "[2019-09-04 16:33:56,789] INFO - scvi.dataset.dataset | Computing the library size for the new data\n",
      "[2019-09-04 16:33:57,587] INFO - scvi.dataset.anndataset | Dense size under 1Gb, casting to dense format (np.ndarray).\n",
      "[2019-09-04 16:33:58,064] INFO - scvi.dataset.dataset | Remapping batch_indices to [0,N]\n",
      "[2019-09-04 16:33:58,065] INFO - scvi.dataset.dataset | Remapping labels to [0,N]\n",
      "[2019-09-04 16:33:58,220] INFO - scvi.dataset.dataset | Computing the library size for the new data\n",
      "[2019-09-04 16:33:58,395] INFO - scvi.dataset.dataset | Downsampled from 6815 to 6815 cells\n",
      "[2019-09-04 16:33:59,253] INFO - scvi.dataset.dataset | Computing the library size for the new data\n",
      "[2019-09-04 16:34:00,261] INFO - scvi.dataset.anndataset | Dense size under 1Gb, casting to dense format (np.ndarray).\n",
      "[2019-09-04 16:34:00,543] INFO - scvi.dataset.dataset | Remapping batch_indices to [0,N]\n",
      "[2019-09-04 16:34:00,544] INFO - scvi.dataset.dataset | Remapping labels to [0,N]\n",
      "[2019-09-04 16:34:00,619] INFO - scvi.dataset.dataset | Computing the library size for the new data\n",
      "[2019-09-04 16:34:00,688] INFO - scvi.dataset.dataset | Downsampled from 2531 to 2531 cells\n",
      "[2019-09-04 16:34:00,968] INFO - scvi.dataset.dataset | Computing the library size for the new data\n",
      "[2019-09-04 16:34:05,379] INFO - scvi.dataset.dataset | Remapping batch_indices to [0,N]\n",
      "[2019-09-04 16:34:05,380] INFO - scvi.dataset.dataset | Remapping labels to [0,N]\n",
      "[2019-09-04 16:34:06,053] INFO - scvi.dataset.dataset | Computing the library size for the new data\n",
      "[2019-09-04 16:34:06,709] INFO - scvi.dataset.dataset | Downsampled from 41941 to 41941 cells\n",
      "[2019-09-04 16:34:16,853] INFO - scvi.dataset.dataset | Computing the library size for the new data\n"
     ]
    },
    {
     "name": "stderr",
     "output_type": "stream",
     "text": [
      "[2019-09-04 16:34:22,643] INFO - scvi.dataset.anndataset | Dense size under 1Gb, casting to dense format (np.ndarray).\n",
      "[2019-09-04 16:34:22,886] INFO - scvi.dataset.dataset | Remapping batch_indices to [0,N]\n",
      "[2019-09-04 16:34:22,887] INFO - scvi.dataset.dataset | Remapping labels to [0,N]\n",
      "[2019-09-04 16:34:22,934] INFO - scvi.dataset.dataset | Computing the library size for the new data\n",
      "[2019-09-04 16:34:22,976] INFO - scvi.dataset.dataset | Downsampled from 1561 to 1561 cells\n",
      "[2019-09-04 16:34:23,144] INFO - scvi.dataset.dataset | Computing the library size for the new data\n",
      "[2019-09-04 16:34:23,855] INFO - scvi.dataset.anndataset | Dense size under 1Gb, casting to dense format (np.ndarray).\n",
      "[2019-09-04 16:34:24,168] INFO - scvi.dataset.dataset | Remapping batch_indices to [0,N]\n",
      "[2019-09-04 16:34:24,169] INFO - scvi.dataset.dataset | Remapping labels to [0,N]\n",
      "[2019-09-04 16:34:24,238] INFO - scvi.dataset.dataset | Computing the library size for the new data\n",
      "[2019-09-04 16:34:24,313] INFO - scvi.dataset.dataset | Downsampled from 2776 to 2776 cells\n",
      "[2019-09-04 16:34:24,618] INFO - scvi.dataset.dataset | Computing the library size for the new data\n",
      "[2019-09-04 16:34:25,988] INFO - scvi.dataset.anndataset | Dense size under 1Gb, casting to dense format (np.ndarray).\n",
      "[2019-09-04 16:34:26,542] INFO - scvi.dataset.dataset | Remapping batch_indices to [0,N]\n",
      "[2019-09-04 16:34:26,544] INFO - scvi.dataset.dataset | Remapping labels to [0,N]\n",
      "[2019-09-04 16:34:26,735] INFO - scvi.dataset.dataset | Computing the library size for the new data\n",
      "[2019-09-04 16:34:26,963] INFO - scvi.dataset.dataset | Downsampled from 8817 to 8817 cells\n",
      "[2019-09-04 16:34:28,055] INFO - scvi.dataset.dataset | Computing the library size for the new data\n",
      "[2019-09-04 16:34:29,435] INFO - scvi.dataset.anndataset | Dense size under 1Gb, casting to dense format (np.ndarray).\n",
      "[2019-09-04 16:34:29,763] INFO - scvi.dataset.dataset | Remapping batch_indices to [0,N]\n",
      "[2019-09-04 16:34:29,764] INFO - scvi.dataset.dataset | Remapping labels to [0,N]\n",
      "[2019-09-04 16:34:29,848] INFO - scvi.dataset.dataset | Computing the library size for the new data\n",
      "[2019-09-04 16:34:29,939] INFO - scvi.dataset.dataset | Downsampled from 3468 to 3468 cells\n",
      "[2019-09-04 16:34:30,406] INFO - scvi.dataset.dataset | Computing the library size for the new data\n",
      "[2019-09-04 16:34:31,275] INFO - scvi.dataset.anndataset | Dense size under 1Gb, casting to dense format (np.ndarray).\n",
      "[2019-09-04 16:34:31,575] INFO - scvi.dataset.dataset | Remapping batch_indices to [0,N]\n",
      "[2019-09-04 16:34:31,576] INFO - scvi.dataset.dataset | Remapping labels to [0,N]\n",
      "[2019-09-04 16:34:31,649] INFO - scvi.dataset.dataset | Computing the library size for the new data\n",
      "[2019-09-04 16:34:31,729] INFO - scvi.dataset.dataset | Downsampled from 3104 to 3104 cells\n",
      "[2019-09-04 16:34:32,071] INFO - scvi.dataset.dataset | Computing the library size for the new data\n",
      "[2019-09-04 16:34:32,750] INFO - scvi.dataset.anndataset | Dense size under 1Gb, casting to dense format (np.ndarray).\n",
      "[2019-09-04 16:34:32,950] INFO - scvi.dataset.dataset | Remapping batch_indices to [0,N]\n",
      "[2019-09-04 16:34:32,951] INFO - scvi.dataset.dataset | Remapping labels to [0,N]\n",
      "[2019-09-04 16:34:32,990] INFO - scvi.dataset.dataset | Computing the library size for the new data\n",
      "[2019-09-04 16:34:33,028] INFO - scvi.dataset.dataset | Downsampled from 1740 to 1740 cells\n",
      "[2019-09-04 16:34:33,125] INFO - scvi.dataset.dataset | Computing the library size for the new data\n",
      "[2019-09-04 16:34:33,986] INFO - scvi.dataset.anndataset | Dense size under 1Gb, casting to dense format (np.ndarray).\n",
      "[2019-09-04 16:34:34,636] INFO - scvi.dataset.dataset | Remapping batch_indices to [0,N]\n",
      "[2019-09-04 16:34:34,637] INFO - scvi.dataset.dataset | Remapping labels to [0,N]\n",
      "[2019-09-04 16:34:34,879] INFO - scvi.dataset.dataset | Computing the library size for the new data\n",
      "[2019-09-04 16:34:35,113] INFO - scvi.dataset.dataset | Downsampled from 8956 to 8956 cells\n",
      "[2019-09-04 16:34:36,375] INFO - scvi.dataset.dataset | Computing the library size for the new data\n",
      "[2019-09-04 16:34:37,765] INFO - scvi.dataset.anndataset | Dense size under 1Gb, casting to dense format (np.ndarray).\n",
      "[2019-09-04 16:34:38,023] INFO - scvi.dataset.dataset | Remapping batch_indices to [0,N]\n",
      "[2019-09-04 16:34:38,024] INFO - scvi.dataset.dataset | Remapping labels to [0,N]\n",
      "[2019-09-04 16:34:38,077] INFO - scvi.dataset.dataset | Computing the library size for the new data\n",
      "[2019-09-04 16:34:38,133] INFO - scvi.dataset.dataset | Downsampled from 1960 to 1960 cells\n",
      "[2019-09-04 16:34:38,401] INFO - scvi.dataset.dataset | Computing the library size for the new data\n",
      "[2019-09-04 16:34:39,200] INFO - scvi.dataset.anndataset | Dense size under 1Gb, casting to dense format (np.ndarray).\n",
      "[2019-09-04 16:34:39,620] INFO - scvi.dataset.dataset | Remapping batch_indices to [0,N]\n",
      "[2019-09-04 16:34:39,620] INFO - scvi.dataset.dataset | Remapping labels to [0,N]\n",
      "[2019-09-04 16:34:39,742] INFO - scvi.dataset.dataset | Computing the library size for the new data\n",
      "[2019-09-04 16:34:39,864] INFO - scvi.dataset.dataset | Downsampled from 4614 to 4614 cells\n",
      "[2019-09-04 16:34:40,521] INFO - scvi.dataset.dataset | Computing the library size for the new data\n",
      "[2019-09-04 16:34:44,016] INFO - scvi.dataset.dataset | Remapping batch_indices to [0,N]\n",
      "[2019-09-04 16:34:44,017] INFO - scvi.dataset.dataset | Remapping labels to [0,N]\n",
      "[2019-09-04 16:34:44,482] INFO - scvi.dataset.dataset | Computing the library size for the new data\n",
      "[2019-09-04 16:34:44,945] INFO - scvi.dataset.dataset | Downsampled from 20657 to 20657 cells\n",
      "[2019-09-04 16:34:47,985] INFO - scvi.dataset.dataset | Computing the library size for the new data\n",
      "[2019-09-04 16:34:51,117] INFO - scvi.dataset.anndataset | Dense size under 1Gb, casting to dense format (np.ndarray).\n",
      "[2019-09-04 16:34:51,442] INFO - scvi.dataset.dataset | Remapping batch_indices to [0,N]\n",
      "[2019-09-04 16:34:51,443] INFO - scvi.dataset.dataset | Remapping labels to [0,N]\n",
      "[2019-09-04 16:34:51,524] INFO - scvi.dataset.dataset | Computing the library size for the new data\n",
      "[2019-09-04 16:34:51,609] INFO - scvi.dataset.dataset | Downsampled from 3874 to 3874 cells\n",
      "[2019-09-04 16:34:52,069] INFO - scvi.dataset.dataset | Computing the library size for the new data\n",
      "[2019-09-04 16:34:52,664] INFO - scvi.dataset.anndataset | Dense size under 1Gb, casting to dense format (np.ndarray).\n",
      "[2019-09-04 16:34:52,936] INFO - scvi.dataset.dataset | Remapping batch_indices to [0,N]\n",
      "[2019-09-04 16:34:52,937] INFO - scvi.dataset.dataset | Remapping labels to [0,N]\n",
      "[2019-09-04 16:34:52,996] INFO - scvi.dataset.dataset | Computing the library size for the new data\n",
      "[2019-09-04 16:34:53,063] INFO - scvi.dataset.dataset | Downsampled from 2334 to 2334 cells\n",
      "[2019-09-04 16:34:53,288] INFO - scvi.dataset.dataset | Computing the library size for the new data\n",
      "[2019-09-04 16:34:53,751] INFO - scvi.dataset.anndataset | Dense size under 1Gb, casting to dense format (np.ndarray).\n",
      "[2019-09-04 16:34:53,984] INFO - scvi.dataset.dataset | Remapping batch_indices to [0,N]\n",
      "[2019-09-04 16:34:53,985] INFO - scvi.dataset.dataset | Remapping labels to [0,N]\n",
      "[2019-09-04 16:34:54,025] INFO - scvi.dataset.dataset | Computing the library size for the new data\n",
      "[2019-09-04 16:34:54,069] INFO - scvi.dataset.dataset | Downsampled from 1887 to 1887 cells\n",
      "[2019-09-04 16:34:54,225] INFO - scvi.dataset.dataset | Computing the library size for the new data\n",
      "[2019-09-04 16:34:55,319] INFO - scvi.dataset.anndataset | Dense size under 1Gb, casting to dense format (np.ndarray).\n",
      "[2019-09-04 16:34:55,786] INFO - scvi.dataset.dataset | Remapping batch_indices to [0,N]\n",
      "[2019-09-04 16:34:55,787] INFO - scvi.dataset.dataset | Remapping labels to [0,N]\n",
      "[2019-09-04 16:34:55,931] INFO - scvi.dataset.dataset | Computing the library size for the new data\n",
      "[2019-09-04 16:34:56,083] INFO - scvi.dataset.dataset | Downsampled from 5942 to 5942 cells\n",
      "[2019-09-04 16:34:56,945] INFO - scvi.dataset.dataset | Computing the library size for the new data\n",
      "[2019-09-04 16:34:58,695] INFO - scvi.dataset.anndataset | Dense size under 1Gb, casting to dense format (np.ndarray).\n",
      "[2019-09-04 16:34:59,380] INFO - scvi.dataset.dataset | Remapping batch_indices to [0,N]\n"
     ]
    },
    {
     "name": "stderr",
     "output_type": "stream",
     "text": [
      "[2019-09-04 16:34:59,381] INFO - scvi.dataset.dataset | Remapping labels to [0,N]\n",
      "[2019-09-04 16:34:59,618] INFO - scvi.dataset.dataset | Computing the library size for the new data\n",
      "[2019-09-04 16:34:59,864] INFO - scvi.dataset.dataset | Downsampled from 9734 to 9734 cells\n",
      "[2019-09-04 16:35:01,261] INFO - scvi.dataset.dataset | Computing the library size for the new data\n",
      "[2019-09-04 16:35:04,847] INFO - scvi.dataset.dataset | Remapping batch_indices to [0,N]\n",
      "[2019-09-04 16:35:04,848] INFO - scvi.dataset.dataset | Remapping labels to [0,N]\n",
      "[2019-09-04 16:35:05,228] INFO - scvi.dataset.dataset | Computing the library size for the new data\n",
      "[2019-09-04 16:35:05,640] INFO - scvi.dataset.dataset | Downsampled from 29322 to 29322 cells\n",
      "[2019-09-04 16:35:10,178] INFO - scvi.dataset.dataset | Computing the library size for the new data\n",
      "[2019-09-04 16:35:14,746] INFO - scvi.dataset.anndataset | Dense size under 1Gb, casting to dense format (np.ndarray).\n",
      "[2019-09-04 16:35:15,196] INFO - scvi.dataset.dataset | Remapping batch_indices to [0,N]\n",
      "[2019-09-04 16:35:15,197] INFO - scvi.dataset.dataset | Remapping labels to [0,N]\n",
      "[2019-09-04 16:35:15,354] INFO - scvi.dataset.dataset | Computing the library size for the new data\n",
      "[2019-09-04 16:35:15,513] INFO - scvi.dataset.dataset | Downsampled from 6480 to 6480 cells\n",
      "[2019-09-04 16:35:16,356] INFO - scvi.dataset.dataset | Computing the library size for the new data\n",
      "[2019-09-04 16:35:17,400] INFO - scvi.dataset.anndataset | Dense size under 1Gb, casting to dense format (np.ndarray).\n",
      "[2019-09-04 16:35:17,683] INFO - scvi.dataset.dataset | Remapping batch_indices to [0,N]\n",
      "[2019-09-04 16:35:17,683] INFO - scvi.dataset.dataset | Remapping labels to [0,N]\n",
      "[2019-09-04 16:35:17,747] INFO - scvi.dataset.dataset | Computing the library size for the new data\n",
      "[2019-09-04 16:35:17,814] INFO - scvi.dataset.dataset | Downsampled from 2551 to 2551 cells\n",
      "[2019-09-04 16:35:18,081] INFO - scvi.dataset.dataset | Computing the library size for the new data\n",
      "[2019-09-04 16:35:18,468] INFO - scvi.dataset.anndataset | Dense size under 1Gb, casting to dense format (np.ndarray).\n",
      "[2019-09-04 16:35:18,669] INFO - scvi.dataset.dataset | Remapping batch_indices to [0,N]\n",
      "[2019-09-04 16:35:18,670] INFO - scvi.dataset.dataset | Remapping labels to [0,N]\n",
      "[2019-09-04 16:35:18,705] INFO - scvi.dataset.dataset | Computing the library size for the new data\n",
      "[2019-09-04 16:35:18,741] INFO - scvi.dataset.dataset | Downsampled from 1400 to 1400 cells\n",
      "[2019-09-04 16:35:18,827] INFO - scvi.dataset.dataset | Computing the library size for the new data\n",
      "[2019-09-04 16:35:19,265] INFO - scvi.dataset.anndataset | Dense size under 1Gb, casting to dense format (np.ndarray).\n",
      "[2019-09-04 16:35:19,563] INFO - scvi.dataset.dataset | Remapping batch_indices to [0,N]\n",
      "[2019-09-04 16:35:19,564] INFO - scvi.dataset.dataset | Remapping labels to [0,N]\n",
      "[2019-09-04 16:35:19,630] INFO - scvi.dataset.dataset | Computing the library size for the new data\n",
      "[2019-09-04 16:35:19,699] INFO - scvi.dataset.dataset | Downsampled from 2629 to 2629 cells\n",
      "[2019-09-04 16:35:19,965] INFO - scvi.dataset.dataset | Computing the library size for the new data\n",
      "[2019-09-04 16:35:20,871] INFO - scvi.dataset.anndataset | Dense size under 1Gb, casting to dense format (np.ndarray).\n",
      "[2019-09-04 16:35:21,368] INFO - scvi.dataset.dataset | Remapping batch_indices to [0,N]\n",
      "[2019-09-04 16:35:21,369] INFO - scvi.dataset.dataset | Remapping labels to [0,N]\n",
      "[2019-09-04 16:35:21,544] INFO - scvi.dataset.dataset | Computing the library size for the new data\n",
      "[2019-09-04 16:35:21,716] INFO - scvi.dataset.dataset | Downsampled from 7570 to 7570 cells\n",
      "[2019-09-04 16:35:22,660] INFO - scvi.dataset.dataset | Computing the library size for the new data\n",
      "[2019-09-04 16:35:23,664] INFO - scvi.dataset.anndataset | Dense size under 1Gb, casting to dense format (np.ndarray).\n",
      "[2019-09-04 16:35:23,896] INFO - scvi.dataset.dataset | Remapping batch_indices to [0,N]\n",
      "[2019-09-04 16:35:23,897] INFO - scvi.dataset.dataset | Remapping labels to [0,N]\n",
      "[2019-09-04 16:35:23,944] INFO - scvi.dataset.dataset | Computing the library size for the new data\n",
      "[2019-09-04 16:35:23,988] INFO - scvi.dataset.dataset | Downsampled from 1679 to 1679 cells\n",
      "[2019-09-04 16:35:24,103] INFO - scvi.dataset.dataset | Computing the library size for the new data\n",
      "[2019-09-04 16:35:24,684] INFO - scvi.dataset.anndataset | Dense size under 1Gb, casting to dense format (np.ndarray).\n",
      "[2019-09-04 16:35:25,018] INFO - scvi.dataset.dataset | Remapping batch_indices to [0,N]\n",
      "[2019-09-04 16:35:25,019] INFO - scvi.dataset.dataset | Remapping labels to [0,N]\n",
      "[2019-09-04 16:35:25,112] INFO - scvi.dataset.dataset | Computing the library size for the new data\n",
      "[2019-09-04 16:35:25,212] INFO - scvi.dataset.dataset | Downsampled from 3532 to 3532 cells\n",
      "[2019-09-04 16:35:25,683] INFO - scvi.dataset.dataset | Computing the library size for the new data\n"
     ]
    }
   ],
   "source": [
    "conv = pd.read_csv(\"./data/gene_maps/hugo_mouse_genes-proteincoding.csv\", header=0, index_col=0)\n",
    "conv.index = conv.index.str.lower()\n",
    "\n",
    "data_path = os.path.join((\"./data\"))\n",
    "mouse_data_path = os.path.join(data_path, \"mouse_data\")\n",
    "dsets = [] \n",
    "for file in os.listdir(f\"{data_path}/mouse_data\"):\n",
    "#     if \"droplet\" in file:\n",
    "    dset = sc.read_h5ad(os.path.join(mouse_data_path, file))\n",
    "    dset.obs.rename(columns={\"cell_ontology_class\": \"cell_types\"}, inplace=True)\n",
    "    \n",
    "    dset = AnnDatasetFromAnnData(dset)\n",
    "    \n",
    "    gns_conved = conv.reindex(np.char.lower(dset.gene_names))[\"ensembl\"]\n",
    "    if not isinstance(dset.X, np.ndarray):\n",
    "        X = dset.X.toarray()\n",
    "    else:\n",
    "        X = dset.X\n",
    "    mask = ~gns_conved.isnull()\n",
    "    \n",
    "    dset.gene_names = gns_conved[mask].values.astype(str)\n",
    "    dset.X = X[:, mask]\n",
    "    dset.cell_types = np.array([ct.replace(\"ï\", \"i\") for ct in dset.cell_types])\n",
    "    \n",
    "    dsets.append(dset)"
   ]
  },
  {
   "cell_type": "code",
   "execution_count": 3,
   "metadata": {},
   "outputs": [
    {
     "name": "stderr",
     "output_type": "stream",
     "text": [
      "Concatenating datasets: 100%|██████████| 38/38 [05:01<00:00,  6.51s/it]\n",
      "[2019-09-04 16:40:30,992] INFO - scvi.dataset.dataset | Union dataset is set to ignore batch annotation.\n",
      "[2019-09-04 16:40:37,060] INFO - scvi.dataset.dataset | Remapping batch_indices to [0,N]\n",
      "[2019-09-04 16:40:37,066] INFO - scvi.dataset.dataset | Union dataset is set to ignore batch annotation.\n",
      "[2019-09-04 16:40:37,070] INFO - scvi.dataset.dataset | Remapping labels to [0,N]\n",
      "[2019-09-04 16:40:37,104] INFO - scvi.dataset.dataset | Joined 38 datasets to one of shape 290905 x 22250.\n"
     ]
    }
   ],
   "source": [
    "mouse_muris_senis = UnionDataset(\"./data\", \n",
    "                                 gene_map_load_filename=\"gene_maps/ensembl_mouse_genes-proteincoding\", \n",
    "                                 low_memory=False)\n",
    "mouse_muris_senis.join_datasets(data_source=\"memory\", \n",
    "                                data_target=\"memory\",\n",
    "                                gene_datasets=dsets)\n",
    "mouse_muris_senis.name = \"Tabula Muris Senis\""
   ]
  },
  {
   "cell_type": "code",
   "execution_count": 4,
   "metadata": {
    "scrolled": true
   },
   "outputs": [],
   "source": [
    "dsets = None\n",
    "mouse_muris_senis.cell_types = np.array([ct.replace(\"ï\", \"i\") for ct in mouse_muris_senis.cell_types])"
   ]
  },
  {
   "cell_type": "code",
   "execution_count": 5,
   "metadata": {},
   "outputs": [],
   "source": [
    "def do_procedure(dataset, other_data, model_filename, tsne_filename):\n",
    "    n_epochs = 100\n",
    "    colors = None\n",
    "\n",
    "    print(\"Training VAE\")\n",
    "\n",
    "    trainer = train_vae(dataset, \"./data\", f\"../trained_models/{model_filename}\", n_epochs=n_epochs)\n",
    "\n",
    "    dot_size = (mpl.rcParams['lines.markersize'] ** 2.0)\n",
    "\n",
    "    _ = plot_tsne(trainer, trainer.model, dataset, f\"./plots/{tsne_filename}\", image_datatype=\"pdf\",\n",
    "                  colors=colors, s=dot_size, edgecolors='black')\n",
    "\n",
    "    _ = plot_tsne(trainer, trainer.model, other_data,\n",
    "                  f\"./plots/test_data_in_{tsne_filename}\",\n",
    "                  image_datatype=\"pdf\", colors=colors, s=dot_size, edgecolors='black')"
   ]
  },
  {
   "cell_type": "code",
   "execution_count": 6,
   "metadata": {},
   "outputs": [
    {
     "name": "stderr",
     "output_type": "stream",
     "text": [
      "[2019-09-04 16:41:23,923] WARNING - scvi.dataset.dataset | This dataset has some empty cells, this might fail scVI inference.Data should be filtered with `my_dataset.filter_cells_by_count()\n",
      "[2019-09-04 16:41:24,010] INFO - scvi.dataset.dataset | Remapping batch_indices to [0,N]\n",
      "[2019-09-04 16:41:24,012] INFO - scvi.dataset.dataset | Remapping labels to [0,N]\n",
      "[2019-09-04 16:41:25,131] INFO - scvi.dataset.dataset | Computing the library size for the new data\n",
      "[2019-09-04 16:41:26,254] INFO - scvi.dataset.dataset | Downsampled from 50896 to 35577 cells\n",
      "Concatenating datasets: 100%|██████████| 1/1 [00:49<00:00, 49.76s/it]\n",
      "[2019-09-04 16:42:16,563] INFO - scvi.dataset.dataset | Union dataset is set to ignore batch annotation.\n",
      "[2019-09-04 16:42:17,734] INFO - scvi.dataset.dataset | Remapping batch_indices to [0,N]\n",
      "[2019-09-04 16:42:17,735] INFO - scvi.dataset.dataset | Union dataset is set to ignore batch annotation.\n",
      "[2019-09-04 16:42:17,736] INFO - scvi.dataset.dataset | Remapping labels to [0,N]\n",
      "[2019-09-04 16:42:17,740] INFO - scvi.dataset.dataset | Joined 1 datasets to one of shape 35577 x 22250.\n"
     ]
    },
    {
     "data": {
      "text/plain": [
       "GeneExpressionDataset object with n_cells x nb_genes = 35577 x 22250\n",
       "    gene_attribute_names: 'gene_names'\n",
       "    cell_attribute_names: 'local_vars', 'batch_indices', 'labels', 'local_means'\n",
       "    cell_categorical_attribute_names: 'batch_indices', 'labels'"
      ]
     },
     "execution_count": 6,
     "metadata": {},
     "output_type": "execute_result"
    }
   ],
   "source": [
    "ebi = UnionDataset(\"./data\",\n",
    "                   gene_map_load_filename=\"gene_maps/ensembl_mouse_genes-proteincoding\",\n",
    "                   low_memory=False)\n",
    "ebi.join_datasets(data_source=\"memory\",\n",
    "                  data_target=\"memory\",\n",
    "                  gene_datasets=[EbiData(\"./data\")])"
   ]
  },
  {
   "cell_type": "code",
   "execution_count": 7,
   "metadata": {
    "scrolled": true
   },
   "outputs": [
    {
     "name": "stdout",
     "output_type": "stream",
     "text": [
      "Training VAE\n",
      "Initializing training.\n",
      "training: 100%|██████████| 100/100 [1:01:06<00:00, 43.90s/it]\n"
     ]
    }
   ],
   "source": [
    "do_procedure(mouse_muris_senis, ebi, \"mouse_muris_senis\", \"mouse_muris_senis_tsne\")"
   ]
  },
  {
   "cell_type": "code",
   "execution_count": null,
   "metadata": {},
   "outputs": [],
   "source": []
  }
 ],
 "metadata": {
  "kernelspec": {
   "display_name": "Python [conda env:scvi] *",
   "language": "python",
   "name": "conda-env-scvi-py"
  },
  "language_info": {
   "codemirror_mode": {
    "name": "ipython",
    "version": 3
   },
   "file_extension": ".py",
   "mimetype": "text/x-python",
   "name": "python",
   "nbconvert_exporter": "python",
   "pygments_lexer": "ipython3",
   "version": "3.7.4"
  }
 },
 "nbformat": 4,
 "nbformat_minor": 2
}
