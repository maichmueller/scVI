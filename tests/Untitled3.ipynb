{
 "cells": [
  {
   "cell_type": "code",
   "execution_count": 1,
   "metadata": {},
   "outputs": [
    {
     "name": "stderr",
     "output_type": "stream",
     "text": [
      "[2019-08-21 17:51:12,007] INFO - scvi._settings | Added StreamHandler with custom formatter to 'scvi' logger.\n",
      "/home/michael/anaconda3/envs/scvi/lib/python3.7/site-packages/sklearn/utils/linear_assignment_.py:21: DeprecationWarning: The linear_assignment_ module is deprecated in 0.21 and will be removed from 0.23. Use scipy.optimize.linear_sum_assignment instead.\n",
      "  DeprecationWarning)\n"
     ]
    }
   ],
   "source": [
    "from scvi.dataset import EbiData, MouseAtlas, UnionDataset, AnnDatasetFromAnnData\n",
    "from Eval_basis import *\n",
    "import scanpy as sc\n",
    "import pandas as pd\n",
    "import scipy.sparse as sparse"
   ]
  },
  {
   "cell_type": "code",
   "execution_count": 9,
   "metadata": {},
   "outputs": [
    {
     "name": "stderr",
     "output_type": "stream",
     "text": [
      "/home/michael/anaconda3/envs/scvi/lib/python3.7/site-packages/IPython/core/interactiveshell.py:3325: DtypeWarning: Columns (8,20) have mixed types. Specify dtype option on import or set low_memory=False.\n",
      "  exec(code_obj, self.user_global_ns, self.user_ns)\n",
      "[2019-08-21 18:02:49,778] INFO - scvi.dataset.dataset | Remapping batch_indices to [0,N]\n",
      "[2019-08-21 18:02:49,783] INFO - scvi.dataset.dataset | Remapping labels to [0,N]\n",
      "[2019-08-21 18:02:52,748] INFO - scvi.dataset.dataset | Computing the library size for the new data\n",
      "[2019-08-21 18:02:55,663] INFO - scvi.dataset.dataset | Downsampled from 167276 to 167276 cells\n"
     ]
    }
   ],
   "source": [
    "ebi_1 = EbiData(\"./data\", 'E-MTAB-6946', result_file='raw')"
   ]
  },
  {
   "cell_type": "code",
   "execution_count": 10,
   "metadata": {},
   "outputs": [
    {
     "name": "stderr",
     "output_type": "stream",
     "text": [
      "[2019-08-21 18:03:34,800] INFO - scvi.dataset.dataset | Remapping batch_indices to [0,N]\n",
      "[2019-08-21 18:03:34,802] INFO - scvi.dataset.dataset | Remapping labels to [0,N]\n",
      "[2019-08-21 18:03:35,941] INFO - scvi.dataset.dataset | Computing the library size for the new data\n",
      "[2019-08-21 18:03:37,031] INFO - scvi.dataset.dataset | Downsampled from 62848 to 62848 cells\n"
     ]
    }
   ],
   "source": [
    "ebi_2 = EbiData(\"./data\", 'E-MTAB-7320', result_file='raw')"
   ]
  },
  {
   "cell_type": "code",
   "execution_count": null,
   "metadata": {},
   "outputs": [],
   "source": []
  },
  {
   "cell_type": "code",
   "execution_count": 12,
   "metadata": {},
   "outputs": [],
   "source": [
    "fpaths_and_fnames = {'data': \"./data/mouse_atlas/cleaned_data_sparse.npz\",\n",
    "                     'cell': \"./data/mouse_atlas/cell_annotation.csv\",\n",
    "                     'gene': \"./data/mouse_atlas/gene_annotation.csv\",\n",
    "                     'pheno': \"./data/mouse_atlas/phenotype_data.csv\"}\n",
    "mouse_atlas = MouseAtlas(\"./data/mouse_atlas\",\n",
    "                   fpaths_and_fnames,\n",
    "                   True,\n",
    "                   False)"
   ]
  },
  {
   "cell_type": "code",
   "execution_count": 2,
   "metadata": {
    "scrolled": true
   },
   "outputs": [
    {
     "name": "stderr",
     "output_type": "stream",
     "text": [
      "[2019-08-21 17:51:16,785] INFO - scvi.dataset.anndataset | Dense size under 1Gb, casting to dense format (np.ndarray).\n",
      "[2019-08-21 17:51:17,323] INFO - scvi.dataset.dataset | Remapping batch_indices to [0,N]\n",
      "[2019-08-21 17:51:17,324] INFO - scvi.dataset.dataset | Remapping labels to [0,N]\n",
      "[2019-08-21 17:51:17,537] INFO - scvi.dataset.dataset | Computing the library size for the new data\n",
      "[2019-08-21 17:51:17,769] INFO - scvi.dataset.dataset | Downsampled from 7916 to 7916 cells\n",
      "[2019-08-21 17:51:18,758] INFO - scvi.dataset.dataset | Computing the library size for the new data\n",
      "[2019-08-21 17:51:19,768] INFO - scvi.dataset.anndataset | Dense size under 1Gb, casting to dense format (np.ndarray).\n",
      "[2019-08-21 17:51:20,070] INFO - scvi.dataset.dataset | Remapping batch_indices to [0,N]\n",
      "[2019-08-21 17:51:20,071] INFO - scvi.dataset.dataset | Remapping labels to [0,N]\n",
      "[2019-08-21 17:51:20,151] INFO - scvi.dataset.dataset | Computing the library size for the new data\n",
      "[2019-08-21 17:51:20,236] INFO - scvi.dataset.dataset | Downsampled from 2812 to 2812 cells\n",
      "[2019-08-21 17:51:20,564] INFO - scvi.dataset.dataset | Computing the library size for the new data\n",
      "[2019-08-21 17:51:21,133] INFO - scvi.dataset.anndataset | Dense size under 1Gb, casting to dense format (np.ndarray).\n",
      "[2019-08-21 17:51:21,422] INFO - scvi.dataset.dataset | Remapping batch_indices to [0,N]\n",
      "[2019-08-21 17:51:21,423] INFO - scvi.dataset.dataset | Remapping labels to [0,N]\n",
      "[2019-08-21 17:51:21,496] INFO - scvi.dataset.dataset | Computing the library size for the new data\n",
      "[2019-08-21 17:51:21,579] INFO - scvi.dataset.dataset | Downsampled from 3132 to 3132 cells\n",
      "[2019-08-21 17:51:21,876] INFO - scvi.dataset.dataset | Computing the library size for the new data\n",
      "[2019-08-21 17:51:22,369] INFO - scvi.dataset.anndataset | Dense size under 1Gb, casting to dense format (np.ndarray).\n",
      "[2019-08-21 17:51:22,770] INFO - scvi.dataset.dataset | Remapping batch_indices to [0,N]\n",
      "[2019-08-21 17:51:22,771] INFO - scvi.dataset.dataset | Remapping labels to [0,N]\n",
      "[2019-08-21 17:51:22,900] INFO - scvi.dataset.dataset | Computing the library size for the new data\n",
      "[2019-08-21 17:51:23,040] INFO - scvi.dataset.dataset | Downsampled from 5080 to 5080 cells\n",
      "[2019-08-21 17:51:23,694] INFO - scvi.dataset.dataset | Computing the library size for the new data\n",
      "[2019-08-21 17:51:24,429] INFO - scvi.dataset.anndataset | Dense size under 1Gb, casting to dense format (np.ndarray).\n",
      "[2019-08-21 17:51:24,794] INFO - scvi.dataset.dataset | Remapping batch_indices to [0,N]\n",
      "[2019-08-21 17:51:24,795] INFO - scvi.dataset.dataset | Remapping labels to [0,N]\n",
      "[2019-08-21 17:51:24,893] INFO - scvi.dataset.dataset | Computing the library size for the new data\n",
      "[2019-08-21 17:51:25,002] INFO - scvi.dataset.dataset | Downsampled from 4454 to 4454 cells\n",
      "[2019-08-21 17:51:25,595] INFO - scvi.dataset.dataset | Computing the library size for the new data\n",
      "[2019-08-21 17:51:27,084] INFO - scvi.dataset.dataset | Remapping batch_indices to [0,N]\n",
      "[2019-08-21 17:51:27,084] INFO - scvi.dataset.dataset | Remapping labels to [0,N]\n",
      "[2019-08-21 17:51:27,397] INFO - scvi.dataset.dataset | Computing the library size for the new data\n",
      "[2019-08-21 17:51:27,721] INFO - scvi.dataset.dataset | Downsampled from 17491 to 17491 cells\n",
      "[2019-08-21 17:51:30,353] INFO - scvi.dataset.dataset | Computing the library size for the new data\n",
      "[2019-08-21 17:51:33,703] INFO - scvi.dataset.dataset | Remapping batch_indices to [0,N]\n",
      "[2019-08-21 17:51:33,705] INFO - scvi.dataset.dataset | Remapping labels to [0,N]\n",
      "[2019-08-21 17:51:34,077] INFO - scvi.dataset.dataset | Computing the library size for the new data\n",
      "[2019-08-21 17:51:34,454] INFO - scvi.dataset.dataset | Downsampled from 24969 to 24969 cells\n",
      "[2019-08-21 17:51:38,279] INFO - scvi.dataset.dataset | Computing the library size for the new data\n",
      "[2019-08-21 17:51:41,914] INFO - scvi.dataset.anndataset | Dense size under 1Gb, casting to dense format (np.ndarray).\n",
      "[2019-08-21 17:51:42,223] INFO - scvi.dataset.dataset | Remapping batch_indices to [0,N]\n",
      "[2019-08-21 17:51:42,224] INFO - scvi.dataset.dataset | Remapping labels to [0,N]\n",
      "[2019-08-21 17:51:42,304] INFO - scvi.dataset.dataset | Computing the library size for the new data\n",
      "[2019-08-21 17:51:42,393] INFO - scvi.dataset.dataset | Downsampled from 2723 to 2723 cells\n",
      "[2019-08-21 17:51:42,738] INFO - scvi.dataset.dataset | Computing the library size for the new data\n",
      "[2019-08-21 17:51:44,113] INFO - scvi.dataset.dataset | Remapping batch_indices to [0,N]\n",
      "[2019-08-21 17:51:44,115] INFO - scvi.dataset.dataset | Remapping labels to [0,N]\n",
      "[2019-08-21 17:51:44,433] INFO - scvi.dataset.dataset | Computing the library size for the new data\n",
      "[2019-08-21 17:51:44,774] INFO - scvi.dataset.dataset | Downsampled from 19101 to 19101 cells\n",
      "[2019-08-21 17:51:47,672] INFO - scvi.dataset.dataset | Computing the library size for the new data\n",
      "[2019-08-21 17:51:50,421] INFO - scvi.dataset.anndataset | Dense size under 1Gb, casting to dense format (np.ndarray).\n",
      "[2019-08-21 17:51:50,652] INFO - scvi.dataset.dataset | Remapping batch_indices to [0,N]\n",
      "[2019-08-21 17:51:50,653] INFO - scvi.dataset.dataset | Remapping labels to [0,N]\n",
      "[2019-08-21 17:51:50,698] INFO - scvi.dataset.dataset | Computing the library size for the new data\n",
      "[2019-08-21 17:51:50,743] INFO - scvi.dataset.dataset | Downsampled from 1608 to 1608 cells\n",
      "[2019-08-21 17:51:50,878] INFO - scvi.dataset.dataset | Computing the library size for the new data\n",
      "[2019-08-21 17:51:51,524] INFO - scvi.dataset.anndataset | Dense size under 1Gb, casting to dense format (np.ndarray).\n",
      "[2019-08-21 17:51:52,194] INFO - scvi.dataset.dataset | Remapping batch_indices to [0,N]\n",
      "[2019-08-21 17:51:52,195] INFO - scvi.dataset.dataset | Remapping labels to [0,N]\n",
      "[2019-08-21 17:51:52,431] INFO - scvi.dataset.dataset | Computing the library size for the new data\n",
      "[2019-08-21 17:51:52,686] INFO - scvi.dataset.dataset | Downsampled from 11392 to 11392 cells\n",
      "[2019-08-21 17:51:54,097] INFO - scvi.dataset.dataset | Computing the library size for the new data\n",
      "[2019-08-21 17:51:55,737] INFO - scvi.dataset.anndataset | Dense size under 1Gb, casting to dense format (np.ndarray).\n",
      "[2019-08-21 17:51:56,007] INFO - scvi.dataset.dataset | Remapping batch_indices to [0,N]\n",
      "[2019-08-21 17:51:56,008] INFO - scvi.dataset.dataset | Remapping labels to [0,N]\n",
      "[2019-08-21 17:51:56,066] INFO - scvi.dataset.dataset | Computing the library size for the new data\n",
      "[2019-08-21 17:51:56,132] INFO - scvi.dataset.dataset | Downsampled from 2353 to 2353 cells\n",
      "[2019-08-21 17:51:56,383] INFO - scvi.dataset.dataset | Computing the library size for the new data\n",
      "[2019-08-21 17:51:56,844] INFO - scvi.dataset.anndataset | Dense size under 1Gb, casting to dense format (np.ndarray).\n",
      "[2019-08-21 17:51:57,320] INFO - scvi.dataset.dataset | Remapping batch_indices to [0,N]\n",
      "[2019-08-21 17:51:57,321] INFO - scvi.dataset.dataset | Remapping labels to [0,N]\n",
      "[2019-08-21 17:51:57,472] INFO - scvi.dataset.dataset | Computing the library size for the new data\n",
      "[2019-08-21 17:51:57,631] INFO - scvi.dataset.dataset | Downsampled from 6815 to 6815 cells\n",
      "[2019-08-21 17:51:58,467] INFO - scvi.dataset.dataset | Computing the library size for the new data\n",
      "[2019-08-21 17:51:59,321] INFO - scvi.dataset.anndataset | Dense size under 1Gb, casting to dense format (np.ndarray).\n",
      "[2019-08-21 17:51:59,598] INFO - scvi.dataset.dataset | Remapping batch_indices to [0,N]\n",
      "[2019-08-21 17:51:59,599] INFO - scvi.dataset.dataset | Remapping labels to [0,N]\n",
      "[2019-08-21 17:51:59,660] INFO - scvi.dataset.dataset | Computing the library size for the new data\n",
      "[2019-08-21 17:51:59,733] INFO - scvi.dataset.dataset | Downsampled from 2531 to 2531 cells\n",
      "[2019-08-21 17:52:00,005] INFO - scvi.dataset.dataset | Computing the library size for the new data\n",
      "[2019-08-21 17:52:02,138] INFO - scvi.dataset.dataset | Remapping batch_indices to [0,N]\n",
      "[2019-08-21 17:52:02,140] INFO - scvi.dataset.dataset | Remapping labels to [0,N]\n",
      "[2019-08-21 17:52:02,841] INFO - scvi.dataset.dataset | Computing the library size for the new data\n",
      "[2019-08-21 17:52:03,525] INFO - scvi.dataset.dataset | Downsampled from 41941 to 41941 cells\n",
      "[2019-08-21 17:52:14,135] INFO - scvi.dataset.dataset | Computing the library size for the new data\n"
     ]
    },
    {
     "name": "stderr",
     "output_type": "stream",
     "text": [
      "[2019-08-21 17:52:19,868] INFO - scvi.dataset.anndataset | Dense size under 1Gb, casting to dense format (np.ndarray).\n",
      "[2019-08-21 17:52:20,098] INFO - scvi.dataset.dataset | Remapping batch_indices to [0,N]\n",
      "[2019-08-21 17:52:20,099] INFO - scvi.dataset.dataset | Remapping labels to [0,N]\n",
      "[2019-08-21 17:52:20,138] INFO - scvi.dataset.dataset | Computing the library size for the new data\n",
      "[2019-08-21 17:52:20,181] INFO - scvi.dataset.dataset | Downsampled from 1561 to 1561 cells\n",
      "[2019-08-21 17:52:20,345] INFO - scvi.dataset.dataset | Computing the library size for the new data\n",
      "[2019-08-21 17:52:20,745] INFO - scvi.dataset.anndataset | Dense size under 1Gb, casting to dense format (np.ndarray).\n",
      "[2019-08-21 17:52:21,037] INFO - scvi.dataset.dataset | Remapping batch_indices to [0,N]\n",
      "[2019-08-21 17:52:21,038] INFO - scvi.dataset.dataset | Remapping labels to [0,N]\n",
      "[2019-08-21 17:52:21,105] INFO - scvi.dataset.dataset | Computing the library size for the new data\n",
      "[2019-08-21 17:52:21,178] INFO - scvi.dataset.dataset | Downsampled from 2776 to 2776 cells\n",
      "[2019-08-21 17:52:21,464] INFO - scvi.dataset.dataset | Computing the library size for the new data\n",
      "[2019-08-21 17:52:22,205] INFO - scvi.dataset.anndataset | Dense size under 1Gb, casting to dense format (np.ndarray).\n",
      "[2019-08-21 17:52:22,723] INFO - scvi.dataset.dataset | Remapping batch_indices to [0,N]\n",
      "[2019-08-21 17:52:22,724] INFO - scvi.dataset.dataset | Remapping labels to [0,N]\n",
      "[2019-08-21 17:52:22,911] INFO - scvi.dataset.dataset | Computing the library size for the new data\n",
      "[2019-08-21 17:52:23,119] INFO - scvi.dataset.dataset | Downsampled from 8817 to 8817 cells\n",
      "[2019-08-21 17:52:24,430] INFO - scvi.dataset.dataset | Computing the library size for the new data\n",
      "[2019-08-21 17:52:25,539] INFO - scvi.dataset.anndataset | Dense size under 1Gb, casting to dense format (np.ndarray).\n",
      "[2019-08-21 17:52:25,865] INFO - scvi.dataset.dataset | Remapping batch_indices to [0,N]\n",
      "[2019-08-21 17:52:25,865] INFO - scvi.dataset.dataset | Remapping labels to [0,N]\n",
      "[2019-08-21 17:52:25,952] INFO - scvi.dataset.dataset | Computing the library size for the new data\n",
      "[2019-08-21 17:52:26,057] INFO - scvi.dataset.dataset | Downsampled from 3468 to 3468 cells\n",
      "[2019-08-21 17:52:26,534] INFO - scvi.dataset.dataset | Computing the library size for the new data\n",
      "[2019-08-21 17:52:27,099] INFO - scvi.dataset.anndataset | Dense size under 1Gb, casting to dense format (np.ndarray).\n",
      "[2019-08-21 17:52:27,408] INFO - scvi.dataset.dataset | Remapping batch_indices to [0,N]\n",
      "[2019-08-21 17:52:27,409] INFO - scvi.dataset.dataset | Remapping labels to [0,N]\n",
      "[2019-08-21 17:52:27,478] INFO - scvi.dataset.dataset | Computing the library size for the new data\n",
      "[2019-08-21 17:52:27,552] INFO - scvi.dataset.dataset | Downsampled from 3104 to 3104 cells\n",
      "[2019-08-21 17:52:27,994] INFO - scvi.dataset.dataset | Computing the library size for the new data\n",
      "[2019-08-21 17:52:28,437] INFO - scvi.dataset.anndataset | Dense size under 1Gb, casting to dense format (np.ndarray).\n",
      "[2019-08-21 17:52:28,634] INFO - scvi.dataset.dataset | Remapping batch_indices to [0,N]\n",
      "[2019-08-21 17:52:28,634] INFO - scvi.dataset.dataset | Remapping labels to [0,N]\n",
      "[2019-08-21 17:52:28,666] INFO - scvi.dataset.dataset | Computing the library size for the new data\n",
      "[2019-08-21 17:52:28,700] INFO - scvi.dataset.dataset | Downsampled from 1740 to 1740 cells\n",
      "[2019-08-21 17:52:28,792] INFO - scvi.dataset.dataset | Computing the library size for the new data\n",
      "[2019-08-21 17:52:29,193] INFO - scvi.dataset.anndataset | Dense size under 1Gb, casting to dense format (np.ndarray).\n",
      "[2019-08-21 17:52:29,804] INFO - scvi.dataset.dataset | Remapping batch_indices to [0,N]\n",
      "[2019-08-21 17:52:29,805] INFO - scvi.dataset.dataset | Remapping labels to [0,N]\n",
      "[2019-08-21 17:52:30,046] INFO - scvi.dataset.dataset | Computing the library size for the new data\n",
      "[2019-08-21 17:52:30,303] INFO - scvi.dataset.dataset | Downsampled from 8956 to 8956 cells\n",
      "[2019-08-21 17:52:31,632] INFO - scvi.dataset.dataset | Computing the library size for the new data\n",
      "[2019-08-21 17:52:32,779] INFO - scvi.dataset.anndataset | Dense size under 1Gb, casting to dense format (np.ndarray).\n",
      "[2019-08-21 17:52:33,031] INFO - scvi.dataset.dataset | Remapping batch_indices to [0,N]\n",
      "[2019-08-21 17:52:33,031] INFO - scvi.dataset.dataset | Remapping labels to [0,N]\n",
      "[2019-08-21 17:52:33,081] INFO - scvi.dataset.dataset | Computing the library size for the new data\n",
      "[2019-08-21 17:52:33,132] INFO - scvi.dataset.dataset | Downsampled from 1960 to 1960 cells\n",
      "[2019-08-21 17:52:33,286] INFO - scvi.dataset.dataset | Computing the library size for the new data\n",
      "[2019-08-21 17:52:33,710] INFO - scvi.dataset.anndataset | Dense size under 1Gb, casting to dense format (np.ndarray).\n",
      "[2019-08-21 17:52:34,111] INFO - scvi.dataset.dataset | Remapping batch_indices to [0,N]\n",
      "[2019-08-21 17:52:34,112] INFO - scvi.dataset.dataset | Remapping labels to [0,N]\n",
      "[2019-08-21 17:52:34,222] INFO - scvi.dataset.dataset | Computing the library size for the new data\n",
      "[2019-08-21 17:52:34,339] INFO - scvi.dataset.dataset | Downsampled from 4614 to 4614 cells\n",
      "[2019-08-21 17:52:34,979] INFO - scvi.dataset.dataset | Computing the library size for the new data\n",
      "[2019-08-21 17:52:36,765] INFO - scvi.dataset.dataset | Remapping batch_indices to [0,N]\n",
      "[2019-08-21 17:52:36,766] INFO - scvi.dataset.dataset | Remapping labels to [0,N]\n",
      "[2019-08-21 17:52:37,230] INFO - scvi.dataset.dataset | Computing the library size for the new data\n",
      "[2019-08-21 17:52:37,690] INFO - scvi.dataset.dataset | Downsampled from 20657 to 20657 cells\n",
      "[2019-08-21 17:52:40,735] INFO - scvi.dataset.dataset | Computing the library size for the new data\n",
      "[2019-08-21 17:52:43,531] INFO - scvi.dataset.anndataset | Dense size under 1Gb, casting to dense format (np.ndarray).\n",
      "[2019-08-21 17:52:43,860] INFO - scvi.dataset.dataset | Remapping batch_indices to [0,N]\n",
      "[2019-08-21 17:52:43,861] INFO - scvi.dataset.dataset | Remapping labels to [0,N]\n",
      "[2019-08-21 17:52:43,943] INFO - scvi.dataset.dataset | Computing the library size for the new data\n",
      "[2019-08-21 17:52:44,029] INFO - scvi.dataset.dataset | Downsampled from 3874 to 3874 cells\n",
      "[2019-08-21 17:52:44,515] INFO - scvi.dataset.dataset | Computing the library size for the new data\n",
      "[2019-08-21 17:52:45,000] INFO - scvi.dataset.anndataset | Dense size under 1Gb, casting to dense format (np.ndarray).\n",
      "[2019-08-21 17:52:45,274] INFO - scvi.dataset.dataset | Remapping batch_indices to [0,N]\n",
      "[2019-08-21 17:52:45,275] INFO - scvi.dataset.dataset | Remapping labels to [0,N]\n",
      "[2019-08-21 17:52:45,339] INFO - scvi.dataset.dataset | Computing the library size for the new data\n",
      "[2019-08-21 17:52:45,403] INFO - scvi.dataset.dataset | Downsampled from 2334 to 2334 cells\n",
      "[2019-08-21 17:52:45,631] INFO - scvi.dataset.dataset | Computing the library size for the new data\n",
      "[2019-08-21 17:52:45,997] INFO - scvi.dataset.anndataset | Dense size under 1Gb, casting to dense format (np.ndarray).\n",
      "[2019-08-21 17:52:46,228] INFO - scvi.dataset.dataset | Remapping batch_indices to [0,N]\n",
      "[2019-08-21 17:52:46,229] INFO - scvi.dataset.dataset | Remapping labels to [0,N]\n",
      "[2019-08-21 17:52:46,269] INFO - scvi.dataset.dataset | Computing the library size for the new data\n",
      "[2019-08-21 17:52:46,312] INFO - scvi.dataset.dataset | Downsampled from 1887 to 1887 cells\n",
      "[2019-08-21 17:52:46,468] INFO - scvi.dataset.dataset | Computing the library size for the new data\n",
      "[2019-08-21 17:52:46,986] INFO - scvi.dataset.anndataset | Dense size under 1Gb, casting to dense format (np.ndarray).\n",
      "[2019-08-21 17:52:47,433] INFO - scvi.dataset.dataset | Remapping batch_indices to [0,N]\n",
      "[2019-08-21 17:52:47,434] INFO - scvi.dataset.dataset | Remapping labels to [0,N]\n",
      "[2019-08-21 17:52:47,601] INFO - scvi.dataset.dataset | Computing the library size for the new data\n",
      "[2019-08-21 17:52:47,783] INFO - scvi.dataset.dataset | Downsampled from 5942 to 5942 cells\n",
      "[2019-08-21 17:52:48,604] INFO - scvi.dataset.dataset | Computing the library size for the new data\n",
      "[2019-08-21 17:52:49,662] INFO - scvi.dataset.anndataset | Dense size under 1Gb, casting to dense format (np.ndarray).\n",
      "[2019-08-21 17:52:50,399] INFO - scvi.dataset.dataset | Remapping batch_indices to [0,N]\n"
     ]
    },
    {
     "name": "stderr",
     "output_type": "stream",
     "text": [
      "[2019-08-21 17:52:50,400] INFO - scvi.dataset.dataset | Remapping labels to [0,N]\n",
      "[2019-08-21 17:52:50,710] INFO - scvi.dataset.dataset | Computing the library size for the new data\n",
      "[2019-08-21 17:52:50,956] INFO - scvi.dataset.dataset | Downsampled from 9734 to 9734 cells\n",
      "[2019-08-21 17:52:52,323] INFO - scvi.dataset.dataset | Computing the library size for the new data\n",
      "[2019-08-21 17:52:54,603] INFO - scvi.dataset.dataset | Remapping batch_indices to [0,N]\n",
      "[2019-08-21 17:52:54,605] INFO - scvi.dataset.dataset | Remapping labels to [0,N]\n",
      "[2019-08-21 17:52:54,980] INFO - scvi.dataset.dataset | Computing the library size for the new data\n",
      "[2019-08-21 17:52:55,374] INFO - scvi.dataset.dataset | Downsampled from 29322 to 29322 cells\n",
      "[2019-08-21 17:53:00,601] INFO - scvi.dataset.dataset | Computing the library size for the new data\n",
      "[2019-08-21 17:53:04,798] INFO - scvi.dataset.anndataset | Dense size under 1Gb, casting to dense format (np.ndarray).\n",
      "[2019-08-21 17:53:05,266] INFO - scvi.dataset.dataset | Remapping batch_indices to [0,N]\n",
      "[2019-08-21 17:53:05,267] INFO - scvi.dataset.dataset | Remapping labels to [0,N]\n",
      "[2019-08-21 17:53:05,450] INFO - scvi.dataset.dataset | Computing the library size for the new data\n",
      "[2019-08-21 17:53:05,612] INFO - scvi.dataset.dataset | Downsampled from 6480 to 6480 cells\n",
      "[2019-08-21 17:53:06,469] INFO - scvi.dataset.dataset | Computing the library size for the new data\n",
      "[2019-08-21 17:53:07,351] INFO - scvi.dataset.anndataset | Dense size under 1Gb, casting to dense format (np.ndarray).\n",
      "[2019-08-21 17:53:07,632] INFO - scvi.dataset.dataset | Remapping batch_indices to [0,N]\n",
      "[2019-08-21 17:53:07,633] INFO - scvi.dataset.dataset | Remapping labels to [0,N]\n",
      "[2019-08-21 17:53:07,694] INFO - scvi.dataset.dataset | Computing the library size for the new data\n",
      "[2019-08-21 17:53:07,760] INFO - scvi.dataset.dataset | Downsampled from 2551 to 2551 cells\n",
      "[2019-08-21 17:53:08,035] INFO - scvi.dataset.dataset | Computing the library size for the new data\n",
      "[2019-08-21 17:53:08,373] INFO - scvi.dataset.anndataset | Dense size under 1Gb, casting to dense format (np.ndarray).\n",
      "[2019-08-21 17:53:08,588] INFO - scvi.dataset.dataset | Remapping batch_indices to [0,N]\n",
      "[2019-08-21 17:53:08,589] INFO - scvi.dataset.dataset | Remapping labels to [0,N]\n",
      "[2019-08-21 17:53:08,625] INFO - scvi.dataset.dataset | Computing the library size for the new data\n",
      "[2019-08-21 17:53:08,664] INFO - scvi.dataset.dataset | Downsampled from 1400 to 1400 cells\n",
      "[2019-08-21 17:53:08,755] INFO - scvi.dataset.dataset | Computing the library size for the new data\n",
      "[2019-08-21 17:53:09,056] INFO - scvi.dataset.anndataset | Dense size under 1Gb, casting to dense format (np.ndarray).\n",
      "[2019-08-21 17:53:09,345] INFO - scvi.dataset.dataset | Remapping batch_indices to [0,N]\n",
      "[2019-08-21 17:53:09,345] INFO - scvi.dataset.dataset | Remapping labels to [0,N]\n",
      "[2019-08-21 17:53:09,409] INFO - scvi.dataset.dataset | Computing the library size for the new data\n",
      "[2019-08-21 17:53:09,475] INFO - scvi.dataset.dataset | Downsampled from 2629 to 2629 cells\n",
      "[2019-08-21 17:53:09,753] INFO - scvi.dataset.dataset | Computing the library size for the new data\n",
      "[2019-08-21 17:53:10,274] INFO - scvi.dataset.anndataset | Dense size under 1Gb, casting to dense format (np.ndarray).\n",
      "[2019-08-21 17:53:10,774] INFO - scvi.dataset.dataset | Remapping batch_indices to [0,N]\n",
      "[2019-08-21 17:53:10,775] INFO - scvi.dataset.dataset | Remapping labels to [0,N]\n",
      "[2019-08-21 17:53:10,932] INFO - scvi.dataset.dataset | Computing the library size for the new data\n",
      "[2019-08-21 17:53:11,103] INFO - scvi.dataset.dataset | Downsampled from 7570 to 7570 cells\n",
      "[2019-08-21 17:53:12,043] INFO - scvi.dataset.dataset | Computing the library size for the new data\n",
      "[2019-08-21 17:53:12,975] INFO - scvi.dataset.anndataset | Dense size under 1Gb, casting to dense format (np.ndarray).\n",
      "[2019-08-21 17:53:13,210] INFO - scvi.dataset.dataset | Remapping batch_indices to [0,N]\n",
      "[2019-08-21 17:53:13,211] INFO - scvi.dataset.dataset | Remapping labels to [0,N]\n",
      "[2019-08-21 17:53:13,252] INFO - scvi.dataset.dataset | Computing the library size for the new data\n",
      "[2019-08-21 17:53:13,295] INFO - scvi.dataset.dataset | Downsampled from 1679 to 1679 cells\n",
      "[2019-08-21 17:53:13,411] INFO - scvi.dataset.dataset | Computing the library size for the new data\n",
      "[2019-08-21 17:53:13,808] INFO - scvi.dataset.anndataset | Dense size under 1Gb, casting to dense format (np.ndarray).\n",
      "[2019-08-21 17:53:14,143] INFO - scvi.dataset.dataset | Remapping batch_indices to [0,N]\n",
      "[2019-08-21 17:53:14,144] INFO - scvi.dataset.dataset | Remapping labels to [0,N]\n",
      "[2019-08-21 17:53:14,228] INFO - scvi.dataset.dataset | Computing the library size for the new data\n",
      "[2019-08-21 17:53:14,318] INFO - scvi.dataset.dataset | Downsampled from 3532 to 3532 cells\n",
      "[2019-08-21 17:53:14,765] INFO - scvi.dataset.dataset | Computing the library size for the new data\n"
     ]
    }
   ],
   "source": [
    "conv = pd.read_csv(\"./data/gene_maps/hugo_mouse_genes-proteincoding.csv\", header=0, index_col=0)\n",
    "conv.index = conv.index.str.lower()\n",
    "\n",
    "data_path = os.path.join((\"./data\"))\n",
    "mouse_data_path = os.path.join(data_path, \"mouse_data\")\n",
    "dsets = [] \n",
    "for file in os.listdir(f\"{data_path}/mouse_data\"):\n",
    "#     if \"droplet\" in file:\n",
    "    dset = sc.read_h5ad(os.path.join(mouse_data_path, file))\n",
    "    dset.obs.rename(columns={\"cell_ontology_class\": \"cell_types\"}, inplace=True)\n",
    "    \n",
    "    dset = AnnDatasetFromAnnData(dset)\n",
    "    \n",
    "    gns_conved = conv.reindex(np.char.lower(dset.gene_names))[\"ensembl\"]\n",
    "    if not isinstance(dset.X, np.ndarray):\n",
    "        X = dset.X.toarray()\n",
    "    else:\n",
    "        X = dset.X\n",
    "    mask = ~gns_conved.isnull()\n",
    "    \n",
    "    dset.gene_names = gns_conved[mask].values.astype(str)\n",
    "    dset.X = X[:, mask]\n",
    "    dset.cell_types = np.array([ct.replace(\"ï\", \"i\") for ct in dset.cell_types])\n",
    "    \n",
    "    dsets.append(dset)"
   ]
  },
  {
   "cell_type": "code",
   "execution_count": 5,
   "metadata": {},
   "outputs": [],
   "source": [
    "mouse_muris_senis = UnionDataset(\"./data\", \n",
    "                                 gene_map_load_filename=\"gene_maps/ensembl_mouse_genes-proteincoding\", \n",
    "                                 low_memory=False)"
   ]
  },
  {
   "cell_type": "code",
   "execution_count": 6,
   "metadata": {
    "scrolled": true
   },
   "outputs": [
    {
     "name": "stderr",
     "output_type": "stream",
     "text": [
      "Concatenating datasets: 100%|██████████| 38/38 [04:58<00:00,  6.47s/it]\n",
      "[2019-08-21 17:59:23,590] INFO - scvi.dataset.dataset | Union dataset is set to ignore batch annotation.\n",
      "[2019-08-21 17:59:29,529] INFO - scvi.dataset.dataset | Remapping batch_indices to [0,N]\n",
      "[2019-08-21 17:59:29,539] INFO - scvi.dataset.dataset | Union dataset is set to ignore batch annotation.\n",
      "[2019-08-21 17:59:29,543] INFO - scvi.dataset.dataset | Remapping labels to [0,N]\n",
      "[2019-08-21 17:59:29,575] INFO - scvi.dataset.dataset | Joined 38 datasets to one of shape 290905 x 22250.\n"
     ]
    }
   ],
   "source": [
    "mouse_muris_senis.join_datasets(data_source=\"memory\", \n",
    "                                data_target=\"memory\",\n",
    "                                gene_datasets=dsets)\n",
    "mouse_muris_senis.name = \"Tabula Muris Senis\""
   ]
  },
  {
   "cell_type": "code",
   "execution_count": 25,
   "metadata": {},
   "outputs": [],
   "source": [
    "dsets = None\n",
    "mouse_muris_senis.cell_types = np.array([ct.replace(\"ï\", \"i\") for ct in mouse_muris_senis.cell_types])"
   ]
  },
  {
   "cell_type": "code",
   "execution_count": 26,
   "metadata": {},
   "outputs": [],
   "source": [
    "complete_mouse = UnionDataset(\"./data\", \n",
    "                              gene_map_load_filename=\"gene_maps/ensembl_mouse_genes-proteincoding\", \n",
    "                              low_memory=False)"
   ]
  },
  {
   "cell_type": "code",
   "execution_count": 27,
   "metadata": {
    "scrolled": false
   },
   "outputs": [
    {
     "name": "stdout",
     "output_type": "stream",
     "text": [
      "Writing dataset ('UnionDataset', 'Tabula Muris Senis') to hdf5 file.\n"
     ]
    },
    {
     "name": "stderr",
     "output_type": "stream",
     "text": [
      "Writing sparse matrix iteratively to file...: 100%|██████████| 291/291 [01:53<00:00,  2.68it/s]"
     ]
    },
    {
     "name": "stdout",
     "output_type": "stream",
     "text": [
      "Writing dataset ('EbiData', 'E-MTAB-6946') to hdf5 file.\n"
     ]
    },
    {
     "name": "stderr",
     "output_type": "stream",
     "text": [
      "\n",
      "Writing sparse matrix iteratively to file...: 100%|██████████| 168/168 [00:58<00:00,  3.31it/s]\n"
     ]
    },
    {
     "name": "stdout",
     "output_type": "stream",
     "text": [
      "Writing dataset ('EbiData', 'E-MTAB-7320') to hdf5 file.\n"
     ]
    },
    {
     "name": "stderr",
     "output_type": "stream",
     "text": [
      "Writing sparse matrix iteratively to file...: 100%|██████████| 63/63 [00:14<00:00,  4.84it/s]\n"
     ]
    },
    {
     "name": "stdout",
     "output_type": "stream",
     "text": [
      "Writing dataset ('MouseAtlas', None) to hdf5 file.\n"
     ]
    },
    {
     "name": "stderr",
     "output_type": "stream",
     "text": [
      "Writing sparse matrix iteratively to file...: 100%|██████████| 1332/1332 [16:51<00:00,  1.37it/s]\n"
     ]
    },
    {
     "data": {
      "text/plain": [
       "GeneExpressionDataset object (unpopulated)"
      ]
     },
     "execution_count": 27,
     "metadata": {},
     "output_type": "execute_result"
    }
   ],
   "source": [
    "complete_mouse.join_datasets(data_source=\"memory\", \n",
    "                             data_target=\"hdf5\", \n",
    "                             out_fname=\"mouse_data_all\", \n",
    "                             gene_datasets=[mouse_muris_senis, ebi_1, ebi_2, mouse_atlas])"
   ]
  },
  {
   "cell_type": "code",
   "execution_count": 16,
   "metadata": {
    "scrolled": true
   },
   "outputs": [
    {
     "data": {
      "text/plain": [
       "array(['B cell', 'Bergmann glial cell',\n",
       "       'Brush cell of epithelium proper of large intestine',\n",
       "       'CD4+ positive macrophage', 'CD8-positive, alpha-beta T cell',\n",
       "       'Cd4+ macrophage', 'DN3 thymocyte', 'DN4 thymocyte',\n",
       "       'HSC enriched fraction', 'Il6 expressing cells',\n",
       "       'Kidney-new-24m-cluster', 'Kupffer cell', 'Langerhans cell',\n",
       "       'MPP Fraction A', 'MPP Fraction B', 'MPP Fraction C',\n",
       "       'Marrow Cd4 T cell', 'Marrow-unknown-progenitor', 'NK cell',\n",
       "       'Schwann cell', 'T cell', 'aortic endothelial cell', 'astrocyte',\n",
       "       'atrial myocyte', 'basal cell', 'basal cell of epidermis',\n",
       "       'basal epithelial cell of tracheobronchial tree', 'basophil',\n",
       "       'bladder cell', 'bladder urothelial cell', 'brain pericyte',\n",
       "       'brush cell', 'cardiac neuron', 'chondrocyte',\n",
       "       'ciliated columnar cell of tracheobronchial tree',\n",
       "       'double negative T cell', 'early pro-B cell', 'endocardial cell',\n",
       "       'endothelial cell', 'endothelial cell of coronary artery',\n",
       "       'endothelial cell of hepatic sinusoid',\n",
       "       'enterocyte of epithelium of large intestine',\n",
       "       'enteroendocrine cell', 'ependymal cell', 'epidermal cell',\n",
       "       'epithelial cell', 'epithelial cell of large intestine',\n",
       "       'epithelial cell of proximal tubule', 'epithelial cell of thymus',\n",
       "       'erythroblast', 'erythrocyte', 'erythroid progenitor',\n",
       "       'erythroid progenitor cell', 'fenestrated cell', 'fibroblast',\n",
       "       'fibroblast of cardiac tissue', 'glial cell', 'granulocyte',\n",
       "       'granulocytopoietic cell', 'hematopoietic precursor cell',\n",
       "       'hematopoietic stem cell', 'hepatic stellate cell', 'hepatocyte',\n",
       "       'immature B cell', 'interneuron', 'intestinal crypt stem cell',\n",
       "       'keratinocyte', 'keratinocyte stem cell',\n",
       "       'kidney capillary endothelial cell',\n",
       "       'kidney collecting duct epithelial cell',\n",
       "       'kidney collecting duct principal cell',\n",
       "       'kidney cortex artery cell',\n",
       "       'kidney distal convoluted tubule epithelial cell',\n",
       "       'kidney loop of Henle ascending limb epithelial cell',\n",
       "       'kidney loop of Henle thick ascending limb epithelial cell',\n",
       "       'kidney mesangial cell',\n",
       "       'kidney proximal convoluted tubule epithelial cell',\n",
       "       'large intestine goblet cell', 'late pro B cell',\n",
       "       'late pro-B cell', 'leukocyte',\n",
       "       'luminal epithelial cell of mammary gland', 'lymphocyte',\n",
       "       'macrophage', 'macrophage dendritic cell progenitor', 'mast cell',\n",
       "       'medium spiny neuron', 'megakaryocyte-erythroid progenitor cell',\n",
       "       'mesangial cell', 'mesenchymal progenitor cell',\n",
       "       'mesenchymal stem cell', 'mesenchymal stem cell of adipose',\n",
       "       'microglial cell', 'monocyte', 'mucus secreting cell',\n",
       "       'myeloid cell', 'myeloid leukocyte', 'naive B cell', 'nan',\n",
       "       'nan-marrow-needs-subclustering', 'natural killer cell',\n",
       "       'naïve B cell', 'naïve T cell', 'neuron', 'neuronal stem cell',\n",
       "       'neutrophil', 'oligodendrocyte', 'oligodendrocyte precursor cell',\n",
       "       'pancreatic A cell', 'pancreatic B cell', 'pancreatic D cell',\n",
       "       'pancreatic PP cell', 'pancreatic acinar cell',\n",
       "       'pancreatic ductal cell', 'pancreatic stellate cell',\n",
       "       'plasma cell', 'plasmacytoid dendritic cell', 'podocyte',\n",
       "       'pre B cell', 'pre-NK cell', 'precursor B cell', 'proerythroblast',\n",
       "       'proerythroblast + erythroblast',\n",
       "       'professional antigen presenting cell', 'promonocyte',\n",
       "       'promonocyte + macropage', 'secretory cell',\n",
       "       'skeletal muscle cell', 'skeletal muscle satellite cell',\n",
       "       'smooth muscle cell', 'smooth muscle cell of trachea',\n",
       "       'stem cell of epidermis', 'stromal cell', 'thymocyte',\n",
       "       'unknown cell-1', 'unknown cell-2', 'valve cell',\n",
       "       'ventricular myocyte'], dtype='<U128')"
      ]
     },
     "execution_count": 16,
     "metadata": {},
     "output_type": "execute_result"
    }
   ],
   "source": [
    "mouse_muris_senis.cell_types"
   ]
  },
  {
   "cell_type": "code",
   "execution_count": 30,
   "metadata": {},
   "outputs": [],
   "source": [
    "complete_mouse = UnionDataset(\"./data\", \n",
    "                              gene_map_load_filename=\"gene_maps/ensembl_mouse_genes-proteincoding\", \n",
    "                              data_load_filename=\"mouse_data_all\",\n",
    "                              low_memory=True)"
   ]
  },
  {
   "cell_type": "code",
   "execution_count": 33,
   "metadata": {},
   "outputs": [
    {
     "data": {
      "text/plain": [
       "Index(['ensmusg00000000001', 'ensmusg00000000003', 'ensmusg00000000028',\n",
       "       'ensmusg00000000037', 'ensmusg00000000049', 'ensmusg00000000056',\n",
       "       'ensmusg00000000058', 'ensmusg00000000078', 'ensmusg00000000085',\n",
       "       'ensmusg00000000088',\n",
       "       ...\n",
       "       'ensmusg00000118431', 'ensmusg00000118438', 'ensmusg00000118441',\n",
       "       'ensmusg00000118454', 'ensmusg00000118455', 'ensmusg00000118459',\n",
       "       'ensmusg00000118462', 'ensmusg00000118465', 'ensmusg00000118471',\n",
       "       'ensmusg00000118483'],\n",
       "      dtype='object', name='ensembl', length=22250)"
      ]
     },
     "execution_count": 33,
     "metadata": {},
     "output_type": "execute_result"
    }
   ],
   "source": [
    "complete_mouse.gene_names"
   ]
  },
  {
   "cell_type": "code",
   "execution_count": 32,
   "metadata": {
    "scrolled": true
   },
   "outputs": [
    {
     "name": "stdout",
     "output_type": "stream",
     "text": [
      "Training VAE\n"
     ]
    },
    {
     "ename": "TypeError",
     "evalue": "string operation on non-string array",
     "output_type": "error",
     "traceback": [
      "\u001b[0;31m---------------------------------------------------------------------------\u001b[0m",
      "\u001b[0;31mTypeError\u001b[0m                                 Traceback (most recent call last)",
      "\u001b[0;32m<ipython-input-32-cb658ee2d7cc>\u001b[0m in \u001b[0;36m<module>\u001b[0;34m\u001b[0m\n\u001b[1;32m      6\u001b[0m                               \u001b[0mgene_map_load_filename\u001b[0m\u001b[0;34m=\u001b[0m\u001b[0;34m\"gene_maps/ensembl_mouse_genes-proteincoding\"\u001b[0m\u001b[0;34m,\u001b[0m\u001b[0;34m\u001b[0m\u001b[0;34m\u001b[0m\u001b[0m\n\u001b[1;32m      7\u001b[0m                               \u001b[0mdata_load_filename\u001b[0m\u001b[0;34m=\u001b[0m\u001b[0;34m\"mouse_data_all\"\u001b[0m\u001b[0;34m,\u001b[0m\u001b[0;34m\u001b[0m\u001b[0;34m\u001b[0m\u001b[0m\n\u001b[0;32m----> 8\u001b[0;31m                               low_memory=True)\n\u001b[0m\u001b[1;32m      9\u001b[0m \u001b[0mtrainer\u001b[0m \u001b[0;34m=\u001b[0m \u001b[0mtrain_vae\u001b[0m\u001b[0;34m(\u001b[0m\u001b[0mcomplete_mouse\u001b[0m\u001b[0;34m,\u001b[0m \u001b[0;34m\"./data\"\u001b[0m\u001b[0;34m,\u001b[0m \u001b[0;34mf\"max_data_model\"\u001b[0m\u001b[0;34m,\u001b[0m \u001b[0mn_epochs\u001b[0m\u001b[0;34m=\u001b[0m\u001b[0mn_epochs\u001b[0m\u001b[0;34m)\u001b[0m\u001b[0;34m\u001b[0m\u001b[0;34m\u001b[0m\u001b[0m\n\u001b[1;32m     10\u001b[0m \u001b[0;31m# trainer_small = train_vae(data_small, \"./data\", f\"small_{tissue}_data_portion\", n_epochs=n_epochs)\u001b[0m\u001b[0;34m\u001b[0m\u001b[0;34m\u001b[0m\u001b[0;34m\u001b[0m\u001b[0m\n",
      "\u001b[0;32m~/GitHub/scVI_ma/scvi/dataset/union.py\u001b[0m in \u001b[0;36m__init__\u001b[0;34m(self, save_path, low_memory, ignore_batch_annotation, gene_map_load_filename, gene_map_save_filename, data_load_filename, data_save_filename)\u001b[0m\n\u001b[1;32m     67\u001b[0m         \u001b[0;32mif\u001b[0m \u001b[0mdata_load_filename\u001b[0m \u001b[0;32mis\u001b[0m \u001b[0;32mnot\u001b[0m \u001b[0;32mNone\u001b[0m\u001b[0;34m:\u001b[0m\u001b[0;34m\u001b[0m\u001b[0;34m\u001b[0m\u001b[0m\n\u001b[1;32m     68\u001b[0m             \u001b[0;32mif\u001b[0m \u001b[0mlow_memory\u001b[0m\u001b[0;34m:\u001b[0m\u001b[0;34m\u001b[0m\u001b[0;34m\u001b[0m\u001b[0m\n\u001b[0;32m---> 69\u001b[0;31m                 \u001b[0mself\u001b[0m\u001b[0;34m.\u001b[0m\u001b[0m_set_attributes\u001b[0m\u001b[0;34m(\u001b[0m\u001b[0mdata_load_filename\u001b[0m\u001b[0;34m)\u001b[0m\u001b[0;34m\u001b[0m\u001b[0;34m\u001b[0m\u001b[0m\n\u001b[0m\u001b[1;32m     70\u001b[0m                 \u001b[0mself\u001b[0m\u001b[0;34m.\u001b[0m\u001b[0m_cache_gene_mapping\u001b[0m\u001b[0;34m(\u001b[0m\u001b[0;34m)\u001b[0m\u001b[0;34m\u001b[0m\u001b[0;34m\u001b[0m\u001b[0m\n\u001b[1;32m     71\u001b[0m             \u001b[0;32melse\u001b[0m\u001b[0;34m:\u001b[0m\u001b[0;34m\u001b[0m\u001b[0;34m\u001b[0m\u001b[0m\n",
      "\u001b[0;32m~/GitHub/scVI_ma/scvi/dataset/union.py\u001b[0m in \u001b[0;36m_set_attributes\u001b[0;34m(self, data_fname)\u001b[0m\n\u001b[1;32m    193\u001b[0m         \u001b[0mself\u001b[0m\u001b[0;34m.\u001b[0m\u001b[0mhdf5_filepath\u001b[0m \u001b[0;34m=\u001b[0m \u001b[0mos\u001b[0m\u001b[0;34m.\u001b[0m\u001b[0mpath\u001b[0m\u001b[0;34m.\u001b[0m\u001b[0mjoin\u001b[0m\u001b[0;34m(\u001b[0m\u001b[0mself\u001b[0m\u001b[0;34m.\u001b[0m\u001b[0msave_path\u001b[0m\u001b[0;34m,\u001b[0m \u001b[0mdata_fname\u001b[0m \u001b[0;34m+\u001b[0m \u001b[0;34m\".hdf5\"\u001b[0m\u001b[0;34m)\u001b[0m\u001b[0;34m\u001b[0m\u001b[0;34m\u001b[0m\u001b[0m\n\u001b[1;32m    194\u001b[0m         \u001b[0mself\u001b[0m\u001b[0;34m.\u001b[0m\u001b[0m_fill_index_map\u001b[0m\u001b[0;34m(\u001b[0m\u001b[0;34m)\u001b[0m\u001b[0;34m\u001b[0m\u001b[0;34m\u001b[0m\u001b[0m\n\u001b[0;32m--> 195\u001b[0;31m         \u001b[0mself\u001b[0m\u001b[0;34m.\u001b[0m\u001b[0m_cache_gene_mapping\u001b[0m\u001b[0;34m(\u001b[0m\u001b[0;34m)\u001b[0m\u001b[0;34m\u001b[0m\u001b[0;34m\u001b[0m\u001b[0m\n\u001b[0m\u001b[1;32m    196\u001b[0m         \u001b[0;31m# get the info for all shapes of the datasets\u001b[0m\u001b[0;34m\u001b[0m\u001b[0;34m\u001b[0m\u001b[0;34m\u001b[0m\u001b[0m\n\u001b[1;32m    197\u001b[0m         \u001b[0mself\u001b[0m\u001b[0;34m.\u001b[0m\u001b[0m_len\u001b[0m \u001b[0;34m=\u001b[0m \u001b[0mlen\u001b[0m\u001b[0;34m(\u001b[0m\u001b[0mself\u001b[0m\u001b[0;34m.\u001b[0m\u001b[0mindex_to_dataset_map\u001b[0m\u001b[0;34m)\u001b[0m\u001b[0;34m\u001b[0m\u001b[0;34m\u001b[0m\u001b[0m\n",
      "\u001b[0;32m~/GitHub/scVI_ma/scvi/dataset/union.py\u001b[0m in \u001b[0;36m_cache_gene_mapping\u001b[0;34m(self)\u001b[0m\n\u001b[1;32m    226\u001b[0m                 \u001b[0;31m# Walk through all groups, extracting datasets\u001b[0m\u001b[0;34m\u001b[0m\u001b[0;34m\u001b[0m\u001b[0;34m\u001b[0m\u001b[0m\n\u001b[1;32m    227\u001b[0m                 \u001b[0;32mfor\u001b[0m \u001b[0mgroup_name\u001b[0m\u001b[0;34m,\u001b[0m \u001b[0mgroup\u001b[0m \u001b[0;32min\u001b[0m \u001b[0mh5_file\u001b[0m\u001b[0;34m.\u001b[0m\u001b[0mitems\u001b[0m\u001b[0;34m(\u001b[0m\u001b[0;34m)\u001b[0m\u001b[0;34m:\u001b[0m\u001b[0;34m\u001b[0m\u001b[0;34m\u001b[0m\u001b[0m\n\u001b[0;32m--> 228\u001b[0;31m                     \u001b[0mgene_names\u001b[0m \u001b[0;34m=\u001b[0m \u001b[0mnp\u001b[0m\u001b[0;34m.\u001b[0m\u001b[0mchar\u001b[0m\u001b[0;34m.\u001b[0m\u001b[0mlower\u001b[0m\u001b[0;34m(\u001b[0m\u001b[0mgroup\u001b[0m\u001b[0;34m[\u001b[0m\u001b[0;34m\"gene_names\"\u001b[0m\u001b[0;34m]\u001b[0m\u001b[0;34m)\u001b[0m\u001b[0;34m\u001b[0m\u001b[0;34m\u001b[0m\u001b[0m\n\u001b[0m\u001b[1;32m    229\u001b[0m                     \u001b[0mmappable_genes_indices\u001b[0m \u001b[0;34m=\u001b[0m \u001b[0mnp\u001b[0m\u001b[0;34m.\u001b[0m\u001b[0misin\u001b[0m\u001b[0;34m(\u001b[0m\u001b[0mgene_names\u001b[0m\u001b[0;34m,\u001b[0m \u001b[0mself\u001b[0m\u001b[0;34m.\u001b[0m\u001b[0mgene_map\u001b[0m\u001b[0;34m.\u001b[0m\u001b[0mindex\u001b[0m\u001b[0;34m)\u001b[0m\u001b[0;34m\u001b[0m\u001b[0;34m\u001b[0m\u001b[0m\n\u001b[1;32m    230\u001b[0m                     \u001b[0mmappable_genes\u001b[0m \u001b[0;34m=\u001b[0m \u001b[0mgene_names\u001b[0m\u001b[0;34m[\u001b[0m\u001b[0mmappable_genes_indices\u001b[0m\u001b[0;34m]\u001b[0m\u001b[0;34m\u001b[0m\u001b[0;34m\u001b[0m\u001b[0m\n",
      "\u001b[0;32m~/anaconda3/envs/scvi/lib/python3.7/site-packages/numpy/core/defchararray.py\u001b[0m in \u001b[0;36mlower\u001b[0;34m(a)\u001b[0m\n\u001b[1;32m   1045\u001b[0m     \"\"\"\n\u001b[1;32m   1046\u001b[0m     \u001b[0ma_arr\u001b[0m \u001b[0;34m=\u001b[0m \u001b[0mnumpy\u001b[0m\u001b[0;34m.\u001b[0m\u001b[0masarray\u001b[0m\u001b[0;34m(\u001b[0m\u001b[0ma\u001b[0m\u001b[0;34m)\u001b[0m\u001b[0;34m\u001b[0m\u001b[0;34m\u001b[0m\u001b[0m\n\u001b[0;32m-> 1047\u001b[0;31m     \u001b[0;32mreturn\u001b[0m \u001b[0m_vec_string\u001b[0m\u001b[0;34m(\u001b[0m\u001b[0ma_arr\u001b[0m\u001b[0;34m,\u001b[0m \u001b[0ma_arr\u001b[0m\u001b[0;34m.\u001b[0m\u001b[0mdtype\u001b[0m\u001b[0;34m,\u001b[0m \u001b[0;34m'lower'\u001b[0m\u001b[0;34m)\u001b[0m\u001b[0;34m\u001b[0m\u001b[0;34m\u001b[0m\u001b[0m\n\u001b[0m\u001b[1;32m   1048\u001b[0m \u001b[0;34m\u001b[0m\u001b[0m\n\u001b[1;32m   1049\u001b[0m \u001b[0;34m\u001b[0m\u001b[0m\n",
      "\u001b[0;31mTypeError\u001b[0m: string operation on non-string array"
     ]
    }
   ],
   "source": [
    "n_epochs = 100\n",
    "colors=None\n",
    "\n",
    "print(\"Training VAE\")\n",
    "\n",
    "trainer = train_vae(complete_mouse, \"./data\", f\"max_data_model\", n_epochs=n_epochs)\n",
    "# trainer_small = train_vae(data_small, \"./data\", f\"small_{tissue}_data_portion\", n_epochs=n_epochs)\n",
    "\n"
   ]
  },
  {
   "cell_type": "code",
   "execution_count": null,
   "metadata": {},
   "outputs": [],
   "source": [
    "ebi_with_celltypes = EbiData(\"./data\")"
   ]
  },
  {
   "cell_type": "code",
   "execution_count": 24,
   "metadata": {},
   "outputs": [
    {
     "data": {
      "text/plain": [
       "[b'B cell',\n",
       " b'Bergmann glial cell',\n",
       " b'Brush cell of epithelium proper of large intestine',\n",
       " b'CD4+ positive macrophage',\n",
       " b'CD8-positive, alpha-beta T cell',\n",
       " b'Cd4+ macrophage',\n",
       " b'DN3 thymocyte',\n",
       " b'DN4 thymocyte',\n",
       " b'HSC enriched fraction',\n",
       " b'Il6 expressing cells',\n",
       " b'Kidney-new-24m-cluster',\n",
       " b'Kupffer cell',\n",
       " b'Langerhans cell',\n",
       " b'MPP Fraction A',\n",
       " b'MPP Fraction B',\n",
       " b'MPP Fraction C',\n",
       " b'Marrow Cd4 T cell',\n",
       " b'Marrow-unknown-progenitor',\n",
       " b'NK cell',\n",
       " b'Schwann cell',\n",
       " b'T cell',\n",
       " b'aortic endothelial cell',\n",
       " b'astrocyte',\n",
       " b'atrial myocyte',\n",
       " b'basal cell',\n",
       " b'basal cell of epidermis',\n",
       " b'basal epithelial cell of tracheobronchial tree',\n",
       " b'basophil',\n",
       " b'bladder cell',\n",
       " b'bladder urothelial cell',\n",
       " b'brain pericyte',\n",
       " b'brush cell',\n",
       " b'cardiac neuron',\n",
       " b'chondrocyte',\n",
       " b'ciliated columnar cell of tracheobronchial tree',\n",
       " b'double negative T cell',\n",
       " b'early pro-B cell',\n",
       " b'endocardial cell',\n",
       " b'endothelial cell',\n",
       " b'endothelial cell of coronary artery',\n",
       " b'endothelial cell of hepatic sinusoid',\n",
       " b'enterocyte of epithelium of large intestine',\n",
       " b'enteroendocrine cell',\n",
       " b'ependymal cell',\n",
       " b'epidermal cell',\n",
       " b'epithelial cell',\n",
       " b'epithelial cell of large intestine',\n",
       " b'epithelial cell of proximal tubule',\n",
       " b'epithelial cell of thymus',\n",
       " b'erythroblast',\n",
       " b'erythrocyte',\n",
       " b'erythroid progenitor',\n",
       " b'erythroid progenitor cell',\n",
       " b'fenestrated cell',\n",
       " b'fibroblast',\n",
       " b'fibroblast of cardiac tissue',\n",
       " b'glial cell',\n",
       " b'granulocyte',\n",
       " b'granulocytopoietic cell',\n",
       " b'hematopoietic precursor cell',\n",
       " b'hematopoietic stem cell',\n",
       " b'hepatic stellate cell',\n",
       " b'hepatocyte',\n",
       " b'immature B cell',\n",
       " b'interneuron',\n",
       " b'intestinal crypt stem cell',\n",
       " b'keratinocyte',\n",
       " b'keratinocyte stem cell',\n",
       " b'kidney capillary endothelial cell',\n",
       " b'kidney collecting duct epithelial cell',\n",
       " b'kidney collecting duct principal cell',\n",
       " b'kidney cortex artery cell',\n",
       " b'kidney distal convoluted tubule epithelial cell',\n",
       " b'kidney loop of Henle ascending limb epithelial cell',\n",
       " b'kidney loop of Henle thick ascending limb epithelial cell',\n",
       " b'kidney mesangial cell',\n",
       " b'kidney proximal convoluted tubule epithelial cell',\n",
       " b'large intestine goblet cell',\n",
       " b'late pro B cell',\n",
       " b'late pro-B cell',\n",
       " b'leukocyte',\n",
       " b'luminal epithelial cell of mammary gland',\n",
       " b'lymphocyte',\n",
       " b'macrophage',\n",
       " b'macrophage dendritic cell progenitor',\n",
       " b'mast cell',\n",
       " b'medium spiny neuron',\n",
       " b'megakaryocyte-erythroid progenitor cell',\n",
       " b'mesangial cell',\n",
       " b'mesenchymal progenitor cell',\n",
       " b'mesenchymal stem cell',\n",
       " b'mesenchymal stem cell of adipose',\n",
       " b'microglial cell',\n",
       " b'monocyte',\n",
       " b'mucus secreting cell',\n",
       " b'myeloid cell',\n",
       " b'myeloid leukocyte',\n",
       " b'naive B cell',\n",
       " b'nan',\n",
       " b'nan-marrow-needs-subclustering',\n",
       " b'natural killer cell',\n",
       " b'naive B cell',\n",
       " b'naive T cell',\n",
       " b'neuron',\n",
       " b'neuronal stem cell',\n",
       " b'neutrophil',\n",
       " b'oligodendrocyte',\n",
       " b'oligodendrocyte precursor cell',\n",
       " b'pancreatic A cell',\n",
       " b'pancreatic B cell',\n",
       " b'pancreatic D cell',\n",
       " b'pancreatic PP cell',\n",
       " b'pancreatic acinar cell',\n",
       " b'pancreatic ductal cell',\n",
       " b'pancreatic stellate cell',\n",
       " b'plasma cell',\n",
       " b'plasmacytoid dendritic cell',\n",
       " b'podocyte',\n",
       " b'pre B cell',\n",
       " b'pre-NK cell',\n",
       " b'precursor B cell',\n",
       " b'proerythroblast',\n",
       " b'proerythroblast + erythroblast',\n",
       " b'professional antigen presenting cell',\n",
       " b'promonocyte',\n",
       " b'promonocyte + macropage',\n",
       " b'secretory cell',\n",
       " b'skeletal muscle cell',\n",
       " b'skeletal muscle satellite cell',\n",
       " b'smooth muscle cell',\n",
       " b'smooth muscle cell of trachea',\n",
       " b'stem cell of epidermis',\n",
       " b'stromal cell',\n",
       " b'thymocyte',\n",
       " b'unknown cell-1',\n",
       " b'unknown cell-2',\n",
       " b'valve cell',\n",
       " b'ventricular myocyte']"
      ]
     },
     "execution_count": 24,
     "metadata": {},
     "output_type": "execute_result"
    }
   ],
   "source": [
    "dot_size = (mpl.rcParams['lines.markersize'] ** 2.0)\n",
    "\n",
    "posterior_big = plot_tsne(trainer, trainer.model, complete_mouse, f\"./max_data_model\",\n",
    "                          colors=colors, s=dot_size, edgecolors='black')\n",
    "\n",
    "# posterior_ebi_annotated = trainer.create_posterior(model, ebi_with_celltypes, indices=np.arange(len(dataset)))\n",
    "posterior_ebi_annotated = plot_tsne(trainer_big, trainer_big.model, ebi_with_celltypes, f\"./plots/small_{tissue}_data_portion_in_big\",\n",
    "#                                    colors=colors, s=dot_size, edgecolors='black')\n"
   ]
  },
  {
   "cell_type": "code",
   "execution_count": null,
   "metadata": {},
   "outputs": [],
   "source": []
  },
  {
   "cell_type": "code",
   "execution_count": null,
   "metadata": {},
   "outputs": [],
   "source": []
  },
  {
   "cell_type": "code",
   "execution_count": null,
   "metadata": {},
   "outputs": [],
   "source": []
  },
  {
   "cell_type": "code",
   "execution_count": null,
   "metadata": {},
   "outputs": [],
   "source": []
  },
  {
   "cell_type": "code",
   "execution_count": null,
   "metadata": {},
   "outputs": [],
   "source": []
  },
  {
   "cell_type": "code",
   "execution_count": null,
   "metadata": {},
   "outputs": [],
   "source": []
  },
  {
   "cell_type": "code",
   "execution_count": null,
   "metadata": {},
   "outputs": [],
   "source": []
  }
 ],
 "metadata": {
  "kernelspec": {
   "display_name": "Python [conda env:scvi] *",
   "language": "python",
   "name": "conda-env-scvi-py"
  },
  "language_info": {
   "codemirror_mode": {
    "name": "ipython",
    "version": 3
   },
   "file_extension": ".py",
   "mimetype": "text/x-python",
   "name": "python",
   "nbconvert_exporter": "python",
   "pygments_lexer": "ipython3",
   "version": "3.7.3"
  }
 },
 "nbformat": 4,
 "nbformat_minor": 2
}
