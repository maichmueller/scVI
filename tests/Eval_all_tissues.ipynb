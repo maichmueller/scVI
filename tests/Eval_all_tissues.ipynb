{
 "cells": [
  {
   "cell_type": "code",
   "execution_count": 1,
   "metadata": {
    "pycharm": {
     "is_executing": false
    }
   },
   "outputs": [
    {
     "name": "stderr",
     "output_type": "stream",
     "text": [
      "[2019-08-10 14:06:09,135] INFO - scvi._settings | Added StreamHandler with custom formatter to 'scvi' logger.\n",
      "/home/michael/anaconda3/envs/scvi/lib/python3.7/site-packages/sklearn/utils/linear_assignment_.py:21: DeprecationWarning: The linear_assignment_ module is deprecated in 0.21 and will be removed from 0.23. Use scipy.optimize.linear_sum_assignment instead.\n",
      "  DeprecationWarning)\n"
     ]
    }
   ],
   "source": [
    "from Eval_basis import *\n",
    "import pandas as pd"
   ]
  },
  {
   "cell_type": "code",
   "execution_count": 2,
   "metadata": {
    "pycharm": {
     "is_executing": false
    }
   },
   "outputs": [],
   "source": [
    "np.random.seed(1)\n",
    "%matplotlib inline"
   ]
  },
  {
   "cell_type": "code",
   "execution_count": null,
   "metadata": {
    "pycharm": {
     "is_executing": false
    }
   },
   "outputs": [
    {
     "name": "stderr",
     "output_type": "stream",
     "text": [
      "[2019-08-10 14:07:12,893] WARNING - scvi.dataset.dataset | This dataset has some empty cells, this might fail scVI inference.Data should be filtered with `my_dataset.filter_cells_by_count()\n",
      "[2019-08-10 14:07:12,937] INFO - scvi.dataset.dataset | Remapping labels to [0,N]\n",
      "[2019-08-10 14:07:12,943] INFO - scvi.dataset.dataset | Remapping batch_indices to [0,N]\n",
      "[2019-08-10 14:07:14,052] INFO - scvi.dataset.dataset | Computing the library size for the new data\n",
      "[2019-08-10 14:07:15,090] INFO - scvi.dataset.dataset | Downsampled from 50896 to 35577 cells\n"
     ]
    }
   ],
   "source": [
    "data_full = EbiData(\"./data\", experiment=\"E-ENAD-15\")\n",
    "data_big_mapped = UnionDataset(\"./data\", map_fname=\"ensembl_mouse_genes-proteincoding\", low_memory=False)\n",
    "data_big_mapped.concat_union_from_memory([data_full])\n",
    "data_big_mapped.filter_cell_types(np.array([ct for ct in data_big_mapped.cell_types if ct != \"not available\"]))"
   ]
  },
  {
   "cell_type": "code",
   "execution_count": null,
   "metadata": {
    "pycharm": {
     "is_executing": false
    },
    "scrolled": true
   },
   "outputs": [],
   "source": [
    "agg = data_full.obs.groupby([\"Sample Characteristic[organism part]\", \"cell_types\"]).size()\n",
    "with pd.option_context('display.max_rows', None, 'display.max_columns', None):  # more options can be specified also\n",
    "    print(agg.sort_index())"
   ]
  },
  {
   "cell_type": "code",
   "execution_count": null,
   "metadata": {
    "pycharm": {
     "is_executing": false
    },
    "scrolled": false
   },
   "outputs": [],
   "source": [
    "n_epochs = 100\n",
    "colors=None\n",
    "for tissue in np.unique(agg.index.get_level_values(0)): \n",
    "    print(\"Training VAE for tissue \", tissue)\n",
    "    cutout_cts = agg[tissue].index.values\n",
    "    if \"not available\" in cutout_cts:\n",
    "        cutout_cts = np.delete(cutout_cts, np.where(cutout_cts == \"not available\")[0])\n",
    "\n",
    "    rem_ct = data_big_mapped.cell_types[~np.isin(data_big_mapped.cell_types, cutout_cts)]\n",
    "    data_small = copy.deepcopy(data_big_mapped)\n",
    "    data_big = copy.deepcopy(data_big_mapped)\n",
    "\n",
    "    data_small.filter_cell_types(cutout_cts)\n",
    "    data_big.filter_cell_types(rem_ct)\n",
    "    \n",
    "    trainer_big = train_vae(data_big, \"./data\", f\"big_{tissue}_data_portion\", n_epochs=n_epochs)\n",
    "    trainer_small = train_vae(data_small, \"./data\", f\"small_{tissue}_data_portion\", n_epochs=n_epochs)\n",
    "    dot_size = (mpl.rcParams['lines.markersize'] ** 2.0)\n",
    "\n",
    "    posterior_big = plot_tsne(trainer_big, trainer_big.model, data_big, f\"./plots/big_{tissue}_data_portion\",\n",
    "                              colors=colors, s=dot_size, edgecolors='black')\n",
    "    posterior_small = plot_tsne(trainer_small, trainer_small.model, data_small, f\"./plots/small_{tissue}_data_portion\",\n",
    "                                colors=colors, s=dot_size, edgecolors='black')\n",
    "    posterior_small_in_big = plot_tsne(trainer_big, trainer_big.model, data_small, f\"./plots/small_{tissue}_data_portion_in_big\",\n",
    "                                       colors=colors, s=dot_size, edgecolors='black')"
   ]
  },
  {
   "cell_type": "code",
   "execution_count": null,
   "metadata": {
    "pycharm": {
     "is_executing": false
    }
   },
   "outputs": [],
   "source": []
  },
  {
   "cell_type": "code",
   "execution_count": null,
   "metadata": {
    "pycharm": {
     "is_executing": false
    }
   },
   "outputs": [],
   "source": []
  }
 ],
 "metadata": {
  "kernelspec": {
   "display_name": "Python [conda env:scvi] *",
   "language": "python",
   "name": "conda-env-scvi-py"
  },
  "language_info": {
   "codemirror_mode": {
    "name": "ipython",
    "version": 3
   },
   "file_extension": ".py",
   "mimetype": "text/x-python",
   "name": "python",
   "nbconvert_exporter": "python",
   "pygments_lexer": "ipython3",
   "version": "3.7.3"
  },
  "pycharm": {
   "stem_cell": {
    "cell_type": "raw",
    "metadata": {
     "collapsed": false
    },
    "source": []
   }
  }
 },
 "nbformat": 4,
 "nbformat_minor": 2
}
