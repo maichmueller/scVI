{
 "cells": [
  {
   "cell_type": "code",
   "execution_count": 1,
   "metadata": {
    "pycharm": {
     "is_executing": false
    }
   },
   "outputs": [
    {
     "name": "stderr",
     "output_type": "stream",
     "text": [
      "[2019-08-13 12:08:34,318] INFO - scvi._settings | Added StreamHandler with custom formatter to 'scvi' logger.\n",
      "/home/michael/anaconda3/envs/scvi/lib/python3.7/site-packages/sklearn/utils/linear_assignment_.py:21: DeprecationWarning: The linear_assignment_ module is deprecated in 0.21 and will be removed from 0.23. Use scipy.optimize.linear_sum_assignment instead.\n",
      "  DeprecationWarning)\n"
     ]
    }
   ],
   "source": [
    "from Eval_basis import *\n",
    "import pandas as pd"
   ]
  },
  {
   "cell_type": "code",
   "execution_count": 2,
   "metadata": {
    "pycharm": {
     "is_executing": false
    }
   },
   "outputs": [],
   "source": [
    "np.random.seed(1)\n",
    "%matplotlib inline"
   ]
  },
  {
   "cell_type": "code",
   "execution_count": 3,
   "metadata": {},
   "outputs": [
    {
     "name": "stderr",
     "output_type": "stream",
     "text": [
      "[2019-08-13 12:09:37,657] WARNING - scvi.dataset.dataset | This dataset has some empty cells, this might fail scVI inference.Data should be filtered with `my_dataset.filter_cells_by_count()\n",
      "[2019-08-13 12:09:37,720] INFO - scvi.dataset.dataset | Remapping batch_indices to [0,N]\n",
      "[2019-08-13 12:09:37,722] INFO - scvi.dataset.dataset | Remapping labels to [0,N]\n",
      "[2019-08-13 12:09:38,782] INFO - scvi.dataset.dataset | Computing the library size for the new data\n",
      "[2019-08-13 12:09:39,822] INFO - scvi.dataset.dataset | Downsampled from 50896 to 35577 cells\n"
     ]
    }
   ],
   "source": [
    "data_full = EbiData(\"./data\", experiment=\"E-ENAD-15\")"
   ]
  },
  {
   "cell_type": "code",
   "execution_count": 4,
   "metadata": {
    "pycharm": {
     "is_executing": false
    }
   },
   "outputs": [
    {
     "name": "stderr",
     "output_type": "stream",
     "text": [
      "[2019-08-13 12:10:42,485] INFO - scvi.dataset.dataset | Remapping batch_indices to [0,N]\n",
      "[2019-08-13 12:10:42,487] INFO - scvi.dataset.dataset | Remapping labels to [0,N]\n",
      "[2019-08-13 12:10:42,491] INFO - scvi.dataset.dataset | Joined 1 datasets to one of shape 35577 x 22250.\n",
      "[2019-08-13 12:10:43,476] INFO - scvi.dataset.dataset | Downsampled from 35577 to 31394 cells\n"
     ]
    }
   ],
   "source": [
    "data_big_mapped = UnionDataset(\"./data\", map_fname=\"ensembl_mouse_genes-proteincoding\", low_memory=False)\n",
    "data_big_mapped.union_from_memory([data_full])\n",
    "data_big_mapped.filter_cell_types(np.array([ct for ct in data_big_mapped.cell_types if ct != \"not available\"]))"
   ]
  },
  {
   "cell_type": "code",
   "execution_count": 5,
   "metadata": {
    "pycharm": {
     "is_executing": false
    },
    "scrolled": true
   },
   "outputs": [
    {
     "name": "stdout",
     "output_type": "stream",
     "text": [
      "Sample Characteristic[organism part]      cell_types                                        \n",
      "aorta                                     endothelial cell                                       188\n",
      "                                          erythrocyte                                             91\n",
      "                                          fibroblast                                              70\n",
      "                                          not available                                          694\n",
      "                                          professional antigen presenting cell                    59\n",
      "ascending colon                           Brush cell of epithelium proper of large intestine      53\n",
      "                                          enterocyte of epithelium of large intestine            761\n",
      "                                          enteroendocrine cell                                    29\n",
      "                                          epithelial cell of large intestine                    1412\n",
      "                                          large intestine goblet cell                            240\n",
      "                                          not available                                           23\n",
      "back skin                                 basal cell of epidermis                                562\n",
      "                                          epidermal cell                                         276\n",
      "                                          keratinocyte stem cell                                1404\n",
      "                                          leukocyte                                               15\n",
      "                                          not available                                           60\n",
      "                                          stem cell of epidermis                                  53\n",
      "bone marrow                               B cell                                                  44\n",
      "                                          Slamf1-negative multipotent progenitor cell            430\n",
      "                                          Slamf1-positive multipotent progenitor cell            134\n",
      "                                          basophil                                                25\n",
      "                                          common lymphoid progenitor                             156\n",
      "                                          granulocyte                                            761\n",
      "                                          granulocyte monocyte progenitor cell                   136\n",
      "                                          hematopoietic precursor cell                           769\n",
      "                                          immature B cell                                        344\n",
      "                                          immature NK T cell                                      37\n",
      "                                          immature T cell                                         60\n",
      "                                          immature natural killer cell                            36\n",
      "                                          late pro-B cell                                        306\n",
      "                                          macrophage                                             173\n",
      "                                          mature natural killer cell                              49\n",
      "                                          megakaryocyte-erythroid progenitor cell                 55\n",
      "                                          monocyte                                               264\n",
      "                                          naive B cell                                           692\n",
      "                                          not available                                          158\n",
      "                                          pre-natural killer cell                                 22\n",
      "                                          pro-B cell                                             517\n",
      "                                          regulatory T cell                                       27\n",
      "cerebellum                                Bergmann glial cell                                     39\n",
      "                                          astrocyte of the cerebral cortex                         8\n",
      "                                          brain pericyte                                          41\n",
      "                                          endothelial cell                                       188\n",
      "                                          macrophage                                              38\n",
      "                                          microglial cell                                        726\n",
      "                                          neuron                                                 100\n",
      "                                          not available                                          818\n",
      "                                          oligodendrocyte                                        163\n",
      "                                          oligodendrocyte precursor cell                          14\n",
      "cerebral cortex                           astrocyte of the cerebral cortex                       258\n",
      "                                          brain pericyte                                          63\n",
      "                                          endothelial cell                                       142\n",
      "                                          macrophage                                              10\n",
      "                                          microglial cell                                       1006\n",
      "                                          neuron                                                  56\n",
      "                                          not available                                          182\n",
      "                                          oligodendrocyte                                        579\n",
      "                                          oligodendrocyte precursor cell                          51\n",
      "descending colon                          Brush cell of epithelium proper of large intestine      10\n",
      "                                          enterocyte of epithelium of large intestine            203\n",
      "                                          enteroendocrine cell                                    30\n",
      "                                          epithelial cell of large intestine                     606\n",
      "                                          large intestine goblet cell                            593\n",
      "                                          not available                                           86\n",
      "diaphragm                                 endothelial cell                                        78\n",
      "                                          lymphocyte                                              81\n",
      "                                          macrophage                                              31\n",
      "                                          mesenchymal stem cell                                  241\n",
      "                                          not available                                           66\n",
      "                                          skeletal muscle satellite stem cell                    439\n",
      "endocrine pancreas                        endothelial cell                                        20\n",
      "                                          leukocyte                                               36\n",
      "                                          not available                                           44\n",
      "                                          pancreatic A cell                                      388\n",
      "                                          pancreatic D cell                                      138\n",
      "                                          pancreatic PP cell                                      71\n",
      "                                          pancreatic acinar cell                                   4\n",
      "                                          pancreatic ductal cell                                   8\n",
      "                                          pancreatic stellate cell                                 8\n",
      "                                          type B pancreatic cell                                 421\n",
      "exocrine pancreas                         endothelial cell                                        46\n",
      "                                          leukocyte                                               18\n",
      "                                          not available                                          242\n",
      "                                          pancreatic A cell                                        2\n",
      "                                          pancreatic D cell                                        2\n",
      "                                          pancreatic PP cell                                       2\n",
      "                                          pancreatic acinar cell                                 178\n",
      "                                          pancreatic ductal cell                                 153\n",
      "                                          pancreatic stellate cell                                41\n",
      "                                          type B pancreatic cell                                  28\n",
      "gonadal fat pad                           B cell                                                  49\n",
      "                                          T cell                                                  48\n",
      "                                          endothelial cell                                       160\n",
      "                                          mesenchymal stem cell of adipose                       686\n",
      "                                          myeloid cell                                           449\n",
      "                                          natural killer cell                                     31\n",
      "                                          not available                                          199\n",
      "heart                                     cardiac muscle cell                                     68\n",
      "                                          endocardial cell                                         1\n",
      "                                          endothelial cell                                         7\n",
      "                                          fibroblast                                               2\n",
      "                                          not available                                           54\n",
      "                                          smooth muscle cell                                       1\n",
      "heart left atrium                         cardiac muscle cell                                     21\n",
      "                                          cardiac neuron                                          12\n",
      "                                          endocardial cell                                        71\n",
      "                                          endothelial cell                                       193\n",
      "                                          fibroblast                                             934\n",
      "                                          leukocyte                                               94\n",
      "                                          myofibroblast cell                                      50\n",
      "                                          not available                                          146\n",
      "                                          smooth muscle cell                                      11\n",
      "heart left atrium and heart right atrium  cardiac muscle cell                                     32\n",
      "                                          fibroblast                                               1\n",
      "                                          not available                                           10\n",
      "heart left ventricle                      cardiac muscle cell                                      3\n",
      "                                          cardiac neuron                                           1\n",
      "                                          endocardial cell                                         6\n",
      "                                          endothelial cell                                       397\n",
      "                                          fibroblast                                             127\n",
      "                                          leukocyte                                               87\n",
      "                                          myofibroblast cell                                      39\n",
      "                                          not available                                          569\n",
      "                                          smooth muscle cell                                      13\n",
      "heart right atrium                        cardiac muscle cell                                      5\n",
      "                                          cardiac neuron                                           8\n",
      "                                          endocardial cell                                        56\n",
      "                                          endothelial cell                                       237\n",
      "                                          fibroblast                                             669\n",
      "                                          leukocyte                                              221\n",
      "                                          myofibroblast cell                                      43\n",
      "                                          not available                                          113\n",
      "                                          smooth muscle cell                                      10\n",
      "heart right ventricle                     cardiac muscle cell                                      4\n",
      "                                          cardiac neuron                                           7\n",
      "                                          endocardial cell                                        31\n",
      "                                          endothelial cell                                       343\n",
      "                                          fibroblast                                             386\n",
      "                                          leukocyte                                              121\n",
      "                                          myofibroblast cell                                      46\n",
      "                                          not available                                          179\n",
      "                                          smooth muscle cell                                       7\n",
      "hippocampus                               astrocyte of the cerebral cortex                        90\n",
      "                                          brain pericyte                                          38\n",
      "                                          endothelial cell                                       273\n",
      "                                          macrophage                                               9\n",
      "                                          microglial cell                                       1105\n",
      "                                          neuron                                                  19\n",
      "                                          not available                                          538\n",
      "                                          oligodendrocyte                                        461\n",
      "                                          oligodendrocyte precursor cell                          95\n",
      "interscapular brown adipose tissue        B cell                                                 193\n",
      "                                          T cell                                                  79\n",
      "                                          endothelial cell                                       147\n",
      "                                          mesenchymal stem cell of adipose                        85\n",
      "                                          myeloid cell                                           139\n",
      "                                          natural killer cell                                     16\n",
      "                                          not available                                          197\n",
      "kidney                                    endothelial cell                                       126\n",
      "                                          epithelial cell of proximal tubule                     219\n",
      "                                          kidney collecting duct epithelial cell                 121\n",
      "                                          macrophage                                              37\n",
      "                                          natural killer cell                                     16\n",
      "                                          not available                                          287\n",
      "limb muscle                               B cell                                                  71\n",
      "                                          T cell                                                  35\n",
      "                                          endothelial cell                                       141\n",
      "                                          macrophage                                              45\n",
      "                                          mesenchymal stem cell                                  258\n",
      "                                          not available                                           46\n",
      "                                          skeletal muscle satellite cell                         540\n",
      "liver                                     B cell                                                  41\n",
      "                                          Kupffer cell                                            61\n",
      "                                          endothelial cell of hepatic sinusoid                   182\n",
      "                                          hepatocyte                                             391\n",
      "                                          natural killer cell                                     39\n",
      "                                          not available                                          100\n",
      "lung                                      B cell                                                  57\n",
      "                                          T cell                                                  53\n",
      "                                          ciliated columnar cell of tracheobronchial tree         25\n",
      "                                          classical monocyte                                      90\n",
      "                                          epithelial cell of lung                                113\n",
      "                                          leukocyte                                               35\n",
      "                                          lung endothelial cell                                  693\n",
      "                                          monocyte                                                65\n",
      "                                          myeloid cell                                            85\n",
      "                                          natural killer cell                                     37\n",
      "                                          not available                                          154\n",
      "                                          stromal cell                                           423\n",
      "mammary gland                             basal cell                                            1340\n",
      "                                          endothelial cell                                        47\n",
      "                                          luminal epithelial cell of mammary gland               578\n",
      "                                          not available                                          114\n",
      "                                          stromal cell                                           440\n",
      "mesenteric adipose tissue                 B cell                                                 115\n",
      "                                          T cell                                                 105\n",
      "                                          endothelial cell                                       113\n",
      "                                          mesenchymal stem cell of adipose                       602\n",
      "                                          myeloid cell                                           191\n",
      "                                          natural killer cell                                     26\n",
      "                                          not available                                          104\n",
      "spleen                                    B cell                                                1297\n",
      "                                          T cell                                                 352\n",
      "                                          macrophage                                              48\n",
      "                                          not available                                           13\n",
      "striatum                                  Bergmann glial cell                                      1\n",
      "                                          astrocyte of the cerebral cortex                        76\n",
      "                                          brain pericyte                                          14\n",
      "                                          endothelial cell                                       112\n",
      "                                          macrophage                                               4\n",
      "                                          microglial cell                                       1557\n",
      "                                          neuron                                                 106\n",
      "                                          not available                                          428\n",
      "                                          oligodendrocyte                                        371\n",
      "                                          oligodendrocyte precursor cell                          43\n",
      "subcutaneous adipose tissue               B cell                                                 162\n",
      "                                          T cell                                                 121\n",
      "                                          endothelial cell                                       248\n",
      "                                          mesenchymal stem cell of adipose                       734\n",
      "                                          myeloid cell                                           344\n",
      "                                          natural killer cell                                     22\n",
      "                                          not available                                          154\n",
      "thymus                                    DN1 thymic pro-T cell                                   32\n",
      "                                          immature T cell                                       1277\n",
      "                                          not available                                          154\n",
      "                                          professional antigen presenting cell                    40\n",
      "tongue                                    basal cell of epidermis                               1086\n",
      "                                          keratinocyte                                           330\n",
      "                                          not available                                            7\n",
      "trachea                                   blood cell                                             206\n",
      "                                          endothelial cell                                       113\n",
      "                                          epithelial cell                                        201\n",
      "                                          mesenchymal cell                                       830\n",
      "                                          not available                                           17\n",
      "urinary bladder                           bladder cell                                           695\n",
      "                                          bladder urothelial cell                                683\n",
      "                                          not available                                          134\n",
      "dtype: int64\n"
     ]
    }
   ],
   "source": [
    "agg = data_full.obs.groupby([\"Sample Characteristic[organism part]\", \"cell_types\"]).size()\n",
    "with pd.option_context('display.max_rows', None, 'display.max_columns', None):  # more options can be specified also\n",
    "    print(agg.sort_index())"
   ]
  },
  {
   "cell_type": "code",
   "execution_count": null,
   "metadata": {
    "pycharm": {
     "is_executing": false
    },
    "scrolled": false
   },
   "outputs": [
    {
     "name": "stdout",
     "output_type": "stream",
     "text": [
      "Training VAE for tissue  aorta\n"
     ]
    },
    {
     "name": "stderr",
     "output_type": "stream",
     "text": [
      "[2019-08-13 12:10:43,861] INFO - scvi.dataset.dataset | Downsampled from 31394 to 3985 cells\n",
      "[2019-08-13 12:10:44,706] INFO - scvi.dataset.dataset | Downsampled from 31394 to 27409 cells\n"
     ]
    },
    {
     "name": "stdout",
     "output_type": "stream",
     "text": [
      "Training VAE for tissue  ascending colon\n"
     ]
    },
    {
     "name": "stderr",
     "output_type": "stream",
     "text": [
      "[2019-08-13 12:11:56,022] INFO - scvi.dataset.dataset | Downsampled from 31394 to 2725 cells\n",
      "[2019-08-13 12:11:56,850] INFO - scvi.dataset.dataset | Downsampled from 31394 to 28669 cells\n"
     ]
    },
    {
     "name": "stdout",
     "output_type": "stream",
     "text": [
      "Training VAE for tissue  back skin\n"
     ]
    },
    {
     "name": "stderr",
     "output_type": "stream",
     "text": [
      "[2019-08-13 12:12:53,470] INFO - scvi.dataset.dataset | Downsampled from 31394 to 2818 cells\n",
      "[2019-08-13 12:12:54,352] INFO - scvi.dataset.dataset | Downsampled from 31394 to 28576 cells\n"
     ]
    },
    {
     "name": "stdout",
     "output_type": "stream",
     "text": [
      "Training VAE for tissue  bone marrow\n"
     ]
    },
    {
     "name": "stderr",
     "output_type": "stream",
     "text": [
      "[2019-08-13 12:13:51,595] INFO - scvi.dataset.dataset | Downsampled from 31394 to 6015 cells\n",
      "[2019-08-13 12:13:52,409] INFO - scvi.dataset.dataset | Downsampled from 31394 to 25379 cells\n"
     ]
    },
    {
     "name": "stdout",
     "output_type": "stream",
     "text": [
      "Training VAE for tissue  cerebellum\n"
     ]
    },
    {
     "name": "stderr",
     "output_type": "stream",
     "text": [
      "[2019-08-13 12:15:10,912] INFO - scvi.dataset.dataset | Downsampled from 31394 to 7502 cells\n",
      "[2019-08-13 12:15:11,680] INFO - scvi.dataset.dataset | Downsampled from 31394 to 23892 cells\n"
     ]
    },
    {
     "name": "stdout",
     "output_type": "stream",
     "text": [
      "Training VAE for tissue  cerebral cortex\n"
     ]
    },
    {
     "name": "stderr",
     "output_type": "stream",
     "text": [
      "[2019-08-13 12:16:31,442] INFO - scvi.dataset.dataset | Downsampled from 31394 to 7482 cells\n",
      "[2019-08-13 12:16:32,197] INFO - scvi.dataset.dataset | Downsampled from 31394 to 23912 cells\n"
     ]
    },
    {
     "name": "stdout",
     "output_type": "stream",
     "text": [
      "training: 100%|██████████| 100/100 [03:59<00:00,  2.76s/it]\n",
      "training: 100%|██████████| 100/100 [01:09<00:00,  1.24it/s]\n",
      "Training VAE for tissue  descending colon\n"
     ]
    },
    {
     "name": "stderr",
     "output_type": "stream",
     "text": [
      "[2019-08-13 12:23:03,685] INFO - scvi.dataset.dataset | Downsampled from 31394 to 2725 cells\n",
      "INFO:scvi.dataset.dataset:Downsampled from 31394 to 2725 cells\n",
      "[2019-08-13 12:23:04,525] INFO - scvi.dataset.dataset | Downsampled from 31394 to 28669 cells\n",
      "INFO:scvi.dataset.dataset:Downsampled from 31394 to 28669 cells\n"
     ]
    },
    {
     "name": "stdout",
     "output_type": "stream",
     "text": [
      "training: 100%|██████████| 100/100 [04:48<00:00,  3.37s/it]\n",
      "training: 100%|██████████| 100/100 [00:30<00:00,  2.83it/s]\n"
     ]
    },
    {
     "name": "stderr",
     "output_type": "stream",
     "text": [
      "/home/michael/GitHub/scVI_ma/scvi/inference/posterior.py:943: RuntimeWarning: More than 20 figures have been opened. Figures created through the pyplot interface (`matplotlib.pyplot.figure`) are retained until explicitly closed and may consume too much memory. (To control this warning, see the rcParam `figure.max_open_warning`).\n",
      "  plt.figure(figsize=(16, 16))\n"
     ]
    },
    {
     "name": "stdout",
     "output_type": "stream",
     "text": [
      "Training VAE for tissue  diaphragm\n"
     ]
    },
    {
     "name": "stderr",
     "output_type": "stream",
     "text": [
      "[2019-08-13 12:29:21,361] INFO - scvi.dataset.dataset | Downsampled from 31394 to 3310 cells\n",
      "INFO:scvi.dataset.dataset:Downsampled from 31394 to 3310 cells\n",
      "[2019-08-13 12:29:22,222] INFO - scvi.dataset.dataset | Downsampled from 31394 to 28084 cells\n",
      "INFO:scvi.dataset.dataset:Downsampled from 31394 to 28084 cells\n"
     ]
    },
    {
     "name": "stdout",
     "output_type": "stream",
     "text": [
      "training: 100%|██████████| 100/100 [04:46<00:00,  3.31s/it]\n",
      "training: 100%|██████████| 100/100 [00:30<00:00,  2.73it/s]\n"
     ]
    },
    {
     "name": "stderr",
     "output_type": "stream",
     "text": [
      "/home/michael/GitHub/scVI_ma/scvi/inference/posterior.py:943: RuntimeWarning: More than 20 figures have been opened. Figures created through the pyplot interface (`matplotlib.pyplot.figure`) are retained until explicitly closed and may consume too much memory. (To control this warning, see the rcParam `figure.max_open_warning`).\n",
      "  plt.figure(figsize=(16, 16))\n",
      "/home/michael/GitHub/scVI_ma/scvi/inference/posterior.py:943: RuntimeWarning: More than 20 figures have been opened. Figures created through the pyplot interface (`matplotlib.pyplot.figure`) are retained until explicitly closed and may consume too much memory. (To control this warning, see the rcParam `figure.max_open_warning`).\n",
      "  plt.figure(figsize=(16, 16))\n",
      "/home/michael/GitHub/scVI_ma/scvi/inference/posterior.py:943: RuntimeWarning: More than 20 figures have been opened. Figures created through the pyplot interface (`matplotlib.pyplot.figure`) are retained until explicitly closed and may consume too much memory. (To control this warning, see the rcParam `figure.max_open_warning`).\n",
      "  plt.figure(figsize=(16, 16))\n"
     ]
    },
    {
     "name": "stdout",
     "output_type": "stream",
     "text": [
      "Training VAE for tissue  endocrine pancreas\n"
     ]
    },
    {
     "name": "stderr",
     "output_type": "stream",
     "text": [
      "[2019-08-13 12:35:44,333] INFO - scvi.dataset.dataset | Downsampled from 31394 to 3746 cells\n",
      "INFO:scvi.dataset.dataset:Downsampled from 31394 to 3746 cells\n",
      "[2019-08-13 12:35:45,190] INFO - scvi.dataset.dataset | Downsampled from 31394 to 27648 cells\n",
      "INFO:scvi.dataset.dataset:Downsampled from 31394 to 27648 cells\n"
     ]
    },
    {
     "name": "stdout",
     "output_type": "stream",
     "text": [
      "training: 100%|██████████| 100/100 [04:25<00:00,  3.08s/it]\n",
      "training: 100%|██████████| 100/100 [00:35<00:00,  2.43it/s]\n"
     ]
    },
    {
     "name": "stderr",
     "output_type": "stream",
     "text": [
      "/home/michael/GitHub/scVI_ma/scvi/inference/posterior.py:943: RuntimeWarning: More than 20 figures have been opened. Figures created through the pyplot interface (`matplotlib.pyplot.figure`) are retained until explicitly closed and may consume too much memory. (To control this warning, see the rcParam `figure.max_open_warning`).\n",
      "  plt.figure(figsize=(16, 16))\n",
      "/home/michael/GitHub/scVI_ma/scvi/inference/posterior.py:943: RuntimeWarning: More than 20 figures have been opened. Figures created through the pyplot interface (`matplotlib.pyplot.figure`) are retained until explicitly closed and may consume too much memory. (To control this warning, see the rcParam `figure.max_open_warning`).\n",
      "  plt.figure(figsize=(16, 16))\n",
      "/home/michael/GitHub/scVI_ma/scvi/inference/posterior.py:943: RuntimeWarning: More than 20 figures have been opened. Figures created through the pyplot interface (`matplotlib.pyplot.figure`) are retained until explicitly closed and may consume too much memory. (To control this warning, see the rcParam `figure.max_open_warning`).\n",
      "  plt.figure(figsize=(16, 16))\n"
     ]
    },
    {
     "name": "stdout",
     "output_type": "stream",
     "text": [
      "Training VAE for tissue  exocrine pancreas\n"
     ]
    },
    {
     "name": "stderr",
     "output_type": "stream",
     "text": [
      "[2019-08-13 12:41:55,498] INFO - scvi.dataset.dataset | Downsampled from 31394 to 3746 cells\n",
      "INFO:scvi.dataset.dataset:Downsampled from 31394 to 3746 cells\n",
      "[2019-08-13 12:41:56,341] INFO - scvi.dataset.dataset | Downsampled from 31394 to 27648 cells\n",
      "INFO:scvi.dataset.dataset:Downsampled from 31394 to 27648 cells\n"
     ]
    },
    {
     "name": "stdout",
     "output_type": "stream",
     "text": [
      "training: 100%|██████████| 100/100 [04:33<00:00,  3.18s/it]\n",
      "training: 100%|██████████| 100/100 [00:35<00:00,  2.43it/s]\n"
     ]
    },
    {
     "name": "stderr",
     "output_type": "stream",
     "text": [
      "/home/michael/GitHub/scVI_ma/scvi/inference/posterior.py:943: RuntimeWarning: More than 20 figures have been opened. Figures created through the pyplot interface (`matplotlib.pyplot.figure`) are retained until explicitly closed and may consume too much memory. (To control this warning, see the rcParam `figure.max_open_warning`).\n",
      "  plt.figure(figsize=(16, 16))\n",
      "/home/michael/GitHub/scVI_ma/scvi/inference/posterior.py:943: RuntimeWarning: More than 20 figures have been opened. Figures created through the pyplot interface (`matplotlib.pyplot.figure`) are retained until explicitly closed and may consume too much memory. (To control this warning, see the rcParam `figure.max_open_warning`).\n",
      "  plt.figure(figsize=(16, 16))\n",
      "/home/michael/GitHub/scVI_ma/scvi/inference/posterior.py:943: RuntimeWarning: More than 20 figures have been opened. Figures created through the pyplot interface (`matplotlib.pyplot.figure`) are retained until explicitly closed and may consume too much memory. (To control this warning, see the rcParam `figure.max_open_warning`).\n",
      "  plt.figure(figsize=(16, 16))\n"
     ]
    },
    {
     "name": "stdout",
     "output_type": "stream",
     "text": [
      "Training VAE for tissue  gonadal fat pad\n"
     ]
    },
    {
     "name": "stderr",
     "output_type": "stream",
     "text": [
      "[2019-08-13 12:48:13,083] INFO - scvi.dataset.dataset | Downsampled from 31394 to 6770 cells\n",
      "INFO:scvi.dataset.dataset:Downsampled from 31394 to 6770 cells\n",
      "[2019-08-13 12:48:13,836] INFO - scvi.dataset.dataset | Downsampled from 31394 to 24624 cells\n",
      "INFO:scvi.dataset.dataset:Downsampled from 31394 to 24624 cells\n"
     ]
    },
    {
     "name": "stdout",
     "output_type": "stream",
     "text": [
      "training: 100%|██████████| 100/100 [04:06<00:00,  2.82s/it]\n",
      "training: 100%|██████████| 100/100 [01:02<00:00,  1.38it/s]\n"
     ]
    },
    {
     "name": "stderr",
     "output_type": "stream",
     "text": [
      "/home/michael/GitHub/scVI_ma/scvi/inference/posterior.py:943: RuntimeWarning: More than 20 figures have been opened. Figures created through the pyplot interface (`matplotlib.pyplot.figure`) are retained until explicitly closed and may consume too much memory. (To control this warning, see the rcParam `figure.max_open_warning`).\n",
      "  plt.figure(figsize=(16, 16))\n",
      "/home/michael/GitHub/scVI_ma/scvi/inference/posterior.py:943: RuntimeWarning: More than 20 figures have been opened. Figures created through the pyplot interface (`matplotlib.pyplot.figure`) are retained until explicitly closed and may consume too much memory. (To control this warning, see the rcParam `figure.max_open_warning`).\n",
      "  plt.figure(figsize=(16, 16))\n",
      "/home/michael/GitHub/scVI_ma/scvi/inference/posterior.py:943: RuntimeWarning: More than 20 figures have been opened. Figures created through the pyplot interface (`matplotlib.pyplot.figure`) are retained until explicitly closed and may consume too much memory. (To control this warning, see the rcParam `figure.max_open_warning`).\n",
      "  plt.figure(figsize=(16, 16))\n"
     ]
    },
    {
     "name": "stdout",
     "output_type": "stream",
     "text": [
      "Training VAE for tissue  heart\n"
     ]
    },
    {
     "name": "stderr",
     "output_type": "stream",
     "text": [
      "[2019-08-13 12:54:47,515] INFO - scvi.dataset.dataset | Downsampled from 31394 to 4092 cells\n",
      "INFO:scvi.dataset.dataset:Downsampled from 31394 to 4092 cells\n",
      "[2019-08-13 12:54:48,347] INFO - scvi.dataset.dataset | Downsampled from 31394 to 27302 cells\n",
      "INFO:scvi.dataset.dataset:Downsampled from 31394 to 27302 cells\n"
     ]
    },
    {
     "name": "stdout",
     "output_type": "stream",
     "text": [
      "training: 100%|██████████| 100/100 [04:28<00:00,  3.11s/it]\n",
      "training: 100%|██████████| 100/100 [00:37<00:00,  2.27it/s]\n"
     ]
    },
    {
     "name": "stderr",
     "output_type": "stream",
     "text": [
      "/home/michael/GitHub/scVI_ma/scvi/inference/posterior.py:943: RuntimeWarning: More than 20 figures have been opened. Figures created through the pyplot interface (`matplotlib.pyplot.figure`) are retained until explicitly closed and may consume too much memory. (To control this warning, see the rcParam `figure.max_open_warning`).\n",
      "  plt.figure(figsize=(16, 16))\n",
      "/home/michael/GitHub/scVI_ma/scvi/inference/posterior.py:943: RuntimeWarning: More than 20 figures have been opened. Figures created through the pyplot interface (`matplotlib.pyplot.figure`) are retained until explicitly closed and may consume too much memory. (To control this warning, see the rcParam `figure.max_open_warning`).\n",
      "  plt.figure(figsize=(16, 16))\n",
      "/home/michael/GitHub/scVI_ma/scvi/inference/posterior.py:943: RuntimeWarning: More than 20 figures have been opened. Figures created through the pyplot interface (`matplotlib.pyplot.figure`) are retained until explicitly closed and may consume too much memory. (To control this warning, see the rcParam `figure.max_open_warning`).\n",
      "  plt.figure(figsize=(16, 16))\n"
     ]
    },
    {
     "name": "stdout",
     "output_type": "stream",
     "text": [
      "Training VAE for tissue  heart left atrium\n"
     ]
    },
    {
     "name": "stderr",
     "output_type": "stream",
     "text": [
      "[2019-08-13 13:01:07,317] INFO - scvi.dataset.dataset | Downsampled from 31394 to 4684 cells\n",
      "INFO:scvi.dataset.dataset:Downsampled from 31394 to 4684 cells\n",
      "[2019-08-13 13:01:08,185] INFO - scvi.dataset.dataset | Downsampled from 31394 to 26710 cells\n",
      "INFO:scvi.dataset.dataset:Downsampled from 31394 to 26710 cells\n"
     ]
    },
    {
     "name": "stdout",
     "output_type": "stream",
     "text": [
      "training: 100%|██████████| 100/100 [04:28<00:00,  3.12s/it]\n",
      "training: 100%|██████████| 100/100 [00:45<00:00,  1.97it/s]\n"
     ]
    },
    {
     "name": "stderr",
     "output_type": "stream",
     "text": [
      "/home/michael/GitHub/scVI_ma/scvi/inference/posterior.py:943: RuntimeWarning: More than 20 figures have been opened. Figures created through the pyplot interface (`matplotlib.pyplot.figure`) are retained until explicitly closed and may consume too much memory. (To control this warning, see the rcParam `figure.max_open_warning`).\n",
      "  plt.figure(figsize=(16, 16))\n",
      "/home/michael/GitHub/scVI_ma/scvi/inference/posterior.py:943: RuntimeWarning: More than 20 figures have been opened. Figures created through the pyplot interface (`matplotlib.pyplot.figure`) are retained until explicitly closed and may consume too much memory. (To control this warning, see the rcParam `figure.max_open_warning`).\n",
      "  plt.figure(figsize=(16, 16))\n",
      "/home/michael/GitHub/scVI_ma/scvi/inference/posterior.py:943: RuntimeWarning: More than 20 figures have been opened. Figures created through the pyplot interface (`matplotlib.pyplot.figure`) are retained until explicitly closed and may consume too much memory. (To control this warning, see the rcParam `figure.max_open_warning`).\n",
      "  plt.figure(figsize=(16, 16))\n"
     ]
    },
    {
     "name": "stdout",
     "output_type": "stream",
     "text": [
      "Training VAE for tissue  heart left atrium and heart right atrium\n"
     ]
    },
    {
     "name": "stderr",
     "output_type": "stream",
     "text": [
      "[2019-08-13 13:07:44,598] INFO - scvi.dataset.dataset | Downsampled from 31394 to 1643 cells\n",
      "INFO:scvi.dataset.dataset:Downsampled from 31394 to 1643 cells\n",
      "[2019-08-13 13:07:45,560] INFO - scvi.dataset.dataset | Downsampled from 31394 to 29751 cells\n",
      "INFO:scvi.dataset.dataset:Downsampled from 31394 to 29751 cells\n"
     ]
    },
    {
     "name": "stdout",
     "output_type": "stream",
     "text": [
      "training: 100%|██████████| 100/100 [05:02<00:00,  3.41s/it]\n",
      "training: 100%|██████████| 100/100 [00:17<00:00,  5.39it/s]\n"
     ]
    },
    {
     "name": "stderr",
     "output_type": "stream",
     "text": [
      "/home/michael/GitHub/scVI_ma/scvi/inference/posterior.py:943: RuntimeWarning: More than 20 figures have been opened. Figures created through the pyplot interface (`matplotlib.pyplot.figure`) are retained until explicitly closed and may consume too much memory. (To control this warning, see the rcParam `figure.max_open_warning`).\n",
      "  plt.figure(figsize=(16, 16))\n",
      "/home/michael/GitHub/scVI_ma/scvi/inference/posterior.py:943: RuntimeWarning: More than 20 figures have been opened. Figures created through the pyplot interface (`matplotlib.pyplot.figure`) are retained until explicitly closed and may consume too much memory. (To control this warning, see the rcParam `figure.max_open_warning`).\n",
      "  plt.figure(figsize=(16, 16))\n",
      "/home/michael/GitHub/scVI_ma/scvi/inference/posterior.py:943: RuntimeWarning: More than 20 figures have been opened. Figures created through the pyplot interface (`matplotlib.pyplot.figure`) are retained until explicitly closed and may consume too much memory. (To control this warning, see the rcParam `figure.max_open_warning`).\n",
      "  plt.figure(figsize=(16, 16))\n"
     ]
    },
    {
     "name": "stdout",
     "output_type": "stream",
     "text": [
      "Training VAE for tissue  heart left ventricle\n"
     ]
    },
    {
     "name": "stderr",
     "output_type": "stream",
     "text": [
      "[2019-08-13 13:13:53,891] INFO - scvi.dataset.dataset | Downsampled from 31394 to 4684 cells\n",
      "INFO:scvi.dataset.dataset:Downsampled from 31394 to 4684 cells\n",
      "[2019-08-13 13:13:54,783] INFO - scvi.dataset.dataset | Downsampled from 31394 to 26710 cells\n",
      "INFO:scvi.dataset.dataset:Downsampled from 31394 to 26710 cells\n"
     ]
    },
    {
     "name": "stdout",
     "output_type": "stream",
     "text": [
      "training: 100%|██████████| 100/100 [04:38<00:00,  3.27s/it]\n",
      "training: 100%|██████████| 100/100 [00:45<00:00,  2.01it/s]\n"
     ]
    },
    {
     "name": "stderr",
     "output_type": "stream",
     "text": [
      "/home/michael/GitHub/scVI_ma/scvi/inference/posterior.py:943: RuntimeWarning: More than 20 figures have been opened. Figures created through the pyplot interface (`matplotlib.pyplot.figure`) are retained until explicitly closed and may consume too much memory. (To control this warning, see the rcParam `figure.max_open_warning`).\n",
      "  plt.figure(figsize=(16, 16))\n",
      "/home/michael/GitHub/scVI_ma/scvi/inference/posterior.py:943: RuntimeWarning: More than 20 figures have been opened. Figures created through the pyplot interface (`matplotlib.pyplot.figure`) are retained until explicitly closed and may consume too much memory. (To control this warning, see the rcParam `figure.max_open_warning`).\n",
      "  plt.figure(figsize=(16, 16))\n",
      "/home/michael/GitHub/scVI_ma/scvi/inference/posterior.py:943: RuntimeWarning: More than 20 figures have been opened. Figures created through the pyplot interface (`matplotlib.pyplot.figure`) are retained until explicitly closed and may consume too much memory. (To control this warning, see the rcParam `figure.max_open_warning`).\n",
      "  plt.figure(figsize=(16, 16))\n"
     ]
    },
    {
     "name": "stdout",
     "output_type": "stream",
     "text": [
      "Training VAE for tissue  heart right atrium\n"
     ]
    },
    {
     "name": "stderr",
     "output_type": "stream",
     "text": [
      "[2019-08-13 13:20:39,615] INFO - scvi.dataset.dataset | Downsampled from 31394 to 4684 cells\n",
      "INFO:scvi.dataset.dataset:Downsampled from 31394 to 4684 cells\n",
      "[2019-08-13 13:20:40,483] INFO - scvi.dataset.dataset | Downsampled from 31394 to 26710 cells\n",
      "INFO:scvi.dataset.dataset:Downsampled from 31394 to 26710 cells\n"
     ]
    },
    {
     "name": "stdout",
     "output_type": "stream",
     "text": [
      "training: 100%|██████████| 100/100 [04:35<00:00,  3.31s/it]\n",
      "training: 100%|██████████| 100/100 [00:45<00:00,  1.93it/s]\n"
     ]
    },
    {
     "name": "stderr",
     "output_type": "stream",
     "text": [
      "/home/michael/GitHub/scVI_ma/scvi/inference/posterior.py:943: RuntimeWarning: More than 20 figures have been opened. Figures created through the pyplot interface (`matplotlib.pyplot.figure`) are retained until explicitly closed and may consume too much memory. (To control this warning, see the rcParam `figure.max_open_warning`).\n",
      "  plt.figure(figsize=(16, 16))\n",
      "/home/michael/GitHub/scVI_ma/scvi/inference/posterior.py:943: RuntimeWarning: More than 20 figures have been opened. Figures created through the pyplot interface (`matplotlib.pyplot.figure`) are retained until explicitly closed and may consume too much memory. (To control this warning, see the rcParam `figure.max_open_warning`).\n",
      "  plt.figure(figsize=(16, 16))\n",
      "/home/michael/GitHub/scVI_ma/scvi/inference/posterior.py:943: RuntimeWarning: More than 20 figures have been opened. Figures created through the pyplot interface (`matplotlib.pyplot.figure`) are retained until explicitly closed and may consume too much memory. (To control this warning, see the rcParam `figure.max_open_warning`).\n",
      "  plt.figure(figsize=(16, 16))\n"
     ]
    },
    {
     "name": "stdout",
     "output_type": "stream",
     "text": [
      "Training VAE for tissue  heart right ventricle\n"
     ]
    },
    {
     "name": "stderr",
     "output_type": "stream",
     "text": [
      "[2019-08-13 13:27:25,251] INFO - scvi.dataset.dataset | Downsampled from 31394 to 4684 cells\n",
      "INFO:scvi.dataset.dataset:Downsampled from 31394 to 4684 cells\n",
      "[2019-08-13 13:27:26,183] INFO - scvi.dataset.dataset | Downsampled from 31394 to 26710 cells\n",
      "INFO:scvi.dataset.dataset:Downsampled from 31394 to 26710 cells\n"
     ]
    },
    {
     "name": "stdout",
     "output_type": "stream",
     "text": [
      "training: 100%|██████████| 100/100 [04:29<00:00,  3.10s/it]\n",
      "training: 100%|██████████| 100/100 [00:47<00:00,  1.91it/s]\n"
     ]
    },
    {
     "name": "stderr",
     "output_type": "stream",
     "text": [
      "/home/michael/GitHub/scVI_ma/scvi/inference/posterior.py:943: RuntimeWarning: More than 20 figures have been opened. Figures created through the pyplot interface (`matplotlib.pyplot.figure`) are retained until explicitly closed and may consume too much memory. (To control this warning, see the rcParam `figure.max_open_warning`).\n",
      "  plt.figure(figsize=(16, 16))\n",
      "/home/michael/GitHub/scVI_ma/scvi/inference/posterior.py:943: RuntimeWarning: More than 20 figures have been opened. Figures created through the pyplot interface (`matplotlib.pyplot.figure`) are retained until explicitly closed and may consume too much memory. (To control this warning, see the rcParam `figure.max_open_warning`).\n",
      "  plt.figure(figsize=(16, 16))\n",
      "/home/michael/GitHub/scVI_ma/scvi/inference/posterior.py:943: RuntimeWarning: More than 20 figures have been opened. Figures created through the pyplot interface (`matplotlib.pyplot.figure`) are retained until explicitly closed and may consume too much memory. (To control this warning, see the rcParam `figure.max_open_warning`).\n",
      "  plt.figure(figsize=(16, 16))\n"
     ]
    },
    {
     "name": "stdout",
     "output_type": "stream",
     "text": [
      "Training VAE for tissue  hippocampus\n"
     ]
    },
    {
     "name": "stderr",
     "output_type": "stream",
     "text": [
      "[2019-08-13 13:34:05,327] INFO - scvi.dataset.dataset | Downsampled from 31394 to 7482 cells\n",
      "INFO:scvi.dataset.dataset:Downsampled from 31394 to 7482 cells\n",
      "[2019-08-13 13:34:06,068] INFO - scvi.dataset.dataset | Downsampled from 31394 to 23912 cells\n",
      "INFO:scvi.dataset.dataset:Downsampled from 31394 to 23912 cells\n"
     ]
    },
    {
     "name": "stdout",
     "output_type": "stream",
     "text": [
      "training: 100%|██████████| 100/100 [03:57<00:00,  2.75s/it]\n",
      "training: 100%|██████████| 100/100 [01:11<00:00,  1.26it/s]\n"
     ]
    },
    {
     "name": "stderr",
     "output_type": "stream",
     "text": [
      "/home/michael/GitHub/scVI_ma/scvi/inference/posterior.py:943: RuntimeWarning: More than 20 figures have been opened. Figures created through the pyplot interface (`matplotlib.pyplot.figure`) are retained until explicitly closed and may consume too much memory. (To control this warning, see the rcParam `figure.max_open_warning`).\n",
      "  plt.figure(figsize=(16, 16))\n",
      "/home/michael/GitHub/scVI_ma/scvi/inference/posterior.py:943: RuntimeWarning: More than 20 figures have been opened. Figures created through the pyplot interface (`matplotlib.pyplot.figure`) are retained until explicitly closed and may consume too much memory. (To control this warning, see the rcParam `figure.max_open_warning`).\n",
      "  plt.figure(figsize=(16, 16))\n",
      "/home/michael/GitHub/scVI_ma/scvi/inference/posterior.py:943: RuntimeWarning: More than 20 figures have been opened. Figures created through the pyplot interface (`matplotlib.pyplot.figure`) are retained until explicitly closed and may consume too much memory. (To control this warning, see the rcParam `figure.max_open_warning`).\n",
      "  plt.figure(figsize=(16, 16))\n"
     ]
    },
    {
     "name": "stdout",
     "output_type": "stream",
     "text": [
      "Training VAE for tissue  interscapular brown adipose tissue\n"
     ]
    },
    {
     "name": "stderr",
     "output_type": "stream",
     "text": [
      "[2019-08-13 13:40:40,137] INFO - scvi.dataset.dataset | Downsampled from 31394 to 6770 cells\n",
      "INFO:scvi.dataset.dataset:Downsampled from 31394 to 6770 cells\n",
      "[2019-08-13 13:40:40,940] INFO - scvi.dataset.dataset | Downsampled from 31394 to 24624 cells\n",
      "INFO:scvi.dataset.dataset:Downsampled from 31394 to 24624 cells\n"
     ]
    },
    {
     "name": "stdout",
     "output_type": "stream",
     "text": [
      "training: 100%|██████████| 100/100 [04:10<00:00,  2.84s/it]\n",
      "training: 100%|██████████| 100/100 [01:03<00:00,  1.37it/s]\n"
     ]
    },
    {
     "name": "stderr",
     "output_type": "stream",
     "text": [
      "/home/michael/GitHub/scVI_ma/scvi/inference/posterior.py:943: RuntimeWarning: More than 20 figures have been opened. Figures created through the pyplot interface (`matplotlib.pyplot.figure`) are retained until explicitly closed and may consume too much memory. (To control this warning, see the rcParam `figure.max_open_warning`).\n",
      "  plt.figure(figsize=(16, 16))\n",
      "/home/michael/GitHub/scVI_ma/scvi/inference/posterior.py:943: RuntimeWarning: More than 20 figures have been opened. Figures created through the pyplot interface (`matplotlib.pyplot.figure`) are retained until explicitly closed and may consume too much memory. (To control this warning, see the rcParam `figure.max_open_warning`).\n",
      "  plt.figure(figsize=(16, 16))\n",
      "/home/michael/GitHub/scVI_ma/scvi/inference/posterior.py:943: RuntimeWarning: More than 20 figures have been opened. Figures created through the pyplot interface (`matplotlib.pyplot.figure`) are retained until explicitly closed and may consume too much memory. (To control this warning, see the rcParam `figure.max_open_warning`).\n",
      "  plt.figure(figsize=(16, 16))\n"
     ]
    },
    {
     "name": "stdout",
     "output_type": "stream",
     "text": [
      "Training VAE for tissue  kidney\n"
     ]
    },
    {
     "name": "stderr",
     "output_type": "stream",
     "text": [
      "[2019-08-13 13:47:17,537] INFO - scvi.dataset.dataset | Downsampled from 31394 to 2936 cells\n",
      "INFO:scvi.dataset.dataset:Downsampled from 31394 to 2936 cells\n",
      "[2019-08-13 13:47:18,410] INFO - scvi.dataset.dataset | Downsampled from 31394 to 28458 cells\n",
      "INFO:scvi.dataset.dataset:Downsampled from 31394 to 28458 cells\n"
     ]
    },
    {
     "name": "stdout",
     "output_type": "stream",
     "text": [
      "training: 100%|██████████| 100/100 [04:43<00:00,  3.29s/it]\n",
      "training: 100%|██████████| 100/100 [00:26<00:00,  3.26it/s]\n"
     ]
    },
    {
     "name": "stderr",
     "output_type": "stream",
     "text": [
      "/home/michael/GitHub/scVI_ma/scvi/inference/posterior.py:943: RuntimeWarning: More than 20 figures have been opened. Figures created through the pyplot interface (`matplotlib.pyplot.figure`) are retained until explicitly closed and may consume too much memory. (To control this warning, see the rcParam `figure.max_open_warning`).\n",
      "  plt.figure(figsize=(16, 16))\n",
      "/home/michael/GitHub/scVI_ma/scvi/inference/posterior.py:943: RuntimeWarning: More than 20 figures have been opened. Figures created through the pyplot interface (`matplotlib.pyplot.figure`) are retained until explicitly closed and may consume too much memory. (To control this warning, see the rcParam `figure.max_open_warning`).\n",
      "  plt.figure(figsize=(16, 16))\n",
      "/home/michael/GitHub/scVI_ma/scvi/inference/posterior.py:943: RuntimeWarning: More than 20 figures have been opened. Figures created through the pyplot interface (`matplotlib.pyplot.figure`) are retained until explicitly closed and may consume too much memory. (To control this warning, see the rcParam `figure.max_open_warning`).\n",
      "  plt.figure(figsize=(16, 16))\n"
     ]
    },
    {
     "name": "stdout",
     "output_type": "stream",
     "text": [
      "Training VAE for tissue  limb muscle\n"
     ]
    },
    {
     "name": "stderr",
     "output_type": "stream",
     "text": [
      "[2019-08-13 13:53:28,152] INFO - scvi.dataset.dataset | Downsampled from 31394 to 5312 cells\n",
      "INFO:scvi.dataset.dataset:Downsampled from 31394 to 5312 cells\n",
      "[2019-08-13 13:53:28,970] INFO - scvi.dataset.dataset | Downsampled from 31394 to 26082 cells\n",
      "INFO:scvi.dataset.dataset:Downsampled from 31394 to 26082 cells\n"
     ]
    },
    {
     "name": "stdout",
     "output_type": "stream",
     "text": [
      "training: 100%|██████████| 100/100 [04:24<00:00,  3.06s/it]\n",
      "training: 100%|██████████| 100/100 [00:47<00:00,  1.80it/s]\n"
     ]
    },
    {
     "name": "stderr",
     "output_type": "stream",
     "text": [
      "/home/michael/GitHub/scVI_ma/scvi/inference/posterior.py:943: RuntimeWarning: More than 20 figures have been opened. Figures created through the pyplot interface (`matplotlib.pyplot.figure`) are retained until explicitly closed and may consume too much memory. (To control this warning, see the rcParam `figure.max_open_warning`).\n",
      "  plt.figure(figsize=(16, 16))\n",
      "/home/michael/GitHub/scVI_ma/scvi/inference/posterior.py:943: RuntimeWarning: More than 20 figures have been opened. Figures created through the pyplot interface (`matplotlib.pyplot.figure`) are retained until explicitly closed and may consume too much memory. (To control this warning, see the rcParam `figure.max_open_warning`).\n",
      "  plt.figure(figsize=(16, 16))\n",
      "/home/michael/GitHub/scVI_ma/scvi/inference/posterior.py:943: RuntimeWarning: More than 20 figures have been opened. Figures created through the pyplot interface (`matplotlib.pyplot.figure`) are retained until explicitly closed and may consume too much memory. (To control this warning, see the rcParam `figure.max_open_warning`).\n",
      "  plt.figure(figsize=(16, 16))\n"
     ]
    },
    {
     "name": "stdout",
     "output_type": "stream",
     "text": [
      "Training VAE for tissue  liver\n"
     ]
    },
    {
     "name": "stderr",
     "output_type": "stream",
     "text": [
      "[2019-08-13 14:00:05,375] INFO - scvi.dataset.dataset | Downsampled from 31394 to 1984 cells\n",
      "INFO:scvi.dataset.dataset:Downsampled from 31394 to 1984 cells\n",
      "[2019-08-13 14:00:06,286] INFO - scvi.dataset.dataset | Downsampled from 31394 to 29410 cells\n",
      "INFO:scvi.dataset.dataset:Downsampled from 31394 to 29410 cells\n"
     ]
    },
    {
     "name": "stdout",
     "output_type": "stream",
     "text": [
      "training: 100%|██████████| 100/100 [04:49<00:00,  3.33s/it]\n",
      "training: 100%|██████████| 100/100 [00:18<00:00,  4.75it/s]\n"
     ]
    },
    {
     "name": "stderr",
     "output_type": "stream",
     "text": [
      "/home/michael/GitHub/scVI_ma/scvi/inference/posterior.py:943: RuntimeWarning: More than 20 figures have been opened. Figures created through the pyplot interface (`matplotlib.pyplot.figure`) are retained until explicitly closed and may consume too much memory. (To control this warning, see the rcParam `figure.max_open_warning`).\n",
      "  plt.figure(figsize=(16, 16))\n",
      "/home/michael/GitHub/scVI_ma/scvi/inference/posterior.py:943: RuntimeWarning: More than 20 figures have been opened. Figures created through the pyplot interface (`matplotlib.pyplot.figure`) are retained until explicitly closed and may consume too much memory. (To control this warning, see the rcParam `figure.max_open_warning`).\n",
      "  plt.figure(figsize=(16, 16))\n",
      "/home/michael/GitHub/scVI_ma/scvi/inference/posterior.py:943: RuntimeWarning: More than 20 figures have been opened. Figures created through the pyplot interface (`matplotlib.pyplot.figure`) are retained until explicitly closed and may consume too much memory. (To control this warning, see the rcParam `figure.max_open_warning`).\n",
      "  plt.figure(figsize=(16, 16))\n"
     ]
    },
    {
     "name": "stdout",
     "output_type": "stream",
     "text": [
      "Training VAE for tissue  lung\n"
     ]
    },
    {
     "name": "stderr",
     "output_type": "stream",
     "text": [
      "[2019-08-13 14:06:03,169] INFO - scvi.dataset.dataset | Downsampled from 31394 to 4930 cells\n",
      "INFO:scvi.dataset.dataset:Downsampled from 31394 to 4930 cells\n",
      "[2019-08-13 14:06:04,008] INFO - scvi.dataset.dataset | Downsampled from 31394 to 26464 cells\n",
      "INFO:scvi.dataset.dataset:Downsampled from 31394 to 26464 cells\n"
     ]
    },
    {
     "name": "stdout",
     "output_type": "stream",
     "text": [
      "training: 100%|██████████| 100/100 [04:21<00:00,  3.02s/it]\n",
      "training: 100%|██████████| 100/100 [00:45<00:00,  1.89it/s]\n"
     ]
    },
    {
     "name": "stderr",
     "output_type": "stream",
     "text": [
      "/home/michael/GitHub/scVI_ma/scvi/inference/posterior.py:943: RuntimeWarning: More than 20 figures have been opened. Figures created through the pyplot interface (`matplotlib.pyplot.figure`) are retained until explicitly closed and may consume too much memory. (To control this warning, see the rcParam `figure.max_open_warning`).\n",
      "  plt.figure(figsize=(16, 16))\n",
      "/home/michael/GitHub/scVI_ma/scvi/inference/posterior.py:943: RuntimeWarning: More than 20 figures have been opened. Figures created through the pyplot interface (`matplotlib.pyplot.figure`) are retained until explicitly closed and may consume too much memory. (To control this warning, see the rcParam `figure.max_open_warning`).\n",
      "  plt.figure(figsize=(16, 16))\n",
      "/home/michael/GitHub/scVI_ma/scvi/inference/posterior.py:943: RuntimeWarning: More than 20 figures have been opened. Figures created through the pyplot interface (`matplotlib.pyplot.figure`) are retained until explicitly closed and may consume too much memory. (To control this warning, see the rcParam `figure.max_open_warning`).\n",
      "  plt.figure(figsize=(16, 16))\n"
     ]
    },
    {
     "name": "stdout",
     "output_type": "stream",
     "text": [
      "Training VAE for tissue  mammary gland\n"
     ]
    },
    {
     "name": "stderr",
     "output_type": "stream",
     "text": [
      "[2019-08-13 14:12:33,206] INFO - scvi.dataset.dataset | Downsampled from 31394 to 4262 cells\n",
      "INFO:scvi.dataset.dataset:Downsampled from 31394 to 4262 cells\n",
      "[2019-08-13 14:12:34,056] INFO - scvi.dataset.dataset | Downsampled from 31394 to 27132 cells\n",
      "INFO:scvi.dataset.dataset:Downsampled from 31394 to 27132 cells\n"
     ]
    },
    {
     "name": "stdout",
     "output_type": "stream",
     "text": [
      "training: 100%|██████████| 100/100 [04:27<00:00,  3.11s/it]\n",
      "training: 100%|██████████| 100/100 [00:40<00:00,  2.14it/s]\n"
     ]
    },
    {
     "name": "stderr",
     "output_type": "stream",
     "text": [
      "/home/michael/GitHub/scVI_ma/scvi/inference/posterior.py:943: RuntimeWarning: More than 20 figures have been opened. Figures created through the pyplot interface (`matplotlib.pyplot.figure`) are retained until explicitly closed and may consume too much memory. (To control this warning, see the rcParam `figure.max_open_warning`).\n",
      "  plt.figure(figsize=(16, 16))\n",
      "/home/michael/GitHub/scVI_ma/scvi/inference/posterior.py:943: RuntimeWarning: More than 20 figures have been opened. Figures created through the pyplot interface (`matplotlib.pyplot.figure`) are retained until explicitly closed and may consume too much memory. (To control this warning, see the rcParam `figure.max_open_warning`).\n",
      "  plt.figure(figsize=(16, 16))\n",
      "/home/michael/GitHub/scVI_ma/scvi/inference/posterior.py:943: RuntimeWarning: More than 20 figures have been opened. Figures created through the pyplot interface (`matplotlib.pyplot.figure`) are retained until explicitly closed and may consume too much memory. (To control this warning, see the rcParam `figure.max_open_warning`).\n",
      "  plt.figure(figsize=(16, 16))\n"
     ]
    },
    {
     "name": "stdout",
     "output_type": "stream",
     "text": [
      "Training VAE for tissue  mesenteric adipose tissue\n"
     ]
    },
    {
     "name": "stderr",
     "output_type": "stream",
     "text": [
      "[2019-08-13 14:18:57,429] INFO - scvi.dataset.dataset | Downsampled from 31394 to 6770 cells\n",
      "INFO:scvi.dataset.dataset:Downsampled from 31394 to 6770 cells\n",
      "[2019-08-13 14:18:58,214] INFO - scvi.dataset.dataset | Downsampled from 31394 to 24624 cells\n",
      "INFO:scvi.dataset.dataset:Downsampled from 31394 to 24624 cells\n"
     ]
    },
    {
     "name": "stdout",
     "output_type": "stream",
     "text": [
      "training: 100%|██████████| 100/100 [04:04<00:00,  2.82s/it]\n",
      "training: 100%|██████████| 100/100 [01:02<00:00,  1.38it/s]\n"
     ]
    },
    {
     "name": "stderr",
     "output_type": "stream",
     "text": [
      "/home/michael/GitHub/scVI_ma/scvi/inference/posterior.py:943: RuntimeWarning: More than 20 figures have been opened. Figures created through the pyplot interface (`matplotlib.pyplot.figure`) are retained until explicitly closed and may consume too much memory. (To control this warning, see the rcParam `figure.max_open_warning`).\n",
      "  plt.figure(figsize=(16, 16))\n",
      "/home/michael/GitHub/scVI_ma/scvi/inference/posterior.py:943: RuntimeWarning: More than 20 figures have been opened. Figures created through the pyplot interface (`matplotlib.pyplot.figure`) are retained until explicitly closed and may consume too much memory. (To control this warning, see the rcParam `figure.max_open_warning`).\n",
      "  plt.figure(figsize=(16, 16))\n",
      "/home/michael/GitHub/scVI_ma/scvi/inference/posterior.py:943: RuntimeWarning: More than 20 figures have been opened. Figures created through the pyplot interface (`matplotlib.pyplot.figure`) are retained until explicitly closed and may consume too much memory. (To control this warning, see the rcParam `figure.max_open_warning`).\n",
      "  plt.figure(figsize=(16, 16))\n"
     ]
    },
    {
     "name": "stdout",
     "output_type": "stream",
     "text": [
      "Training VAE for tissue  spleen\n"
     ]
    },
    {
     "name": "stderr",
     "output_type": "stream",
     "text": [
      "[2019-08-13 14:25:28,795] INFO - scvi.dataset.dataset | Downsampled from 31394 to 2257 cells\n",
      "INFO:scvi.dataset.dataset:Downsampled from 31394 to 2257 cells\n",
      "[2019-08-13 14:25:29,698] INFO - scvi.dataset.dataset | Downsampled from 31394 to 29137 cells\n",
      "INFO:scvi.dataset.dataset:Downsampled from 31394 to 29137 cells\n"
     ]
    },
    {
     "name": "stdout",
     "output_type": "stream",
     "text": [
      "training: 100%|██████████| 100/100 [04:46<00:00,  3.31s/it]\n",
      "training: 100%|██████████| 100/100 [00:20<00:00,  4.27it/s]\n"
     ]
    },
    {
     "name": "stderr",
     "output_type": "stream",
     "text": [
      "/home/michael/GitHub/scVI_ma/scvi/inference/posterior.py:943: RuntimeWarning: More than 20 figures have been opened. Figures created through the pyplot interface (`matplotlib.pyplot.figure`) are retained until explicitly closed and may consume too much memory. (To control this warning, see the rcParam `figure.max_open_warning`).\n",
      "  plt.figure(figsize=(16, 16))\n",
      "/home/michael/GitHub/scVI_ma/scvi/inference/posterior.py:943: RuntimeWarning: More than 20 figures have been opened. Figures created through the pyplot interface (`matplotlib.pyplot.figure`) are retained until explicitly closed and may consume too much memory. (To control this warning, see the rcParam `figure.max_open_warning`).\n",
      "  plt.figure(figsize=(16, 16))\n",
      "/home/michael/GitHub/scVI_ma/scvi/inference/posterior.py:943: RuntimeWarning: More than 20 figures have been opened. Figures created through the pyplot interface (`matplotlib.pyplot.figure`) are retained until explicitly closed and may consume too much memory. (To control this warning, see the rcParam `figure.max_open_warning`).\n",
      "  plt.figure(figsize=(16, 16))\n"
     ]
    },
    {
     "name": "stdout",
     "output_type": "stream",
     "text": [
      "Training VAE for tissue  striatum\n"
     ]
    },
    {
     "name": "stderr",
     "output_type": "stream",
     "text": [
      "[2019-08-13 14:31:30,335] INFO - scvi.dataset.dataset | Downsampled from 31394 to 7502 cells\n",
      "INFO:scvi.dataset.dataset:Downsampled from 31394 to 7502 cells\n",
      "[2019-08-13 14:31:31,105] INFO - scvi.dataset.dataset | Downsampled from 31394 to 23892 cells\n",
      "INFO:scvi.dataset.dataset:Downsampled from 31394 to 23892 cells\n"
     ]
    },
    {
     "name": "stdout",
     "output_type": "stream",
     "text": [
      "training: 100%|██████████| 100/100 [03:56<00:00,  2.74s/it]\n",
      "training: 100%|██████████| 100/100 [01:09<00:00,  1.25it/s]\n"
     ]
    },
    {
     "name": "stderr",
     "output_type": "stream",
     "text": [
      "/home/michael/GitHub/scVI_ma/scvi/inference/posterior.py:943: RuntimeWarning: More than 20 figures have been opened. Figures created through the pyplot interface (`matplotlib.pyplot.figure`) are retained until explicitly closed and may consume too much memory. (To control this warning, see the rcParam `figure.max_open_warning`).\n",
      "  plt.figure(figsize=(16, 16))\n",
      "/home/michael/GitHub/scVI_ma/scvi/inference/posterior.py:943: RuntimeWarning: More than 20 figures have been opened. Figures created through the pyplot interface (`matplotlib.pyplot.figure`) are retained until explicitly closed and may consume too much memory. (To control this warning, see the rcParam `figure.max_open_warning`).\n",
      "  plt.figure(figsize=(16, 16))\n",
      "/home/michael/GitHub/scVI_ma/scvi/inference/posterior.py:943: RuntimeWarning: More than 20 figures have been opened. Figures created through the pyplot interface (`matplotlib.pyplot.figure`) are retained until explicitly closed and may consume too much memory. (To control this warning, see the rcParam `figure.max_open_warning`).\n",
      "  plt.figure(figsize=(16, 16))\n"
     ]
    },
    {
     "name": "stdout",
     "output_type": "stream",
     "text": [
      "Training VAE for tissue  subcutaneous adipose tissue\n"
     ]
    },
    {
     "name": "stderr",
     "output_type": "stream",
     "text": [
      "[2019-08-13 14:37:59,898] INFO - scvi.dataset.dataset | Downsampled from 31394 to 6770 cells\n",
      "INFO:scvi.dataset.dataset:Downsampled from 31394 to 6770 cells\n",
      "[2019-08-13 14:38:00,647] INFO - scvi.dataset.dataset | Downsampled from 31394 to 24624 cells\n",
      "INFO:scvi.dataset.dataset:Downsampled from 31394 to 24624 cells\n"
     ]
    },
    {
     "name": "stdout",
     "output_type": "stream",
     "text": [
      "training: 100%|██████████| 100/100 [04:03<00:00,  2.80s/it]\n",
      "training: 100%|██████████| 100/100 [01:02<00:00,  1.36it/s]\n"
     ]
    },
    {
     "name": "stderr",
     "output_type": "stream",
     "text": [
      "/home/michael/GitHub/scVI_ma/scvi/inference/posterior.py:943: RuntimeWarning: More than 20 figures have been opened. Figures created through the pyplot interface (`matplotlib.pyplot.figure`) are retained until explicitly closed and may consume too much memory. (To control this warning, see the rcParam `figure.max_open_warning`).\n",
      "  plt.figure(figsize=(16, 16))\n",
      "/home/michael/GitHub/scVI_ma/scvi/inference/posterior.py:943: RuntimeWarning: More than 20 figures have been opened. Figures created through the pyplot interface (`matplotlib.pyplot.figure`) are retained until explicitly closed and may consume too much memory. (To control this warning, see the rcParam `figure.max_open_warning`).\n",
      "  plt.figure(figsize=(16, 16))\n",
      "/home/michael/GitHub/scVI_ma/scvi/inference/posterior.py:943: RuntimeWarning: More than 20 figures have been opened. Figures created through the pyplot interface (`matplotlib.pyplot.figure`) are retained until explicitly closed and may consume too much memory. (To control this warning, see the rcParam `figure.max_open_warning`).\n",
      "  plt.figure(figsize=(16, 16))\n"
     ]
    },
    {
     "name": "stdout",
     "output_type": "stream",
     "text": [
      "Training VAE for tissue  thymus\n"
     ]
    },
    {
     "name": "stderr",
     "output_type": "stream",
     "text": [
      "[2019-08-13 14:44:31,176] INFO - scvi.dataset.dataset | Downsampled from 31394 to 1014 cells\n",
      "INFO:scvi.dataset.dataset:Downsampled from 31394 to 1014 cells\n",
      "[2019-08-13 14:44:32,129] INFO - scvi.dataset.dataset | Downsampled from 31394 to 30380 cells\n",
      "INFO:scvi.dataset.dataset:Downsampled from 31394 to 30380 cells\n"
     ]
    },
    {
     "name": "stdout",
     "output_type": "stream",
     "text": [
      "training: 100%|██████████| 100/100 [05:06<00:00,  3.54s/it]\n",
      "training: 100%|██████████| 100/100 [00:08<00:00, 11.14it/s]\n"
     ]
    },
    {
     "name": "stderr",
     "output_type": "stream",
     "text": [
      "/home/michael/GitHub/scVI_ma/scvi/inference/posterior.py:943: RuntimeWarning: More than 20 figures have been opened. Figures created through the pyplot interface (`matplotlib.pyplot.figure`) are retained until explicitly closed and may consume too much memory. (To control this warning, see the rcParam `figure.max_open_warning`).\n",
      "  plt.figure(figsize=(16, 16))\n",
      "/home/michael/GitHub/scVI_ma/scvi/inference/posterior.py:943: RuntimeWarning: More than 20 figures have been opened. Figures created through the pyplot interface (`matplotlib.pyplot.figure`) are retained until explicitly closed and may consume too much memory. (To control this warning, see the rcParam `figure.max_open_warning`).\n",
      "  plt.figure(figsize=(16, 16))\n",
      "/home/michael/GitHub/scVI_ma/scvi/inference/posterior.py:943: RuntimeWarning: More than 20 figures have been opened. Figures created through the pyplot interface (`matplotlib.pyplot.figure`) are retained until explicitly closed and may consume too much memory. (To control this warning, see the rcParam `figure.max_open_warning`).\n",
      "  plt.figure(figsize=(16, 16))\n"
     ]
    },
    {
     "name": "stdout",
     "output_type": "stream",
     "text": [
      "Training VAE for tissue  tongue\n"
     ]
    },
    {
     "name": "stderr",
     "output_type": "stream",
     "text": [
      "[2019-08-13 14:50:27,543] INFO - scvi.dataset.dataset | Downsampled from 31394 to 1385 cells\n",
      "INFO:scvi.dataset.dataset:Downsampled from 31394 to 1385 cells\n",
      "[2019-08-13 14:50:28,420] INFO - scvi.dataset.dataset | Downsampled from 31394 to 30009 cells\n",
      "INFO:scvi.dataset.dataset:Downsampled from 31394 to 30009 cells\n"
     ]
    },
    {
     "name": "stdout",
     "output_type": "stream",
     "text": [
      "training: 100%|██████████| 100/100 [04:51<00:00,  3.37s/it]\n",
      "training: 100%|██████████| 100/100 [00:28<00:00,  2.97it/s]\n"
     ]
    },
    {
     "name": "stderr",
     "output_type": "stream",
     "text": [
      "/home/michael/GitHub/scVI_ma/scvi/inference/posterior.py:943: RuntimeWarning: More than 20 figures have been opened. Figures created through the pyplot interface (`matplotlib.pyplot.figure`) are retained until explicitly closed and may consume too much memory. (To control this warning, see the rcParam `figure.max_open_warning`).\n",
      "  plt.figure(figsize=(16, 16))\n",
      "/home/michael/GitHub/scVI_ma/scvi/inference/posterior.py:943: RuntimeWarning: More than 20 figures have been opened. Figures created through the pyplot interface (`matplotlib.pyplot.figure`) are retained until explicitly closed and may consume too much memory. (To control this warning, see the rcParam `figure.max_open_warning`).\n",
      "  plt.figure(figsize=(16, 16))\n",
      "/home/michael/GitHub/scVI_ma/scvi/inference/posterior.py:943: RuntimeWarning: More than 20 figures have been opened. Figures created through the pyplot interface (`matplotlib.pyplot.figure`) are retained until explicitly closed and may consume too much memory. (To control this warning, see the rcParam `figure.max_open_warning`).\n",
      "  plt.figure(figsize=(16, 16))\n"
     ]
    },
    {
     "name": "stdout",
     "output_type": "stream",
     "text": [
      "Training VAE for tissue  trachea\n"
     ]
    },
    {
     "name": "stderr",
     "output_type": "stream",
     "text": [
      "[2019-08-13 14:56:31,704] INFO - scvi.dataset.dataset | Downsampled from 31394 to 3195 cells\n",
      "INFO:scvi.dataset.dataset:Downsampled from 31394 to 3195 cells\n",
      "[2019-08-13 14:56:32,565] INFO - scvi.dataset.dataset | Downsampled from 31394 to 28199 cells\n",
      "INFO:scvi.dataset.dataset:Downsampled from 31394 to 28199 cells\n"
     ]
    },
    {
     "name": "stdout",
     "output_type": "stream",
     "text": [
      "training: 100%|██████████| 100/100 [04:37<00:00,  3.20s/it]\n",
      "training: 100%|██████████| 100/100 [00:30<00:00,  2.81it/s]\n"
     ]
    },
    {
     "name": "stderr",
     "output_type": "stream",
     "text": [
      "/home/michael/GitHub/scVI_ma/scvi/inference/posterior.py:943: RuntimeWarning: More than 20 figures have been opened. Figures created through the pyplot interface (`matplotlib.pyplot.figure`) are retained until explicitly closed and may consume too much memory. (To control this warning, see the rcParam `figure.max_open_warning`).\n",
      "  plt.figure(figsize=(16, 16))\n",
      "/home/michael/GitHub/scVI_ma/scvi/inference/posterior.py:943: RuntimeWarning: More than 20 figures have been opened. Figures created through the pyplot interface (`matplotlib.pyplot.figure`) are retained until explicitly closed and may consume too much memory. (To control this warning, see the rcParam `figure.max_open_warning`).\n",
      "  plt.figure(figsize=(16, 16))\n",
      "/home/michael/GitHub/scVI_ma/scvi/inference/posterior.py:943: RuntimeWarning: More than 20 figures have been opened. Figures created through the pyplot interface (`matplotlib.pyplot.figure`) are retained until explicitly closed and may consume too much memory. (To control this warning, see the rcParam `figure.max_open_warning`).\n",
      "  plt.figure(figsize=(16, 16))\n"
     ]
    },
    {
     "name": "stdout",
     "output_type": "stream",
     "text": [
      "Training VAE for tissue  urinary bladder\n"
     ]
    },
    {
     "name": "stderr",
     "output_type": "stream",
     "text": [
      "[2019-08-13 15:02:45,664] INFO - scvi.dataset.dataset | Downsampled from 31394 to 982 cells\n",
      "INFO:scvi.dataset.dataset:Downsampled from 31394 to 982 cells\n",
      "[2019-08-13 15:02:46,576] INFO - scvi.dataset.dataset | Downsampled from 31394 to 30412 cells\n",
      "INFO:scvi.dataset.dataset:Downsampled from 31394 to 30412 cells\n"
     ]
    },
    {
     "name": "stdout",
     "output_type": "stream",
     "text": [
      "training:  25%|██▌       | 25/100 [01:14<04:16,  3.42s/it]"
     ]
    }
   ],
   "source": [
    "n_epochs = 100\n",
    "colors=None\n",
    "for tissue in np.unique(agg.index.get_level_values(0)): \n",
    "    print(\"Training VAE for tissue \", tissue)\n",
    "    cutout_cts = agg[tissue].index.values\n",
    "    if \"not available\" in cutout_cts:\n",
    "        cutout_cts = np.delete(cutout_cts, np.where(cutout_cts == \"not available\")[0])\n",
    "\n",
    "    rem_ct = data_big_mapped.cell_types[~np.isin(data_big_mapped.cell_types, cutout_cts)]\n",
    "    data_small = copy.deepcopy(data_big_mapped)\n",
    "    data_big = copy.deepcopy(data_big_mapped)\n",
    "\n",
    "    data_small.filter_cell_types(cutout_cts)\n",
    "    data_big.filter_cell_types(rem_ct)\n",
    "    \n",
    "    trainer_big = train_vae(data_big, \"./data\", f\"big_{tissue}_data_portion\", n_epochs=n_epochs)\n",
    "    trainer_small = train_vae(data_small, \"./data\", f\"small_{tissue}_data_portion\", n_epochs=n_epochs)\n",
    "    dot_size = (mpl.rcParams['lines.markersize'] ** 2.0)\n",
    "\n",
    "    posterior_big = plot_tsne(trainer_big, trainer_big.model, data_big, f\"./plots/big_{tissue}_data_portion\",\n",
    "                              colors=colors, s=dot_size, edgecolors='black')\n",
    "    posterior_small = plot_tsne(trainer_small, trainer_small.model, data_small, f\"./plots/small_{tissue}_data_portion\",\n",
    "                                colors=colors, s=dot_size, edgecolors='black')\n",
    "    posterior_small_in_big = plot_tsne(trainer_big, trainer_big.model, data_small, f\"./plots/small_{tissue}_data_portion_in_big\",\n",
    "                                       colors=colors, s=dot_size, edgecolors='black')"
   ]
  },
  {
   "cell_type": "code",
   "execution_count": null,
   "metadata": {
    "pycharm": {
     "is_executing": false
    }
   },
   "outputs": [],
   "source": [
    "data_big_mapped.X"
   ]
  },
  {
   "cell_type": "code",
   "execution_count": null,
   "metadata": {
    "pycharm": {
     "is_executing": false
    }
   },
   "outputs": [],
   "source": [
    "data_big.gene_names"
   ]
  },
  {
   "cell_type": "code",
   "execution_count": null,
   "metadata": {},
   "outputs": [],
   "source": [
    "np.isin(data_full.gene_names, data_big_mapped.gene_names).sum() / len(data_full.gene_names)"
   ]
  },
  {
   "cell_type": "code",
   "execution_count": null,
   "metadata": {},
   "outputs": [],
   "source": []
  }
 ],
 "metadata": {
  "kernelspec": {
   "display_name": "Python [conda env:scvi] *",
   "language": "python",
   "name": "conda-env-scvi-py"
  },
  "language_info": {
   "codemirror_mode": {
    "name": "ipython",
    "version": 3
   },
   "file_extension": ".py",
   "mimetype": "text/x-python",
   "name": "python",
   "nbconvert_exporter": "python",
   "pygments_lexer": "ipython3",
   "version": "3.7.3"
  },
  "pycharm": {
   "stem_cell": {
    "cell_type": "raw",
    "metadata": {
     "collapsed": false
    },
    "source": []
   }
  }
 },
 "nbformat": 4,
 "nbformat_minor": 2
}
