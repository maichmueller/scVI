{
 "cells": [
  {
   "cell_type": "code",
   "execution_count": 1,
   "metadata": {
    "pycharm": {
     "is_executing": true
    }
   },
   "outputs": [
    {
     "name": "stderr",
     "output_type": "stream",
     "text": [
      "[2019-10-09 15:13:48,221] INFO - scvi._settings | Added StreamHandler with custom formatter to 'scvi' logger.\n",
      "/home/michael/anaconda3/envs/scvi/lib/python3.7/site-packages/sklearn/utils/linear_assignment_.py:21: DeprecationWarning: The linear_assignment_ module is deprecated in 0.21 and will be removed from 0.23. Use scipy.optimize.linear_sum_assignment instead.\n",
      "  DeprecationWarning)\n"
     ]
    }
   ],
   "source": [
    "from Eval_basis import *\n",
    "import pandas as pd\n",
    "from tqdm import tqdm\n",
    "from scipy import sparse\n",
    "from scvi.dataset import EbiData, MouseAtlas, UnionDataset, AnnDatasetFromAnnData\n",
    "import scanpy as sc\n"
   ]
  },
  {
   "cell_type": "code",
   "execution_count": 2,
   "metadata": {
    "pycharm": {
     "is_executing": true
    }
   },
   "outputs": [],
   "source": [
    "np.random.seed(1)\n",
    "%matplotlib inline"
   ]
  },
  {
   "cell_type": "code",
   "execution_count": 3,
   "metadata": {
    "pycharm": {
     "is_executing": true
    }
   },
   "outputs": [
    {
     "name": "stderr",
     "output_type": "stream",
     "text": [
      "[2019-10-08 14:07:13,000] WARNING - scvi.dataset.dataset | This dataset has some empty cells, this might fail scVI inference.Data should be filtered with `my_dataset.filter_cells_by_count()\n",
      "[2019-10-08 14:07:13,047] INFO - scvi.dataset.dataset | Remapping batch_indices to [0,N]\n",
      "[2019-10-08 14:07:13,050] INFO - scvi.dataset.dataset | Remapping labels to [0,N]\n",
      "[2019-10-08 14:07:14,170] INFO - scvi.dataset.dataset | Computing the library size for the new data\n",
      "[2019-10-08 14:07:15,219] INFO - scvi.dataset.dataset | Downsampled from 50896 to 35577 cells\n"
     ]
    }
   ],
   "source": [
    "data_full = EbiData(\"./data\", experiment=\"E-ENAD-15\")"
   ]
  },
  {
   "cell_type": "code",
   "execution_count": 4,
   "metadata": {
    "pycharm": {
     "is_executing": true
    }
   },
   "outputs": [
    {
     "name": "stderr",
     "output_type": "stream",
     "text": [
      "Concatenating datasets: 100%|██████████| 1/1 [00:34<00:00, 34.03s/it]\n",
      "[2019-10-08 14:07:49,756] INFO - scvi.dataset.dataset | Union dataset is set to ignore batch annotation.\n",
      "[2019-10-08 14:07:50,835] INFO - scvi.dataset.dataset | Remapping batch_indices to [0,N]\n",
      "[2019-10-08 14:07:50,836] INFO - scvi.dataset.dataset | Union dataset is set to ignore batch annotation.\n",
      "[2019-10-08 14:07:50,837] INFO - scvi.dataset.dataset | Remapping labels to [0,N]\n",
      "[2019-10-08 14:07:50,841] INFO - scvi.dataset.dataset | Joined 1 datasets to one of shape 35577 x 22250.\n",
      "[2019-10-08 14:07:50,846] INFO - scvi.dataset.dataset | Union dataset is set to ignore batch annotation.\n",
      "[2019-10-08 14:07:51,845] INFO - scvi.dataset.dataset | Downsampled from 35577 to 31394 cells\n"
     ]
    }
   ],
   "source": [
    "data_big_mapped = UnionDataset(\"./data\", gene_map_load_filename=\"gene_maps/ensembl_mouse_genes-proteincoding\", low_memory=False)\n",
    "data_big_mapped.join_datasets(data_source=\"memory\", data_target=\"memory\", gene_datasets= [data_full])\n",
    "data_big_mapped.filter_cell_types(np.array([ct for ct in data_big_mapped.cell_types if ct != \"not available\"]))"
   ]
  },
  {
   "cell_type": "code",
   "execution_count": 5,
   "metadata": {
    "pycharm": {
     "is_executing": true
    },
    "scrolled": true
   },
   "outputs": [
    {
     "name": "stdout",
     "output_type": "stream",
     "text": [
      "Sample Characteristic[organism part]      cell_types                                        \n",
      "aorta                                     endothelial cell                                       188\n",
      "                                          erythrocyte                                             91\n",
      "                                          fibroblast                                              70\n",
      "                                          not available                                          694\n",
      "                                          professional antigen presenting cell                    59\n",
      "ascending colon                           Brush cell of epithelium proper of large intestine      53\n",
      "                                          enterocyte of epithelium of large intestine            761\n",
      "                                          enteroendocrine cell                                    29\n",
      "                                          epithelial cell of large intestine                    1412\n",
      "                                          large intestine goblet cell                            240\n",
      "                                          not available                                           23\n",
      "back skin                                 basal cell of epidermis                                562\n",
      "                                          epidermal cell                                         276\n",
      "                                          keratinocyte stem cell                                1404\n",
      "                                          leukocyte                                               15\n",
      "                                          not available                                           60\n",
      "                                          stem cell of epidermis                                  53\n",
      "bone marrow                               B cell                                                  44\n",
      "                                          Slamf1-negative multipotent progenitor cell            430\n",
      "                                          Slamf1-positive multipotent progenitor cell            134\n",
      "                                          basophil                                                25\n",
      "                                          common lymphoid progenitor                             156\n",
      "                                          granulocyte                                            761\n",
      "                                          granulocyte monocyte progenitor cell                   136\n",
      "                                          hematopoietic precursor cell                           769\n",
      "                                          immature B cell                                        344\n",
      "                                          immature NK T cell                                      37\n",
      "                                          immature T cell                                         60\n",
      "                                          immature natural killer cell                            36\n",
      "                                          late pro-B cell                                        306\n",
      "                                          macrophage                                             173\n",
      "                                          mature natural killer cell                              49\n",
      "                                          megakaryocyte-erythroid progenitor cell                 55\n",
      "                                          monocyte                                               264\n",
      "                                          naive B cell                                           692\n",
      "                                          not available                                          158\n",
      "                                          pre-natural killer cell                                 22\n",
      "                                          pro-B cell                                             517\n",
      "                                          regulatory T cell                                       27\n",
      "cerebellum                                Bergmann glial cell                                     39\n",
      "                                          astrocyte of the cerebral cortex                         8\n",
      "                                          brain pericyte                                          41\n",
      "                                          endothelial cell                                       188\n",
      "                                          macrophage                                              38\n",
      "                                          microglial cell                                        726\n",
      "                                          neuron                                                 100\n",
      "                                          not available                                          818\n",
      "                                          oligodendrocyte                                        163\n",
      "                                          oligodendrocyte precursor cell                          14\n",
      "cerebral cortex                           astrocyte of the cerebral cortex                       258\n",
      "                                          brain pericyte                                          63\n",
      "                                          endothelial cell                                       142\n",
      "                                          macrophage                                              10\n",
      "                                          microglial cell                                       1006\n",
      "                                          neuron                                                  56\n",
      "                                          not available                                          182\n",
      "                                          oligodendrocyte                                        579\n",
      "                                          oligodendrocyte precursor cell                          51\n",
      "descending colon                          Brush cell of epithelium proper of large intestine      10\n",
      "                                          enterocyte of epithelium of large intestine            203\n",
      "                                          enteroendocrine cell                                    30\n",
      "                                          epithelial cell of large intestine                     606\n",
      "                                          large intestine goblet cell                            593\n",
      "                                          not available                                           86\n",
      "diaphragm                                 endothelial cell                                        78\n",
      "                                          lymphocyte                                              81\n",
      "                                          macrophage                                              31\n",
      "                                          mesenchymal stem cell                                  241\n",
      "                                          not available                                           66\n",
      "                                          skeletal muscle satellite stem cell                    439\n",
      "endocrine pancreas                        endothelial cell                                        20\n",
      "                                          leukocyte                                               36\n",
      "                                          not available                                           44\n",
      "                                          pancreatic A cell                                      388\n",
      "                                          pancreatic D cell                                      138\n",
      "                                          pancreatic PP cell                                      71\n",
      "                                          pancreatic acinar cell                                   4\n",
      "                                          pancreatic ductal cell                                   8\n",
      "                                          pancreatic stellate cell                                 8\n",
      "                                          type B pancreatic cell                                 421\n",
      "exocrine pancreas                         endothelial cell                                        46\n",
      "                                          leukocyte                                               18\n",
      "                                          not available                                          242\n",
      "                                          pancreatic A cell                                        2\n",
      "                                          pancreatic D cell                                        2\n",
      "                                          pancreatic PP cell                                       2\n",
      "                                          pancreatic acinar cell                                 178\n",
      "                                          pancreatic ductal cell                                 153\n",
      "                                          pancreatic stellate cell                                41\n",
      "                                          type B pancreatic cell                                  28\n",
      "gonadal fat pad                           B cell                                                  49\n",
      "                                          T cell                                                  48\n",
      "                                          endothelial cell                                       160\n",
      "                                          mesenchymal stem cell of adipose                       686\n",
      "                                          myeloid cell                                           449\n",
      "                                          natural killer cell                                     31\n",
      "                                          not available                                          199\n",
      "heart                                     cardiac muscle cell                                     68\n",
      "                                          endocardial cell                                         1\n",
      "                                          endothelial cell                                         7\n",
      "                                          fibroblast                                               2\n",
      "                                          not available                                           54\n",
      "                                          smooth muscle cell                                       1\n",
      "heart left atrium                         cardiac muscle cell                                     21\n",
      "                                          cardiac neuron                                          12\n",
      "                                          endocardial cell                                        71\n",
      "                                          endothelial cell                                       193\n",
      "                                          fibroblast                                             934\n",
      "                                          leukocyte                                               94\n",
      "                                          myofibroblast cell                                      50\n",
      "                                          not available                                          146\n",
      "                                          smooth muscle cell                                      11\n",
      "heart left atrium and heart right atrium  cardiac muscle cell                                     32\n",
      "                                          fibroblast                                               1\n",
      "                                          not available                                           10\n",
      "heart left ventricle                      cardiac muscle cell                                      3\n",
      "                                          cardiac neuron                                           1\n",
      "                                          endocardial cell                                         6\n",
      "                                          endothelial cell                                       397\n",
      "                                          fibroblast                                             127\n",
      "                                          leukocyte                                               87\n",
      "                                          myofibroblast cell                                      39\n",
      "                                          not available                                          569\n",
      "                                          smooth muscle cell                                      13\n",
      "heart right atrium                        cardiac muscle cell                                      5\n",
      "                                          cardiac neuron                                           8\n",
      "                                          endocardial cell                                        56\n",
      "                                          endothelial cell                                       237\n",
      "                                          fibroblast                                             669\n",
      "                                          leukocyte                                              221\n",
      "                                          myofibroblast cell                                      43\n",
      "                                          not available                                          113\n",
      "                                          smooth muscle cell                                      10\n",
      "heart right ventricle                     cardiac muscle cell                                      4\n",
      "                                          cardiac neuron                                           7\n",
      "                                          endocardial cell                                        31\n",
      "                                          endothelial cell                                       343\n",
      "                                          fibroblast                                             386\n",
      "                                          leukocyte                                              121\n",
      "                                          myofibroblast cell                                      46\n",
      "                                          not available                                          179\n",
      "                                          smooth muscle cell                                       7\n",
      "hippocampus                               astrocyte of the cerebral cortex                        90\n",
      "                                          brain pericyte                                          38\n",
      "                                          endothelial cell                                       273\n",
      "                                          macrophage                                               9\n",
      "                                          microglial cell                                       1105\n",
      "                                          neuron                                                  19\n",
      "                                          not available                                          538\n",
      "                                          oligodendrocyte                                        461\n",
      "                                          oligodendrocyte precursor cell                          95\n",
      "interscapular brown adipose tissue        B cell                                                 193\n",
      "                                          T cell                                                  79\n",
      "                                          endothelial cell                                       147\n",
      "                                          mesenchymal stem cell of adipose                        85\n",
      "                                          myeloid cell                                           139\n",
      "                                          natural killer cell                                     16\n",
      "                                          not available                                          197\n",
      "kidney                                    endothelial cell                                       126\n",
      "                                          epithelial cell of proximal tubule                     219\n",
      "                                          kidney collecting duct epithelial cell                 121\n",
      "                                          macrophage                                              37\n",
      "                                          natural killer cell                                     16\n",
      "                                          not available                                          287\n",
      "limb muscle                               B cell                                                  71\n",
      "                                          T cell                                                  35\n",
      "                                          endothelial cell                                       141\n",
      "                                          macrophage                                              45\n",
      "                                          mesenchymal stem cell                                  258\n",
      "                                          not available                                           46\n",
      "                                          skeletal muscle satellite cell                         540\n",
      "liver                                     B cell                                                  41\n",
      "                                          Kupffer cell                                            61\n",
      "                                          endothelial cell of hepatic sinusoid                   182\n",
      "                                          hepatocyte                                             391\n",
      "                                          natural killer cell                                     39\n",
      "                                          not available                                          100\n",
      "lung                                      B cell                                                  57\n",
      "                                          T cell                                                  53\n",
      "                                          ciliated columnar cell of tracheobronchial tree         25\n",
      "                                          classical monocyte                                      90\n",
      "                                          epithelial cell of lung                                113\n",
      "                                          leukocyte                                               35\n",
      "                                          lung endothelial cell                                  693\n",
      "                                          monocyte                                                65\n",
      "                                          myeloid cell                                            85\n",
      "                                          natural killer cell                                     37\n",
      "                                          not available                                          154\n",
      "                                          stromal cell                                           423\n",
      "mammary gland                             basal cell                                            1340\n",
      "                                          endothelial cell                                        47\n",
      "                                          luminal epithelial cell of mammary gland               578\n",
      "                                          not available                                          114\n",
      "                                          stromal cell                                           440\n",
      "mesenteric adipose tissue                 B cell                                                 115\n",
      "                                          T cell                                                 105\n",
      "                                          endothelial cell                                       113\n",
      "                                          mesenchymal stem cell of adipose                       602\n",
      "                                          myeloid cell                                           191\n",
      "                                          natural killer cell                                     26\n",
      "                                          not available                                          104\n",
      "spleen                                    B cell                                                1297\n",
      "                                          T cell                                                 352\n",
      "                                          macrophage                                              48\n",
      "                                          not available                                           13\n",
      "striatum                                  Bergmann glial cell                                      1\n",
      "                                          astrocyte of the cerebral cortex                        76\n",
      "                                          brain pericyte                                          14\n",
      "                                          endothelial cell                                       112\n",
      "                                          macrophage                                               4\n",
      "                                          microglial cell                                       1557\n",
      "                                          neuron                                                 106\n",
      "                                          not available                                          428\n",
      "                                          oligodendrocyte                                        371\n",
      "                                          oligodendrocyte precursor cell                          43\n",
      "subcutaneous adipose tissue               B cell                                                 162\n",
      "                                          T cell                                                 121\n",
      "                                          endothelial cell                                       248\n",
      "                                          mesenchymal stem cell of adipose                       734\n",
      "                                          myeloid cell                                           344\n",
      "                                          natural killer cell                                     22\n",
      "                                          not available                                          154\n",
      "thymus                                    DN1 thymic pro-T cell                                   32\n",
      "                                          immature T cell                                       1277\n",
      "                                          not available                                          154\n",
      "                                          professional antigen presenting cell                    40\n",
      "tongue                                    basal cell of epidermis                               1086\n",
      "                                          keratinocyte                                           330\n",
      "                                          not available                                            7\n",
      "trachea                                   blood cell                                             206\n",
      "                                          endothelial cell                                       113\n",
      "                                          epithelial cell                                        201\n",
      "                                          mesenchymal cell                                       830\n",
      "                                          not available                                           17\n",
      "urinary bladder                           bladder cell                                           695\n",
      "                                          bladder urothelial cell                                683\n",
      "                                          not available                                          134\n",
      "dtype: int64\n"
     ]
    }
   ],
   "source": [
    "agg = data_full.obs.groupby([\"Sample Characteristic[organism part]\", \"cell_types\"]).size()\n",
    "with pd.option_context('display.max_rows', None, 'display.max_columns', None):  # more options can be specified also\n",
    "    print(agg.sort_index())"
   ]
  },
  {
   "cell_type": "code",
   "execution_count": 6,
   "metadata": {
    "pycharm": {
     "is_executing": true
    }
   },
   "outputs": [],
   "source": [
    "def do_procedure(dataset, ebi_data, model_filename, tsne_filename, **kwargs):\n",
    "    n_epochs = 100\n",
    "    colors = None\n",
    "\n",
    "    trainer = train_vae(dataset, \"./data\", f\"../trained_models/{model_filename}\", n_epochs=n_epochs)\n",
    "    \n",
    "    dot_size = (mpl.rcParams['lines.markersize'] ** 2.0)\n",
    "\n",
    "    _ = plot_tsne(trainer, trainer.model, ebi_data,\n",
    "                  f\"./plots/tissue_wise/{tsne_filename}\",\n",
    "                  image_datatype=\"pdf\", colors=colors, s=dot_size, edgecolors='black', **kwargs)"
   ]
  },
  {
   "cell_type": "code",
   "execution_count": 7,
   "metadata": {},
   "outputs": [],
   "source": [
    "def do_scores(dataset, model_filename, dataset_scoring, **kwargs):\n",
    "    n_epochs = 100\n",
    "    colors = None\n",
    "\n",
    "    trainer = train_vae(dataset, \"./data\", f\"../trained_models/{model_filename}\", n_epochs=n_epochs)\n",
    "    posterior = trainer.create_posterior(trainer.model, dataset_scoring, indices=np.arange(len(dataset_scoring)))\n",
    "    return posterior.clustering_scores()"
   ]
  },
  {
   "cell_type": "code",
   "execution_count": 8,
   "metadata": {
    "pycharm": {
     "is_executing": true
    }
   },
   "outputs": [
    {
     "name": "stderr",
     "output_type": "stream",
     "text": [
      "[2019-10-08 14:07:51,981] INFO - scvi.dataset.dataset | Union dataset is set to ignore batch annotation.\n"
     ]
    }
   ],
   "source": [
    "complete_mouse = UnionDataset(\"./data\",\n",
    "                              gene_map_load_filename=\"gene_maps/ensembl_mouse_genes-proteincoding\",\n",
    "                              data_load_filename=\"mouse_data_all.loom\",\n",
    "                              low_memory=True)\n"
   ]
  },
  {
   "cell_type": "code",
   "execution_count": 13,
   "metadata": {
    "pycharm": {
     "is_executing": true
    }
   },
   "outputs": [
    {
     "ename": "IndentationError",
     "evalue": "unexpected indent (<ipython-input-13-c23bcb4206f0>, line 2)",
     "output_type": "error",
     "traceback": [
      "\u001b[0;36m  File \u001b[0;32m\"<ipython-input-13-c23bcb4206f0>\"\u001b[0;36m, line \u001b[0;32m2\u001b[0m\n\u001b[0;31m    do_procedure(complete_mouse, data_big_mapped, \"mouse_data_full\", f\"ebi_in_mouse_data_full_tsne_nolegend\", hide_legend=True)\u001b[0m\n\u001b[0m    ^\u001b[0m\n\u001b[0;31mIndentationError\u001b[0m\u001b[0;31m:\u001b[0m unexpected indent\n"
     ]
    }
   ],
   "source": [
    "# do_procedure(data_big_mapped, data_big_mapped, \"eval_data_full\", f\"ebi_full_tsne_nolegend\", hide_legend=True)\n",
    "\n",
    "do_procedure(complete_mouse, data_big_mapped, \"mouse_data_full\", f\"ebi_in_mouse_data_full_tsne_nolegend\", hide_legend=True)\n",
    "do_procedure(complete_mouse, data_big_mapped, \"ebi_data_full\", f\"ebi_in_ebi_data_full_tsne_nolegend\", hide_legend=True)\n",
    "do_procedure(complete_mouse, data_big_mapped, \"mouse_atlas\", f\"ebi_in_mouse_atlas_tsne_nolegend\", hide_legend=True)\n",
    "do_procedure(complete_mouse, data_big_mapped, \"mouse_muris_senis\", f\"ebi_in_mouse_muris_senis_tsne_nolegend\", hide_legend=True)"
   ]
  },
  {
   "cell_type": "code",
   "execution_count": 7,
   "metadata": {
    "pycharm": {
     "is_executing": true
    }
   },
   "outputs": [
    {
     "name": "stdout",
     "output_type": "stream",
     "text": [
      "Training VAE for tissue  aorta\n"
     ]
    },
    {
     "name": "stderr",
     "output_type": "stream",
     "text": [
      "[2019-09-09 19:10:47,854] INFO - scvi.dataset.dataset | Union dataset is set to ignore batch annotation.\n",
      "[2019-09-09 19:10:47,994] INFO - scvi.dataset.dataset | Downsampled from 31394 to 3985 cells\n",
      "[2019-09-09 19:10:47,997] INFO - scvi.dataset.dataset | Union dataset is set to ignore batch annotation.\n",
      "[2019-09-09 19:10:48,848] INFO - scvi.dataset.dataset | Downsampled from 31394 to 27409 cells\n"
     ]
    },
    {
     "name": "stdout",
     "output_type": "stream",
     "text": [
      "Loading model from file. No training.\n",
      "Training VAE for tissue  ascending colon\n"
     ]
    },
    {
     "name": "stderr",
     "output_type": "stream",
     "text": [
      "[2019-09-09 19:12:27,417] INFO - scvi.dataset.dataset | Union dataset is set to ignore batch annotation.\n",
      "[2019-09-09 19:12:27,563] INFO - scvi.dataset.dataset | Downsampled from 31394 to 2725 cells\n",
      "[2019-09-09 19:12:27,566] INFO - scvi.dataset.dataset | Union dataset is set to ignore batch annotation.\n",
      "[2019-09-09 19:12:28,420] INFO - scvi.dataset.dataset | Downsampled from 31394 to 28669 cells\n"
     ]
    },
    {
     "name": "stdout",
     "output_type": "stream",
     "text": [
      "Loading model from file. No training.\n",
      "Training VAE for tissue  back skin\n"
     ]
    },
    {
     "name": "stderr",
     "output_type": "stream",
     "text": [
      "[2019-09-09 19:13:34,022] INFO - scvi.dataset.dataset | Union dataset is set to ignore batch annotation.\n",
      "[2019-09-09 19:13:34,142] INFO - scvi.dataset.dataset | Downsampled from 31394 to 2818 cells\n",
      "[2019-09-09 19:13:34,145] INFO - scvi.dataset.dataset | Union dataset is set to ignore batch annotation.\n",
      "[2019-09-09 19:13:34,997] INFO - scvi.dataset.dataset | Downsampled from 31394 to 28576 cells\n"
     ]
    },
    {
     "name": "stdout",
     "output_type": "stream",
     "text": [
      "Loading model from file. No training.\n",
      "Training VAE for tissue  bone marrow\n"
     ]
    },
    {
     "name": "stderr",
     "output_type": "stream",
     "text": [
      "[2019-09-09 19:14:42,571] INFO - scvi.dataset.dataset | Union dataset is set to ignore batch annotation.\n",
      "[2019-09-09 19:14:42,768] INFO - scvi.dataset.dataset | Downsampled from 31394 to 6015 cells\n",
      "[2019-09-09 19:14:42,772] INFO - scvi.dataset.dataset | Union dataset is set to ignore batch annotation.\n",
      "[2019-09-09 19:14:43,557] INFO - scvi.dataset.dataset | Downsampled from 31394 to 25379 cells\n"
     ]
    },
    {
     "name": "stdout",
     "output_type": "stream",
     "text": [
      "Loading model from file. No training.\n",
      "Training VAE for tissue  cerebellum\n"
     ]
    },
    {
     "name": "stderr",
     "output_type": "stream",
     "text": [
      "[2019-09-09 19:17:04,944] INFO - scvi.dataset.dataset | Union dataset is set to ignore batch annotation.\n",
      "[2019-09-09 19:17:05,180] INFO - scvi.dataset.dataset | Downsampled from 31394 to 7502 cells\n",
      "[2019-09-09 19:17:05,183] INFO - scvi.dataset.dataset | Union dataset is set to ignore batch annotation.\n",
      "[2019-09-09 19:17:05,920] INFO - scvi.dataset.dataset | Downsampled from 31394 to 23892 cells\n"
     ]
    },
    {
     "name": "stdout",
     "output_type": "stream",
     "text": [
      "Loading model from file. No training.\n",
      "Training VAE for tissue  cerebral cortex\n"
     ]
    },
    {
     "name": "stderr",
     "output_type": "stream",
     "text": [
      "[2019-09-09 19:20:02,261] INFO - scvi.dataset.dataset | Union dataset is set to ignore batch annotation.\n",
      "[2019-09-09 19:20:02,501] INFO - scvi.dataset.dataset | Downsampled from 31394 to 7482 cells\n",
      "[2019-09-09 19:20:02,504] INFO - scvi.dataset.dataset | Union dataset is set to ignore batch annotation.\n",
      "[2019-09-09 19:20:03,254] INFO - scvi.dataset.dataset | Downsampled from 31394 to 23912 cells\n"
     ]
    },
    {
     "name": "stdout",
     "output_type": "stream",
     "text": [
      "Loading model from file. No training.\n",
      "Training VAE for tissue  descending colon\n"
     ]
    },
    {
     "name": "stderr",
     "output_type": "stream",
     "text": [
      "[2019-09-09 19:22:59,125] INFO - scvi.dataset.dataset | Union dataset is set to ignore batch annotation.\n",
      "[2019-09-09 19:22:59,250] INFO - scvi.dataset.dataset | Downsampled from 31394 to 2725 cells\n",
      "[2019-09-09 19:22:59,253] INFO - scvi.dataset.dataset | Union dataset is set to ignore batch annotation.\n",
      "[2019-09-09 19:23:00,106] INFO - scvi.dataset.dataset | Downsampled from 31394 to 28669 cells\n"
     ]
    },
    {
     "name": "stdout",
     "output_type": "stream",
     "text": [
      "Loading model from file. No training.\n",
      "Training VAE for tissue  diaphragm\n"
     ]
    },
    {
     "name": "stderr",
     "output_type": "stream",
     "text": [
      "[2019-09-09 19:24:05,250] INFO - scvi.dataset.dataset | Union dataset is set to ignore batch annotation.\n",
      "[2019-09-09 19:24:05,354] INFO - scvi.dataset.dataset | Downsampled from 31394 to 3310 cells\n",
      "[2019-09-09 19:24:05,357] INFO - scvi.dataset.dataset | Union dataset is set to ignore batch annotation.\n",
      "[2019-09-09 19:24:06,220] INFO - scvi.dataset.dataset | Downsampled from 31394 to 28084 cells\n"
     ]
    },
    {
     "name": "stdout",
     "output_type": "stream",
     "text": [
      "Loading model from file. No training.\n",
      "Training VAE for tissue  endocrine pancreas\n"
     ]
    },
    {
     "name": "stderr",
     "output_type": "stream",
     "text": [
      "[2019-09-09 19:25:24,825] INFO - scvi.dataset.dataset | Union dataset is set to ignore batch annotation.\n",
      "[2019-09-09 19:25:24,968] INFO - scvi.dataset.dataset | Downsampled from 31394 to 3746 cells\n",
      "[2019-09-09 19:25:24,970] INFO - scvi.dataset.dataset | Union dataset is set to ignore batch annotation.\n",
      "[2019-09-09 19:25:25,801] INFO - scvi.dataset.dataset | Downsampled from 31394 to 27648 cells\n"
     ]
    },
    {
     "name": "stdout",
     "output_type": "stream",
     "text": [
      "Loading model from file. No training.\n",
      "Training VAE for tissue  exocrine pancreas\n"
     ]
    },
    {
     "name": "stderr",
     "output_type": "stream",
     "text": [
      "[2019-09-09 19:26:54,561] INFO - scvi.dataset.dataset | Union dataset is set to ignore batch annotation.\n",
      "[2019-09-09 19:26:54,695] INFO - scvi.dataset.dataset | Downsampled from 31394 to 3746 cells\n",
      "[2019-09-09 19:26:54,698] INFO - scvi.dataset.dataset | Union dataset is set to ignore batch annotation.\n",
      "[2019-09-09 19:26:55,536] INFO - scvi.dataset.dataset | Downsampled from 31394 to 27648 cells\n"
     ]
    },
    {
     "name": "stdout",
     "output_type": "stream",
     "text": [
      "Loading model from file. No training.\n",
      "Training VAE for tissue  gonadal fat pad\n"
     ]
    },
    {
     "name": "stderr",
     "output_type": "stream",
     "text": [
      "[2019-09-09 19:28:24,338] INFO - scvi.dataset.dataset | Union dataset is set to ignore batch annotation.\n",
      "[2019-09-09 19:28:24,544] INFO - scvi.dataset.dataset | Downsampled from 31394 to 6770 cells\n",
      "[2019-09-09 19:28:24,547] INFO - scvi.dataset.dataset | Union dataset is set to ignore batch annotation.\n",
      "[2019-09-09 19:28:25,319] INFO - scvi.dataset.dataset | Downsampled from 31394 to 24624 cells\n"
     ]
    },
    {
     "name": "stdout",
     "output_type": "stream",
     "text": [
      "Loading model from file. No training.\n",
      "Training VAE for tissue  heart\n"
     ]
    },
    {
     "name": "stderr",
     "output_type": "stream",
     "text": [
      "[2019-09-09 19:31:05,184] INFO - scvi.dataset.dataset | Union dataset is set to ignore batch annotation.\n",
      "[2019-09-09 19:31:05,316] INFO - scvi.dataset.dataset | Downsampled from 31394 to 4092 cells\n",
      "[2019-09-09 19:31:05,319] INFO - scvi.dataset.dataset | Union dataset is set to ignore batch annotation.\n",
      "[2019-09-09 19:31:06,152] INFO - scvi.dataset.dataset | Downsampled from 31394 to 27302 cells\n"
     ]
    },
    {
     "name": "stdout",
     "output_type": "stream",
     "text": [
      "Loading model from file. No training.\n",
      "Training VAE for tissue  heart left atrium\n"
     ]
    },
    {
     "name": "stderr",
     "output_type": "stream",
     "text": [
      "[2019-09-09 19:32:42,503] INFO - scvi.dataset.dataset | Union dataset is set to ignore batch annotation.\n",
      "[2019-09-09 19:32:42,648] INFO - scvi.dataset.dataset | Downsampled from 31394 to 4684 cells\n",
      "[2019-09-09 19:32:42,651] INFO - scvi.dataset.dataset | Union dataset is set to ignore batch annotation.\n",
      "[2019-09-09 19:32:43,494] INFO - scvi.dataset.dataset | Downsampled from 31394 to 26710 cells\n"
     ]
    },
    {
     "name": "stdout",
     "output_type": "stream",
     "text": [
      "Loading model from file. No training.\n",
      "Training VAE for tissue  heart left atrium and heart right atrium\n"
     ]
    },
    {
     "name": "stderr",
     "output_type": "stream",
     "text": [
      "[2019-09-09 19:34:34,462] INFO - scvi.dataset.dataset | Union dataset is set to ignore batch annotation.\n",
      "[2019-09-09 19:34:34,537] INFO - scvi.dataset.dataset | Downsampled from 31394 to 1643 cells\n",
      "[2019-09-09 19:34:34,540] INFO - scvi.dataset.dataset | Union dataset is set to ignore batch annotation.\n",
      "[2019-09-09 19:34:35,481] INFO - scvi.dataset.dataset | Downsampled from 31394 to 29751 cells\n"
     ]
    },
    {
     "name": "stdout",
     "output_type": "stream",
     "text": [
      "Loading model from file. No training.\n",
      "Training VAE for tissue  heart left ventricle\n"
     ]
    },
    {
     "name": "stderr",
     "output_type": "stream",
     "text": [
      "[2019-09-09 19:35:14,993] INFO - scvi.dataset.dataset | Union dataset is set to ignore batch annotation.\n",
      "[2019-09-09 19:35:15,136] INFO - scvi.dataset.dataset | Downsampled from 31394 to 4684 cells\n",
      "[2019-09-09 19:35:15,138] INFO - scvi.dataset.dataset | Union dataset is set to ignore batch annotation.\n",
      "[2019-09-09 19:35:15,940] INFO - scvi.dataset.dataset | Downsampled from 31394 to 26710 cells\n"
     ]
    },
    {
     "name": "stdout",
     "output_type": "stream",
     "text": [
      "Loading model from file. No training.\n",
      "Training VAE for tissue  heart right atrium\n"
     ]
    },
    {
     "name": "stderr",
     "output_type": "stream",
     "text": [
      "[2019-09-09 19:37:06,890] INFO - scvi.dataset.dataset | Union dataset is set to ignore batch annotation.\n",
      "[2019-09-09 19:37:07,032] INFO - scvi.dataset.dataset | Downsampled from 31394 to 4684 cells\n",
      "[2019-09-09 19:37:07,035] INFO - scvi.dataset.dataset | Union dataset is set to ignore batch annotation.\n",
      "[2019-09-09 19:37:07,866] INFO - scvi.dataset.dataset | Downsampled from 31394 to 26710 cells\n"
     ]
    },
    {
     "name": "stdout",
     "output_type": "stream",
     "text": [
      "Loading model from file. No training.\n",
      "Training VAE for tissue  heart right ventricle\n"
     ]
    },
    {
     "name": "stderr",
     "output_type": "stream",
     "text": [
      "[2019-09-09 19:38:58,873] INFO - scvi.dataset.dataset | Union dataset is set to ignore batch annotation.\n",
      "[2019-09-09 19:38:59,014] INFO - scvi.dataset.dataset | Downsampled from 31394 to 4684 cells\n",
      "[2019-09-09 19:38:59,017] INFO - scvi.dataset.dataset | Union dataset is set to ignore batch annotation.\n",
      "[2019-09-09 19:38:59,862] INFO - scvi.dataset.dataset | Downsampled from 31394 to 26710 cells\n"
     ]
    },
    {
     "name": "stdout",
     "output_type": "stream",
     "text": [
      "Loading model from file. No training.\n",
      "Training VAE for tissue  hippocampus\n"
     ]
    },
    {
     "name": "stderr",
     "output_type": "stream",
     "text": [
      "[2019-09-09 19:40:50,778] INFO - scvi.dataset.dataset | Union dataset is set to ignore batch annotation.\n",
      "[2019-09-09 19:40:50,996] INFO - scvi.dataset.dataset | Downsampled from 31394 to 7482 cells\n",
      "[2019-09-09 19:40:50,999] INFO - scvi.dataset.dataset | Union dataset is set to ignore batch annotation.\n",
      "[2019-09-09 19:40:51,741] INFO - scvi.dataset.dataset | Downsampled from 31394 to 23912 cells\n"
     ]
    },
    {
     "name": "stdout",
     "output_type": "stream",
     "text": [
      "Loading model from file. No training.\n",
      "Training VAE for tissue  interscapular brown adipose tissue\n"
     ]
    },
    {
     "name": "stderr",
     "output_type": "stream",
     "text": [
      "[2019-09-09 19:43:47,651] INFO - scvi.dataset.dataset | Union dataset is set to ignore batch annotation.\n",
      "[2019-09-09 19:43:47,852] INFO - scvi.dataset.dataset | Downsampled from 31394 to 6770 cells\n",
      "[2019-09-09 19:43:47,854] INFO - scvi.dataset.dataset | Union dataset is set to ignore batch annotation.\n",
      "[2019-09-09 19:43:48,626] INFO - scvi.dataset.dataset | Downsampled from 31394 to 24624 cells\n"
     ]
    },
    {
     "name": "stdout",
     "output_type": "stream",
     "text": [
      "Loading model from file. No training.\n",
      "Training VAE for tissue  kidney\n"
     ]
    },
    {
     "name": "stderr",
     "output_type": "stream",
     "text": [
      "[2019-09-09 19:46:28,361] INFO - scvi.dataset.dataset | Union dataset is set to ignore batch annotation.\n",
      "[2019-09-09 19:46:28,454] INFO - scvi.dataset.dataset | Downsampled from 31394 to 2936 cells\n",
      "[2019-09-09 19:46:28,457] INFO - scvi.dataset.dataset | Union dataset is set to ignore batch annotation.\n",
      "[2019-09-09 19:46:29,336] INFO - scvi.dataset.dataset | Downsampled from 31394 to 28458 cells\n"
     ]
    },
    {
     "name": "stdout",
     "output_type": "stream",
     "text": [
      "Loading model from file. No training.\n",
      "Training VAE for tissue  limb muscle\n"
     ]
    },
    {
     "name": "stderr",
     "output_type": "stream",
     "text": [
      "[2019-09-09 19:47:39,400] INFO - scvi.dataset.dataset | Union dataset is set to ignore batch annotation.\n",
      "[2019-09-09 19:47:39,544] INFO - scvi.dataset.dataset | Downsampled from 31394 to 5312 cells\n",
      "[2019-09-09 19:47:39,547] INFO - scvi.dataset.dataset | Union dataset is set to ignore batch annotation.\n",
      "[2019-09-09 19:47:40,365] INFO - scvi.dataset.dataset | Downsampled from 31394 to 26082 cells\n"
     ]
    },
    {
     "name": "stdout",
     "output_type": "stream",
     "text": [
      "Loading model from file. No training.\n",
      "Training VAE for tissue  liver\n"
     ]
    },
    {
     "name": "stderr",
     "output_type": "stream",
     "text": [
      "[2019-09-09 19:49:45,638] INFO - scvi.dataset.dataset | Union dataset is set to ignore batch annotation.\n",
      "[2019-09-09 19:49:45,706] INFO - scvi.dataset.dataset | Downsampled from 31394 to 1984 cells\n",
      "[2019-09-09 19:49:45,709] INFO - scvi.dataset.dataset | Union dataset is set to ignore batch annotation.\n",
      "[2019-09-09 19:49:46,610] INFO - scvi.dataset.dataset | Downsampled from 31394 to 29410 cells\n"
     ]
    },
    {
     "name": "stdout",
     "output_type": "stream",
     "text": [
      "Loading model from file. No training.\n",
      "Training VAE for tissue  lung\n"
     ]
    },
    {
     "name": "stderr",
     "output_type": "stream",
     "text": [
      "[2019-09-09 19:50:33,630] INFO - scvi.dataset.dataset | Union dataset is set to ignore batch annotation.\n",
      "[2019-09-09 19:50:33,781] INFO - scvi.dataset.dataset | Downsampled from 31394 to 4930 cells\n",
      "[2019-09-09 19:50:33,784] INFO - scvi.dataset.dataset | Union dataset is set to ignore batch annotation.\n",
      "[2019-09-09 19:50:34,587] INFO - scvi.dataset.dataset | Downsampled from 31394 to 26464 cells\n"
     ]
    },
    {
     "name": "stdout",
     "output_type": "stream",
     "text": [
      "Loading model from file. No training.\n",
      "Training VAE for tissue  mammary gland\n"
     ]
    },
    {
     "name": "stderr",
     "output_type": "stream",
     "text": [
      "[2019-09-09 19:52:31,297] INFO - scvi.dataset.dataset | Union dataset is set to ignore batch annotation.\n",
      "[2019-09-09 19:52:31,435] INFO - scvi.dataset.dataset | Downsampled from 31394 to 4262 cells\n",
      "[2019-09-09 19:52:31,437] INFO - scvi.dataset.dataset | Union dataset is set to ignore batch annotation.\n",
      "[2019-09-09 19:52:32,274] INFO - scvi.dataset.dataset | Downsampled from 31394 to 27132 cells\n"
     ]
    },
    {
     "name": "stdout",
     "output_type": "stream",
     "text": [
      "Loading model from file. No training.\n",
      "Training VAE for tissue  mesenteric adipose tissue\n"
     ]
    },
    {
     "name": "stderr",
     "output_type": "stream",
     "text": [
      "[2019-09-09 19:54:13,081] INFO - scvi.dataset.dataset | Union dataset is set to ignore batch annotation.\n",
      "[2019-09-09 19:54:13,280] INFO - scvi.dataset.dataset | Downsampled from 31394 to 6770 cells\n",
      "[2019-09-09 19:54:13,283] INFO - scvi.dataset.dataset | Union dataset is set to ignore batch annotation.\n",
      "[2019-09-09 19:54:14,055] INFO - scvi.dataset.dataset | Downsampled from 31394 to 24624 cells\n"
     ]
    },
    {
     "name": "stdout",
     "output_type": "stream",
     "text": [
      "Loading model from file. No training.\n",
      "Training VAE for tissue  spleen\n"
     ]
    },
    {
     "name": "stderr",
     "output_type": "stream",
     "text": [
      "[2019-09-09 19:56:53,835] INFO - scvi.dataset.dataset | Union dataset is set to ignore batch annotation.\n",
      "[2019-09-09 19:56:53,907] INFO - scvi.dataset.dataset | Downsampled from 31394 to 2257 cells\n",
      "[2019-09-09 19:56:53,910] INFO - scvi.dataset.dataset | Union dataset is set to ignore batch annotation.\n",
      "[2019-09-09 19:56:54,798] INFO - scvi.dataset.dataset | Downsampled from 31394 to 29137 cells\n"
     ]
    },
    {
     "name": "stdout",
     "output_type": "stream",
     "text": [
      "Loading model from file. No training.\n",
      "Training VAE for tissue  striatum\n"
     ]
    },
    {
     "name": "stderr",
     "output_type": "stream",
     "text": [
      "[2019-09-09 19:57:48,597] INFO - scvi.dataset.dataset | Union dataset is set to ignore batch annotation.\n",
      "[2019-09-09 19:57:48,816] INFO - scvi.dataset.dataset | Downsampled from 31394 to 7502 cells\n",
      "[2019-09-09 19:57:48,818] INFO - scvi.dataset.dataset | Union dataset is set to ignore batch annotation.\n",
      "[2019-09-09 19:57:49,566] INFO - scvi.dataset.dataset | Downsampled from 31394 to 23892 cells\n"
     ]
    },
    {
     "name": "stdout",
     "output_type": "stream",
     "text": [
      "Loading model from file. No training.\n",
      "Training VAE for tissue  subcutaneous adipose tissue\n"
     ]
    },
    {
     "name": "stderr",
     "output_type": "stream",
     "text": [
      "[2019-09-09 20:00:46,006] INFO - scvi.dataset.dataset | Union dataset is set to ignore batch annotation.\n",
      "[2019-09-09 20:00:46,207] INFO - scvi.dataset.dataset | Downsampled from 31394 to 6770 cells\n",
      "[2019-09-09 20:00:46,210] INFO - scvi.dataset.dataset | Union dataset is set to ignore batch annotation.\n",
      "[2019-09-09 20:00:46,975] INFO - scvi.dataset.dataset | Downsampled from 31394 to 24624 cells\n"
     ]
    },
    {
     "name": "stdout",
     "output_type": "stream",
     "text": [
      "Loading model from file. No training.\n",
      "Training VAE for tissue  thymus\n"
     ]
    },
    {
     "name": "stderr",
     "output_type": "stream",
     "text": [
      "[2019-09-09 20:03:26,682] INFO - scvi.dataset.dataset | Union dataset is set to ignore batch annotation.\n",
      "[2019-09-09 20:03:26,728] INFO - scvi.dataset.dataset | Downsampled from 31394 to 1014 cells\n",
      "[2019-09-09 20:03:26,730] INFO - scvi.dataset.dataset | Union dataset is set to ignore batch annotation.\n",
      "[2019-09-09 20:03:27,647] INFO - scvi.dataset.dataset | Downsampled from 31394 to 30380 cells\n"
     ]
    },
    {
     "name": "stdout",
     "output_type": "stream",
     "text": [
      "Loading model from file. No training.\n",
      "Training VAE for tissue  tongue\n"
     ]
    },
    {
     "name": "stderr",
     "output_type": "stream",
     "text": [
      "[2019-09-09 20:03:52,021] INFO - scvi.dataset.dataset | Union dataset is set to ignore batch annotation.\n",
      "[2019-09-09 20:03:52,100] INFO - scvi.dataset.dataset | Downsampled from 31394 to 1385 cells\n",
      "[2019-09-09 20:03:52,102] INFO - scvi.dataset.dataset | Union dataset is set to ignore batch annotation.\n",
      "[2019-09-09 20:03:52,990] INFO - scvi.dataset.dataset | Downsampled from 31394 to 30009 cells\n"
     ]
    },
    {
     "name": "stdout",
     "output_type": "stream",
     "text": [
      "Loading model from file. No training.\n",
      "Training VAE for tissue  trachea\n"
     ]
    },
    {
     "name": "stderr",
     "output_type": "stream",
     "text": [
      "[2019-09-09 20:04:26,164] INFO - scvi.dataset.dataset | Union dataset is set to ignore batch annotation.\n",
      "[2019-09-09 20:04:26,269] INFO - scvi.dataset.dataset | Downsampled from 31394 to 3195 cells\n",
      "[2019-09-09 20:04:26,272] INFO - scvi.dataset.dataset | Union dataset is set to ignore batch annotation.\n",
      "[2019-09-09 20:04:27,146] INFO - scvi.dataset.dataset | Downsampled from 31394 to 28199 cells\n"
     ]
    },
    {
     "name": "stdout",
     "output_type": "stream",
     "text": [
      "Loading model from file. No training.\n",
      "Training VAE for tissue  urinary bladder\n"
     ]
    },
    {
     "name": "stderr",
     "output_type": "stream",
     "text": [
      "[2019-09-09 20:05:42,608] INFO - scvi.dataset.dataset | Union dataset is set to ignore batch annotation.\n",
      "[2019-09-09 20:05:42,670] INFO - scvi.dataset.dataset | Downsampled from 31394 to 982 cells\n",
      "[2019-09-09 20:05:42,673] INFO - scvi.dataset.dataset | Union dataset is set to ignore batch annotation.\n",
      "[2019-09-09 20:05:43,584] INFO - scvi.dataset.dataset | Downsampled from 31394 to 30412 cells\n"
     ]
    },
    {
     "name": "stdout",
     "output_type": "stream",
     "text": [
      "Loading model from file. No training.\n"
     ]
    }
   ],
   "source": [
    "log_lhood = dict()\n",
    "n_epochs = 100\n",
    "colors=None\n",
    "for tissue in np.unique(agg.index.get_level_values(0)): \n",
    "    print(\"Training VAE for tissue \", tissue)\n",
    "    cutout_cts = agg[tissue].index.values\n",
    "    if \"not available\" in cutout_cts:\n",
    "        cutout_cts = np.delete(cutout_cts, np.where(cutout_cts == \"not available\")[0])\n",
    "\n",
    "    rem_ct = data_big_mapped.cell_types[~np.isin(data_big_mapped.cell_types, cutout_cts)]\n",
    "    data_small = copy.deepcopy(data_big_mapped)\n",
    "    data_big = copy.deepcopy(data_big_mapped)\n",
    "\n",
    "    data_small.filter_cell_types(cutout_cts)\n",
    "    data_big.filter_cell_types(rem_ct)\n",
    "    \n",
    "    log_lhood[tissue] = compute_log_likelihood(complete_mouse, \"./data\", f\"../trained_models/small_big_experiment/small_{tissue.replace(\" \", \"_\")}_data_portion\", data_small, n_samples_mc=1000)\n",
    " "
   ]
  },
  {
   "cell_type": "code",
   "execution_count": 8,
   "metadata": {
    "pycharm": {
     "is_executing": true
    }
   },
   "outputs": [
    {
     "name": "stdout",
     "output_type": "stream",
     "text": [
      "aorta                                    : 24310.3\n",
      "ascending colon                          : 29460.1\n",
      "back skin                                : 30357.4\n",
      "bone marrow                              : 24258.3\n",
      "cerebellum                               : 24374.3\n",
      "cerebral cortex                          : 24435.3\n",
      "descending colon                         : 30182.1\n",
      "diaphragm                                : 23358.4\n",
      "endocrine pancreas                       : 25343.4\n",
      "exocrine pancreas                        : 25318.5\n",
      "gonadal fat pad                          : 24067.3\n",
      "heart                                    : 24211.3\n",
      "heart left atrium                        : 24134.6\n",
      "heart left atrium and heart right atrium : 28761.6\n",
      "heart left ventricle                     : 24068.1\n",
      "heart right atrium                       : 24147.5\n",
      "heart right ventricle                    : 24044.9\n",
      "hippocampus                              : 24283.5\n",
      "interscapular brown adipose tissue       : 24109.3\n",
      "kidney                                   : 22625.0\n",
      "limb muscle                              : 22296.6\n",
      "liver                                    : 21942.5\n",
      "lung                                     : 23469.0\n",
      "mammary gland                            : 25527.2\n",
      "mesenteric adipose tissue                : 24101.6\n",
      "spleen                                   : 22484.0\n",
      "striatum                                 : 24452.7\n",
      "subcutaneous adipose tissue              : 24199.3\n",
      "thymus                                   : 31130.8\n",
      "tongue                                   : 35224.5\n",
      "trachea                                  : 25193.2\n",
      "urinary bladder                          : 35888.6\n"
     ]
    }
   ],
   "source": [
    "for tissue, lkl in log_lhood.items():\n",
    "    print(tissue.ljust(40), \":\", round(lkl,1))"
   ]
  },
  {
   "cell_type": "code",
   "execution_count": 38,
   "metadata": {
    "pycharm": {
     "is_executing": true
    }
   },
   "outputs": [
    {
     "name": "stdout",
     "output_type": "stream",
     "text": [
      "Training VAE for tissue  aorta\n"
     ]
    },
    {
     "name": "stderr",
     "output_type": "stream",
     "text": [
      "[2019-10-08 16:13:01,826] INFO - scvi.dataset.dataset | Union dataset is set to ignore batch annotation.\n",
      "[2019-10-08 16:13:01,958] INFO - scvi.dataset.dataset | Downsampled from 31394 to 3985 cells\n",
      "[2019-10-08 16:13:01,961] INFO - scvi.dataset.dataset | Union dataset is set to ignore batch annotation.\n",
      "[2019-10-08 16:13:02,794] INFO - scvi.dataset.dataset | Downsampled from 31394 to 27409 cells\n"
     ]
    },
    {
     "name": "stdout",
     "output_type": "stream",
     "text": [
      "Loading model from file. No training.\n"
     ]
    },
    {
     "name": "stderr",
     "output_type": "stream",
     "text": [
      "/home/michael/anaconda3/envs/scvi/lib/python3.7/site-packages/sklearn/metrics/cluster/supervised.py:859: FutureWarning: The behavior of NMI will change in version 0.22. To match the behavior of 'v_measure_score', NMI will use average_method='arithmetic' by default.\n",
      "  FutureWarning)\n",
      "/home/michael/anaconda3/envs/scvi/lib/python3.7/site-packages/sklearn/utils/linear_assignment_.py:127: DeprecationWarning: The linear_assignment function is deprecated in 0.21 and will be removed from 0.23. Use scipy.optimize.linear_sum_assignment instead.\n",
      "  DeprecationWarning)\n"
     ]
    },
    {
     "name": "stdout",
     "output_type": "stream",
     "text": [
      "Loading model from file. No training.\n"
     ]
    },
    {
     "name": "stderr",
     "output_type": "stream",
     "text": [
      "/home/michael/anaconda3/envs/scvi/lib/python3.7/site-packages/sklearn/metrics/cluster/supervised.py:859: FutureWarning: The behavior of NMI will change in version 0.22. To match the behavior of 'v_measure_score', NMI will use average_method='arithmetic' by default.\n",
      "  FutureWarning)\n",
      "/home/michael/anaconda3/envs/scvi/lib/python3.7/site-packages/sklearn/utils/linear_assignment_.py:127: DeprecationWarning: The linear_assignment function is deprecated in 0.21 and will be removed from 0.23. Use scipy.optimize.linear_sum_assignment instead.\n",
      "  DeprecationWarning)\n"
     ]
    },
    {
     "name": "stdout",
     "output_type": "stream",
     "text": [
      "Loading model from file. No training.\n"
     ]
    },
    {
     "name": "stderr",
     "output_type": "stream",
     "text": [
      "/home/michael/anaconda3/envs/scvi/lib/python3.7/site-packages/sklearn/metrics/cluster/supervised.py:859: FutureWarning: The behavior of NMI will change in version 0.22. To match the behavior of 'v_measure_score', NMI will use average_method='arithmetic' by default.\n",
      "  FutureWarning)\n",
      "/home/michael/anaconda3/envs/scvi/lib/python3.7/site-packages/sklearn/utils/linear_assignment_.py:127: DeprecationWarning: The linear_assignment function is deprecated in 0.21 and will be removed from 0.23. Use scipy.optimize.linear_sum_assignment instead.\n",
      "  DeprecationWarning)\n"
     ]
    },
    {
     "name": "stdout",
     "output_type": "stream",
     "text": [
      "Loading model from file. No training.\n"
     ]
    },
    {
     "name": "stderr",
     "output_type": "stream",
     "text": [
      "/home/michael/anaconda3/envs/scvi/lib/python3.7/site-packages/sklearn/metrics/cluster/supervised.py:859: FutureWarning: The behavior of NMI will change in version 0.22. To match the behavior of 'v_measure_score', NMI will use average_method='arithmetic' by default.\n",
      "  FutureWarning)\n",
      "/home/michael/anaconda3/envs/scvi/lib/python3.7/site-packages/sklearn/utils/linear_assignment_.py:127: DeprecationWarning: The linear_assignment function is deprecated in 0.21 and will be removed from 0.23. Use scipy.optimize.linear_sum_assignment instead.\n",
      "  DeprecationWarning)\n"
     ]
    },
    {
     "name": "stdout",
     "output_type": "stream",
     "text": [
      "Loading model from file. No training.\n"
     ]
    },
    {
     "name": "stderr",
     "output_type": "stream",
     "text": [
      "/home/michael/anaconda3/envs/scvi/lib/python3.7/site-packages/sklearn/metrics/cluster/supervised.py:859: FutureWarning: The behavior of NMI will change in version 0.22. To match the behavior of 'v_measure_score', NMI will use average_method='arithmetic' by default.\n",
      "  FutureWarning)\n",
      "/home/michael/anaconda3/envs/scvi/lib/python3.7/site-packages/sklearn/utils/linear_assignment_.py:127: DeprecationWarning: The linear_assignment function is deprecated in 0.21 and will be removed from 0.23. Use scipy.optimize.linear_sum_assignment instead.\n",
      "  DeprecationWarning)\n"
     ]
    },
    {
     "name": "stdout",
     "output_type": "stream",
     "text": [
      "Training VAE for tissue  ascending colon\n"
     ]
    },
    {
     "name": "stderr",
     "output_type": "stream",
     "text": [
      "[2019-10-08 16:13:16,272] INFO - scvi.dataset.dataset | Union dataset is set to ignore batch annotation.\n",
      "[2019-10-08 16:13:16,411] INFO - scvi.dataset.dataset | Downsampled from 31394 to 2725 cells\n",
      "[2019-10-08 16:13:16,414] INFO - scvi.dataset.dataset | Union dataset is set to ignore batch annotation.\n",
      "[2019-10-08 16:13:17,288] INFO - scvi.dataset.dataset | Downsampled from 31394 to 28669 cells\n"
     ]
    },
    {
     "name": "stdout",
     "output_type": "stream",
     "text": [
      "Loading model from file. No training.\n"
     ]
    },
    {
     "name": "stderr",
     "output_type": "stream",
     "text": [
      "/home/michael/anaconda3/envs/scvi/lib/python3.7/site-packages/sklearn/metrics/cluster/supervised.py:859: FutureWarning: The behavior of NMI will change in version 0.22. To match the behavior of 'v_measure_score', NMI will use average_method='arithmetic' by default.\n",
      "  FutureWarning)\n",
      "/home/michael/anaconda3/envs/scvi/lib/python3.7/site-packages/sklearn/utils/linear_assignment_.py:127: DeprecationWarning: The linear_assignment function is deprecated in 0.21 and will be removed from 0.23. Use scipy.optimize.linear_sum_assignment instead.\n",
      "  DeprecationWarning)\n"
     ]
    },
    {
     "name": "stdout",
     "output_type": "stream",
     "text": [
      "Loading model from file. No training.\n"
     ]
    },
    {
     "name": "stderr",
     "output_type": "stream",
     "text": [
      "/home/michael/anaconda3/envs/scvi/lib/python3.7/site-packages/sklearn/metrics/cluster/supervised.py:859: FutureWarning: The behavior of NMI will change in version 0.22. To match the behavior of 'v_measure_score', NMI will use average_method='arithmetic' by default.\n",
      "  FutureWarning)\n",
      "/home/michael/anaconda3/envs/scvi/lib/python3.7/site-packages/sklearn/utils/linear_assignment_.py:127: DeprecationWarning: The linear_assignment function is deprecated in 0.21 and will be removed from 0.23. Use scipy.optimize.linear_sum_assignment instead.\n",
      "  DeprecationWarning)\n"
     ]
    },
    {
     "name": "stdout",
     "output_type": "stream",
     "text": [
      "Loading model from file. No training.\n"
     ]
    },
    {
     "name": "stderr",
     "output_type": "stream",
     "text": [
      "/home/michael/anaconda3/envs/scvi/lib/python3.7/site-packages/sklearn/metrics/cluster/supervised.py:859: FutureWarning: The behavior of NMI will change in version 0.22. To match the behavior of 'v_measure_score', NMI will use average_method='arithmetic' by default.\n",
      "  FutureWarning)\n",
      "/home/michael/anaconda3/envs/scvi/lib/python3.7/site-packages/sklearn/utils/linear_assignment_.py:127: DeprecationWarning: The linear_assignment function is deprecated in 0.21 and will be removed from 0.23. Use scipy.optimize.linear_sum_assignment instead.\n",
      "  DeprecationWarning)\n"
     ]
    },
    {
     "name": "stdout",
     "output_type": "stream",
     "text": [
      "Loading model from file. No training.\n"
     ]
    },
    {
     "name": "stderr",
     "output_type": "stream",
     "text": [
      "/home/michael/anaconda3/envs/scvi/lib/python3.7/site-packages/sklearn/metrics/cluster/supervised.py:859: FutureWarning: The behavior of NMI will change in version 0.22. To match the behavior of 'v_measure_score', NMI will use average_method='arithmetic' by default.\n",
      "  FutureWarning)\n",
      "/home/michael/anaconda3/envs/scvi/lib/python3.7/site-packages/sklearn/utils/linear_assignment_.py:127: DeprecationWarning: The linear_assignment function is deprecated in 0.21 and will be removed from 0.23. Use scipy.optimize.linear_sum_assignment instead.\n",
      "  DeprecationWarning)\n"
     ]
    },
    {
     "name": "stdout",
     "output_type": "stream",
     "text": [
      "Loading model from file. No training.\n"
     ]
    },
    {
     "name": "stderr",
     "output_type": "stream",
     "text": [
      "/home/michael/anaconda3/envs/scvi/lib/python3.7/site-packages/sklearn/metrics/cluster/supervised.py:859: FutureWarning: The behavior of NMI will change in version 0.22. To match the behavior of 'v_measure_score', NMI will use average_method='arithmetic' by default.\n",
      "  FutureWarning)\n",
      "/home/michael/anaconda3/envs/scvi/lib/python3.7/site-packages/sklearn/utils/linear_assignment_.py:127: DeprecationWarning: The linear_assignment function is deprecated in 0.21 and will be removed from 0.23. Use scipy.optimize.linear_sum_assignment instead.\n",
      "  DeprecationWarning)\n"
     ]
    },
    {
     "name": "stdout",
     "output_type": "stream",
     "text": [
      "Training VAE for tissue  back skin\n"
     ]
    },
    {
     "name": "stderr",
     "output_type": "stream",
     "text": [
      "[2019-10-08 16:13:30,679] INFO - scvi.dataset.dataset | Union dataset is set to ignore batch annotation.\n",
      "[2019-10-08 16:13:30,828] INFO - scvi.dataset.dataset | Downsampled from 31394 to 2818 cells\n",
      "[2019-10-08 16:13:30,832] INFO - scvi.dataset.dataset | Union dataset is set to ignore batch annotation.\n",
      "[2019-10-08 16:13:31,686] INFO - scvi.dataset.dataset | Downsampled from 31394 to 28576 cells\n"
     ]
    },
    {
     "name": "stdout",
     "output_type": "stream",
     "text": [
      "Loading model from file. No training.\n"
     ]
    },
    {
     "name": "stderr",
     "output_type": "stream",
     "text": [
      "/home/michael/anaconda3/envs/scvi/lib/python3.7/site-packages/sklearn/metrics/cluster/supervised.py:859: FutureWarning: The behavior of NMI will change in version 0.22. To match the behavior of 'v_measure_score', NMI will use average_method='arithmetic' by default.\n",
      "  FutureWarning)\n",
      "/home/michael/anaconda3/envs/scvi/lib/python3.7/site-packages/sklearn/utils/linear_assignment_.py:127: DeprecationWarning: The linear_assignment function is deprecated in 0.21 and will be removed from 0.23. Use scipy.optimize.linear_sum_assignment instead.\n",
      "  DeprecationWarning)\n"
     ]
    },
    {
     "name": "stdout",
     "output_type": "stream",
     "text": [
      "Loading model from file. No training.\n"
     ]
    },
    {
     "name": "stderr",
     "output_type": "stream",
     "text": [
      "/home/michael/anaconda3/envs/scvi/lib/python3.7/site-packages/sklearn/metrics/cluster/supervised.py:859: FutureWarning: The behavior of NMI will change in version 0.22. To match the behavior of 'v_measure_score', NMI will use average_method='arithmetic' by default.\n",
      "  FutureWarning)\n",
      "/home/michael/anaconda3/envs/scvi/lib/python3.7/site-packages/sklearn/utils/linear_assignment_.py:127: DeprecationWarning: The linear_assignment function is deprecated in 0.21 and will be removed from 0.23. Use scipy.optimize.linear_sum_assignment instead.\n",
      "  DeprecationWarning)\n"
     ]
    },
    {
     "name": "stdout",
     "output_type": "stream",
     "text": [
      "Loading model from file. No training.\n"
     ]
    },
    {
     "name": "stderr",
     "output_type": "stream",
     "text": [
      "/home/michael/anaconda3/envs/scvi/lib/python3.7/site-packages/sklearn/metrics/cluster/supervised.py:859: FutureWarning: The behavior of NMI will change in version 0.22. To match the behavior of 'v_measure_score', NMI will use average_method='arithmetic' by default.\n",
      "  FutureWarning)\n",
      "/home/michael/anaconda3/envs/scvi/lib/python3.7/site-packages/sklearn/utils/linear_assignment_.py:127: DeprecationWarning: The linear_assignment function is deprecated in 0.21 and will be removed from 0.23. Use scipy.optimize.linear_sum_assignment instead.\n",
      "  DeprecationWarning)\n"
     ]
    },
    {
     "name": "stdout",
     "output_type": "stream",
     "text": [
      "Loading model from file. No training.\n"
     ]
    },
    {
     "name": "stderr",
     "output_type": "stream",
     "text": [
      "/home/michael/anaconda3/envs/scvi/lib/python3.7/site-packages/sklearn/metrics/cluster/supervised.py:859: FutureWarning: The behavior of NMI will change in version 0.22. To match the behavior of 'v_measure_score', NMI will use average_method='arithmetic' by default.\n",
      "  FutureWarning)\n",
      "/home/michael/anaconda3/envs/scvi/lib/python3.7/site-packages/sklearn/utils/linear_assignment_.py:127: DeprecationWarning: The linear_assignment function is deprecated in 0.21 and will be removed from 0.23. Use scipy.optimize.linear_sum_assignment instead.\n",
      "  DeprecationWarning)\n"
     ]
    },
    {
     "name": "stdout",
     "output_type": "stream",
     "text": [
      "Loading model from file. No training.\n"
     ]
    },
    {
     "name": "stderr",
     "output_type": "stream",
     "text": [
      "/home/michael/anaconda3/envs/scvi/lib/python3.7/site-packages/sklearn/metrics/cluster/supervised.py:859: FutureWarning: The behavior of NMI will change in version 0.22. To match the behavior of 'v_measure_score', NMI will use average_method='arithmetic' by default.\n",
      "  FutureWarning)\n",
      "/home/michael/anaconda3/envs/scvi/lib/python3.7/site-packages/sklearn/utils/linear_assignment_.py:127: DeprecationWarning: The linear_assignment function is deprecated in 0.21 and will be removed from 0.23. Use scipy.optimize.linear_sum_assignment instead.\n",
      "  DeprecationWarning)\n"
     ]
    },
    {
     "name": "stdout",
     "output_type": "stream",
     "text": [
      "Training VAE for tissue  bone marrow\n"
     ]
    },
    {
     "name": "stderr",
     "output_type": "stream",
     "text": [
      "[2019-10-08 16:13:44,092] INFO - scvi.dataset.dataset | Union dataset is set to ignore batch annotation.\n",
      "[2019-10-08 16:13:44,292] INFO - scvi.dataset.dataset | Downsampled from 31394 to 6015 cells\n",
      "[2019-10-08 16:13:44,295] INFO - scvi.dataset.dataset | Union dataset is set to ignore batch annotation.\n",
      "[2019-10-08 16:13:45,122] INFO - scvi.dataset.dataset | Downsampled from 31394 to 25379 cells\n"
     ]
    },
    {
     "name": "stdout",
     "output_type": "stream",
     "text": [
      "Loading model from file. No training.\n"
     ]
    },
    {
     "name": "stderr",
     "output_type": "stream",
     "text": [
      "/home/michael/anaconda3/envs/scvi/lib/python3.7/site-packages/sklearn/metrics/cluster/supervised.py:859: FutureWarning: The behavior of NMI will change in version 0.22. To match the behavior of 'v_measure_score', NMI will use average_method='arithmetic' by default.\n",
      "  FutureWarning)\n",
      "/home/michael/anaconda3/envs/scvi/lib/python3.7/site-packages/sklearn/utils/linear_assignment_.py:127: DeprecationWarning: The linear_assignment function is deprecated in 0.21 and will be removed from 0.23. Use scipy.optimize.linear_sum_assignment instead.\n",
      "  DeprecationWarning)\n"
     ]
    },
    {
     "name": "stdout",
     "output_type": "stream",
     "text": [
      "Loading model from file. No training.\n"
     ]
    },
    {
     "name": "stderr",
     "output_type": "stream",
     "text": [
      "/home/michael/anaconda3/envs/scvi/lib/python3.7/site-packages/sklearn/metrics/cluster/supervised.py:859: FutureWarning: The behavior of NMI will change in version 0.22. To match the behavior of 'v_measure_score', NMI will use average_method='arithmetic' by default.\n",
      "  FutureWarning)\n",
      "/home/michael/anaconda3/envs/scvi/lib/python3.7/site-packages/sklearn/utils/linear_assignment_.py:127: DeprecationWarning: The linear_assignment function is deprecated in 0.21 and will be removed from 0.23. Use scipy.optimize.linear_sum_assignment instead.\n",
      "  DeprecationWarning)\n"
     ]
    },
    {
     "name": "stdout",
     "output_type": "stream",
     "text": [
      "Loading model from file. No training.\n"
     ]
    },
    {
     "name": "stderr",
     "output_type": "stream",
     "text": [
      "/home/michael/anaconda3/envs/scvi/lib/python3.7/site-packages/sklearn/metrics/cluster/supervised.py:859: FutureWarning: The behavior of NMI will change in version 0.22. To match the behavior of 'v_measure_score', NMI will use average_method='arithmetic' by default.\n",
      "  FutureWarning)\n",
      "/home/michael/anaconda3/envs/scvi/lib/python3.7/site-packages/sklearn/utils/linear_assignment_.py:127: DeprecationWarning: The linear_assignment function is deprecated in 0.21 and will be removed from 0.23. Use scipy.optimize.linear_sum_assignment instead.\n",
      "  DeprecationWarning)\n"
     ]
    },
    {
     "name": "stdout",
     "output_type": "stream",
     "text": [
      "Loading model from file. No training.\n"
     ]
    },
    {
     "name": "stderr",
     "output_type": "stream",
     "text": [
      "/home/michael/anaconda3/envs/scvi/lib/python3.7/site-packages/sklearn/metrics/cluster/supervised.py:859: FutureWarning: The behavior of NMI will change in version 0.22. To match the behavior of 'v_measure_score', NMI will use average_method='arithmetic' by default.\n",
      "  FutureWarning)\n",
      "/home/michael/anaconda3/envs/scvi/lib/python3.7/site-packages/sklearn/utils/linear_assignment_.py:127: DeprecationWarning: The linear_assignment function is deprecated in 0.21 and will be removed from 0.23. Use scipy.optimize.linear_sum_assignment instead.\n",
      "  DeprecationWarning)\n"
     ]
    },
    {
     "name": "stdout",
     "output_type": "stream",
     "text": [
      "Loading model from file. No training.\n"
     ]
    },
    {
     "name": "stderr",
     "output_type": "stream",
     "text": [
      "/home/michael/anaconda3/envs/scvi/lib/python3.7/site-packages/sklearn/metrics/cluster/supervised.py:859: FutureWarning: The behavior of NMI will change in version 0.22. To match the behavior of 'v_measure_score', NMI will use average_method='arithmetic' by default.\n",
      "  FutureWarning)\n",
      "/home/michael/anaconda3/envs/scvi/lib/python3.7/site-packages/sklearn/utils/linear_assignment_.py:127: DeprecationWarning: The linear_assignment function is deprecated in 0.21 and will be removed from 0.23. Use scipy.optimize.linear_sum_assignment instead.\n",
      "  DeprecationWarning)\n"
     ]
    },
    {
     "name": "stdout",
     "output_type": "stream",
     "text": [
      "Training VAE for tissue  cerebellum\n"
     ]
    },
    {
     "name": "stderr",
     "output_type": "stream",
     "text": [
      "[2019-10-08 16:14:56,707] INFO - scvi.dataset.dataset | Union dataset is set to ignore batch annotation.\n",
      "[2019-10-08 16:14:56,954] INFO - scvi.dataset.dataset | Downsampled from 31394 to 7502 cells\n",
      "[2019-10-08 16:14:56,957] INFO - scvi.dataset.dataset | Union dataset is set to ignore batch annotation.\n",
      "[2019-10-08 16:14:57,738] INFO - scvi.dataset.dataset | Downsampled from 31394 to 23892 cells\n"
     ]
    },
    {
     "name": "stdout",
     "output_type": "stream",
     "text": [
      "Loading model from file. No training.\n"
     ]
    },
    {
     "name": "stderr",
     "output_type": "stream",
     "text": [
      "/home/michael/anaconda3/envs/scvi/lib/python3.7/site-packages/sklearn/metrics/cluster/supervised.py:859: FutureWarning: The behavior of NMI will change in version 0.22. To match the behavior of 'v_measure_score', NMI will use average_method='arithmetic' by default.\n",
      "  FutureWarning)\n",
      "/home/michael/anaconda3/envs/scvi/lib/python3.7/site-packages/sklearn/utils/linear_assignment_.py:127: DeprecationWarning: The linear_assignment function is deprecated in 0.21 and will be removed from 0.23. Use scipy.optimize.linear_sum_assignment instead.\n",
      "  DeprecationWarning)\n"
     ]
    },
    {
     "name": "stdout",
     "output_type": "stream",
     "text": [
      "Loading model from file. No training.\n"
     ]
    },
    {
     "name": "stderr",
     "output_type": "stream",
     "text": [
      "/home/michael/anaconda3/envs/scvi/lib/python3.7/site-packages/sklearn/metrics/cluster/supervised.py:859: FutureWarning: The behavior of NMI will change in version 0.22. To match the behavior of 'v_measure_score', NMI will use average_method='arithmetic' by default.\n",
      "  FutureWarning)\n",
      "/home/michael/anaconda3/envs/scvi/lib/python3.7/site-packages/sklearn/utils/linear_assignment_.py:127: DeprecationWarning: The linear_assignment function is deprecated in 0.21 and will be removed from 0.23. Use scipy.optimize.linear_sum_assignment instead.\n",
      "  DeprecationWarning)\n"
     ]
    },
    {
     "name": "stdout",
     "output_type": "stream",
     "text": [
      "Loading model from file. No training.\n"
     ]
    },
    {
     "name": "stderr",
     "output_type": "stream",
     "text": [
      "/home/michael/anaconda3/envs/scvi/lib/python3.7/site-packages/sklearn/metrics/cluster/supervised.py:859: FutureWarning: The behavior of NMI will change in version 0.22. To match the behavior of 'v_measure_score', NMI will use average_method='arithmetic' by default.\n",
      "  FutureWarning)\n",
      "/home/michael/anaconda3/envs/scvi/lib/python3.7/site-packages/sklearn/utils/linear_assignment_.py:127: DeprecationWarning: The linear_assignment function is deprecated in 0.21 and will be removed from 0.23. Use scipy.optimize.linear_sum_assignment instead.\n",
      "  DeprecationWarning)\n"
     ]
    },
    {
     "name": "stdout",
     "output_type": "stream",
     "text": [
      "Loading model from file. No training.\n"
     ]
    },
    {
     "name": "stderr",
     "output_type": "stream",
     "text": [
      "/home/michael/anaconda3/envs/scvi/lib/python3.7/site-packages/sklearn/metrics/cluster/supervised.py:859: FutureWarning: The behavior of NMI will change in version 0.22. To match the behavior of 'v_measure_score', NMI will use average_method='arithmetic' by default.\n",
      "  FutureWarning)\n",
      "/home/michael/anaconda3/envs/scvi/lib/python3.7/site-packages/sklearn/utils/linear_assignment_.py:127: DeprecationWarning: The linear_assignment function is deprecated in 0.21 and will be removed from 0.23. Use scipy.optimize.linear_sum_assignment instead.\n",
      "  DeprecationWarning)\n"
     ]
    },
    {
     "name": "stdout",
     "output_type": "stream",
     "text": [
      "Loading model from file. No training.\n"
     ]
    },
    {
     "name": "stderr",
     "output_type": "stream",
     "text": [
      "/home/michael/anaconda3/envs/scvi/lib/python3.7/site-packages/sklearn/metrics/cluster/supervised.py:859: FutureWarning: The behavior of NMI will change in version 0.22. To match the behavior of 'v_measure_score', NMI will use average_method='arithmetic' by default.\n",
      "  FutureWarning)\n",
      "/home/michael/anaconda3/envs/scvi/lib/python3.7/site-packages/sklearn/utils/linear_assignment_.py:127: DeprecationWarning: The linear_assignment function is deprecated in 0.21 and will be removed from 0.23. Use scipy.optimize.linear_sum_assignment instead.\n",
      "  DeprecationWarning)\n"
     ]
    },
    {
     "name": "stdout",
     "output_type": "stream",
     "text": [
      "Training VAE for tissue  cerebral cortex\n"
     ]
    },
    {
     "name": "stderr",
     "output_type": "stream",
     "text": [
      "[2019-10-08 16:15:35,838] INFO - scvi.dataset.dataset | Union dataset is set to ignore batch annotation.\n",
      "[2019-10-08 16:15:36,084] INFO - scvi.dataset.dataset | Downsampled from 31394 to 7482 cells\n",
      "[2019-10-08 16:15:36,086] INFO - scvi.dataset.dataset | Union dataset is set to ignore batch annotation.\n",
      "[2019-10-08 16:15:36,870] INFO - scvi.dataset.dataset | Downsampled from 31394 to 23912 cells\n"
     ]
    },
    {
     "name": "stdout",
     "output_type": "stream",
     "text": [
      "Loading model from file. No training.\n"
     ]
    },
    {
     "name": "stderr",
     "output_type": "stream",
     "text": [
      "/home/michael/anaconda3/envs/scvi/lib/python3.7/site-packages/sklearn/metrics/cluster/supervised.py:859: FutureWarning: The behavior of NMI will change in version 0.22. To match the behavior of 'v_measure_score', NMI will use average_method='arithmetic' by default.\n",
      "  FutureWarning)\n",
      "/home/michael/anaconda3/envs/scvi/lib/python3.7/site-packages/sklearn/utils/linear_assignment_.py:127: DeprecationWarning: The linear_assignment function is deprecated in 0.21 and will be removed from 0.23. Use scipy.optimize.linear_sum_assignment instead.\n",
      "  DeprecationWarning)\n"
     ]
    },
    {
     "name": "stdout",
     "output_type": "stream",
     "text": [
      "Loading model from file. No training.\n"
     ]
    },
    {
     "name": "stderr",
     "output_type": "stream",
     "text": [
      "/home/michael/anaconda3/envs/scvi/lib/python3.7/site-packages/sklearn/metrics/cluster/supervised.py:859: FutureWarning: The behavior of NMI will change in version 0.22. To match the behavior of 'v_measure_score', NMI will use average_method='arithmetic' by default.\n",
      "  FutureWarning)\n",
      "/home/michael/anaconda3/envs/scvi/lib/python3.7/site-packages/sklearn/utils/linear_assignment_.py:127: DeprecationWarning: The linear_assignment function is deprecated in 0.21 and will be removed from 0.23. Use scipy.optimize.linear_sum_assignment instead.\n",
      "  DeprecationWarning)\n"
     ]
    },
    {
     "name": "stdout",
     "output_type": "stream",
     "text": [
      "Loading model from file. No training.\n"
     ]
    },
    {
     "name": "stderr",
     "output_type": "stream",
     "text": [
      "/home/michael/anaconda3/envs/scvi/lib/python3.7/site-packages/sklearn/metrics/cluster/supervised.py:859: FutureWarning: The behavior of NMI will change in version 0.22. To match the behavior of 'v_measure_score', NMI will use average_method='arithmetic' by default.\n",
      "  FutureWarning)\n",
      "/home/michael/anaconda3/envs/scvi/lib/python3.7/site-packages/sklearn/utils/linear_assignment_.py:127: DeprecationWarning: The linear_assignment function is deprecated in 0.21 and will be removed from 0.23. Use scipy.optimize.linear_sum_assignment instead.\n",
      "  DeprecationWarning)\n"
     ]
    },
    {
     "name": "stdout",
     "output_type": "stream",
     "text": [
      "Loading model from file. No training.\n"
     ]
    },
    {
     "name": "stderr",
     "output_type": "stream",
     "text": [
      "/home/michael/anaconda3/envs/scvi/lib/python3.7/site-packages/sklearn/metrics/cluster/supervised.py:859: FutureWarning: The behavior of NMI will change in version 0.22. To match the behavior of 'v_measure_score', NMI will use average_method='arithmetic' by default.\n",
      "  FutureWarning)\n",
      "/home/michael/anaconda3/envs/scvi/lib/python3.7/site-packages/sklearn/utils/linear_assignment_.py:127: DeprecationWarning: The linear_assignment function is deprecated in 0.21 and will be removed from 0.23. Use scipy.optimize.linear_sum_assignment instead.\n",
      "  DeprecationWarning)\n"
     ]
    },
    {
     "name": "stdout",
     "output_type": "stream",
     "text": [
      "Loading model from file. No training.\n"
     ]
    },
    {
     "name": "stderr",
     "output_type": "stream",
     "text": [
      "/home/michael/anaconda3/envs/scvi/lib/python3.7/site-packages/sklearn/metrics/cluster/supervised.py:859: FutureWarning: The behavior of NMI will change in version 0.22. To match the behavior of 'v_measure_score', NMI will use average_method='arithmetic' by default.\n",
      "  FutureWarning)\n",
      "/home/michael/anaconda3/envs/scvi/lib/python3.7/site-packages/sklearn/utils/linear_assignment_.py:127: DeprecationWarning: The linear_assignment function is deprecated in 0.21 and will be removed from 0.23. Use scipy.optimize.linear_sum_assignment instead.\n",
      "  DeprecationWarning)\n"
     ]
    },
    {
     "name": "stdout",
     "output_type": "stream",
     "text": [
      "Training VAE for tissue  descending colon\n"
     ]
    },
    {
     "name": "stderr",
     "output_type": "stream",
     "text": [
      "[2019-10-08 16:16:10,640] INFO - scvi.dataset.dataset | Union dataset is set to ignore batch annotation.\n",
      "[2019-10-08 16:16:10,770] INFO - scvi.dataset.dataset | Downsampled from 31394 to 2725 cells\n",
      "[2019-10-08 16:16:10,773] INFO - scvi.dataset.dataset | Union dataset is set to ignore batch annotation.\n",
      "[2019-10-08 16:16:11,674] INFO - scvi.dataset.dataset | Downsampled from 31394 to 28669 cells\n"
     ]
    },
    {
     "name": "stdout",
     "output_type": "stream",
     "text": [
      "Loading model from file. No training.\n"
     ]
    },
    {
     "name": "stderr",
     "output_type": "stream",
     "text": [
      "/home/michael/anaconda3/envs/scvi/lib/python3.7/site-packages/sklearn/metrics/cluster/supervised.py:859: FutureWarning: The behavior of NMI will change in version 0.22. To match the behavior of 'v_measure_score', NMI will use average_method='arithmetic' by default.\n",
      "  FutureWarning)\n",
      "/home/michael/anaconda3/envs/scvi/lib/python3.7/site-packages/sklearn/utils/linear_assignment_.py:127: DeprecationWarning: The linear_assignment function is deprecated in 0.21 and will be removed from 0.23. Use scipy.optimize.linear_sum_assignment instead.\n",
      "  DeprecationWarning)\n"
     ]
    },
    {
     "name": "stdout",
     "output_type": "stream",
     "text": [
      "Loading model from file. No training.\n"
     ]
    },
    {
     "name": "stderr",
     "output_type": "stream",
     "text": [
      "/home/michael/anaconda3/envs/scvi/lib/python3.7/site-packages/sklearn/metrics/cluster/supervised.py:859: FutureWarning: The behavior of NMI will change in version 0.22. To match the behavior of 'v_measure_score', NMI will use average_method='arithmetic' by default.\n",
      "  FutureWarning)\n",
      "/home/michael/anaconda3/envs/scvi/lib/python3.7/site-packages/sklearn/utils/linear_assignment_.py:127: DeprecationWarning: The linear_assignment function is deprecated in 0.21 and will be removed from 0.23. Use scipy.optimize.linear_sum_assignment instead.\n",
      "  DeprecationWarning)\n"
     ]
    },
    {
     "name": "stdout",
     "output_type": "stream",
     "text": [
      "Loading model from file. No training.\n"
     ]
    },
    {
     "name": "stderr",
     "output_type": "stream",
     "text": [
      "/home/michael/anaconda3/envs/scvi/lib/python3.7/site-packages/sklearn/metrics/cluster/supervised.py:859: FutureWarning: The behavior of NMI will change in version 0.22. To match the behavior of 'v_measure_score', NMI will use average_method='arithmetic' by default.\n",
      "  FutureWarning)\n",
      "/home/michael/anaconda3/envs/scvi/lib/python3.7/site-packages/sklearn/utils/linear_assignment_.py:127: DeprecationWarning: The linear_assignment function is deprecated in 0.21 and will be removed from 0.23. Use scipy.optimize.linear_sum_assignment instead.\n",
      "  DeprecationWarning)\n"
     ]
    },
    {
     "name": "stdout",
     "output_type": "stream",
     "text": [
      "Loading model from file. No training.\n"
     ]
    },
    {
     "name": "stderr",
     "output_type": "stream",
     "text": [
      "/home/michael/anaconda3/envs/scvi/lib/python3.7/site-packages/sklearn/metrics/cluster/supervised.py:859: FutureWarning: The behavior of NMI will change in version 0.22. To match the behavior of 'v_measure_score', NMI will use average_method='arithmetic' by default.\n",
      "  FutureWarning)\n",
      "/home/michael/anaconda3/envs/scvi/lib/python3.7/site-packages/sklearn/utils/linear_assignment_.py:127: DeprecationWarning: The linear_assignment function is deprecated in 0.21 and will be removed from 0.23. Use scipy.optimize.linear_sum_assignment instead.\n",
      "  DeprecationWarning)\n"
     ]
    },
    {
     "name": "stdout",
     "output_type": "stream",
     "text": [
      "Loading model from file. No training.\n"
     ]
    },
    {
     "name": "stderr",
     "output_type": "stream",
     "text": [
      "/home/michael/anaconda3/envs/scvi/lib/python3.7/site-packages/sklearn/metrics/cluster/supervised.py:859: FutureWarning: The behavior of NMI will change in version 0.22. To match the behavior of 'v_measure_score', NMI will use average_method='arithmetic' by default.\n",
      "  FutureWarning)\n",
      "/home/michael/anaconda3/envs/scvi/lib/python3.7/site-packages/sklearn/utils/linear_assignment_.py:127: DeprecationWarning: The linear_assignment function is deprecated in 0.21 and will be removed from 0.23. Use scipy.optimize.linear_sum_assignment instead.\n",
      "  DeprecationWarning)\n"
     ]
    },
    {
     "name": "stdout",
     "output_type": "stream",
     "text": [
      "Training VAE for tissue  diaphragm\n"
     ]
    },
    {
     "name": "stderr",
     "output_type": "stream",
     "text": [
      "[2019-10-08 16:16:24,342] INFO - scvi.dataset.dataset | Union dataset is set to ignore batch annotation.\n",
      "[2019-10-08 16:16:24,451] INFO - scvi.dataset.dataset | Downsampled from 31394 to 3310 cells\n",
      "[2019-10-08 16:16:24,453] INFO - scvi.dataset.dataset | Union dataset is set to ignore batch annotation.\n",
      "[2019-10-08 16:16:25,428] INFO - scvi.dataset.dataset | Downsampled from 31394 to 28084 cells\n"
     ]
    },
    {
     "name": "stdout",
     "output_type": "stream",
     "text": [
      "Loading model from file. No training.\n"
     ]
    },
    {
     "name": "stderr",
     "output_type": "stream",
     "text": [
      "/home/michael/anaconda3/envs/scvi/lib/python3.7/site-packages/sklearn/metrics/cluster/supervised.py:859: FutureWarning: The behavior of NMI will change in version 0.22. To match the behavior of 'v_measure_score', NMI will use average_method='arithmetic' by default.\n",
      "  FutureWarning)\n",
      "/home/michael/anaconda3/envs/scvi/lib/python3.7/site-packages/sklearn/utils/linear_assignment_.py:127: DeprecationWarning: The linear_assignment function is deprecated in 0.21 and will be removed from 0.23. Use scipy.optimize.linear_sum_assignment instead.\n",
      "  DeprecationWarning)\n"
     ]
    },
    {
     "name": "stdout",
     "output_type": "stream",
     "text": [
      "Loading model from file. No training.\n"
     ]
    },
    {
     "name": "stderr",
     "output_type": "stream",
     "text": [
      "/home/michael/anaconda3/envs/scvi/lib/python3.7/site-packages/sklearn/metrics/cluster/supervised.py:859: FutureWarning: The behavior of NMI will change in version 0.22. To match the behavior of 'v_measure_score', NMI will use average_method='arithmetic' by default.\n",
      "  FutureWarning)\n",
      "/home/michael/anaconda3/envs/scvi/lib/python3.7/site-packages/sklearn/utils/linear_assignment_.py:127: DeprecationWarning: The linear_assignment function is deprecated in 0.21 and will be removed from 0.23. Use scipy.optimize.linear_sum_assignment instead.\n",
      "  DeprecationWarning)\n"
     ]
    },
    {
     "name": "stdout",
     "output_type": "stream",
     "text": [
      "Loading model from file. No training.\n"
     ]
    },
    {
     "name": "stderr",
     "output_type": "stream",
     "text": [
      "/home/michael/anaconda3/envs/scvi/lib/python3.7/site-packages/sklearn/metrics/cluster/supervised.py:859: FutureWarning: The behavior of NMI will change in version 0.22. To match the behavior of 'v_measure_score', NMI will use average_method='arithmetic' by default.\n",
      "  FutureWarning)\n",
      "/home/michael/anaconda3/envs/scvi/lib/python3.7/site-packages/sklearn/utils/linear_assignment_.py:127: DeprecationWarning: The linear_assignment function is deprecated in 0.21 and will be removed from 0.23. Use scipy.optimize.linear_sum_assignment instead.\n",
      "  DeprecationWarning)\n"
     ]
    },
    {
     "name": "stdout",
     "output_type": "stream",
     "text": [
      "Loading model from file. No training.\n"
     ]
    },
    {
     "name": "stderr",
     "output_type": "stream",
     "text": [
      "/home/michael/anaconda3/envs/scvi/lib/python3.7/site-packages/sklearn/metrics/cluster/supervised.py:859: FutureWarning: The behavior of NMI will change in version 0.22. To match the behavior of 'v_measure_score', NMI will use average_method='arithmetic' by default.\n",
      "  FutureWarning)\n",
      "/home/michael/anaconda3/envs/scvi/lib/python3.7/site-packages/sklearn/utils/linear_assignment_.py:127: DeprecationWarning: The linear_assignment function is deprecated in 0.21 and will be removed from 0.23. Use scipy.optimize.linear_sum_assignment instead.\n",
      "  DeprecationWarning)\n"
     ]
    },
    {
     "name": "stdout",
     "output_type": "stream",
     "text": [
      "Loading model from file. No training.\n"
     ]
    },
    {
     "name": "stderr",
     "output_type": "stream",
     "text": [
      "/home/michael/anaconda3/envs/scvi/lib/python3.7/site-packages/sklearn/metrics/cluster/supervised.py:859: FutureWarning: The behavior of NMI will change in version 0.22. To match the behavior of 'v_measure_score', NMI will use average_method='arithmetic' by default.\n",
      "  FutureWarning)\n",
      "/home/michael/anaconda3/envs/scvi/lib/python3.7/site-packages/sklearn/utils/linear_assignment_.py:127: DeprecationWarning: The linear_assignment function is deprecated in 0.21 and will be removed from 0.23. Use scipy.optimize.linear_sum_assignment instead.\n",
      "  DeprecationWarning)\n"
     ]
    },
    {
     "name": "stdout",
     "output_type": "stream",
     "text": [
      "Training VAE for tissue  endocrine pancreas\n"
     ]
    },
    {
     "name": "stderr",
     "output_type": "stream",
     "text": [
      "[2019-10-08 16:16:38,535] INFO - scvi.dataset.dataset | Union dataset is set to ignore batch annotation.\n",
      "[2019-10-08 16:16:38,673] INFO - scvi.dataset.dataset | Downsampled from 31394 to 3746 cells\n",
      "[2019-10-08 16:16:38,676] INFO - scvi.dataset.dataset | Union dataset is set to ignore batch annotation.\n",
      "[2019-10-08 16:16:39,522] INFO - scvi.dataset.dataset | Downsampled from 31394 to 27648 cells\n"
     ]
    },
    {
     "name": "stdout",
     "output_type": "stream",
     "text": [
      "Loading model from file. No training.\n"
     ]
    },
    {
     "name": "stderr",
     "output_type": "stream",
     "text": [
      "/home/michael/anaconda3/envs/scvi/lib/python3.7/site-packages/sklearn/metrics/cluster/supervised.py:859: FutureWarning: The behavior of NMI will change in version 0.22. To match the behavior of 'v_measure_score', NMI will use average_method='arithmetic' by default.\n",
      "  FutureWarning)\n",
      "/home/michael/anaconda3/envs/scvi/lib/python3.7/site-packages/sklearn/utils/linear_assignment_.py:127: DeprecationWarning: The linear_assignment function is deprecated in 0.21 and will be removed from 0.23. Use scipy.optimize.linear_sum_assignment instead.\n",
      "  DeprecationWarning)\n"
     ]
    },
    {
     "name": "stdout",
     "output_type": "stream",
     "text": [
      "Loading model from file. No training.\n"
     ]
    },
    {
     "name": "stderr",
     "output_type": "stream",
     "text": [
      "/home/michael/anaconda3/envs/scvi/lib/python3.7/site-packages/sklearn/metrics/cluster/supervised.py:859: FutureWarning: The behavior of NMI will change in version 0.22. To match the behavior of 'v_measure_score', NMI will use average_method='arithmetic' by default.\n",
      "  FutureWarning)\n",
      "/home/michael/anaconda3/envs/scvi/lib/python3.7/site-packages/sklearn/utils/linear_assignment_.py:127: DeprecationWarning: The linear_assignment function is deprecated in 0.21 and will be removed from 0.23. Use scipy.optimize.linear_sum_assignment instead.\n",
      "  DeprecationWarning)\n"
     ]
    },
    {
     "name": "stdout",
     "output_type": "stream",
     "text": [
      "Loading model from file. No training.\n"
     ]
    },
    {
     "name": "stderr",
     "output_type": "stream",
     "text": [
      "/home/michael/anaconda3/envs/scvi/lib/python3.7/site-packages/sklearn/metrics/cluster/supervised.py:859: FutureWarning: The behavior of NMI will change in version 0.22. To match the behavior of 'v_measure_score', NMI will use average_method='arithmetic' by default.\n",
      "  FutureWarning)\n",
      "/home/michael/anaconda3/envs/scvi/lib/python3.7/site-packages/sklearn/utils/linear_assignment_.py:127: DeprecationWarning: The linear_assignment function is deprecated in 0.21 and will be removed from 0.23. Use scipy.optimize.linear_sum_assignment instead.\n",
      "  DeprecationWarning)\n"
     ]
    },
    {
     "name": "stdout",
     "output_type": "stream",
     "text": [
      "Loading model from file. No training.\n"
     ]
    },
    {
     "name": "stderr",
     "output_type": "stream",
     "text": [
      "/home/michael/anaconda3/envs/scvi/lib/python3.7/site-packages/sklearn/metrics/cluster/supervised.py:859: FutureWarning: The behavior of NMI will change in version 0.22. To match the behavior of 'v_measure_score', NMI will use average_method='arithmetic' by default.\n",
      "  FutureWarning)\n",
      "/home/michael/anaconda3/envs/scvi/lib/python3.7/site-packages/sklearn/utils/linear_assignment_.py:127: DeprecationWarning: The linear_assignment function is deprecated in 0.21 and will be removed from 0.23. Use scipy.optimize.linear_sum_assignment instead.\n",
      "  DeprecationWarning)\n"
     ]
    },
    {
     "name": "stdout",
     "output_type": "stream",
     "text": [
      "Loading model from file. No training.\n"
     ]
    },
    {
     "name": "stderr",
     "output_type": "stream",
     "text": [
      "/home/michael/anaconda3/envs/scvi/lib/python3.7/site-packages/sklearn/metrics/cluster/supervised.py:859: FutureWarning: The behavior of NMI will change in version 0.22. To match the behavior of 'v_measure_score', NMI will use average_method='arithmetic' by default.\n",
      "  FutureWarning)\n",
      "/home/michael/anaconda3/envs/scvi/lib/python3.7/site-packages/sklearn/utils/linear_assignment_.py:127: DeprecationWarning: The linear_assignment function is deprecated in 0.21 and will be removed from 0.23. Use scipy.optimize.linear_sum_assignment instead.\n",
      "  DeprecationWarning)\n"
     ]
    },
    {
     "name": "stdout",
     "output_type": "stream",
     "text": [
      "Training VAE for tissue  exocrine pancreas\n"
     ]
    },
    {
     "name": "stderr",
     "output_type": "stream",
     "text": [
      "[2019-10-08 16:17:02,590] INFO - scvi.dataset.dataset | Union dataset is set to ignore batch annotation.\n",
      "[2019-10-08 16:17:02,727] INFO - scvi.dataset.dataset | Downsampled from 31394 to 3746 cells\n",
      "[2019-10-08 16:17:02,730] INFO - scvi.dataset.dataset | Union dataset is set to ignore batch annotation.\n",
      "[2019-10-08 16:17:03,618] INFO - scvi.dataset.dataset | Downsampled from 31394 to 27648 cells\n"
     ]
    },
    {
     "name": "stdout",
     "output_type": "stream",
     "text": [
      "Loading model from file. No training.\n"
     ]
    },
    {
     "name": "stderr",
     "output_type": "stream",
     "text": [
      "/home/michael/anaconda3/envs/scvi/lib/python3.7/site-packages/sklearn/metrics/cluster/supervised.py:859: FutureWarning: The behavior of NMI will change in version 0.22. To match the behavior of 'v_measure_score', NMI will use average_method='arithmetic' by default.\n",
      "  FutureWarning)\n",
      "/home/michael/anaconda3/envs/scvi/lib/python3.7/site-packages/sklearn/utils/linear_assignment_.py:127: DeprecationWarning: The linear_assignment function is deprecated in 0.21 and will be removed from 0.23. Use scipy.optimize.linear_sum_assignment instead.\n",
      "  DeprecationWarning)\n"
     ]
    },
    {
     "name": "stdout",
     "output_type": "stream",
     "text": [
      "Loading model from file. No training.\n"
     ]
    },
    {
     "name": "stderr",
     "output_type": "stream",
     "text": [
      "/home/michael/anaconda3/envs/scvi/lib/python3.7/site-packages/sklearn/metrics/cluster/supervised.py:859: FutureWarning: The behavior of NMI will change in version 0.22. To match the behavior of 'v_measure_score', NMI will use average_method='arithmetic' by default.\n",
      "  FutureWarning)\n",
      "/home/michael/anaconda3/envs/scvi/lib/python3.7/site-packages/sklearn/utils/linear_assignment_.py:127: DeprecationWarning: The linear_assignment function is deprecated in 0.21 and will be removed from 0.23. Use scipy.optimize.linear_sum_assignment instead.\n",
      "  DeprecationWarning)\n"
     ]
    },
    {
     "name": "stdout",
     "output_type": "stream",
     "text": [
      "Loading model from file. No training.\n"
     ]
    },
    {
     "name": "stderr",
     "output_type": "stream",
     "text": [
      "/home/michael/anaconda3/envs/scvi/lib/python3.7/site-packages/sklearn/metrics/cluster/supervised.py:859: FutureWarning: The behavior of NMI will change in version 0.22. To match the behavior of 'v_measure_score', NMI will use average_method='arithmetic' by default.\n",
      "  FutureWarning)\n",
      "/home/michael/anaconda3/envs/scvi/lib/python3.7/site-packages/sklearn/utils/linear_assignment_.py:127: DeprecationWarning: The linear_assignment function is deprecated in 0.21 and will be removed from 0.23. Use scipy.optimize.linear_sum_assignment instead.\n",
      "  DeprecationWarning)\n"
     ]
    },
    {
     "name": "stdout",
     "output_type": "stream",
     "text": [
      "Loading model from file. No training.\n"
     ]
    },
    {
     "name": "stderr",
     "output_type": "stream",
     "text": [
      "/home/michael/anaconda3/envs/scvi/lib/python3.7/site-packages/sklearn/metrics/cluster/supervised.py:859: FutureWarning: The behavior of NMI will change in version 0.22. To match the behavior of 'v_measure_score', NMI will use average_method='arithmetic' by default.\n",
      "  FutureWarning)\n",
      "/home/michael/anaconda3/envs/scvi/lib/python3.7/site-packages/sklearn/utils/linear_assignment_.py:127: DeprecationWarning: The linear_assignment function is deprecated in 0.21 and will be removed from 0.23. Use scipy.optimize.linear_sum_assignment instead.\n",
      "  DeprecationWarning)\n"
     ]
    },
    {
     "name": "stdout",
     "output_type": "stream",
     "text": [
      "Loading model from file. No training.\n"
     ]
    },
    {
     "name": "stderr",
     "output_type": "stream",
     "text": [
      "/home/michael/anaconda3/envs/scvi/lib/python3.7/site-packages/sklearn/metrics/cluster/supervised.py:859: FutureWarning: The behavior of NMI will change in version 0.22. To match the behavior of 'v_measure_score', NMI will use average_method='arithmetic' by default.\n",
      "  FutureWarning)\n",
      "/home/michael/anaconda3/envs/scvi/lib/python3.7/site-packages/sklearn/utils/linear_assignment_.py:127: DeprecationWarning: The linear_assignment function is deprecated in 0.21 and will be removed from 0.23. Use scipy.optimize.linear_sum_assignment instead.\n",
      "  DeprecationWarning)\n"
     ]
    },
    {
     "name": "stdout",
     "output_type": "stream",
     "text": [
      "Training VAE for tissue  gonadal fat pad\n"
     ]
    },
    {
     "name": "stderr",
     "output_type": "stream",
     "text": [
      "[2019-10-08 16:17:27,005] INFO - scvi.dataset.dataset | Union dataset is set to ignore batch annotation.\n",
      "[2019-10-08 16:17:27,230] INFO - scvi.dataset.dataset | Downsampled from 31394 to 6770 cells\n",
      "[2019-10-08 16:17:27,233] INFO - scvi.dataset.dataset | Union dataset is set to ignore batch annotation.\n",
      "[2019-10-08 16:17:28,027] INFO - scvi.dataset.dataset | Downsampled from 31394 to 24624 cells\n"
     ]
    },
    {
     "name": "stdout",
     "output_type": "stream",
     "text": [
      "Loading model from file. No training.\n"
     ]
    },
    {
     "name": "stderr",
     "output_type": "stream",
     "text": [
      "/home/michael/anaconda3/envs/scvi/lib/python3.7/site-packages/sklearn/metrics/cluster/supervised.py:859: FutureWarning: The behavior of NMI will change in version 0.22. To match the behavior of 'v_measure_score', NMI will use average_method='arithmetic' by default.\n",
      "  FutureWarning)\n",
      "/home/michael/anaconda3/envs/scvi/lib/python3.7/site-packages/sklearn/utils/linear_assignment_.py:127: DeprecationWarning: The linear_assignment function is deprecated in 0.21 and will be removed from 0.23. Use scipy.optimize.linear_sum_assignment instead.\n",
      "  DeprecationWarning)\n"
     ]
    },
    {
     "name": "stdout",
     "output_type": "stream",
     "text": [
      "Loading model from file. No training.\n"
     ]
    },
    {
     "name": "stderr",
     "output_type": "stream",
     "text": [
      "/home/michael/anaconda3/envs/scvi/lib/python3.7/site-packages/sklearn/metrics/cluster/supervised.py:859: FutureWarning: The behavior of NMI will change in version 0.22. To match the behavior of 'v_measure_score', NMI will use average_method='arithmetic' by default.\n",
      "  FutureWarning)\n",
      "/home/michael/anaconda3/envs/scvi/lib/python3.7/site-packages/sklearn/utils/linear_assignment_.py:127: DeprecationWarning: The linear_assignment function is deprecated in 0.21 and will be removed from 0.23. Use scipy.optimize.linear_sum_assignment instead.\n",
      "  DeprecationWarning)\n"
     ]
    },
    {
     "name": "stdout",
     "output_type": "stream",
     "text": [
      "Loading model from file. No training.\n"
     ]
    },
    {
     "name": "stderr",
     "output_type": "stream",
     "text": [
      "/home/michael/anaconda3/envs/scvi/lib/python3.7/site-packages/sklearn/metrics/cluster/supervised.py:859: FutureWarning: The behavior of NMI will change in version 0.22. To match the behavior of 'v_measure_score', NMI will use average_method='arithmetic' by default.\n",
      "  FutureWarning)\n",
      "/home/michael/anaconda3/envs/scvi/lib/python3.7/site-packages/sklearn/utils/linear_assignment_.py:127: DeprecationWarning: The linear_assignment function is deprecated in 0.21 and will be removed from 0.23. Use scipy.optimize.linear_sum_assignment instead.\n",
      "  DeprecationWarning)\n"
     ]
    },
    {
     "name": "stdout",
     "output_type": "stream",
     "text": [
      "Loading model from file. No training.\n"
     ]
    },
    {
     "name": "stderr",
     "output_type": "stream",
     "text": [
      "/home/michael/anaconda3/envs/scvi/lib/python3.7/site-packages/sklearn/metrics/cluster/supervised.py:859: FutureWarning: The behavior of NMI will change in version 0.22. To match the behavior of 'v_measure_score', NMI will use average_method='arithmetic' by default.\n",
      "  FutureWarning)\n",
      "/home/michael/anaconda3/envs/scvi/lib/python3.7/site-packages/sklearn/utils/linear_assignment_.py:127: DeprecationWarning: The linear_assignment function is deprecated in 0.21 and will be removed from 0.23. Use scipy.optimize.linear_sum_assignment instead.\n",
      "  DeprecationWarning)\n"
     ]
    },
    {
     "name": "stdout",
     "output_type": "stream",
     "text": [
      "Loading model from file. No training.\n"
     ]
    },
    {
     "name": "stderr",
     "output_type": "stream",
     "text": [
      "/home/michael/anaconda3/envs/scvi/lib/python3.7/site-packages/sklearn/metrics/cluster/supervised.py:859: FutureWarning: The behavior of NMI will change in version 0.22. To match the behavior of 'v_measure_score', NMI will use average_method='arithmetic' by default.\n",
      "  FutureWarning)\n",
      "/home/michael/anaconda3/envs/scvi/lib/python3.7/site-packages/sklearn/utils/linear_assignment_.py:127: DeprecationWarning: The linear_assignment function is deprecated in 0.21 and will be removed from 0.23. Use scipy.optimize.linear_sum_assignment instead.\n",
      "  DeprecationWarning)\n"
     ]
    },
    {
     "name": "stdout",
     "output_type": "stream",
     "text": [
      "Training VAE for tissue  heart\n"
     ]
    },
    {
     "name": "stderr",
     "output_type": "stream",
     "text": [
      "[2019-10-08 16:17:52,342] INFO - scvi.dataset.dataset | Union dataset is set to ignore batch annotation.\n",
      "[2019-10-08 16:17:52,479] INFO - scvi.dataset.dataset | Downsampled from 31394 to 4092 cells\n",
      "[2019-10-08 16:17:52,482] INFO - scvi.dataset.dataset | Union dataset is set to ignore batch annotation.\n",
      "[2019-10-08 16:17:53,357] INFO - scvi.dataset.dataset | Downsampled from 31394 to 27302 cells\n"
     ]
    },
    {
     "name": "stdout",
     "output_type": "stream",
     "text": [
      "Loading model from file. No training.\n"
     ]
    },
    {
     "name": "stderr",
     "output_type": "stream",
     "text": [
      "/home/michael/anaconda3/envs/scvi/lib/python3.7/site-packages/sklearn/metrics/cluster/supervised.py:859: FutureWarning: The behavior of NMI will change in version 0.22. To match the behavior of 'v_measure_score', NMI will use average_method='arithmetic' by default.\n",
      "  FutureWarning)\n",
      "/home/michael/anaconda3/envs/scvi/lib/python3.7/site-packages/sklearn/utils/linear_assignment_.py:127: DeprecationWarning: The linear_assignment function is deprecated in 0.21 and will be removed from 0.23. Use scipy.optimize.linear_sum_assignment instead.\n",
      "  DeprecationWarning)\n"
     ]
    },
    {
     "name": "stdout",
     "output_type": "stream",
     "text": [
      "Loading model from file. No training.\n"
     ]
    },
    {
     "name": "stderr",
     "output_type": "stream",
     "text": [
      "/home/michael/anaconda3/envs/scvi/lib/python3.7/site-packages/sklearn/metrics/cluster/supervised.py:859: FutureWarning: The behavior of NMI will change in version 0.22. To match the behavior of 'v_measure_score', NMI will use average_method='arithmetic' by default.\n",
      "  FutureWarning)\n",
      "/home/michael/anaconda3/envs/scvi/lib/python3.7/site-packages/sklearn/utils/linear_assignment_.py:127: DeprecationWarning: The linear_assignment function is deprecated in 0.21 and will be removed from 0.23. Use scipy.optimize.linear_sum_assignment instead.\n",
      "  DeprecationWarning)\n"
     ]
    },
    {
     "name": "stdout",
     "output_type": "stream",
     "text": [
      "Loading model from file. No training.\n"
     ]
    },
    {
     "name": "stderr",
     "output_type": "stream",
     "text": [
      "/home/michael/anaconda3/envs/scvi/lib/python3.7/site-packages/sklearn/metrics/cluster/supervised.py:859: FutureWarning: The behavior of NMI will change in version 0.22. To match the behavior of 'v_measure_score', NMI will use average_method='arithmetic' by default.\n",
      "  FutureWarning)\n",
      "/home/michael/anaconda3/envs/scvi/lib/python3.7/site-packages/sklearn/utils/linear_assignment_.py:127: DeprecationWarning: The linear_assignment function is deprecated in 0.21 and will be removed from 0.23. Use scipy.optimize.linear_sum_assignment instead.\n",
      "  DeprecationWarning)\n"
     ]
    },
    {
     "name": "stdout",
     "output_type": "stream",
     "text": [
      "Loading model from file. No training.\n"
     ]
    },
    {
     "name": "stderr",
     "output_type": "stream",
     "text": [
      "/home/michael/anaconda3/envs/scvi/lib/python3.7/site-packages/sklearn/metrics/cluster/supervised.py:859: FutureWarning: The behavior of NMI will change in version 0.22. To match the behavior of 'v_measure_score', NMI will use average_method='arithmetic' by default.\n",
      "  FutureWarning)\n",
      "/home/michael/anaconda3/envs/scvi/lib/python3.7/site-packages/sklearn/utils/linear_assignment_.py:127: DeprecationWarning: The linear_assignment function is deprecated in 0.21 and will be removed from 0.23. Use scipy.optimize.linear_sum_assignment instead.\n",
      "  DeprecationWarning)\n"
     ]
    },
    {
     "name": "stdout",
     "output_type": "stream",
     "text": [
      "Loading model from file. No training.\n"
     ]
    },
    {
     "name": "stderr",
     "output_type": "stream",
     "text": [
      "/home/michael/anaconda3/envs/scvi/lib/python3.7/site-packages/sklearn/metrics/cluster/supervised.py:859: FutureWarning: The behavior of NMI will change in version 0.22. To match the behavior of 'v_measure_score', NMI will use average_method='arithmetic' by default.\n",
      "  FutureWarning)\n",
      "/home/michael/anaconda3/envs/scvi/lib/python3.7/site-packages/sklearn/utils/linear_assignment_.py:127: DeprecationWarning: The linear_assignment function is deprecated in 0.21 and will be removed from 0.23. Use scipy.optimize.linear_sum_assignment instead.\n",
      "  DeprecationWarning)\n"
     ]
    },
    {
     "name": "stdout",
     "output_type": "stream",
     "text": [
      "Training VAE for tissue  heart left atrium\n"
     ]
    },
    {
     "name": "stderr",
     "output_type": "stream",
     "text": [
      "[2019-10-08 16:18:10,063] INFO - scvi.dataset.dataset | Union dataset is set to ignore batch annotation.\n",
      "[2019-10-08 16:18:10,224] INFO - scvi.dataset.dataset | Downsampled from 31394 to 4684 cells\n",
      "[2019-10-08 16:18:10,227] INFO - scvi.dataset.dataset | Union dataset is set to ignore batch annotation.\n",
      "[2019-10-08 16:18:11,088] INFO - scvi.dataset.dataset | Downsampled from 31394 to 26710 cells\n"
     ]
    },
    {
     "name": "stdout",
     "output_type": "stream",
     "text": [
      "Loading model from file. No training.\n"
     ]
    },
    {
     "name": "stderr",
     "output_type": "stream",
     "text": [
      "/home/michael/anaconda3/envs/scvi/lib/python3.7/site-packages/sklearn/metrics/cluster/supervised.py:859: FutureWarning: The behavior of NMI will change in version 0.22. To match the behavior of 'v_measure_score', NMI will use average_method='arithmetic' by default.\n",
      "  FutureWarning)\n",
      "/home/michael/anaconda3/envs/scvi/lib/python3.7/site-packages/sklearn/utils/linear_assignment_.py:127: DeprecationWarning: The linear_assignment function is deprecated in 0.21 and will be removed from 0.23. Use scipy.optimize.linear_sum_assignment instead.\n",
      "  DeprecationWarning)\n"
     ]
    },
    {
     "name": "stdout",
     "output_type": "stream",
     "text": [
      "Loading model from file. No training.\n"
     ]
    },
    {
     "name": "stderr",
     "output_type": "stream",
     "text": [
      "/home/michael/anaconda3/envs/scvi/lib/python3.7/site-packages/sklearn/metrics/cluster/supervised.py:859: FutureWarning: The behavior of NMI will change in version 0.22. To match the behavior of 'v_measure_score', NMI will use average_method='arithmetic' by default.\n",
      "  FutureWarning)\n",
      "/home/michael/anaconda3/envs/scvi/lib/python3.7/site-packages/sklearn/utils/linear_assignment_.py:127: DeprecationWarning: The linear_assignment function is deprecated in 0.21 and will be removed from 0.23. Use scipy.optimize.linear_sum_assignment instead.\n",
      "  DeprecationWarning)\n"
     ]
    },
    {
     "name": "stdout",
     "output_type": "stream",
     "text": [
      "Loading model from file. No training.\n"
     ]
    },
    {
     "name": "stderr",
     "output_type": "stream",
     "text": [
      "/home/michael/anaconda3/envs/scvi/lib/python3.7/site-packages/sklearn/metrics/cluster/supervised.py:859: FutureWarning: The behavior of NMI will change in version 0.22. To match the behavior of 'v_measure_score', NMI will use average_method='arithmetic' by default.\n",
      "  FutureWarning)\n",
      "/home/michael/anaconda3/envs/scvi/lib/python3.7/site-packages/sklearn/utils/linear_assignment_.py:127: DeprecationWarning: The linear_assignment function is deprecated in 0.21 and will be removed from 0.23. Use scipy.optimize.linear_sum_assignment instead.\n",
      "  DeprecationWarning)\n"
     ]
    },
    {
     "name": "stdout",
     "output_type": "stream",
     "text": [
      "Loading model from file. No training.\n"
     ]
    },
    {
     "name": "stderr",
     "output_type": "stream",
     "text": [
      "/home/michael/anaconda3/envs/scvi/lib/python3.7/site-packages/sklearn/metrics/cluster/supervised.py:859: FutureWarning: The behavior of NMI will change in version 0.22. To match the behavior of 'v_measure_score', NMI will use average_method='arithmetic' by default.\n",
      "  FutureWarning)\n",
      "/home/michael/anaconda3/envs/scvi/lib/python3.7/site-packages/sklearn/utils/linear_assignment_.py:127: DeprecationWarning: The linear_assignment function is deprecated in 0.21 and will be removed from 0.23. Use scipy.optimize.linear_sum_assignment instead.\n",
      "  DeprecationWarning)\n"
     ]
    },
    {
     "name": "stdout",
     "output_type": "stream",
     "text": [
      "Loading model from file. No training.\n"
     ]
    },
    {
     "name": "stderr",
     "output_type": "stream",
     "text": [
      "/home/michael/anaconda3/envs/scvi/lib/python3.7/site-packages/sklearn/metrics/cluster/supervised.py:859: FutureWarning: The behavior of NMI will change in version 0.22. To match the behavior of 'v_measure_score', NMI will use average_method='arithmetic' by default.\n",
      "  FutureWarning)\n",
      "/home/michael/anaconda3/envs/scvi/lib/python3.7/site-packages/sklearn/utils/linear_assignment_.py:127: DeprecationWarning: The linear_assignment function is deprecated in 0.21 and will be removed from 0.23. Use scipy.optimize.linear_sum_assignment instead.\n",
      "  DeprecationWarning)\n"
     ]
    },
    {
     "name": "stdout",
     "output_type": "stream",
     "text": [
      "Training VAE for tissue  heart left atrium and heart right atrium\n"
     ]
    },
    {
     "name": "stderr",
     "output_type": "stream",
     "text": [
      "[2019-10-08 16:18:35,509] INFO - scvi.dataset.dataset | Union dataset is set to ignore batch annotation.\n",
      "[2019-10-08 16:18:35,583] INFO - scvi.dataset.dataset | Downsampled from 31394 to 1643 cells\n",
      "[2019-10-08 16:18:35,585] INFO - scvi.dataset.dataset | Union dataset is set to ignore batch annotation.\n",
      "[2019-10-08 16:18:36,547] INFO - scvi.dataset.dataset | Downsampled from 31394 to 29751 cells\n"
     ]
    },
    {
     "name": "stdout",
     "output_type": "stream",
     "text": [
      "Loading model from file. No training.\n"
     ]
    },
    {
     "name": "stderr",
     "output_type": "stream",
     "text": [
      "/home/michael/anaconda3/envs/scvi/lib/python3.7/site-packages/sklearn/metrics/cluster/supervised.py:859: FutureWarning: The behavior of NMI will change in version 0.22. To match the behavior of 'v_measure_score', NMI will use average_method='arithmetic' by default.\n",
      "  FutureWarning)\n",
      "/home/michael/anaconda3/envs/scvi/lib/python3.7/site-packages/sklearn/utils/linear_assignment_.py:127: DeprecationWarning: The linear_assignment function is deprecated in 0.21 and will be removed from 0.23. Use scipy.optimize.linear_sum_assignment instead.\n",
      "  DeprecationWarning)\n"
     ]
    },
    {
     "name": "stdout",
     "output_type": "stream",
     "text": [
      "Loading model from file. No training.\n"
     ]
    },
    {
     "name": "stderr",
     "output_type": "stream",
     "text": [
      "/home/michael/anaconda3/envs/scvi/lib/python3.7/site-packages/sklearn/metrics/cluster/supervised.py:859: FutureWarning: The behavior of NMI will change in version 0.22. To match the behavior of 'v_measure_score', NMI will use average_method='arithmetic' by default.\n",
      "  FutureWarning)\n",
      "/home/michael/anaconda3/envs/scvi/lib/python3.7/site-packages/sklearn/utils/linear_assignment_.py:127: DeprecationWarning: The linear_assignment function is deprecated in 0.21 and will be removed from 0.23. Use scipy.optimize.linear_sum_assignment instead.\n",
      "  DeprecationWarning)\n"
     ]
    },
    {
     "name": "stdout",
     "output_type": "stream",
     "text": [
      "Loading model from file. No training.\n"
     ]
    },
    {
     "name": "stderr",
     "output_type": "stream",
     "text": [
      "/home/michael/anaconda3/envs/scvi/lib/python3.7/site-packages/sklearn/metrics/cluster/supervised.py:859: FutureWarning: The behavior of NMI will change in version 0.22. To match the behavior of 'v_measure_score', NMI will use average_method='arithmetic' by default.\n",
      "  FutureWarning)\n",
      "/home/michael/anaconda3/envs/scvi/lib/python3.7/site-packages/sklearn/utils/linear_assignment_.py:127: DeprecationWarning: The linear_assignment function is deprecated in 0.21 and will be removed from 0.23. Use scipy.optimize.linear_sum_assignment instead.\n",
      "  DeprecationWarning)\n"
     ]
    },
    {
     "name": "stdout",
     "output_type": "stream",
     "text": [
      "Loading model from file. No training.\n"
     ]
    },
    {
     "name": "stderr",
     "output_type": "stream",
     "text": [
      "/home/michael/anaconda3/envs/scvi/lib/python3.7/site-packages/sklearn/metrics/cluster/supervised.py:859: FutureWarning: The behavior of NMI will change in version 0.22. To match the behavior of 'v_measure_score', NMI will use average_method='arithmetic' by default.\n",
      "  FutureWarning)\n",
      "/home/michael/anaconda3/envs/scvi/lib/python3.7/site-packages/sklearn/utils/linear_assignment_.py:127: DeprecationWarning: The linear_assignment function is deprecated in 0.21 and will be removed from 0.23. Use scipy.optimize.linear_sum_assignment instead.\n",
      "  DeprecationWarning)\n"
     ]
    },
    {
     "name": "stdout",
     "output_type": "stream",
     "text": [
      "Loading model from file. No training.\n"
     ]
    },
    {
     "name": "stderr",
     "output_type": "stream",
     "text": [
      "/home/michael/anaconda3/envs/scvi/lib/python3.7/site-packages/sklearn/metrics/cluster/supervised.py:859: FutureWarning: The behavior of NMI will change in version 0.22. To match the behavior of 'v_measure_score', NMI will use average_method='arithmetic' by default.\n",
      "  FutureWarning)\n",
      "/home/michael/anaconda3/envs/scvi/lib/python3.7/site-packages/sklearn/utils/linear_assignment_.py:127: DeprecationWarning: The linear_assignment function is deprecated in 0.21 and will be removed from 0.23. Use scipy.optimize.linear_sum_assignment instead.\n",
      "  DeprecationWarning)\n"
     ]
    },
    {
     "name": "stdout",
     "output_type": "stream",
     "text": [
      "Training VAE for tissue  heart left ventricle\n"
     ]
    },
    {
     "name": "stderr",
     "output_type": "stream",
     "text": [
      "[2019-10-08 16:18:41,585] INFO - scvi.dataset.dataset | Union dataset is set to ignore batch annotation.\n",
      "[2019-10-08 16:18:41,735] INFO - scvi.dataset.dataset | Downsampled from 31394 to 4684 cells\n",
      "[2019-10-08 16:18:41,738] INFO - scvi.dataset.dataset | Union dataset is set to ignore batch annotation.\n",
      "[2019-10-08 16:18:42,584] INFO - scvi.dataset.dataset | Downsampled from 31394 to 26710 cells\n"
     ]
    },
    {
     "name": "stdout",
     "output_type": "stream",
     "text": [
      "Loading model from file. No training.\n"
     ]
    },
    {
     "name": "stderr",
     "output_type": "stream",
     "text": [
      "/home/michael/anaconda3/envs/scvi/lib/python3.7/site-packages/sklearn/metrics/cluster/supervised.py:859: FutureWarning: The behavior of NMI will change in version 0.22. To match the behavior of 'v_measure_score', NMI will use average_method='arithmetic' by default.\n",
      "  FutureWarning)\n",
      "/home/michael/anaconda3/envs/scvi/lib/python3.7/site-packages/sklearn/utils/linear_assignment_.py:127: DeprecationWarning: The linear_assignment function is deprecated in 0.21 and will be removed from 0.23. Use scipy.optimize.linear_sum_assignment instead.\n",
      "  DeprecationWarning)\n"
     ]
    },
    {
     "name": "stdout",
     "output_type": "stream",
     "text": [
      "Loading model from file. No training.\n"
     ]
    },
    {
     "name": "stderr",
     "output_type": "stream",
     "text": [
      "/home/michael/anaconda3/envs/scvi/lib/python3.7/site-packages/sklearn/metrics/cluster/supervised.py:859: FutureWarning: The behavior of NMI will change in version 0.22. To match the behavior of 'v_measure_score', NMI will use average_method='arithmetic' by default.\n",
      "  FutureWarning)\n",
      "/home/michael/anaconda3/envs/scvi/lib/python3.7/site-packages/sklearn/utils/linear_assignment_.py:127: DeprecationWarning: The linear_assignment function is deprecated in 0.21 and will be removed from 0.23. Use scipy.optimize.linear_sum_assignment instead.\n",
      "  DeprecationWarning)\n"
     ]
    },
    {
     "name": "stdout",
     "output_type": "stream",
     "text": [
      "Loading model from file. No training.\n"
     ]
    },
    {
     "name": "stderr",
     "output_type": "stream",
     "text": [
      "/home/michael/anaconda3/envs/scvi/lib/python3.7/site-packages/sklearn/metrics/cluster/supervised.py:859: FutureWarning: The behavior of NMI will change in version 0.22. To match the behavior of 'v_measure_score', NMI will use average_method='arithmetic' by default.\n",
      "  FutureWarning)\n",
      "/home/michael/anaconda3/envs/scvi/lib/python3.7/site-packages/sklearn/utils/linear_assignment_.py:127: DeprecationWarning: The linear_assignment function is deprecated in 0.21 and will be removed from 0.23. Use scipy.optimize.linear_sum_assignment instead.\n",
      "  DeprecationWarning)\n"
     ]
    },
    {
     "name": "stdout",
     "output_type": "stream",
     "text": [
      "Loading model from file. No training.\n"
     ]
    },
    {
     "name": "stderr",
     "output_type": "stream",
     "text": [
      "/home/michael/anaconda3/envs/scvi/lib/python3.7/site-packages/sklearn/metrics/cluster/supervised.py:859: FutureWarning: The behavior of NMI will change in version 0.22. To match the behavior of 'v_measure_score', NMI will use average_method='arithmetic' by default.\n",
      "  FutureWarning)\n",
      "/home/michael/anaconda3/envs/scvi/lib/python3.7/site-packages/sklearn/utils/linear_assignment_.py:127: DeprecationWarning: The linear_assignment function is deprecated in 0.21 and will be removed from 0.23. Use scipy.optimize.linear_sum_assignment instead.\n",
      "  DeprecationWarning)\n"
     ]
    },
    {
     "name": "stdout",
     "output_type": "stream",
     "text": [
      "Loading model from file. No training.\n"
     ]
    },
    {
     "name": "stderr",
     "output_type": "stream",
     "text": [
      "/home/michael/anaconda3/envs/scvi/lib/python3.7/site-packages/sklearn/metrics/cluster/supervised.py:859: FutureWarning: The behavior of NMI will change in version 0.22. To match the behavior of 'v_measure_score', NMI will use average_method='arithmetic' by default.\n",
      "  FutureWarning)\n",
      "/home/michael/anaconda3/envs/scvi/lib/python3.7/site-packages/sklearn/utils/linear_assignment_.py:127: DeprecationWarning: The linear_assignment function is deprecated in 0.21 and will be removed from 0.23. Use scipy.optimize.linear_sum_assignment instead.\n",
      "  DeprecationWarning)\n"
     ]
    },
    {
     "name": "stdout",
     "output_type": "stream",
     "text": [
      "Training VAE for tissue  heart right atrium\n"
     ]
    },
    {
     "name": "stderr",
     "output_type": "stream",
     "text": [
      "[2019-10-08 16:19:07,592] INFO - scvi.dataset.dataset | Union dataset is set to ignore batch annotation.\n",
      "[2019-10-08 16:19:07,751] INFO - scvi.dataset.dataset | Downsampled from 31394 to 4684 cells\n",
      "[2019-10-08 16:19:07,753] INFO - scvi.dataset.dataset | Union dataset is set to ignore batch annotation.\n",
      "[2019-10-08 16:19:08,591] INFO - scvi.dataset.dataset | Downsampled from 31394 to 26710 cells\n"
     ]
    },
    {
     "name": "stdout",
     "output_type": "stream",
     "text": [
      "Loading model from file. No training.\n"
     ]
    },
    {
     "name": "stderr",
     "output_type": "stream",
     "text": [
      "/home/michael/anaconda3/envs/scvi/lib/python3.7/site-packages/sklearn/metrics/cluster/supervised.py:859: FutureWarning: The behavior of NMI will change in version 0.22. To match the behavior of 'v_measure_score', NMI will use average_method='arithmetic' by default.\n",
      "  FutureWarning)\n",
      "/home/michael/anaconda3/envs/scvi/lib/python3.7/site-packages/sklearn/utils/linear_assignment_.py:127: DeprecationWarning: The linear_assignment function is deprecated in 0.21 and will be removed from 0.23. Use scipy.optimize.linear_sum_assignment instead.\n",
      "  DeprecationWarning)\n"
     ]
    },
    {
     "name": "stdout",
     "output_type": "stream",
     "text": [
      "Loading model from file. No training.\n"
     ]
    },
    {
     "name": "stderr",
     "output_type": "stream",
     "text": [
      "/home/michael/anaconda3/envs/scvi/lib/python3.7/site-packages/sklearn/metrics/cluster/supervised.py:859: FutureWarning: The behavior of NMI will change in version 0.22. To match the behavior of 'v_measure_score', NMI will use average_method='arithmetic' by default.\n",
      "  FutureWarning)\n",
      "/home/michael/anaconda3/envs/scvi/lib/python3.7/site-packages/sklearn/utils/linear_assignment_.py:127: DeprecationWarning: The linear_assignment function is deprecated in 0.21 and will be removed from 0.23. Use scipy.optimize.linear_sum_assignment instead.\n",
      "  DeprecationWarning)\n"
     ]
    },
    {
     "name": "stdout",
     "output_type": "stream",
     "text": [
      "Loading model from file. No training.\n"
     ]
    },
    {
     "name": "stderr",
     "output_type": "stream",
     "text": [
      "/home/michael/anaconda3/envs/scvi/lib/python3.7/site-packages/sklearn/metrics/cluster/supervised.py:859: FutureWarning: The behavior of NMI will change in version 0.22. To match the behavior of 'v_measure_score', NMI will use average_method='arithmetic' by default.\n",
      "  FutureWarning)\n",
      "/home/michael/anaconda3/envs/scvi/lib/python3.7/site-packages/sklearn/utils/linear_assignment_.py:127: DeprecationWarning: The linear_assignment function is deprecated in 0.21 and will be removed from 0.23. Use scipy.optimize.linear_sum_assignment instead.\n",
      "  DeprecationWarning)\n"
     ]
    },
    {
     "name": "stdout",
     "output_type": "stream",
     "text": [
      "Loading model from file. No training.\n"
     ]
    },
    {
     "name": "stderr",
     "output_type": "stream",
     "text": [
      "/home/michael/anaconda3/envs/scvi/lib/python3.7/site-packages/sklearn/metrics/cluster/supervised.py:859: FutureWarning: The behavior of NMI will change in version 0.22. To match the behavior of 'v_measure_score', NMI will use average_method='arithmetic' by default.\n",
      "  FutureWarning)\n",
      "/home/michael/anaconda3/envs/scvi/lib/python3.7/site-packages/sklearn/utils/linear_assignment_.py:127: DeprecationWarning: The linear_assignment function is deprecated in 0.21 and will be removed from 0.23. Use scipy.optimize.linear_sum_assignment instead.\n",
      "  DeprecationWarning)\n"
     ]
    },
    {
     "name": "stdout",
     "output_type": "stream",
     "text": [
      "Loading model from file. No training.\n"
     ]
    },
    {
     "name": "stderr",
     "output_type": "stream",
     "text": [
      "/home/michael/anaconda3/envs/scvi/lib/python3.7/site-packages/sklearn/metrics/cluster/supervised.py:859: FutureWarning: The behavior of NMI will change in version 0.22. To match the behavior of 'v_measure_score', NMI will use average_method='arithmetic' by default.\n",
      "  FutureWarning)\n",
      "/home/michael/anaconda3/envs/scvi/lib/python3.7/site-packages/sklearn/utils/linear_assignment_.py:127: DeprecationWarning: The linear_assignment function is deprecated in 0.21 and will be removed from 0.23. Use scipy.optimize.linear_sum_assignment instead.\n",
      "  DeprecationWarning)\n"
     ]
    },
    {
     "name": "stdout",
     "output_type": "stream",
     "text": [
      "Training VAE for tissue  heart right ventricle\n"
     ]
    },
    {
     "name": "stderr",
     "output_type": "stream",
     "text": [
      "[2019-10-08 16:19:33,110] INFO - scvi.dataset.dataset | Union dataset is set to ignore batch annotation.\n",
      "[2019-10-08 16:19:33,261] INFO - scvi.dataset.dataset | Downsampled from 31394 to 4684 cells\n",
      "[2019-10-08 16:19:33,264] INFO - scvi.dataset.dataset | Union dataset is set to ignore batch annotation.\n",
      "[2019-10-08 16:19:34,128] INFO - scvi.dataset.dataset | Downsampled from 31394 to 26710 cells\n"
     ]
    },
    {
     "name": "stdout",
     "output_type": "stream",
     "text": [
      "Loading model from file. No training.\n"
     ]
    },
    {
     "name": "stderr",
     "output_type": "stream",
     "text": [
      "/home/michael/anaconda3/envs/scvi/lib/python3.7/site-packages/sklearn/metrics/cluster/supervised.py:859: FutureWarning: The behavior of NMI will change in version 0.22. To match the behavior of 'v_measure_score', NMI will use average_method='arithmetic' by default.\n",
      "  FutureWarning)\n",
      "/home/michael/anaconda3/envs/scvi/lib/python3.7/site-packages/sklearn/utils/linear_assignment_.py:127: DeprecationWarning: The linear_assignment function is deprecated in 0.21 and will be removed from 0.23. Use scipy.optimize.linear_sum_assignment instead.\n",
      "  DeprecationWarning)\n"
     ]
    },
    {
     "name": "stdout",
     "output_type": "stream",
     "text": [
      "Loading model from file. No training.\n"
     ]
    },
    {
     "name": "stderr",
     "output_type": "stream",
     "text": [
      "/home/michael/anaconda3/envs/scvi/lib/python3.7/site-packages/sklearn/metrics/cluster/supervised.py:859: FutureWarning: The behavior of NMI will change in version 0.22. To match the behavior of 'v_measure_score', NMI will use average_method='arithmetic' by default.\n",
      "  FutureWarning)\n",
      "/home/michael/anaconda3/envs/scvi/lib/python3.7/site-packages/sklearn/utils/linear_assignment_.py:127: DeprecationWarning: The linear_assignment function is deprecated in 0.21 and will be removed from 0.23. Use scipy.optimize.linear_sum_assignment instead.\n",
      "  DeprecationWarning)\n"
     ]
    },
    {
     "name": "stdout",
     "output_type": "stream",
     "text": [
      "Loading model from file. No training.\n"
     ]
    },
    {
     "name": "stderr",
     "output_type": "stream",
     "text": [
      "/home/michael/anaconda3/envs/scvi/lib/python3.7/site-packages/sklearn/metrics/cluster/supervised.py:859: FutureWarning: The behavior of NMI will change in version 0.22. To match the behavior of 'v_measure_score', NMI will use average_method='arithmetic' by default.\n",
      "  FutureWarning)\n",
      "/home/michael/anaconda3/envs/scvi/lib/python3.7/site-packages/sklearn/utils/linear_assignment_.py:127: DeprecationWarning: The linear_assignment function is deprecated in 0.21 and will be removed from 0.23. Use scipy.optimize.linear_sum_assignment instead.\n",
      "  DeprecationWarning)\n"
     ]
    },
    {
     "name": "stdout",
     "output_type": "stream",
     "text": [
      "Loading model from file. No training.\n"
     ]
    },
    {
     "name": "stderr",
     "output_type": "stream",
     "text": [
      "/home/michael/anaconda3/envs/scvi/lib/python3.7/site-packages/sklearn/metrics/cluster/supervised.py:859: FutureWarning: The behavior of NMI will change in version 0.22. To match the behavior of 'v_measure_score', NMI will use average_method='arithmetic' by default.\n",
      "  FutureWarning)\n",
      "/home/michael/anaconda3/envs/scvi/lib/python3.7/site-packages/sklearn/utils/linear_assignment_.py:127: DeprecationWarning: The linear_assignment function is deprecated in 0.21 and will be removed from 0.23. Use scipy.optimize.linear_sum_assignment instead.\n",
      "  DeprecationWarning)\n"
     ]
    },
    {
     "name": "stdout",
     "output_type": "stream",
     "text": [
      "Loading model from file. No training.\n"
     ]
    },
    {
     "name": "stderr",
     "output_type": "stream",
     "text": [
      "/home/michael/anaconda3/envs/scvi/lib/python3.7/site-packages/sklearn/metrics/cluster/supervised.py:859: FutureWarning: The behavior of NMI will change in version 0.22. To match the behavior of 'v_measure_score', NMI will use average_method='arithmetic' by default.\n",
      "  FutureWarning)\n",
      "/home/michael/anaconda3/envs/scvi/lib/python3.7/site-packages/sklearn/utils/linear_assignment_.py:127: DeprecationWarning: The linear_assignment function is deprecated in 0.21 and will be removed from 0.23. Use scipy.optimize.linear_sum_assignment instead.\n",
      "  DeprecationWarning)\n"
     ]
    },
    {
     "name": "stdout",
     "output_type": "stream",
     "text": [
      "Training VAE for tissue  hippocampus\n"
     ]
    },
    {
     "name": "stderr",
     "output_type": "stream",
     "text": [
      "[2019-10-08 16:19:58,976] INFO - scvi.dataset.dataset | Union dataset is set to ignore batch annotation.\n",
      "[2019-10-08 16:19:59,237] INFO - scvi.dataset.dataset | Downsampled from 31394 to 7482 cells\n",
      "[2019-10-08 16:19:59,240] INFO - scvi.dataset.dataset | Union dataset is set to ignore batch annotation.\n",
      "[2019-10-08 16:20:00,037] INFO - scvi.dataset.dataset | Downsampled from 31394 to 23912 cells\n"
     ]
    },
    {
     "name": "stdout",
     "output_type": "stream",
     "text": [
      "Loading model from file. No training.\n"
     ]
    },
    {
     "name": "stderr",
     "output_type": "stream",
     "text": [
      "/home/michael/anaconda3/envs/scvi/lib/python3.7/site-packages/sklearn/metrics/cluster/supervised.py:859: FutureWarning: The behavior of NMI will change in version 0.22. To match the behavior of 'v_measure_score', NMI will use average_method='arithmetic' by default.\n",
      "  FutureWarning)\n",
      "/home/michael/anaconda3/envs/scvi/lib/python3.7/site-packages/sklearn/utils/linear_assignment_.py:127: DeprecationWarning: The linear_assignment function is deprecated in 0.21 and will be removed from 0.23. Use scipy.optimize.linear_sum_assignment instead.\n",
      "  DeprecationWarning)\n"
     ]
    },
    {
     "name": "stdout",
     "output_type": "stream",
     "text": [
      "Loading model from file. No training.\n"
     ]
    },
    {
     "name": "stderr",
     "output_type": "stream",
     "text": [
      "/home/michael/anaconda3/envs/scvi/lib/python3.7/site-packages/sklearn/metrics/cluster/supervised.py:859: FutureWarning: The behavior of NMI will change in version 0.22. To match the behavior of 'v_measure_score', NMI will use average_method='arithmetic' by default.\n",
      "  FutureWarning)\n",
      "/home/michael/anaconda3/envs/scvi/lib/python3.7/site-packages/sklearn/utils/linear_assignment_.py:127: DeprecationWarning: The linear_assignment function is deprecated in 0.21 and will be removed from 0.23. Use scipy.optimize.linear_sum_assignment instead.\n",
      "  DeprecationWarning)\n"
     ]
    },
    {
     "name": "stdout",
     "output_type": "stream",
     "text": [
      "Loading model from file. No training.\n"
     ]
    },
    {
     "name": "stderr",
     "output_type": "stream",
     "text": [
      "/home/michael/anaconda3/envs/scvi/lib/python3.7/site-packages/sklearn/metrics/cluster/supervised.py:859: FutureWarning: The behavior of NMI will change in version 0.22. To match the behavior of 'v_measure_score', NMI will use average_method='arithmetic' by default.\n",
      "  FutureWarning)\n",
      "/home/michael/anaconda3/envs/scvi/lib/python3.7/site-packages/sklearn/utils/linear_assignment_.py:127: DeprecationWarning: The linear_assignment function is deprecated in 0.21 and will be removed from 0.23. Use scipy.optimize.linear_sum_assignment instead.\n",
      "  DeprecationWarning)\n"
     ]
    },
    {
     "name": "stdout",
     "output_type": "stream",
     "text": [
      "Loading model from file. No training.\n"
     ]
    },
    {
     "name": "stderr",
     "output_type": "stream",
     "text": [
      "/home/michael/anaconda3/envs/scvi/lib/python3.7/site-packages/sklearn/metrics/cluster/supervised.py:859: FutureWarning: The behavior of NMI will change in version 0.22. To match the behavior of 'v_measure_score', NMI will use average_method='arithmetic' by default.\n",
      "  FutureWarning)\n",
      "/home/michael/anaconda3/envs/scvi/lib/python3.7/site-packages/sklearn/utils/linear_assignment_.py:127: DeprecationWarning: The linear_assignment function is deprecated in 0.21 and will be removed from 0.23. Use scipy.optimize.linear_sum_assignment instead.\n",
      "  DeprecationWarning)\n"
     ]
    },
    {
     "name": "stdout",
     "output_type": "stream",
     "text": [
      "Loading model from file. No training.\n"
     ]
    },
    {
     "name": "stderr",
     "output_type": "stream",
     "text": [
      "/home/michael/anaconda3/envs/scvi/lib/python3.7/site-packages/sklearn/metrics/cluster/supervised.py:859: FutureWarning: The behavior of NMI will change in version 0.22. To match the behavior of 'v_measure_score', NMI will use average_method='arithmetic' by default.\n",
      "  FutureWarning)\n",
      "/home/michael/anaconda3/envs/scvi/lib/python3.7/site-packages/sklearn/utils/linear_assignment_.py:127: DeprecationWarning: The linear_assignment function is deprecated in 0.21 and will be removed from 0.23. Use scipy.optimize.linear_sum_assignment instead.\n",
      "  DeprecationWarning)\n"
     ]
    },
    {
     "name": "stdout",
     "output_type": "stream",
     "text": [
      "Training VAE for tissue  interscapular brown adipose tissue\n"
     ]
    },
    {
     "name": "stderr",
     "output_type": "stream",
     "text": [
      "[2019-10-08 16:20:34,604] INFO - scvi.dataset.dataset | Union dataset is set to ignore batch annotation.\n",
      "[2019-10-08 16:20:34,815] INFO - scvi.dataset.dataset | Downsampled from 31394 to 6770 cells\n",
      "[2019-10-08 16:20:34,817] INFO - scvi.dataset.dataset | Union dataset is set to ignore batch annotation.\n",
      "[2019-10-08 16:20:35,607] INFO - scvi.dataset.dataset | Downsampled from 31394 to 24624 cells\n"
     ]
    },
    {
     "name": "stdout",
     "output_type": "stream",
     "text": [
      "Loading model from file. No training.\n"
     ]
    },
    {
     "name": "stderr",
     "output_type": "stream",
     "text": [
      "/home/michael/anaconda3/envs/scvi/lib/python3.7/site-packages/sklearn/metrics/cluster/supervised.py:859: FutureWarning: The behavior of NMI will change in version 0.22. To match the behavior of 'v_measure_score', NMI will use average_method='arithmetic' by default.\n",
      "  FutureWarning)\n",
      "/home/michael/anaconda3/envs/scvi/lib/python3.7/site-packages/sklearn/utils/linear_assignment_.py:127: DeprecationWarning: The linear_assignment function is deprecated in 0.21 and will be removed from 0.23. Use scipy.optimize.linear_sum_assignment instead.\n",
      "  DeprecationWarning)\n"
     ]
    },
    {
     "name": "stdout",
     "output_type": "stream",
     "text": [
      "Loading model from file. No training.\n"
     ]
    },
    {
     "name": "stderr",
     "output_type": "stream",
     "text": [
      "/home/michael/anaconda3/envs/scvi/lib/python3.7/site-packages/sklearn/metrics/cluster/supervised.py:859: FutureWarning: The behavior of NMI will change in version 0.22. To match the behavior of 'v_measure_score', NMI will use average_method='arithmetic' by default.\n",
      "  FutureWarning)\n",
      "/home/michael/anaconda3/envs/scvi/lib/python3.7/site-packages/sklearn/utils/linear_assignment_.py:127: DeprecationWarning: The linear_assignment function is deprecated in 0.21 and will be removed from 0.23. Use scipy.optimize.linear_sum_assignment instead.\n",
      "  DeprecationWarning)\n"
     ]
    },
    {
     "name": "stdout",
     "output_type": "stream",
     "text": [
      "Loading model from file. No training.\n"
     ]
    },
    {
     "name": "stderr",
     "output_type": "stream",
     "text": [
      "/home/michael/anaconda3/envs/scvi/lib/python3.7/site-packages/sklearn/metrics/cluster/supervised.py:859: FutureWarning: The behavior of NMI will change in version 0.22. To match the behavior of 'v_measure_score', NMI will use average_method='arithmetic' by default.\n",
      "  FutureWarning)\n",
      "/home/michael/anaconda3/envs/scvi/lib/python3.7/site-packages/sklearn/utils/linear_assignment_.py:127: DeprecationWarning: The linear_assignment function is deprecated in 0.21 and will be removed from 0.23. Use scipy.optimize.linear_sum_assignment instead.\n",
      "  DeprecationWarning)\n"
     ]
    },
    {
     "name": "stdout",
     "output_type": "stream",
     "text": [
      "Loading model from file. No training.\n"
     ]
    },
    {
     "name": "stderr",
     "output_type": "stream",
     "text": [
      "/home/michael/anaconda3/envs/scvi/lib/python3.7/site-packages/sklearn/metrics/cluster/supervised.py:859: FutureWarning: The behavior of NMI will change in version 0.22. To match the behavior of 'v_measure_score', NMI will use average_method='arithmetic' by default.\n",
      "  FutureWarning)\n",
      "/home/michael/anaconda3/envs/scvi/lib/python3.7/site-packages/sklearn/utils/linear_assignment_.py:127: DeprecationWarning: The linear_assignment function is deprecated in 0.21 and will be removed from 0.23. Use scipy.optimize.linear_sum_assignment instead.\n",
      "  DeprecationWarning)\n"
     ]
    },
    {
     "name": "stdout",
     "output_type": "stream",
     "text": [
      "Loading model from file. No training.\n"
     ]
    },
    {
     "name": "stderr",
     "output_type": "stream",
     "text": [
      "/home/michael/anaconda3/envs/scvi/lib/python3.7/site-packages/sklearn/metrics/cluster/supervised.py:859: FutureWarning: The behavior of NMI will change in version 0.22. To match the behavior of 'v_measure_score', NMI will use average_method='arithmetic' by default.\n",
      "  FutureWarning)\n",
      "/home/michael/anaconda3/envs/scvi/lib/python3.7/site-packages/sklearn/utils/linear_assignment_.py:127: DeprecationWarning: The linear_assignment function is deprecated in 0.21 and will be removed from 0.23. Use scipy.optimize.linear_sum_assignment instead.\n",
      "  DeprecationWarning)\n"
     ]
    },
    {
     "name": "stdout",
     "output_type": "stream",
     "text": [
      "Training VAE for tissue  kidney\n"
     ]
    },
    {
     "name": "stderr",
     "output_type": "stream",
     "text": [
      "[2019-10-08 16:21:00,813] INFO - scvi.dataset.dataset | Union dataset is set to ignore batch annotation.\n",
      "[2019-10-08 16:21:00,913] INFO - scvi.dataset.dataset | Downsampled from 31394 to 2936 cells\n",
      "[2019-10-08 16:21:00,916] INFO - scvi.dataset.dataset | Union dataset is set to ignore batch annotation.\n",
      "[2019-10-08 16:21:01,838] INFO - scvi.dataset.dataset | Downsampled from 31394 to 28458 cells\n"
     ]
    },
    {
     "name": "stdout",
     "output_type": "stream",
     "text": [
      "Loading model from file. No training.\n"
     ]
    },
    {
     "name": "stderr",
     "output_type": "stream",
     "text": [
      "/home/michael/anaconda3/envs/scvi/lib/python3.7/site-packages/sklearn/metrics/cluster/supervised.py:859: FutureWarning: The behavior of NMI will change in version 0.22. To match the behavior of 'v_measure_score', NMI will use average_method='arithmetic' by default.\n",
      "  FutureWarning)\n",
      "/home/michael/anaconda3/envs/scvi/lib/python3.7/site-packages/sklearn/utils/linear_assignment_.py:127: DeprecationWarning: The linear_assignment function is deprecated in 0.21 and will be removed from 0.23. Use scipy.optimize.linear_sum_assignment instead.\n",
      "  DeprecationWarning)\n"
     ]
    },
    {
     "name": "stdout",
     "output_type": "stream",
     "text": [
      "Loading model from file. No training.\n"
     ]
    },
    {
     "name": "stderr",
     "output_type": "stream",
     "text": [
      "/home/michael/anaconda3/envs/scvi/lib/python3.7/site-packages/sklearn/metrics/cluster/supervised.py:859: FutureWarning: The behavior of NMI will change in version 0.22. To match the behavior of 'v_measure_score', NMI will use average_method='arithmetic' by default.\n",
      "  FutureWarning)\n",
      "/home/michael/anaconda3/envs/scvi/lib/python3.7/site-packages/sklearn/utils/linear_assignment_.py:127: DeprecationWarning: The linear_assignment function is deprecated in 0.21 and will be removed from 0.23. Use scipy.optimize.linear_sum_assignment instead.\n",
      "  DeprecationWarning)\n"
     ]
    },
    {
     "name": "stdout",
     "output_type": "stream",
     "text": [
      "Loading model from file. No training.\n"
     ]
    },
    {
     "name": "stderr",
     "output_type": "stream",
     "text": [
      "/home/michael/anaconda3/envs/scvi/lib/python3.7/site-packages/sklearn/metrics/cluster/supervised.py:859: FutureWarning: The behavior of NMI will change in version 0.22. To match the behavior of 'v_measure_score', NMI will use average_method='arithmetic' by default.\n",
      "  FutureWarning)\n",
      "/home/michael/anaconda3/envs/scvi/lib/python3.7/site-packages/sklearn/utils/linear_assignment_.py:127: DeprecationWarning: The linear_assignment function is deprecated in 0.21 and will be removed from 0.23. Use scipy.optimize.linear_sum_assignment instead.\n",
      "  DeprecationWarning)\n"
     ]
    },
    {
     "name": "stdout",
     "output_type": "stream",
     "text": [
      "Loading model from file. No training.\n"
     ]
    },
    {
     "name": "stderr",
     "output_type": "stream",
     "text": [
      "/home/michael/anaconda3/envs/scvi/lib/python3.7/site-packages/sklearn/metrics/cluster/supervised.py:859: FutureWarning: The behavior of NMI will change in version 0.22. To match the behavior of 'v_measure_score', NMI will use average_method='arithmetic' by default.\n",
      "  FutureWarning)\n",
      "/home/michael/anaconda3/envs/scvi/lib/python3.7/site-packages/sklearn/utils/linear_assignment_.py:127: DeprecationWarning: The linear_assignment function is deprecated in 0.21 and will be removed from 0.23. Use scipy.optimize.linear_sum_assignment instead.\n",
      "  DeprecationWarning)\n"
     ]
    },
    {
     "name": "stdout",
     "output_type": "stream",
     "text": [
      "Loading model from file. No training.\n"
     ]
    },
    {
     "name": "stderr",
     "output_type": "stream",
     "text": [
      "/home/michael/anaconda3/envs/scvi/lib/python3.7/site-packages/sklearn/metrics/cluster/supervised.py:859: FutureWarning: The behavior of NMI will change in version 0.22. To match the behavior of 'v_measure_score', NMI will use average_method='arithmetic' by default.\n",
      "  FutureWarning)\n",
      "/home/michael/anaconda3/envs/scvi/lib/python3.7/site-packages/sklearn/utils/linear_assignment_.py:127: DeprecationWarning: The linear_assignment function is deprecated in 0.21 and will be removed from 0.23. Use scipy.optimize.linear_sum_assignment instead.\n",
      "  DeprecationWarning)\n"
     ]
    },
    {
     "name": "stdout",
     "output_type": "stream",
     "text": [
      "Training VAE for tissue  limb muscle\n"
     ]
    },
    {
     "name": "stderr",
     "output_type": "stream",
     "text": [
      "[2019-10-08 16:21:15,047] INFO - scvi.dataset.dataset | Union dataset is set to ignore batch annotation.\n",
      "[2019-10-08 16:21:15,220] INFO - scvi.dataset.dataset | Downsampled from 31394 to 5312 cells\n",
      "[2019-10-08 16:21:15,222] INFO - scvi.dataset.dataset | Union dataset is set to ignore batch annotation.\n",
      "[2019-10-08 16:21:16,057] INFO - scvi.dataset.dataset | Downsampled from 31394 to 26082 cells\n"
     ]
    },
    {
     "name": "stdout",
     "output_type": "stream",
     "text": [
      "Loading model from file. No training.\n"
     ]
    },
    {
     "name": "stderr",
     "output_type": "stream",
     "text": [
      "/home/michael/anaconda3/envs/scvi/lib/python3.7/site-packages/sklearn/metrics/cluster/supervised.py:859: FutureWarning: The behavior of NMI will change in version 0.22. To match the behavior of 'v_measure_score', NMI will use average_method='arithmetic' by default.\n",
      "  FutureWarning)\n",
      "/home/michael/anaconda3/envs/scvi/lib/python3.7/site-packages/sklearn/utils/linear_assignment_.py:127: DeprecationWarning: The linear_assignment function is deprecated in 0.21 and will be removed from 0.23. Use scipy.optimize.linear_sum_assignment instead.\n",
      "  DeprecationWarning)\n"
     ]
    },
    {
     "name": "stdout",
     "output_type": "stream",
     "text": [
      "Loading model from file. No training.\n"
     ]
    },
    {
     "name": "stderr",
     "output_type": "stream",
     "text": [
      "/home/michael/anaconda3/envs/scvi/lib/python3.7/site-packages/sklearn/metrics/cluster/supervised.py:859: FutureWarning: The behavior of NMI will change in version 0.22. To match the behavior of 'v_measure_score', NMI will use average_method='arithmetic' by default.\n",
      "  FutureWarning)\n",
      "/home/michael/anaconda3/envs/scvi/lib/python3.7/site-packages/sklearn/utils/linear_assignment_.py:127: DeprecationWarning: The linear_assignment function is deprecated in 0.21 and will be removed from 0.23. Use scipy.optimize.linear_sum_assignment instead.\n",
      "  DeprecationWarning)\n"
     ]
    },
    {
     "name": "stdout",
     "output_type": "stream",
     "text": [
      "Loading model from file. No training.\n"
     ]
    },
    {
     "name": "stderr",
     "output_type": "stream",
     "text": [
      "/home/michael/anaconda3/envs/scvi/lib/python3.7/site-packages/sklearn/metrics/cluster/supervised.py:859: FutureWarning: The behavior of NMI will change in version 0.22. To match the behavior of 'v_measure_score', NMI will use average_method='arithmetic' by default.\n",
      "  FutureWarning)\n",
      "/home/michael/anaconda3/envs/scvi/lib/python3.7/site-packages/sklearn/utils/linear_assignment_.py:127: DeprecationWarning: The linear_assignment function is deprecated in 0.21 and will be removed from 0.23. Use scipy.optimize.linear_sum_assignment instead.\n",
      "  DeprecationWarning)\n"
     ]
    },
    {
     "name": "stdout",
     "output_type": "stream",
     "text": [
      "Loading model from file. No training.\n"
     ]
    },
    {
     "name": "stderr",
     "output_type": "stream",
     "text": [
      "/home/michael/anaconda3/envs/scvi/lib/python3.7/site-packages/sklearn/metrics/cluster/supervised.py:859: FutureWarning: The behavior of NMI will change in version 0.22. To match the behavior of 'v_measure_score', NMI will use average_method='arithmetic' by default.\n",
      "  FutureWarning)\n",
      "/home/michael/anaconda3/envs/scvi/lib/python3.7/site-packages/sklearn/utils/linear_assignment_.py:127: DeprecationWarning: The linear_assignment function is deprecated in 0.21 and will be removed from 0.23. Use scipy.optimize.linear_sum_assignment instead.\n",
      "  DeprecationWarning)\n"
     ]
    },
    {
     "name": "stdout",
     "output_type": "stream",
     "text": [
      "Loading model from file. No training.\n"
     ]
    },
    {
     "name": "stderr",
     "output_type": "stream",
     "text": [
      "/home/michael/anaconda3/envs/scvi/lib/python3.7/site-packages/sklearn/metrics/cluster/supervised.py:859: FutureWarning: The behavior of NMI will change in version 0.22. To match the behavior of 'v_measure_score', NMI will use average_method='arithmetic' by default.\n",
      "  FutureWarning)\n",
      "/home/michael/anaconda3/envs/scvi/lib/python3.7/site-packages/sklearn/utils/linear_assignment_.py:127: DeprecationWarning: The linear_assignment function is deprecated in 0.21 and will be removed from 0.23. Use scipy.optimize.linear_sum_assignment instead.\n",
      "  DeprecationWarning)\n"
     ]
    },
    {
     "name": "stdout",
     "output_type": "stream",
     "text": [
      "Training VAE for tissue  liver\n"
     ]
    },
    {
     "name": "stderr",
     "output_type": "stream",
     "text": [
      "[2019-10-08 16:21:37,367] INFO - scvi.dataset.dataset | Union dataset is set to ignore batch annotation.\n",
      "[2019-10-08 16:21:37,443] INFO - scvi.dataset.dataset | Downsampled from 31394 to 1984 cells\n",
      "[2019-10-08 16:21:37,445] INFO - scvi.dataset.dataset | Union dataset is set to ignore batch annotation.\n",
      "[2019-10-08 16:21:38,439] INFO - scvi.dataset.dataset | Downsampled from 31394 to 29410 cells\n"
     ]
    },
    {
     "name": "stdout",
     "output_type": "stream",
     "text": [
      "Loading model from file. No training.\n"
     ]
    },
    {
     "name": "stderr",
     "output_type": "stream",
     "text": [
      "/home/michael/anaconda3/envs/scvi/lib/python3.7/site-packages/sklearn/metrics/cluster/supervised.py:859: FutureWarning: The behavior of NMI will change in version 0.22. To match the behavior of 'v_measure_score', NMI will use average_method='arithmetic' by default.\n",
      "  FutureWarning)\n",
      "/home/michael/anaconda3/envs/scvi/lib/python3.7/site-packages/sklearn/utils/linear_assignment_.py:127: DeprecationWarning: The linear_assignment function is deprecated in 0.21 and will be removed from 0.23. Use scipy.optimize.linear_sum_assignment instead.\n",
      "  DeprecationWarning)\n"
     ]
    },
    {
     "name": "stdout",
     "output_type": "stream",
     "text": [
      "Loading model from file. No training.\n"
     ]
    },
    {
     "name": "stderr",
     "output_type": "stream",
     "text": [
      "/home/michael/anaconda3/envs/scvi/lib/python3.7/site-packages/sklearn/metrics/cluster/supervised.py:859: FutureWarning: The behavior of NMI will change in version 0.22. To match the behavior of 'v_measure_score', NMI will use average_method='arithmetic' by default.\n",
      "  FutureWarning)\n",
      "/home/michael/anaconda3/envs/scvi/lib/python3.7/site-packages/sklearn/utils/linear_assignment_.py:127: DeprecationWarning: The linear_assignment function is deprecated in 0.21 and will be removed from 0.23. Use scipy.optimize.linear_sum_assignment instead.\n",
      "  DeprecationWarning)\n"
     ]
    },
    {
     "name": "stdout",
     "output_type": "stream",
     "text": [
      "Loading model from file. No training.\n"
     ]
    },
    {
     "name": "stderr",
     "output_type": "stream",
     "text": [
      "/home/michael/anaconda3/envs/scvi/lib/python3.7/site-packages/sklearn/metrics/cluster/supervised.py:859: FutureWarning: The behavior of NMI will change in version 0.22. To match the behavior of 'v_measure_score', NMI will use average_method='arithmetic' by default.\n",
      "  FutureWarning)\n",
      "/home/michael/anaconda3/envs/scvi/lib/python3.7/site-packages/sklearn/utils/linear_assignment_.py:127: DeprecationWarning: The linear_assignment function is deprecated in 0.21 and will be removed from 0.23. Use scipy.optimize.linear_sum_assignment instead.\n",
      "  DeprecationWarning)\n"
     ]
    },
    {
     "name": "stdout",
     "output_type": "stream",
     "text": [
      "Loading model from file. No training.\n"
     ]
    },
    {
     "name": "stderr",
     "output_type": "stream",
     "text": [
      "/home/michael/anaconda3/envs/scvi/lib/python3.7/site-packages/sklearn/metrics/cluster/supervised.py:859: FutureWarning: The behavior of NMI will change in version 0.22. To match the behavior of 'v_measure_score', NMI will use average_method='arithmetic' by default.\n",
      "  FutureWarning)\n",
      "/home/michael/anaconda3/envs/scvi/lib/python3.7/site-packages/sklearn/utils/linear_assignment_.py:127: DeprecationWarning: The linear_assignment function is deprecated in 0.21 and will be removed from 0.23. Use scipy.optimize.linear_sum_assignment instead.\n",
      "  DeprecationWarning)\n"
     ]
    },
    {
     "name": "stdout",
     "output_type": "stream",
     "text": [
      "Loading model from file. No training.\n"
     ]
    },
    {
     "name": "stderr",
     "output_type": "stream",
     "text": [
      "/home/michael/anaconda3/envs/scvi/lib/python3.7/site-packages/sklearn/metrics/cluster/supervised.py:859: FutureWarning: The behavior of NMI will change in version 0.22. To match the behavior of 'v_measure_score', NMI will use average_method='arithmetic' by default.\n",
      "  FutureWarning)\n",
      "/home/michael/anaconda3/envs/scvi/lib/python3.7/site-packages/sklearn/utils/linear_assignment_.py:127: DeprecationWarning: The linear_assignment function is deprecated in 0.21 and will be removed from 0.23. Use scipy.optimize.linear_sum_assignment instead.\n",
      "  DeprecationWarning)\n"
     ]
    },
    {
     "name": "stdout",
     "output_type": "stream",
     "text": [
      "Training VAE for tissue  lung\n"
     ]
    },
    {
     "name": "stderr",
     "output_type": "stream",
     "text": [
      "[2019-10-08 16:21:46,802] INFO - scvi.dataset.dataset | Union dataset is set to ignore batch annotation.\n",
      "[2019-10-08 16:21:46,962] INFO - scvi.dataset.dataset | Downsampled from 31394 to 4930 cells\n",
      "[2019-10-08 16:21:46,965] INFO - scvi.dataset.dataset | Union dataset is set to ignore batch annotation.\n",
      "[2019-10-08 16:21:47,800] INFO - scvi.dataset.dataset | Downsampled from 31394 to 26464 cells\n"
     ]
    },
    {
     "name": "stdout",
     "output_type": "stream",
     "text": [
      "Loading model from file. No training.\n"
     ]
    },
    {
     "name": "stderr",
     "output_type": "stream",
     "text": [
      "/home/michael/anaconda3/envs/scvi/lib/python3.7/site-packages/sklearn/metrics/cluster/supervised.py:859: FutureWarning: The behavior of NMI will change in version 0.22. To match the behavior of 'v_measure_score', NMI will use average_method='arithmetic' by default.\n",
      "  FutureWarning)\n",
      "/home/michael/anaconda3/envs/scvi/lib/python3.7/site-packages/sklearn/utils/linear_assignment_.py:127: DeprecationWarning: The linear_assignment function is deprecated in 0.21 and will be removed from 0.23. Use scipy.optimize.linear_sum_assignment instead.\n",
      "  DeprecationWarning)\n"
     ]
    },
    {
     "name": "stdout",
     "output_type": "stream",
     "text": [
      "Loading model from file. No training.\n"
     ]
    },
    {
     "name": "stderr",
     "output_type": "stream",
     "text": [
      "/home/michael/anaconda3/envs/scvi/lib/python3.7/site-packages/sklearn/metrics/cluster/supervised.py:859: FutureWarning: The behavior of NMI will change in version 0.22. To match the behavior of 'v_measure_score', NMI will use average_method='arithmetic' by default.\n",
      "  FutureWarning)\n",
      "/home/michael/anaconda3/envs/scvi/lib/python3.7/site-packages/sklearn/utils/linear_assignment_.py:127: DeprecationWarning: The linear_assignment function is deprecated in 0.21 and will be removed from 0.23. Use scipy.optimize.linear_sum_assignment instead.\n",
      "  DeprecationWarning)\n"
     ]
    },
    {
     "name": "stdout",
     "output_type": "stream",
     "text": [
      "Loading model from file. No training.\n"
     ]
    },
    {
     "name": "stderr",
     "output_type": "stream",
     "text": [
      "/home/michael/anaconda3/envs/scvi/lib/python3.7/site-packages/sklearn/metrics/cluster/supervised.py:859: FutureWarning: The behavior of NMI will change in version 0.22. To match the behavior of 'v_measure_score', NMI will use average_method='arithmetic' by default.\n",
      "  FutureWarning)\n",
      "/home/michael/anaconda3/envs/scvi/lib/python3.7/site-packages/sklearn/utils/linear_assignment_.py:127: DeprecationWarning: The linear_assignment function is deprecated in 0.21 and will be removed from 0.23. Use scipy.optimize.linear_sum_assignment instead.\n",
      "  DeprecationWarning)\n"
     ]
    },
    {
     "name": "stdout",
     "output_type": "stream",
     "text": [
      "Loading model from file. No training.\n"
     ]
    },
    {
     "name": "stderr",
     "output_type": "stream",
     "text": [
      "/home/michael/anaconda3/envs/scvi/lib/python3.7/site-packages/sklearn/metrics/cluster/supervised.py:859: FutureWarning: The behavior of NMI will change in version 0.22. To match the behavior of 'v_measure_score', NMI will use average_method='arithmetic' by default.\n",
      "  FutureWarning)\n",
      "/home/michael/anaconda3/envs/scvi/lib/python3.7/site-packages/sklearn/utils/linear_assignment_.py:127: DeprecationWarning: The linear_assignment function is deprecated in 0.21 and will be removed from 0.23. Use scipy.optimize.linear_sum_assignment instead.\n",
      "  DeprecationWarning)\n"
     ]
    },
    {
     "name": "stdout",
     "output_type": "stream",
     "text": [
      "Loading model from file. No training.\n"
     ]
    },
    {
     "name": "stderr",
     "output_type": "stream",
     "text": [
      "/home/michael/anaconda3/envs/scvi/lib/python3.7/site-packages/sklearn/metrics/cluster/supervised.py:859: FutureWarning: The behavior of NMI will change in version 0.22. To match the behavior of 'v_measure_score', NMI will use average_method='arithmetic' by default.\n",
      "  FutureWarning)\n",
      "/home/michael/anaconda3/envs/scvi/lib/python3.7/site-packages/sklearn/utils/linear_assignment_.py:127: DeprecationWarning: The linear_assignment function is deprecated in 0.21 and will be removed from 0.23. Use scipy.optimize.linear_sum_assignment instead.\n",
      "  DeprecationWarning)\n"
     ]
    },
    {
     "name": "stdout",
     "output_type": "stream",
     "text": [
      "Training VAE for tissue  mammary gland\n"
     ]
    },
    {
     "name": "stderr",
     "output_type": "stream",
     "text": [
      "[2019-10-08 16:22:19,519] INFO - scvi.dataset.dataset | Union dataset is set to ignore batch annotation.\n",
      "[2019-10-08 16:22:19,665] INFO - scvi.dataset.dataset | Downsampled from 31394 to 4262 cells\n",
      "[2019-10-08 16:22:19,668] INFO - scvi.dataset.dataset | Union dataset is set to ignore batch annotation.\n",
      "[2019-10-08 16:22:20,530] INFO - scvi.dataset.dataset | Downsampled from 31394 to 27132 cells\n"
     ]
    },
    {
     "name": "stdout",
     "output_type": "stream",
     "text": [
      "Loading model from file. No training.\n"
     ]
    },
    {
     "name": "stderr",
     "output_type": "stream",
     "text": [
      "/home/michael/anaconda3/envs/scvi/lib/python3.7/site-packages/sklearn/metrics/cluster/supervised.py:859: FutureWarning: The behavior of NMI will change in version 0.22. To match the behavior of 'v_measure_score', NMI will use average_method='arithmetic' by default.\n",
      "  FutureWarning)\n",
      "/home/michael/anaconda3/envs/scvi/lib/python3.7/site-packages/sklearn/utils/linear_assignment_.py:127: DeprecationWarning: The linear_assignment function is deprecated in 0.21 and will be removed from 0.23. Use scipy.optimize.linear_sum_assignment instead.\n",
      "  DeprecationWarning)\n"
     ]
    },
    {
     "name": "stdout",
     "output_type": "stream",
     "text": [
      "Loading model from file. No training.\n"
     ]
    },
    {
     "name": "stderr",
     "output_type": "stream",
     "text": [
      "/home/michael/anaconda3/envs/scvi/lib/python3.7/site-packages/sklearn/metrics/cluster/supervised.py:859: FutureWarning: The behavior of NMI will change in version 0.22. To match the behavior of 'v_measure_score', NMI will use average_method='arithmetic' by default.\n",
      "  FutureWarning)\n",
      "/home/michael/anaconda3/envs/scvi/lib/python3.7/site-packages/sklearn/utils/linear_assignment_.py:127: DeprecationWarning: The linear_assignment function is deprecated in 0.21 and will be removed from 0.23. Use scipy.optimize.linear_sum_assignment instead.\n",
      "  DeprecationWarning)\n"
     ]
    },
    {
     "name": "stdout",
     "output_type": "stream",
     "text": [
      "Loading model from file. No training.\n"
     ]
    },
    {
     "name": "stderr",
     "output_type": "stream",
     "text": [
      "/home/michael/anaconda3/envs/scvi/lib/python3.7/site-packages/sklearn/metrics/cluster/supervised.py:859: FutureWarning: The behavior of NMI will change in version 0.22. To match the behavior of 'v_measure_score', NMI will use average_method='arithmetic' by default.\n",
      "  FutureWarning)\n",
      "/home/michael/anaconda3/envs/scvi/lib/python3.7/site-packages/sklearn/utils/linear_assignment_.py:127: DeprecationWarning: The linear_assignment function is deprecated in 0.21 and will be removed from 0.23. Use scipy.optimize.linear_sum_assignment instead.\n",
      "  DeprecationWarning)\n"
     ]
    },
    {
     "name": "stdout",
     "output_type": "stream",
     "text": [
      "Loading model from file. No training.\n"
     ]
    },
    {
     "name": "stderr",
     "output_type": "stream",
     "text": [
      "/home/michael/anaconda3/envs/scvi/lib/python3.7/site-packages/sklearn/metrics/cluster/supervised.py:859: FutureWarning: The behavior of NMI will change in version 0.22. To match the behavior of 'v_measure_score', NMI will use average_method='arithmetic' by default.\n",
      "  FutureWarning)\n",
      "/home/michael/anaconda3/envs/scvi/lib/python3.7/site-packages/sklearn/utils/linear_assignment_.py:127: DeprecationWarning: The linear_assignment function is deprecated in 0.21 and will be removed from 0.23. Use scipy.optimize.linear_sum_assignment instead.\n",
      "  DeprecationWarning)\n"
     ]
    },
    {
     "name": "stdout",
     "output_type": "stream",
     "text": [
      "Loading model from file. No training.\n"
     ]
    },
    {
     "name": "stderr",
     "output_type": "stream",
     "text": [
      "/home/michael/anaconda3/envs/scvi/lib/python3.7/site-packages/sklearn/metrics/cluster/supervised.py:859: FutureWarning: The behavior of NMI will change in version 0.22. To match the behavior of 'v_measure_score', NMI will use average_method='arithmetic' by default.\n",
      "  FutureWarning)\n",
      "/home/michael/anaconda3/envs/scvi/lib/python3.7/site-packages/sklearn/utils/linear_assignment_.py:127: DeprecationWarning: The linear_assignment function is deprecated in 0.21 and will be removed from 0.23. Use scipy.optimize.linear_sum_assignment instead.\n",
      "  DeprecationWarning)\n"
     ]
    },
    {
     "name": "stdout",
     "output_type": "stream",
     "text": [
      "Training VAE for tissue  mesenteric adipose tissue\n"
     ]
    },
    {
     "name": "stderr",
     "output_type": "stream",
     "text": [
      "[2019-10-08 16:22:34,100] INFO - scvi.dataset.dataset | Union dataset is set to ignore batch annotation.\n",
      "[2019-10-08 16:22:34,328] INFO - scvi.dataset.dataset | Downsampled from 31394 to 6770 cells\n",
      "[2019-10-08 16:22:34,331] INFO - scvi.dataset.dataset | Union dataset is set to ignore batch annotation.\n",
      "[2019-10-08 16:22:35,152] INFO - scvi.dataset.dataset | Downsampled from 31394 to 24624 cells\n"
     ]
    },
    {
     "name": "stdout",
     "output_type": "stream",
     "text": [
      "Loading model from file. No training.\n"
     ]
    },
    {
     "name": "stderr",
     "output_type": "stream",
     "text": [
      "/home/michael/anaconda3/envs/scvi/lib/python3.7/site-packages/sklearn/metrics/cluster/supervised.py:859: FutureWarning: The behavior of NMI will change in version 0.22. To match the behavior of 'v_measure_score', NMI will use average_method='arithmetic' by default.\n",
      "  FutureWarning)\n",
      "/home/michael/anaconda3/envs/scvi/lib/python3.7/site-packages/sklearn/utils/linear_assignment_.py:127: DeprecationWarning: The linear_assignment function is deprecated in 0.21 and will be removed from 0.23. Use scipy.optimize.linear_sum_assignment instead.\n",
      "  DeprecationWarning)\n"
     ]
    },
    {
     "name": "stdout",
     "output_type": "stream",
     "text": [
      "Loading model from file. No training.\n"
     ]
    },
    {
     "name": "stderr",
     "output_type": "stream",
     "text": [
      "/home/michael/anaconda3/envs/scvi/lib/python3.7/site-packages/sklearn/metrics/cluster/supervised.py:859: FutureWarning: The behavior of NMI will change in version 0.22. To match the behavior of 'v_measure_score', NMI will use average_method='arithmetic' by default.\n",
      "  FutureWarning)\n",
      "/home/michael/anaconda3/envs/scvi/lib/python3.7/site-packages/sklearn/utils/linear_assignment_.py:127: DeprecationWarning: The linear_assignment function is deprecated in 0.21 and will be removed from 0.23. Use scipy.optimize.linear_sum_assignment instead.\n",
      "  DeprecationWarning)\n"
     ]
    },
    {
     "name": "stdout",
     "output_type": "stream",
     "text": [
      "Loading model from file. No training.\n"
     ]
    },
    {
     "name": "stderr",
     "output_type": "stream",
     "text": [
      "/home/michael/anaconda3/envs/scvi/lib/python3.7/site-packages/sklearn/metrics/cluster/supervised.py:859: FutureWarning: The behavior of NMI will change in version 0.22. To match the behavior of 'v_measure_score', NMI will use average_method='arithmetic' by default.\n",
      "  FutureWarning)\n",
      "/home/michael/anaconda3/envs/scvi/lib/python3.7/site-packages/sklearn/utils/linear_assignment_.py:127: DeprecationWarning: The linear_assignment function is deprecated in 0.21 and will be removed from 0.23. Use scipy.optimize.linear_sum_assignment instead.\n",
      "  DeprecationWarning)\n"
     ]
    },
    {
     "name": "stdout",
     "output_type": "stream",
     "text": [
      "Loading model from file. No training.\n"
     ]
    },
    {
     "name": "stderr",
     "output_type": "stream",
     "text": [
      "/home/michael/anaconda3/envs/scvi/lib/python3.7/site-packages/sklearn/metrics/cluster/supervised.py:859: FutureWarning: The behavior of NMI will change in version 0.22. To match the behavior of 'v_measure_score', NMI will use average_method='arithmetic' by default.\n",
      "  FutureWarning)\n",
      "/home/michael/anaconda3/envs/scvi/lib/python3.7/site-packages/sklearn/utils/linear_assignment_.py:127: DeprecationWarning: The linear_assignment function is deprecated in 0.21 and will be removed from 0.23. Use scipy.optimize.linear_sum_assignment instead.\n",
      "  DeprecationWarning)\n"
     ]
    },
    {
     "name": "stdout",
     "output_type": "stream",
     "text": [
      "Loading model from file. No training.\n"
     ]
    },
    {
     "name": "stderr",
     "output_type": "stream",
     "text": [
      "/home/michael/anaconda3/envs/scvi/lib/python3.7/site-packages/sklearn/metrics/cluster/supervised.py:859: FutureWarning: The behavior of NMI will change in version 0.22. To match the behavior of 'v_measure_score', NMI will use average_method='arithmetic' by default.\n",
      "  FutureWarning)\n",
      "/home/michael/anaconda3/envs/scvi/lib/python3.7/site-packages/sklearn/utils/linear_assignment_.py:127: DeprecationWarning: The linear_assignment function is deprecated in 0.21 and will be removed from 0.23. Use scipy.optimize.linear_sum_assignment instead.\n",
      "  DeprecationWarning)\n"
     ]
    },
    {
     "name": "stdout",
     "output_type": "stream",
     "text": [
      "Training VAE for tissue  spleen\n"
     ]
    },
    {
     "name": "stderr",
     "output_type": "stream",
     "text": [
      "[2019-10-08 16:23:00,422] INFO - scvi.dataset.dataset | Union dataset is set to ignore batch annotation.\n",
      "[2019-10-08 16:23:00,515] INFO - scvi.dataset.dataset | Downsampled from 31394 to 2257 cells\n",
      "[2019-10-08 16:23:00,518] INFO - scvi.dataset.dataset | Union dataset is set to ignore batch annotation.\n",
      "[2019-10-08 16:23:01,460] INFO - scvi.dataset.dataset | Downsampled from 31394 to 29137 cells\n"
     ]
    },
    {
     "name": "stdout",
     "output_type": "stream",
     "text": [
      "Loading model from file. No training.\n"
     ]
    },
    {
     "name": "stderr",
     "output_type": "stream",
     "text": [
      "/home/michael/anaconda3/envs/scvi/lib/python3.7/site-packages/sklearn/metrics/cluster/supervised.py:859: FutureWarning: The behavior of NMI will change in version 0.22. To match the behavior of 'v_measure_score', NMI will use average_method='arithmetic' by default.\n",
      "  FutureWarning)\n",
      "/home/michael/anaconda3/envs/scvi/lib/python3.7/site-packages/sklearn/utils/linear_assignment_.py:127: DeprecationWarning: The linear_assignment function is deprecated in 0.21 and will be removed from 0.23. Use scipy.optimize.linear_sum_assignment instead.\n",
      "  DeprecationWarning)\n"
     ]
    },
    {
     "name": "stdout",
     "output_type": "stream",
     "text": [
      "Loading model from file. No training.\n"
     ]
    },
    {
     "name": "stderr",
     "output_type": "stream",
     "text": [
      "/home/michael/anaconda3/envs/scvi/lib/python3.7/site-packages/sklearn/metrics/cluster/supervised.py:859: FutureWarning: The behavior of NMI will change in version 0.22. To match the behavior of 'v_measure_score', NMI will use average_method='arithmetic' by default.\n",
      "  FutureWarning)\n",
      "/home/michael/anaconda3/envs/scvi/lib/python3.7/site-packages/sklearn/utils/linear_assignment_.py:127: DeprecationWarning: The linear_assignment function is deprecated in 0.21 and will be removed from 0.23. Use scipy.optimize.linear_sum_assignment instead.\n",
      "  DeprecationWarning)\n"
     ]
    },
    {
     "name": "stdout",
     "output_type": "stream",
     "text": [
      "Loading model from file. No training.\n"
     ]
    },
    {
     "name": "stderr",
     "output_type": "stream",
     "text": [
      "/home/michael/anaconda3/envs/scvi/lib/python3.7/site-packages/sklearn/metrics/cluster/supervised.py:859: FutureWarning: The behavior of NMI will change in version 0.22. To match the behavior of 'v_measure_score', NMI will use average_method='arithmetic' by default.\n",
      "  FutureWarning)\n",
      "/home/michael/anaconda3/envs/scvi/lib/python3.7/site-packages/sklearn/utils/linear_assignment_.py:127: DeprecationWarning: The linear_assignment function is deprecated in 0.21 and will be removed from 0.23. Use scipy.optimize.linear_sum_assignment instead.\n",
      "  DeprecationWarning)\n"
     ]
    },
    {
     "name": "stdout",
     "output_type": "stream",
     "text": [
      "Loading model from file. No training.\n"
     ]
    },
    {
     "name": "stderr",
     "output_type": "stream",
     "text": [
      "/home/michael/anaconda3/envs/scvi/lib/python3.7/site-packages/sklearn/metrics/cluster/supervised.py:859: FutureWarning: The behavior of NMI will change in version 0.22. To match the behavior of 'v_measure_score', NMI will use average_method='arithmetic' by default.\n",
      "  FutureWarning)\n",
      "/home/michael/anaconda3/envs/scvi/lib/python3.7/site-packages/sklearn/utils/linear_assignment_.py:127: DeprecationWarning: The linear_assignment function is deprecated in 0.21 and will be removed from 0.23. Use scipy.optimize.linear_sum_assignment instead.\n",
      "  DeprecationWarning)\n"
     ]
    },
    {
     "name": "stdout",
     "output_type": "stream",
     "text": [
      "Loading model from file. No training.\n"
     ]
    },
    {
     "name": "stderr",
     "output_type": "stream",
     "text": [
      "/home/michael/anaconda3/envs/scvi/lib/python3.7/site-packages/sklearn/metrics/cluster/supervised.py:859: FutureWarning: The behavior of NMI will change in version 0.22. To match the behavior of 'v_measure_score', NMI will use average_method='arithmetic' by default.\n",
      "  FutureWarning)\n",
      "/home/michael/anaconda3/envs/scvi/lib/python3.7/site-packages/sklearn/utils/linear_assignment_.py:127: DeprecationWarning: The linear_assignment function is deprecated in 0.21 and will be removed from 0.23. Use scipy.optimize.linear_sum_assignment instead.\n",
      "  DeprecationWarning)\n"
     ]
    },
    {
     "name": "stdout",
     "output_type": "stream",
     "text": [
      "Training VAE for tissue  striatum\n"
     ]
    },
    {
     "name": "stderr",
     "output_type": "stream",
     "text": [
      "[2019-10-08 16:23:08,934] INFO - scvi.dataset.dataset | Union dataset is set to ignore batch annotation.\n",
      "[2019-10-08 16:23:09,168] INFO - scvi.dataset.dataset | Downsampled from 31394 to 7502 cells\n",
      "[2019-10-08 16:23:09,171] INFO - scvi.dataset.dataset | Union dataset is set to ignore batch annotation.\n",
      "[2019-10-08 16:23:09,955] INFO - scvi.dataset.dataset | Downsampled from 31394 to 23892 cells\n"
     ]
    },
    {
     "name": "stdout",
     "output_type": "stream",
     "text": [
      "Loading model from file. No training.\n"
     ]
    },
    {
     "name": "stderr",
     "output_type": "stream",
     "text": [
      "/home/michael/anaconda3/envs/scvi/lib/python3.7/site-packages/sklearn/metrics/cluster/supervised.py:859: FutureWarning: The behavior of NMI will change in version 0.22. To match the behavior of 'v_measure_score', NMI will use average_method='arithmetic' by default.\n",
      "  FutureWarning)\n",
      "/home/michael/anaconda3/envs/scvi/lib/python3.7/site-packages/sklearn/utils/linear_assignment_.py:127: DeprecationWarning: The linear_assignment function is deprecated in 0.21 and will be removed from 0.23. Use scipy.optimize.linear_sum_assignment instead.\n",
      "  DeprecationWarning)\n"
     ]
    },
    {
     "name": "stdout",
     "output_type": "stream",
     "text": [
      "Loading model from file. No training.\n"
     ]
    },
    {
     "name": "stderr",
     "output_type": "stream",
     "text": [
      "/home/michael/anaconda3/envs/scvi/lib/python3.7/site-packages/sklearn/metrics/cluster/supervised.py:859: FutureWarning: The behavior of NMI will change in version 0.22. To match the behavior of 'v_measure_score', NMI will use average_method='arithmetic' by default.\n",
      "  FutureWarning)\n",
      "/home/michael/anaconda3/envs/scvi/lib/python3.7/site-packages/sklearn/utils/linear_assignment_.py:127: DeprecationWarning: The linear_assignment function is deprecated in 0.21 and will be removed from 0.23. Use scipy.optimize.linear_sum_assignment instead.\n",
      "  DeprecationWarning)\n"
     ]
    },
    {
     "name": "stdout",
     "output_type": "stream",
     "text": [
      "Loading model from file. No training.\n"
     ]
    },
    {
     "name": "stderr",
     "output_type": "stream",
     "text": [
      "/home/michael/anaconda3/envs/scvi/lib/python3.7/site-packages/sklearn/metrics/cluster/supervised.py:859: FutureWarning: The behavior of NMI will change in version 0.22. To match the behavior of 'v_measure_score', NMI will use average_method='arithmetic' by default.\n",
      "  FutureWarning)\n",
      "/home/michael/anaconda3/envs/scvi/lib/python3.7/site-packages/sklearn/utils/linear_assignment_.py:127: DeprecationWarning: The linear_assignment function is deprecated in 0.21 and will be removed from 0.23. Use scipy.optimize.linear_sum_assignment instead.\n",
      "  DeprecationWarning)\n"
     ]
    },
    {
     "name": "stdout",
     "output_type": "stream",
     "text": [
      "Loading model from file. No training.\n"
     ]
    },
    {
     "name": "stderr",
     "output_type": "stream",
     "text": [
      "/home/michael/anaconda3/envs/scvi/lib/python3.7/site-packages/sklearn/metrics/cluster/supervised.py:859: FutureWarning: The behavior of NMI will change in version 0.22. To match the behavior of 'v_measure_score', NMI will use average_method='arithmetic' by default.\n",
      "  FutureWarning)\n",
      "/home/michael/anaconda3/envs/scvi/lib/python3.7/site-packages/sklearn/utils/linear_assignment_.py:127: DeprecationWarning: The linear_assignment function is deprecated in 0.21 and will be removed from 0.23. Use scipy.optimize.linear_sum_assignment instead.\n",
      "  DeprecationWarning)\n"
     ]
    },
    {
     "name": "stdout",
     "output_type": "stream",
     "text": [
      "Loading model from file. No training.\n"
     ]
    },
    {
     "name": "stderr",
     "output_type": "stream",
     "text": [
      "/home/michael/anaconda3/envs/scvi/lib/python3.7/site-packages/sklearn/metrics/cluster/supervised.py:859: FutureWarning: The behavior of NMI will change in version 0.22. To match the behavior of 'v_measure_score', NMI will use average_method='arithmetic' by default.\n",
      "  FutureWarning)\n",
      "/home/michael/anaconda3/envs/scvi/lib/python3.7/site-packages/sklearn/utils/linear_assignment_.py:127: DeprecationWarning: The linear_assignment function is deprecated in 0.21 and will be removed from 0.23. Use scipy.optimize.linear_sum_assignment instead.\n",
      "  DeprecationWarning)\n"
     ]
    },
    {
     "name": "stdout",
     "output_type": "stream",
     "text": [
      "Training VAE for tissue  subcutaneous adipose tissue\n"
     ]
    },
    {
     "name": "stderr",
     "output_type": "stream",
     "text": [
      "[2019-10-08 16:23:47,507] INFO - scvi.dataset.dataset | Union dataset is set to ignore batch annotation.\n",
      "[2019-10-08 16:23:47,718] INFO - scvi.dataset.dataset | Downsampled from 31394 to 6770 cells\n",
      "[2019-10-08 16:23:47,721] INFO - scvi.dataset.dataset | Union dataset is set to ignore batch annotation.\n",
      "[2019-10-08 16:23:48,550] INFO - scvi.dataset.dataset | Downsampled from 31394 to 24624 cells\n"
     ]
    },
    {
     "name": "stdout",
     "output_type": "stream",
     "text": [
      "Loading model from file. No training.\n"
     ]
    },
    {
     "name": "stderr",
     "output_type": "stream",
     "text": [
      "/home/michael/anaconda3/envs/scvi/lib/python3.7/site-packages/sklearn/metrics/cluster/supervised.py:859: FutureWarning: The behavior of NMI will change in version 0.22. To match the behavior of 'v_measure_score', NMI will use average_method='arithmetic' by default.\n",
      "  FutureWarning)\n",
      "/home/michael/anaconda3/envs/scvi/lib/python3.7/site-packages/sklearn/utils/linear_assignment_.py:127: DeprecationWarning: The linear_assignment function is deprecated in 0.21 and will be removed from 0.23. Use scipy.optimize.linear_sum_assignment instead.\n",
      "  DeprecationWarning)\n"
     ]
    },
    {
     "name": "stdout",
     "output_type": "stream",
     "text": [
      "Loading model from file. No training.\n"
     ]
    },
    {
     "name": "stderr",
     "output_type": "stream",
     "text": [
      "/home/michael/anaconda3/envs/scvi/lib/python3.7/site-packages/sklearn/metrics/cluster/supervised.py:859: FutureWarning: The behavior of NMI will change in version 0.22. To match the behavior of 'v_measure_score', NMI will use average_method='arithmetic' by default.\n",
      "  FutureWarning)\n",
      "/home/michael/anaconda3/envs/scvi/lib/python3.7/site-packages/sklearn/utils/linear_assignment_.py:127: DeprecationWarning: The linear_assignment function is deprecated in 0.21 and will be removed from 0.23. Use scipy.optimize.linear_sum_assignment instead.\n",
      "  DeprecationWarning)\n"
     ]
    },
    {
     "name": "stdout",
     "output_type": "stream",
     "text": [
      "Loading model from file. No training.\n"
     ]
    },
    {
     "name": "stderr",
     "output_type": "stream",
     "text": [
      "/home/michael/anaconda3/envs/scvi/lib/python3.7/site-packages/sklearn/metrics/cluster/supervised.py:859: FutureWarning: The behavior of NMI will change in version 0.22. To match the behavior of 'v_measure_score', NMI will use average_method='arithmetic' by default.\n",
      "  FutureWarning)\n",
      "/home/michael/anaconda3/envs/scvi/lib/python3.7/site-packages/sklearn/utils/linear_assignment_.py:127: DeprecationWarning: The linear_assignment function is deprecated in 0.21 and will be removed from 0.23. Use scipy.optimize.linear_sum_assignment instead.\n",
      "  DeprecationWarning)\n"
     ]
    },
    {
     "name": "stdout",
     "output_type": "stream",
     "text": [
      "Loading model from file. No training.\n"
     ]
    },
    {
     "name": "stderr",
     "output_type": "stream",
     "text": [
      "/home/michael/anaconda3/envs/scvi/lib/python3.7/site-packages/sklearn/metrics/cluster/supervised.py:859: FutureWarning: The behavior of NMI will change in version 0.22. To match the behavior of 'v_measure_score', NMI will use average_method='arithmetic' by default.\n",
      "  FutureWarning)\n",
      "/home/michael/anaconda3/envs/scvi/lib/python3.7/site-packages/sklearn/utils/linear_assignment_.py:127: DeprecationWarning: The linear_assignment function is deprecated in 0.21 and will be removed from 0.23. Use scipy.optimize.linear_sum_assignment instead.\n",
      "  DeprecationWarning)\n"
     ]
    },
    {
     "name": "stdout",
     "output_type": "stream",
     "text": [
      "Loading model from file. No training.\n"
     ]
    },
    {
     "name": "stderr",
     "output_type": "stream",
     "text": [
      "/home/michael/anaconda3/envs/scvi/lib/python3.7/site-packages/sklearn/metrics/cluster/supervised.py:859: FutureWarning: The behavior of NMI will change in version 0.22. To match the behavior of 'v_measure_score', NMI will use average_method='arithmetic' by default.\n",
      "  FutureWarning)\n",
      "/home/michael/anaconda3/envs/scvi/lib/python3.7/site-packages/sklearn/utils/linear_assignment_.py:127: DeprecationWarning: The linear_assignment function is deprecated in 0.21 and will be removed from 0.23. Use scipy.optimize.linear_sum_assignment instead.\n",
      "  DeprecationWarning)\n"
     ]
    },
    {
     "name": "stdout",
     "output_type": "stream",
     "text": [
      "Training VAE for tissue  thymus\n"
     ]
    },
    {
     "name": "stderr",
     "output_type": "stream",
     "text": [
      "[2019-10-08 16:24:12,940] INFO - scvi.dataset.dataset | Union dataset is set to ignore batch annotation.\n",
      "[2019-10-08 16:24:12,988] INFO - scvi.dataset.dataset | Downsampled from 31394 to 1014 cells\n",
      "[2019-10-08 16:24:12,990] INFO - scvi.dataset.dataset | Union dataset is set to ignore batch annotation.\n",
      "[2019-10-08 16:24:13,977] INFO - scvi.dataset.dataset | Downsampled from 31394 to 30380 cells\n"
     ]
    },
    {
     "name": "stdout",
     "output_type": "stream",
     "text": [
      "Loading model from file. No training.\n"
     ]
    },
    {
     "name": "stderr",
     "output_type": "stream",
     "text": [
      "/home/michael/anaconda3/envs/scvi/lib/python3.7/site-packages/sklearn/metrics/cluster/supervised.py:859: FutureWarning: The behavior of NMI will change in version 0.22. To match the behavior of 'v_measure_score', NMI will use average_method='arithmetic' by default.\n",
      "  FutureWarning)\n",
      "/home/michael/anaconda3/envs/scvi/lib/python3.7/site-packages/sklearn/utils/linear_assignment_.py:127: DeprecationWarning: The linear_assignment function is deprecated in 0.21 and will be removed from 0.23. Use scipy.optimize.linear_sum_assignment instead.\n",
      "  DeprecationWarning)\n"
     ]
    },
    {
     "name": "stdout",
     "output_type": "stream",
     "text": [
      "Loading model from file. No training.\n"
     ]
    },
    {
     "name": "stderr",
     "output_type": "stream",
     "text": [
      "/home/michael/anaconda3/envs/scvi/lib/python3.7/site-packages/sklearn/metrics/cluster/supervised.py:859: FutureWarning: The behavior of NMI will change in version 0.22. To match the behavior of 'v_measure_score', NMI will use average_method='arithmetic' by default.\n",
      "  FutureWarning)\n",
      "/home/michael/anaconda3/envs/scvi/lib/python3.7/site-packages/sklearn/utils/linear_assignment_.py:127: DeprecationWarning: The linear_assignment function is deprecated in 0.21 and will be removed from 0.23. Use scipy.optimize.linear_sum_assignment instead.\n",
      "  DeprecationWarning)\n"
     ]
    },
    {
     "name": "stdout",
     "output_type": "stream",
     "text": [
      "Loading model from file. No training.\n"
     ]
    },
    {
     "name": "stderr",
     "output_type": "stream",
     "text": [
      "/home/michael/anaconda3/envs/scvi/lib/python3.7/site-packages/sklearn/metrics/cluster/supervised.py:859: FutureWarning: The behavior of NMI will change in version 0.22. To match the behavior of 'v_measure_score', NMI will use average_method='arithmetic' by default.\n",
      "  FutureWarning)\n",
      "/home/michael/anaconda3/envs/scvi/lib/python3.7/site-packages/sklearn/utils/linear_assignment_.py:127: DeprecationWarning: The linear_assignment function is deprecated in 0.21 and will be removed from 0.23. Use scipy.optimize.linear_sum_assignment instead.\n",
      "  DeprecationWarning)\n"
     ]
    },
    {
     "name": "stdout",
     "output_type": "stream",
     "text": [
      "Loading model from file. No training.\n"
     ]
    },
    {
     "name": "stderr",
     "output_type": "stream",
     "text": [
      "/home/michael/anaconda3/envs/scvi/lib/python3.7/site-packages/sklearn/metrics/cluster/supervised.py:859: FutureWarning: The behavior of NMI will change in version 0.22. To match the behavior of 'v_measure_score', NMI will use average_method='arithmetic' by default.\n",
      "  FutureWarning)\n",
      "/home/michael/anaconda3/envs/scvi/lib/python3.7/site-packages/sklearn/utils/linear_assignment_.py:127: DeprecationWarning: The linear_assignment function is deprecated in 0.21 and will be removed from 0.23. Use scipy.optimize.linear_sum_assignment instead.\n",
      "  DeprecationWarning)\n"
     ]
    },
    {
     "name": "stdout",
     "output_type": "stream",
     "text": [
      "Loading model from file. No training.\n"
     ]
    },
    {
     "name": "stderr",
     "output_type": "stream",
     "text": [
      "/home/michael/anaconda3/envs/scvi/lib/python3.7/site-packages/sklearn/metrics/cluster/supervised.py:859: FutureWarning: The behavior of NMI will change in version 0.22. To match the behavior of 'v_measure_score', NMI will use average_method='arithmetic' by default.\n",
      "  FutureWarning)\n",
      "/home/michael/anaconda3/envs/scvi/lib/python3.7/site-packages/sklearn/utils/linear_assignment_.py:127: DeprecationWarning: The linear_assignment function is deprecated in 0.21 and will be removed from 0.23. Use scipy.optimize.linear_sum_assignment instead.\n",
      "  DeprecationWarning)\n"
     ]
    },
    {
     "name": "stdout",
     "output_type": "stream",
     "text": [
      "Training VAE for tissue  tongue\n"
     ]
    },
    {
     "name": "stderr",
     "output_type": "stream",
     "text": [
      "[2019-10-08 16:24:18,506] INFO - scvi.dataset.dataset | Union dataset is set to ignore batch annotation.\n",
      "[2019-10-08 16:24:18,594] INFO - scvi.dataset.dataset | Downsampled from 31394 to 1385 cells\n",
      "[2019-10-08 16:24:18,596] INFO - scvi.dataset.dataset | Union dataset is set to ignore batch annotation.\n",
      "[2019-10-08 16:24:19,523] INFO - scvi.dataset.dataset | Downsampled from 31394 to 30009 cells\n"
     ]
    },
    {
     "name": "stdout",
     "output_type": "stream",
     "text": [
      "Loading model from file. No training.\n"
     ]
    },
    {
     "name": "stderr",
     "output_type": "stream",
     "text": [
      "/home/michael/anaconda3/envs/scvi/lib/python3.7/site-packages/sklearn/metrics/cluster/supervised.py:859: FutureWarning: The behavior of NMI will change in version 0.22. To match the behavior of 'v_measure_score', NMI will use average_method='arithmetic' by default.\n",
      "  FutureWarning)\n",
      "/home/michael/anaconda3/envs/scvi/lib/python3.7/site-packages/sklearn/utils/linear_assignment_.py:127: DeprecationWarning: The linear_assignment function is deprecated in 0.21 and will be removed from 0.23. Use scipy.optimize.linear_sum_assignment instead.\n",
      "  DeprecationWarning)\n"
     ]
    },
    {
     "name": "stdout",
     "output_type": "stream",
     "text": [
      "Loading model from file. No training.\n"
     ]
    },
    {
     "name": "stderr",
     "output_type": "stream",
     "text": [
      "/home/michael/anaconda3/envs/scvi/lib/python3.7/site-packages/sklearn/metrics/cluster/supervised.py:859: FutureWarning: The behavior of NMI will change in version 0.22. To match the behavior of 'v_measure_score', NMI will use average_method='arithmetic' by default.\n",
      "  FutureWarning)\n",
      "/home/michael/anaconda3/envs/scvi/lib/python3.7/site-packages/sklearn/utils/linear_assignment_.py:127: DeprecationWarning: The linear_assignment function is deprecated in 0.21 and will be removed from 0.23. Use scipy.optimize.linear_sum_assignment instead.\n",
      "  DeprecationWarning)\n"
     ]
    },
    {
     "name": "stdout",
     "output_type": "stream",
     "text": [
      "Loading model from file. No training.\n"
     ]
    },
    {
     "name": "stderr",
     "output_type": "stream",
     "text": [
      "/home/michael/anaconda3/envs/scvi/lib/python3.7/site-packages/sklearn/metrics/cluster/supervised.py:859: FutureWarning: The behavior of NMI will change in version 0.22. To match the behavior of 'v_measure_score', NMI will use average_method='arithmetic' by default.\n",
      "  FutureWarning)\n",
      "/home/michael/anaconda3/envs/scvi/lib/python3.7/site-packages/sklearn/utils/linear_assignment_.py:127: DeprecationWarning: The linear_assignment function is deprecated in 0.21 and will be removed from 0.23. Use scipy.optimize.linear_sum_assignment instead.\n",
      "  DeprecationWarning)\n"
     ]
    },
    {
     "name": "stdout",
     "output_type": "stream",
     "text": [
      "Loading model from file. No training.\n"
     ]
    },
    {
     "name": "stderr",
     "output_type": "stream",
     "text": [
      "/home/michael/anaconda3/envs/scvi/lib/python3.7/site-packages/sklearn/metrics/cluster/supervised.py:859: FutureWarning: The behavior of NMI will change in version 0.22. To match the behavior of 'v_measure_score', NMI will use average_method='arithmetic' by default.\n",
      "  FutureWarning)\n",
      "/home/michael/anaconda3/envs/scvi/lib/python3.7/site-packages/sklearn/utils/linear_assignment_.py:127: DeprecationWarning: The linear_assignment function is deprecated in 0.21 and will be removed from 0.23. Use scipy.optimize.linear_sum_assignment instead.\n",
      "  DeprecationWarning)\n"
     ]
    },
    {
     "name": "stdout",
     "output_type": "stream",
     "text": [
      "Loading model from file. No training.\n"
     ]
    },
    {
     "name": "stderr",
     "output_type": "stream",
     "text": [
      "/home/michael/anaconda3/envs/scvi/lib/python3.7/site-packages/sklearn/metrics/cluster/supervised.py:859: FutureWarning: The behavior of NMI will change in version 0.22. To match the behavior of 'v_measure_score', NMI will use average_method='arithmetic' by default.\n",
      "  FutureWarning)\n",
      "/home/michael/anaconda3/envs/scvi/lib/python3.7/site-packages/sklearn/utils/linear_assignment_.py:127: DeprecationWarning: The linear_assignment function is deprecated in 0.21 and will be removed from 0.23. Use scipy.optimize.linear_sum_assignment instead.\n",
      "  DeprecationWarning)\n"
     ]
    },
    {
     "name": "stdout",
     "output_type": "stream",
     "text": [
      "Training VAE for tissue  trachea\n"
     ]
    },
    {
     "name": "stderr",
     "output_type": "stream",
     "text": [
      "[2019-10-08 16:24:23,820] INFO - scvi.dataset.dataset | Union dataset is set to ignore batch annotation.\n",
      "[2019-10-08 16:24:23,938] INFO - scvi.dataset.dataset | Downsampled from 31394 to 3195 cells\n",
      "[2019-10-08 16:24:23,941] INFO - scvi.dataset.dataset | Union dataset is set to ignore batch annotation.\n",
      "[2019-10-08 16:24:24,822] INFO - scvi.dataset.dataset | Downsampled from 31394 to 28199 cells\n"
     ]
    },
    {
     "name": "stdout",
     "output_type": "stream",
     "text": [
      "Loading model from file. No training.\n"
     ]
    },
    {
     "name": "stderr",
     "output_type": "stream",
     "text": [
      "/home/michael/anaconda3/envs/scvi/lib/python3.7/site-packages/sklearn/metrics/cluster/supervised.py:859: FutureWarning: The behavior of NMI will change in version 0.22. To match the behavior of 'v_measure_score', NMI will use average_method='arithmetic' by default.\n",
      "  FutureWarning)\n",
      "/home/michael/anaconda3/envs/scvi/lib/python3.7/site-packages/sklearn/utils/linear_assignment_.py:127: DeprecationWarning: The linear_assignment function is deprecated in 0.21 and will be removed from 0.23. Use scipy.optimize.linear_sum_assignment instead.\n",
      "  DeprecationWarning)\n"
     ]
    },
    {
     "name": "stdout",
     "output_type": "stream",
     "text": [
      "Loading model from file. No training.\n"
     ]
    },
    {
     "name": "stderr",
     "output_type": "stream",
     "text": [
      "/home/michael/anaconda3/envs/scvi/lib/python3.7/site-packages/sklearn/metrics/cluster/supervised.py:859: FutureWarning: The behavior of NMI will change in version 0.22. To match the behavior of 'v_measure_score', NMI will use average_method='arithmetic' by default.\n",
      "  FutureWarning)\n",
      "/home/michael/anaconda3/envs/scvi/lib/python3.7/site-packages/sklearn/utils/linear_assignment_.py:127: DeprecationWarning: The linear_assignment function is deprecated in 0.21 and will be removed from 0.23. Use scipy.optimize.linear_sum_assignment instead.\n",
      "  DeprecationWarning)\n"
     ]
    },
    {
     "name": "stdout",
     "output_type": "stream",
     "text": [
      "Loading model from file. No training.\n"
     ]
    },
    {
     "name": "stderr",
     "output_type": "stream",
     "text": [
      "/home/michael/anaconda3/envs/scvi/lib/python3.7/site-packages/sklearn/metrics/cluster/supervised.py:859: FutureWarning: The behavior of NMI will change in version 0.22. To match the behavior of 'v_measure_score', NMI will use average_method='arithmetic' by default.\n",
      "  FutureWarning)\n",
      "/home/michael/anaconda3/envs/scvi/lib/python3.7/site-packages/sklearn/utils/linear_assignment_.py:127: DeprecationWarning: The linear_assignment function is deprecated in 0.21 and will be removed from 0.23. Use scipy.optimize.linear_sum_assignment instead.\n",
      "  DeprecationWarning)\n"
     ]
    },
    {
     "name": "stdout",
     "output_type": "stream",
     "text": [
      "Loading model from file. No training.\n"
     ]
    },
    {
     "name": "stderr",
     "output_type": "stream",
     "text": [
      "/home/michael/anaconda3/envs/scvi/lib/python3.7/site-packages/sklearn/metrics/cluster/supervised.py:859: FutureWarning: The behavior of NMI will change in version 0.22. To match the behavior of 'v_measure_score', NMI will use average_method='arithmetic' by default.\n",
      "  FutureWarning)\n",
      "/home/michael/anaconda3/envs/scvi/lib/python3.7/site-packages/sklearn/utils/linear_assignment_.py:127: DeprecationWarning: The linear_assignment function is deprecated in 0.21 and will be removed from 0.23. Use scipy.optimize.linear_sum_assignment instead.\n",
      "  DeprecationWarning)\n"
     ]
    },
    {
     "name": "stdout",
     "output_type": "stream",
     "text": [
      "Loading model from file. No training.\n"
     ]
    },
    {
     "name": "stderr",
     "output_type": "stream",
     "text": [
      "/home/michael/anaconda3/envs/scvi/lib/python3.7/site-packages/sklearn/metrics/cluster/supervised.py:859: FutureWarning: The behavior of NMI will change in version 0.22. To match the behavior of 'v_measure_score', NMI will use average_method='arithmetic' by default.\n",
      "  FutureWarning)\n",
      "/home/michael/anaconda3/envs/scvi/lib/python3.7/site-packages/sklearn/utils/linear_assignment_.py:127: DeprecationWarning: The linear_assignment function is deprecated in 0.21 and will be removed from 0.23. Use scipy.optimize.linear_sum_assignment instead.\n",
      "  DeprecationWarning)\n"
     ]
    },
    {
     "name": "stdout",
     "output_type": "stream",
     "text": [
      "Training VAE for tissue  urinary bladder\n"
     ]
    },
    {
     "name": "stderr",
     "output_type": "stream",
     "text": [
      "[2019-10-08 16:24:36,960] INFO - scvi.dataset.dataset | Union dataset is set to ignore batch annotation.\n",
      "[2019-10-08 16:24:37,029] INFO - scvi.dataset.dataset | Downsampled from 31394 to 982 cells\n",
      "[2019-10-08 16:24:37,032] INFO - scvi.dataset.dataset | Union dataset is set to ignore batch annotation.\n",
      "[2019-10-08 16:24:37,962] INFO - scvi.dataset.dataset | Downsampled from 31394 to 30412 cells\n"
     ]
    },
    {
     "name": "stdout",
     "output_type": "stream",
     "text": [
      "Loading model from file. No training.\n"
     ]
    },
    {
     "name": "stderr",
     "output_type": "stream",
     "text": [
      "/home/michael/anaconda3/envs/scvi/lib/python3.7/site-packages/sklearn/metrics/cluster/supervised.py:859: FutureWarning: The behavior of NMI will change in version 0.22. To match the behavior of 'v_measure_score', NMI will use average_method='arithmetic' by default.\n",
      "  FutureWarning)\n",
      "/home/michael/anaconda3/envs/scvi/lib/python3.7/site-packages/sklearn/utils/linear_assignment_.py:127: DeprecationWarning: The linear_assignment function is deprecated in 0.21 and will be removed from 0.23. Use scipy.optimize.linear_sum_assignment instead.\n",
      "  DeprecationWarning)\n"
     ]
    },
    {
     "name": "stdout",
     "output_type": "stream",
     "text": [
      "Loading model from file. No training.\n"
     ]
    },
    {
     "name": "stderr",
     "output_type": "stream",
     "text": [
      "/home/michael/anaconda3/envs/scvi/lib/python3.7/site-packages/sklearn/metrics/cluster/supervised.py:859: FutureWarning: The behavior of NMI will change in version 0.22. To match the behavior of 'v_measure_score', NMI will use average_method='arithmetic' by default.\n",
      "  FutureWarning)\n",
      "/home/michael/anaconda3/envs/scvi/lib/python3.7/site-packages/sklearn/utils/linear_assignment_.py:127: DeprecationWarning: The linear_assignment function is deprecated in 0.21 and will be removed from 0.23. Use scipy.optimize.linear_sum_assignment instead.\n",
      "  DeprecationWarning)\n"
     ]
    },
    {
     "name": "stdout",
     "output_type": "stream",
     "text": [
      "Loading model from file. No training.\n"
     ]
    },
    {
     "name": "stderr",
     "output_type": "stream",
     "text": [
      "/home/michael/anaconda3/envs/scvi/lib/python3.7/site-packages/sklearn/metrics/cluster/supervised.py:859: FutureWarning: The behavior of NMI will change in version 0.22. To match the behavior of 'v_measure_score', NMI will use average_method='arithmetic' by default.\n",
      "  FutureWarning)\n",
      "/home/michael/anaconda3/envs/scvi/lib/python3.7/site-packages/sklearn/utils/linear_assignment_.py:127: DeprecationWarning: The linear_assignment function is deprecated in 0.21 and will be removed from 0.23. Use scipy.optimize.linear_sum_assignment instead.\n",
      "  DeprecationWarning)\n"
     ]
    },
    {
     "name": "stdout",
     "output_type": "stream",
     "text": [
      "Loading model from file. No training.\n"
     ]
    },
    {
     "name": "stderr",
     "output_type": "stream",
     "text": [
      "/home/michael/anaconda3/envs/scvi/lib/python3.7/site-packages/sklearn/metrics/cluster/supervised.py:859: FutureWarning: The behavior of NMI will change in version 0.22. To match the behavior of 'v_measure_score', NMI will use average_method='arithmetic' by default.\n",
      "  FutureWarning)\n",
      "/home/michael/anaconda3/envs/scvi/lib/python3.7/site-packages/sklearn/utils/linear_assignment_.py:127: DeprecationWarning: The linear_assignment function is deprecated in 0.21 and will be removed from 0.23. Use scipy.optimize.linear_sum_assignment instead.\n",
      "  DeprecationWarning)\n"
     ]
    },
    {
     "name": "stdout",
     "output_type": "stream",
     "text": [
      "Loading model from file. No training.\n"
     ]
    },
    {
     "name": "stderr",
     "output_type": "stream",
     "text": [
      "/home/michael/anaconda3/envs/scvi/lib/python3.7/site-packages/sklearn/metrics/cluster/supervised.py:859: FutureWarning: The behavior of NMI will change in version 0.22. To match the behavior of 'v_measure_score', NMI will use average_method='arithmetic' by default.\n",
      "  FutureWarning)\n",
      "/home/michael/anaconda3/envs/scvi/lib/python3.7/site-packages/sklearn/utils/linear_assignment_.py:127: DeprecationWarning: The linear_assignment function is deprecated in 0.21 and will be removed from 0.23. Use scipy.optimize.linear_sum_assignment instead.\n",
      "  DeprecationWarning)\n"
     ]
    },
    {
     "name": "stdout",
     "output_type": "stream",
     "text": [
      "Loading model from file. No training.\n"
     ]
    },
    {
     "name": "stderr",
     "output_type": "stream",
     "text": [
      "/home/michael/anaconda3/envs/scvi/lib/python3.7/site-packages/sklearn/metrics/cluster/supervised.py:859: FutureWarning: The behavior of NMI will change in version 0.22. To match the behavior of 'v_measure_score', NMI will use average_method='arithmetic' by default.\n",
      "  FutureWarning)\n",
      "/home/michael/anaconda3/envs/scvi/lib/python3.7/site-packages/sklearn/utils/linear_assignment_.py:127: DeprecationWarning: The linear_assignment function is deprecated in 0.21 and will be removed from 0.23. Use scipy.optimize.linear_sum_assignment instead.\n",
      "  DeprecationWarning)\n"
     ]
    },
    {
     "name": "stdout",
     "output_type": "stream",
     "text": [
      "Loading model from file. No training.\n"
     ]
    },
    {
     "name": "stderr",
     "output_type": "stream",
     "text": [
      "/home/michael/anaconda3/envs/scvi/lib/python3.7/site-packages/sklearn/metrics/cluster/supervised.py:859: FutureWarning: The behavior of NMI will change in version 0.22. To match the behavior of 'v_measure_score', NMI will use average_method='arithmetic' by default.\n",
      "  FutureWarning)\n",
      "/home/michael/anaconda3/envs/scvi/lib/python3.7/site-packages/sklearn/utils/linear_assignment_.py:127: DeprecationWarning: The linear_assignment function is deprecated in 0.21 and will be removed from 0.23. Use scipy.optimize.linear_sum_assignment instead.\n",
      "  DeprecationWarning)\n"
     ]
    },
    {
     "name": "stdout",
     "output_type": "stream",
     "text": [
      "Loading model from file. No training.\n"
     ]
    },
    {
     "name": "stderr",
     "output_type": "stream",
     "text": [
      "/home/michael/anaconda3/envs/scvi/lib/python3.7/site-packages/sklearn/metrics/cluster/supervised.py:859: FutureWarning: The behavior of NMI will change in version 0.22. To match the behavior of 'v_measure_score', NMI will use average_method='arithmetic' by default.\n",
      "  FutureWarning)\n",
      "/home/michael/anaconda3/envs/scvi/lib/python3.7/site-packages/sklearn/utils/linear_assignment_.py:127: DeprecationWarning: The linear_assignment function is deprecated in 0.21 and will be removed from 0.23. Use scipy.optimize.linear_sum_assignment instead.\n",
      "  DeprecationWarning)\n"
     ]
    },
    {
     "name": "stdout",
     "output_type": "stream",
     "text": [
      "Loading model from file. No training.\n"
     ]
    },
    {
     "name": "stderr",
     "output_type": "stream",
     "text": [
      "/home/michael/anaconda3/envs/scvi/lib/python3.7/site-packages/sklearn/metrics/cluster/supervised.py:859: FutureWarning: The behavior of NMI will change in version 0.22. To match the behavior of 'v_measure_score', NMI will use average_method='arithmetic' by default.\n",
      "  FutureWarning)\n",
      "/home/michael/anaconda3/envs/scvi/lib/python3.7/site-packages/sklearn/utils/linear_assignment_.py:127: DeprecationWarning: The linear_assignment function is deprecated in 0.21 and will be removed from 0.23. Use scipy.optimize.linear_sum_assignment instead.\n",
      "  DeprecationWarning)\n"
     ]
    },
    {
     "name": "stdout",
     "output_type": "stream",
     "text": [
      "Loading model from file. No training.\n",
      "{'aorta': (0.2938708, 0.4773890348528298, 0.4440071318371226, 0.6331242158092848), 'ascending colon': (-0.09051817, 0.21867199254339592, 0.1447241960714451, 0.4143119266055046), 'back skin': (0.0920025, 0.39586859452744827, 0.30290855732018857, 0.5631653655074521), 'bone marrow': (-0.076894574, 0.4484359475694405, 0.2307475493359441, 0.3398171238570241), 'cerebellum': (0.32898596, 0.6156900785391944, 0.49309497121057155, 0.4977339376166356), 'cerebral cortex': (0.33082557, 0.6213926990819959, 0.5105687224391694, 0.549452018176958), 'descending colon': (-0.09051816, 0.21867199254339592, 0.1447241960714451, 0.4143119266055046), 'diaphragm': (0.2559224, 0.5449063678353958, 0.39661377570247797, 0.6465256797583081), 'endocrine pancreas': (0.24971634, 0.522948438293036, 0.2767280712369129, 0.4503470368392952), 'exocrine pancreas': (0.24971634, 0.5227384373285687, 0.2771988166468627, 0.45141484249866526), 'gonadal fat pad': (0.23017779, 0.6282743630674928, 0.5261842373671816, 0.6338257016248153), 'heart': (0.05886081, 0.42276392365856685, 0.3565008270505005, 0.532258064516129), 'heart left atrium': (0.059909184, 0.47195843109816565, 0.31810171413888805, 0.449402220324509), 'heart left atrium and heart right atrium': (0.5035874, 0.011806704269767277, 0.011432865716783898, 0.5727328058429701), 'heart left ventricle': (0.059909184, 0.4719584310981656, 0.31810171413888805, 0.449402220324509), 'heart right atrium': (0.05990918, 0.47194709750637565, 0.3180404902768375, 0.44918872758326217), 'heart right ventricle': (0.059909184, 0.47195843109816565, 0.31810171413888805, 0.449402220324509), 'hippocampus': (0.33082557, 0.6212861676371985, 0.5096484793967541, 0.5479818230419674), 'interscapular brown adipose tissue': (0.23017776, 0.6279782149670623, 0.5258668353845758, 0.6336779911373708), 'kidney': (0.19704127, 0.4254128617868436, 0.22220900003006877, 0.4536784741144414), 'limb muscle': (0.1777712, 0.5912988080067736, 0.4778171371772365, 0.6039156626506024), 'liver': (0.18590868, 0.5693401228017726, 0.47701672055828837, 0.7132056451612904), 'lung': (0.036397245, 0.5142843465960931, 0.3392527419711354, 0.4537525354969574), 'mammary gland': (0.28366214, 0.37549029976697457, 0.3438390679789265, 0.47653683716564993), 'mesenteric adipose tissue': (0.23017779, 0.6290611281824672, 0.5266920554340516, 0.6333825701624816), 'spleen': (0.08315145, 0.09744629773451985, 0.09964014233720962, 0.5529463890119628), 'striatum': (0.32898596, 0.6172387465348691, 0.49414694508573026, 0.49760063982937885), 'subcutaneous adipose tissue': (0.23017779, 0.6290611281824671, 0.5266920554340516, 0.6333825701624816), 'thymus': (-0.0859349, 0.0682382539505412, 0.04229208536770228, 0.46548323471400394), 'tongue': (0.07516701, 0.03891959867647663, -0.007786290341980877, 0.5249097472924188), 'trachea': (0.31685123, 0.33236112451523986, 0.27974866151022787, 0.6234741784037559), 'urinary bladder': (0.49482355, 0.9254695687642714, 0.9636390772345145, 0.9908350305498982), 'complete': (-0.038354978, 0.6412979838886423, 0.29089744011384416, 0.31658915716378927)}\n",
      "{'aorta': (0.3575583, 0.6344348756445877, 0.5729306615358872, 0.7119196988707653), 'ascending colon': (0.09905489, 0.3847525898888117, 0.3231578190580671, 0.548256880733945), 'back skin': (0.121481806, 0.44671381843071817, 0.32314766282199947, 0.6242015613910575), 'bone marrow': (-0.05503358, 0.46015321385380087, 0.2282456978610042, 0.3597672485453034), 'cerebellum': (0.3230844, 0.7204577422374205, 0.5384598568140934, 0.5859770727805919), 'cerebral cortex': (0.33255464, 0.6903890620684099, 0.5291070700121634, 0.5890136327185245), 'descending colon': (0.09905489, 0.38430407428241814, 0.32270662267625827, 0.548256880733945), 'diaphragm': (0.21428746, 0.5520717829560585, 0.3026746906148627, 0.4945619335347432), 'endocrine pancreas': (0.23065521, 0.5760792664668583, 0.26668464874045955, 0.4081687132941805), 'exocrine pancreas': (0.23065521, 0.5761018746668201, 0.26606971186906, 0.39188467698878804), 'gonadal fat pad': (0.22776243, 0.6230474659369517, 0.5474811879943126, 0.6158050221565731), 'heart': (0.15056242, 0.5164877400616276, 0.41583287822445625, 0.5442326490713587), 'heart left atrium': (0.13668497, 0.5524069012650512, 0.34628337171737966, 0.46263877028181044), 'heart left atrium and heart right atrium': (0.54103017, 0.7481380130918835, 0.8693142942640097, 0.985392574558734), 'heart left ventricle': (0.13668497, 0.5501771473754951, 0.34538097261767664, 0.4660546541417592), 'heart right atrium': (0.13668497, 0.549964702061372, 0.34457389937006216, 0.4671221178479932), 'heart right ventricle': (0.13668497, 0.5479731621775898, 0.3436765819573777, 0.4656276686592656), 'hippocampus': (0.33255467, 0.69038906206841, 0.5291070700121634, 0.5890136327185245), 'interscapular brown adipose tissue': (0.22776242, 0.6230474659369517, 0.5474811879943126, 0.6158050221565731), 'kidney': (0.298011, 0.5333063165204176, 0.25419556481697914, 0.4659400544959128), 'limb muscle': (0.16061418, 0.5866718098332975, 0.4674732916723247, 0.5276731927710844), 'liver': (0.19197208, 0.5142423693315085, 0.2675050115369757, 0.514616935483871), 'lung': (0.031271983, 0.4795364642189555, 0.2877727955357774, 0.45496957403651117), 'mammary gland': (0.24372497, 0.6467426406007578, 0.509293977113098, 0.6358517128108869), 'mesenteric adipose tissue': (0.22776243, 0.6230474659369517, 0.5474811879943126, 0.6158050221565731), 'spleen': (0.02035749, 0.04495853987922366, 0.0486915826087245, 0.4718653079308817), 'striatum': (0.3230844, 0.7193296120719128, 0.5383898489290552, 0.5862436683551053), 'subcutaneous adipose tissue': (0.22776242, 0.6230474659369517, 0.5474811879943126, 0.6158050221565731), 'thymus': (0.13640523, 0.08098304881149734, 0.04786802264122267, 0.5907297830374754), 'tongue': (0.15695357, 0.06510634545125268, 0.033923633716010315, 0.5927797833935018), 'trachea': (0.3324158, 0.577932168786766, 0.415439984437457, 0.5959311424100157), 'urinary bladder': (0.52555096, 0.9398167237617733, 0.967645974562298, 0.9918533604887984), 'complete': (0.0097278925, 0.6475276150266496, 0.2891353708516753, 0.36242594126266164)}\n",
      "{'aorta': (0.27473423, 0.4735498332027251, 0.4154750529566121, 0.6476787954830615), 'ascending colon': (-0.1530089, 0.12006522773257436, 0.055222438900911046, 0.3508256880733945), 'back skin': (0.13515513, 0.42206549264337856, 0.2891357112739553, 0.5255500354861604), 'bone marrow': (-0.163736, 0.32432675068905154, 0.13577362392411316, 0.29044056525353285), 'cerebellum': (0.16741239, 0.5609318688327033, 0.3723236443148543, 0.4565449213543055), 'cerebral cortex': (0.16987273, 0.5719647511521271, 0.44474605984499394, 0.4883720930232558), 'descending colon': (-0.1530089, 0.12038661791394083, 0.055453905310231325, 0.3508256880733945), 'diaphragm': (0.1490771, 0.47892058302921614, 0.29890357340659734, 0.5876132930513596), 'endocrine pancreas': (0.11639325, 0.46834883879361966, 0.23646070797412944, 0.3777362520021356), 'exocrine pancreas': (0.116393246, 0.4677789075771559, 0.23648431880999768, 0.3790710090763481), 'gonadal fat pad': (0.14982764, 0.5651475131604485, 0.46154895177185634, 0.610192023633678), 'heart': (0.05141757, 0.4642031909462048, 0.3597597498700385, 0.5141739980449658), 'heart left atrium': (0.06584062, 0.46772747659396974, 0.30089691617113945, 0.41374893253629375), 'heart left atrium and heart right atrium': (0.41051978, 0.011864230003707033, 0.03052659144738152, 0.6670724284844796), 'heart left ventricle': (0.065840624, 0.46776886571951587, 0.30080890897451507, 0.413535439795047), 'heart right atrium': (0.06584062, 0.46773863236138447, 0.30070055589705663, 0.41289496157130656), 'heart right ventricle': (0.06584062, 0.4680492881265059, 0.3013046245370691, 0.41374893253629375), 'hippocampus': (0.16987273, 0.5719647511521271, 0.44474605984499394, 0.4883720930232558), 'interscapular brown adipose tissue': (0.14982764, 0.5651475131604486, 0.46154895177185634, 0.610192023633678), 'kidney': (0.096133076, 0.33592436028621886, 0.16610935144549194, 0.4560626702997275), 'limb muscle': (0.09261099, 0.5267710585942253, 0.37951107647100024, 0.520519578313253), 'liver': (0.14936832, 0.2842983009300427, 0.19268923342211758, 0.5070564516129032), 'lung': (-0.040954746, 0.4165452419971032, 0.26207071261039255, 0.42129817444219064), 'mammary gland': (0.21818832, 0.43126005454745586, 0.38595215764911445, 0.5586579070858751), 'mesenteric adipose tissue': (0.14982764, 0.5651475131604485, 0.46154895177185634, 0.610192023633678), 'spleen': (0.027007202, 0.08817073340246356, 0.07945828942242394, 0.5281346920691183), 'striatum': (0.16741239, 0.5607713234682639, 0.37207351010437506, 0.4557451346307651), 'subcutaneous adipose tissue': (0.14982763, 0.5651475131604485, 0.46154895177185634, 0.610192023633678), 'thymus': (-0.0075809215, 0.04509596853536672, 0.03186886141149686, 0.5167652859960552), 'tongue': (0.10665098, 0.1193174229547621, 0.008154989154937432, 0.5696750902527076), 'trachea': (0.2606138, 0.39805595802464183, 0.29519469291931116, 0.6284820031298904), 'urinary bladder': (0.55307585, 0.8409393092815528, 0.8890861725712491, 0.9714867617107943), 'complete': (-0.14583148, 0.5790389382957686, 0.22492054689076046, 0.28088169713958083)}\n",
      "{'aorta': (0.24523295, 0.532405013629556, 0.4260023148537277, 0.5380175658720201), 'ascending colon': (-0.123092666, 0.23996681888167368, 0.18753390175274132, 0.42678899082568805), 'back skin': (0.10248878, 0.4156659214250206, 0.3215945200249294, 0.5684882895670689), 'bone marrow': (-0.038422268, 0.551431013162931, 0.3189568089043644, 0.4300914380714879), 'cerebellum': (0.3856596, 0.7453831899954578, 0.7941006403866402, 0.7961876832844574), 'cerebral cortex': (0.38963565, 0.7259872042574894, 0.7667267246943064, 0.7909649826249666), 'descending colon': (-0.12309268, 0.23996681888167368, 0.18753390175274132, 0.42678899082568805), 'diaphragm': (0.21489891, 0.4844642252899737, 0.3037540801953169, 0.49516616314199396), 'endocrine pancreas': (0.19589062, 0.5120707688205928, 0.2549445909415861, 0.4407367859049653), 'exocrine pancreas': (0.1958906, 0.5115619844977047, 0.2548069882066406, 0.4407367859049653), 'gonadal fat pad': (0.19191147, 0.5787226987085746, 0.4443638364366672, 0.5700147710487444), 'heart': (0.13191, 0.4511962070624857, 0.3593285897526745, 0.5298142717497556), 'heart left atrium': (0.06710599, 0.49841380047213746, 0.37244130949336424, 0.5145175064047822), 'heart left atrium and heart right atrium': (0.48707244, 0.0004060188780448596, 0.0005599185299817254, 0.5222154595252587), 'heart left ventricle': (0.067106, 0.49835319449080356, 0.37238347636314256, 0.5143040136635354), 'heart right atrium': (0.067106, 0.4984138004721374, 0.37244130949336424, 0.5145175064047822), 'heart right ventricle': (0.06710599, 0.4973661025245133, 0.37190246714463676, 0.5140905209222887), 'hippocampus': (0.38963562, 0.7259872042574894, 0.7667267246943064, 0.7909649826249666), 'interscapular brown adipose tissue': (0.19191147, 0.5789886192180267, 0.4445393034676232, 0.5703101920236336), 'kidney': (0.23802917, 0.4580507642913466, 0.24700221457155705, 0.46764305177111715), 'limb muscle': (0.18617924, 0.5662560449288164, 0.4153696814582725, 0.5203313253012049), 'liver': (0.2310823, 0.575563664339009, 0.47354505972487826, 0.7127016129032258), 'lung': (0.05578008, 0.4981687647124078, 0.34758858051084135, 0.4766734279918864), 'mammary gland': (0.2845098, 0.4709146043749918, 0.41435420110210486, 0.5760206475832942), 'mesenteric adipose tissue': (0.19191147, 0.5789638161794785, 0.4444646607570731, 0.5701624815361891), 'spleen': (0.12896214, 0.04969428282627424, 0.08406161201301302, 0.5573770491803278), 'striatum': (0.3856596, 0.7443762415709714, 0.7932283295139648, 0.7957877899226873), 'subcutaneous adipose tissue': (0.19191147, 0.5789886192180267, 0.4445393034676232, 0.5703101920236336), 'thymus': (0.034106348, 0.12505445701414306, 0.06561344773497914, 0.5956607495069034), 'tongue': (0.16804555, 0.09161217888528939, 0.0025815717113927073, 0.5581227436823105), 'trachea': (0.2793095, 0.39649922443071134, 0.2742211470751358, 0.5624413145539906), 'urinary bladder': (0.5023425, 0.8909682070850655, 0.9318830086703234, 0.9826883910386965), 'complete': (0.012940328, 0.6916976110835908, 0.40174566238178433, 0.3874944256864369)}\n"
     ]
    },
    {
     "name": "stderr",
     "output_type": "stream",
     "text": [
      "/home/michael/anaconda3/envs/scvi/lib/python3.7/site-packages/sklearn/metrics/cluster/supervised.py:859: FutureWarning: The behavior of NMI will change in version 0.22. To match the behavior of 'v_measure_score', NMI will use average_method='arithmetic' by default.\n",
      "  FutureWarning)\n",
      "/home/michael/anaconda3/envs/scvi/lib/python3.7/site-packages/sklearn/utils/linear_assignment_.py:127: DeprecationWarning: The linear_assignment function is deprecated in 0.21 and will be removed from 0.23. Use scipy.optimize.linear_sum_assignment instead.\n",
      "  DeprecationWarning)\n"
     ]
    }
   ],
   "source": [
    "from collections import defaultdict\n",
    "\n",
    "log_likelihood = defaultdict(list)\n",
    "cluster_scores_original = dict()\n",
    "cluster_scores_grand = dict()\n",
    "cluster_scores_ebi_data = dict()\n",
    "cluster_scores_atlas = dict()\n",
    "cluster_scores_mousemuris = dict()\n",
    "\n",
    "n_epochs = 100\n",
    "colors=None\n",
    "for tissue in np.unique(agg.index.get_level_values(0)): \n",
    "    print(\"Training VAE for tissue \", tissue)\n",
    "    cutout_cts = agg[tissue].index.values\n",
    "    if \"not available\" in cutout_cts:\n",
    "        cutout_cts = np.delete(cutout_cts, np.where(cutout_cts == \"not available\")[0])\n",
    "\n",
    "    rem_ct = data_big_mapped.cell_types[~np.isin(data_big_mapped.cell_types, cutout_cts)]\n",
    "    data_small = copy.deepcopy(data_big_mapped)\n",
    "    data_big = copy.deepcopy(data_big_mapped)\n",
    "\n",
    "    data_small.filter_cell_types(cutout_cts)\n",
    "    data_big.filter_cell_types(rem_ct)\n",
    "    \n",
    "#     log_likelihood[tissue].append(compute_log_likelihood(complete_mouse, \"./data\", \"../trained_models/mouse_data_full\", data_small, n_samples_mc=1000))\n",
    "#     log_likelihood[tissue].append(compute_log_likelihood(complete_mouse, \"./data\", \"../trained_models/ebi_data_full\", data_small, n_samples_mc=1000))\n",
    "#     log_likelihood[tissue].append(compute_log_likelihood(complete_mouse, \"./data\", \"../trained_models/mouse_atlas\", data_small, n_samples_mc=1000))\n",
    "#     log_likelihood[tissue].append(compute_log_likelihood(complete_mouse, \"./data\", \"../trained_models/mouse_muris_senis\", data_small, n_samples_mc=1000))\n",
    "#     do_procedure(complete_mouse, data_small, \"mouse_data_full\", f\"{tissue}_in_mouse_data_full_tsne_nolegend\", hide_legend=True)\n",
    "#     do_procedure(complete_mouse, data_small, \"ebi_data_full\", f\"{tissue}_in_ebi_data_full_tsne_nolegend\", hide_legend=True)\n",
    "#     do_procedure(complete_mouse, data_small, \"mouse_atlas\", f\"{tissue}_in_mouse_atlas_tsne_nolegend\", hide_legend=True)\n",
    "#     do_procedure(complete_mouse, data_small, \"mouse_muris_senis\", f\"{tissue}_in_mouse_muris_senis_tsne_nolegend\", hide_legend=True)\n",
    "#     do_procedure(data_small, data_small, f\"small_big_experiment/small_{tissue.replace(\" \", \"_\")}_data_portion\", f\"{tissue.replace(\" \", \"_\")}_in_small_tsne\")\n",
    "    cluster_scores_original[tissue] = do_scores(data_small, f'small_big_experiment/small_{tissue.replace(\" \", \"_\")}_data_portion', data_small )\n",
    "    cluster_scores_grand[tissue] = do_scores(complete_mouse, \"../trained_models/mouse_data_full\", data_small)\n",
    "    cluster_scores_ebi_data[tissue] = do_scores(complete_mouse, \"../trained_models/ebi_data_full\", data_small)\n",
    "    cluster_scores_atlas[tissue] = do_scores(complete_mouse, \"../trained_models/mouse_atlas\", data_small)\n",
    "    cluster_scores_mousemuris[tissue] = do_scores(complete_mouse, \"../trained_models/mouse_muris_senis\", data_small)\n",
    "\n",
    "cluster_scores_original[\"complete\"] = do_scores(data_big_mapped, f'eval_data_full', data_big_mapped )\n",
    "cluster_scores_grand[\"complete\"] = do_scores(complete_mouse, \"../trained_models/mouse_data_full\", data_big_mapped)\n",
    "cluster_scores_ebi_data[\"complete\"] = do_scores(complete_mouse, \"../trained_models/ebi_data_full\", data_big_mapped)\n",
    "cluster_scores_atlas[\"complete\"] = do_scores(complete_mouse, \"../trained_models/mouse_atlas\", data_big_mapped)\n",
    "cluster_scores_mousemuris[\"complete\"] = do_scores(complete_mouse, \"../trained_models/mouse_muris_senis\", data_big_mapped)\n",
    "\n",
    "                                                \n",
    "print(cluster_scores_grand)\n",
    "print(cluster_scores_ebi_data)\n",
    "print(cluster_scores_atlas)\n",
    "print(cluster_scores_mousemuris)"
   ]
  },
  {
   "cell_type": "code",
   "execution_count": 39,
   "metadata": {},
   "outputs": [
    {
     "name": "stdout",
     "output_type": "stream",
     "text": [
      "('aorta                                   ', [0.42, 0.29, 0.36, 0.27, 0.25])\n",
      "('ascending colon                         ', [-0.06, -0.09, 0.1, -0.15, -0.12])\n",
      "('back skin                               ', [0.31, 0.09, 0.12, 0.14, 0.1])\n",
      "('bone marrow                             ', [0.05, -0.08, -0.06, -0.16, -0.04])\n",
      "('cerebellum                              ', [0.44, 0.33, 0.32, 0.17, 0.39])\n",
      "('cerebral cortex                         ', [0.45, 0.33, 0.33, 0.17, 0.39])\n",
      "('descending colon                        ', [-0.07, -0.09, 0.1, -0.15, -0.12])\n",
      "('diaphragm                               ', [0.46, 0.26, 0.21, 0.15, 0.21])\n",
      "('endocrine pancreas                      ', [0.33, 0.25, 0.23, 0.12, 0.2])\n",
      "('exocrine pancreas                       ', [0.38, 0.25, 0.23, 0.12, 0.2])\n",
      "('gonadal fat pad                         ', [0.4, 0.23, 0.23, 0.15, 0.19])\n",
      "('heart                                   ', [0.34, 0.06, 0.15, 0.05, 0.13])\n",
      "('heart left atrium                       ', [0.28, 0.06, 0.14, 0.07, 0.07])\n",
      "('heart left atrium and heart right atrium', [0.69, 0.5, 0.54, 0.41, 0.49])\n",
      "('heart left ventricle                    ', [0.29, 0.06, 0.14, 0.07, 0.07])\n",
      "('heart right atrium                      ', [0.3, 0.06, 0.14, 0.07, 0.07])\n",
      "('heart right ventricle                   ', [0.31, 0.06, 0.14, 0.07, 0.07])\n",
      "('hippocampus                             ', [0.46, 0.33, 0.33, 0.17, 0.39])\n",
      "('interscapular brown adipose tissue      ', [0.35, 0.23, 0.23, 0.15, 0.19])\n",
      "('kidney                                  ', [0.25, 0.2, 0.3, 0.1, 0.24])\n",
      "('limb muscle                             ', [0.4, 0.18, 0.16, 0.09, 0.19])\n",
      "('liver                                   ', [0.51, 0.19, 0.19, 0.15, 0.23])\n",
      "('lung                                    ', [0.19, 0.04, 0.03, -0.04, 0.06])\n",
      "('mammary gland                           ', [0.49, 0.28, 0.24, 0.22, 0.28])\n",
      "('mesenteric adipose tissue               ', [0.41, 0.23, 0.23, 0.15, 0.19])\n",
      "('spleen                                  ', [0.54, 0.08, 0.02, 0.03, 0.13])\n",
      "('striatum                                ', [0.44, 0.33, 0.32, 0.17, 0.39])\n",
      "('subcutaneous adipose tissue             ', [0.43, 0.23, 0.23, 0.15, 0.19])\n",
      "('thymus                                  ', [0.03, -0.09, 0.14, -0.01, 0.03])\n",
      "('tongue                                  ', [0.2, 0.08, 0.16, 0.11, 0.17])\n",
      "('trachea                                 ', [0.43, 0.32, 0.33, 0.26, 0.28])\n",
      "('urinary bladder                         ', [0.87, 0.49, 0.53, 0.55, 0.5])\n",
      "('complete                                ', [0.05, -0.04, 0.01, -0.15, 0.01])\n",
      "('total                                   ', [11.37, 5.65, 6.87, 3.67, 6.02])\n"
     ]
    }
   ],
   "source": [
    "scores = {tissue.ljust(40): list(map(lambda x:round(x,2),[s0[0], s1[0], s2[0], s3[0], s4[0]])) for tissue, s0, s1, s2, s3, s4 in zip(cluster_scores_original.keys(), \n",
    "                                                  cluster_scores_original.values(), \n",
    "                                                  cluster_scores_grand.values(), \n",
    "                                                  cluster_scores_ebi_data.values(), \n",
    "                                                  cluster_scores_atlas.values(), \n",
    "                                                  cluster_scores_mousemuris.values())}\n",
    "scores[\"total\".ljust(40)] = list(map(lambda x:round(x,2), [np.sum([v[0] for v in scores.values()]), \n",
    "                             np.sum([v[1] for v in scores.values()]),\n",
    "                             np.sum([v[2] for v in scores.values()]),\n",
    "                             np.sum([v[3] for v in scores.values()]),\n",
    "                             np.sum([v[4] for v in scores.values()])]))\n",
    "print(*scores.items(), sep='\\n')"
   ]
  },
  {
   "cell_type": "code",
   "execution_count": 35,
   "metadata": {},
   "outputs": [
    {
     "name": "stdout",
     "output_type": "stream",
     "text": [
      "('aorta                                   ', [0.58, 0.48, 0.63, 0.47, 0.53])\n",
      "('ascending colon                         ', [0.51, 0.22, 0.38, 0.12, 0.24])\n",
      "('back skin                               ', [0.67, 0.4, 0.45, 0.42, 0.42])\n",
      "('bone marrow                             ', [0.65, 0.45, 0.46, 0.33, 0.55])\n",
      "('cerebellum                              ', [0.75, 0.62, 0.72, 0.56, 0.74])\n",
      "('cerebral cortex                         ', [0.74, 0.62, 0.69, 0.57, 0.73])\n",
      "('descending colon                        ', [0.36, 0.22, 0.38, 0.12, 0.24])\n",
      "('diaphragm                               ', [0.71, 0.54, 0.55, 0.48, 0.48])\n",
      "('endocrine pancreas                      ', [0.66, 0.52, 0.58, 0.47, 0.51])\n",
      "('exocrine pancreas                       ', [0.7, 0.52, 0.58, 0.47, 0.51])\n",
      "('gonadal fat pad                         ', [0.78, 0.63, 0.62, 0.57, 0.58])\n",
      "('heart                                   ', [0.62, 0.42, 0.52, 0.46, 0.45])\n",
      "('heart left atrium                       ', [0.66, 0.47, 0.55, 0.47, 0.5])\n",
      "('heart left atrium and heart right atrium', [0.72, 0.01, 0.75, 0.01, 0.0])\n",
      "('heart left ventricle                    ', [0.65, 0.47, 0.55, 0.47, 0.5])\n",
      "('heart right atrium                      ', [0.65, 0.47, 0.55, 0.47, 0.5])\n",
      "('heart right ventricle                   ', [0.67, 0.47, 0.55, 0.47, 0.5])\n",
      "('hippocampus                             ', [0.76, 0.62, 0.69, 0.57, 0.73])\n",
      "('interscapular brown adipose tissue      ', [0.75, 0.63, 0.62, 0.57, 0.58])\n",
      "('kidney                                  ', [0.49, 0.42, 0.53, 0.33, 0.46])\n",
      "('limb muscle                             ', [0.72, 0.59, 0.59, 0.53, 0.57])\n",
      "('liver                                   ', [0.73, 0.57, 0.51, 0.29, 0.58])\n",
      "('lung                                    ', [0.71, 0.51, 0.48, 0.42, 0.5])\n",
      "('mammary gland                           ', [0.71, 0.38, 0.65, 0.43, 0.47])\n",
      "('mesenteric adipose tissue               ', [0.84, 0.63, 0.62, 0.57, 0.58])\n",
      "('spleen                                  ', [0.78, 0.1, 0.04, 0.09, 0.05])\n",
      "('striatum                                ', [0.75, 0.62, 0.72, 0.56, 0.74])\n",
      "('subcutaneous adipose tissue             ', [0.84, 0.63, 0.62, 0.57, 0.58])\n",
      "('thymus                                  ', [0.11, 0.07, 0.08, 0.04, 0.13])\n",
      "('tongue                                  ', [0.12, 0.04, 0.07, 0.12, 0.09])\n",
      "('trachea                                 ', [0.54, 0.33, 0.58, 0.4, 0.4])\n",
      "('urinary bladder                         ', [0.95, 0.93, 0.94, 0.84, 0.89])\n",
      "('total                                   ', [22.64, 11.38, 13.71, 7.55, 11.97])\n"
     ]
    }
   ],
   "source": [
    "scores2 = {tissue.ljust(40): list(map(lambda x:round(x,2), [s0[1], s1[1], s2[1], s3[1], s4[1]])) for tissue, s0, s1, s2, s3, s4 in zip(cluster_scores_original.keys(), \n",
    "                                                  cluster_scores_original.values(), \n",
    "                                                  cluster_scores_grand.values(), \n",
    "                                                  cluster_scores_ebi_data.values(), \n",
    "                                                  cluster_scores_atlas.values(), \n",
    "                                                  cluster_scores_mousemuris.values())}\n",
    "scores2[\"total\".ljust(40)] = list(map(lambda x:round(x,2), [np.sum([v[0] for v in scores.values()]), \n",
    "                             np.sum([v[1] for v in scores.values()]),\n",
    "                             np.sum([v[2] for v in scores.values()]),\n",
    "                             np.sum([v[3] for v in scores.values()]),\n",
    "                             np.sum([v[4] for v in scores.values()])]))\n",
    "print(*scores2.items(), sep='\\n')"
   ]
  },
  {
   "cell_type": "code",
   "execution_count": 13,
   "metadata": {
    "pycharm": {
     "is_executing": true
    }
   },
   "outputs": [
    {
     "name": "stdout",
     "output_type": "stream",
     "text": [
      "Rectangle(xy=(-0.4, 0), width=0.8, height=11.37, angle=0)\n",
      "Rectangle(xy=(0.6, 0), width=0.8, height=5.65, angle=0)\n",
      "Rectangle(xy=(1.6, 0), width=0.8, height=6.87, angle=0)\n",
      "Rectangle(xy=(2.6, 0), width=0.8, height=3.67, angle=0)\n",
      "Rectangle(xy=(3.6, 0), width=0.8, height=6.02, angle=0)\n"
     ]
    },
    {
     "data": {
      "image/png": "[encoded data removed]",
      "text/plain": [
       "<Figure size 576x432 with 1 Axes>"
      ]
     },
     "metadata": {},
     "output_type": "display_data"
    }
   ],
   "source": [
    "\n",
    "plt.rcParams.update({'font.size': 12})\n",
    "fig = plt.figure(1,figsize=(8, 6))\n",
    "plt.style.use(\"ggplot\")\n",
    "cmap= plt.get_cmap(\"tab20\", 10)\n",
    "barlist = plt.bar(x=[\"Original\", \"Union\", \"Ebi Union\", \"Mouse Muris\", \"Mouse Atlas\"], \n",
    "                  height=[11.37, 5.65, 6.87, 3.67, 6.02],\n",
    "                  edgecolor=\"black\",\n",
    "                 color=cmap.colors[:5])\n",
    "for rect in barlist:\n",
    "    print(rect)\n",
    "    plt.text(x=rect.xy[0], y=rect.get_height()*1.02, s=f\"{rect.get_height()}\")\n",
    "\n",
    "plt.savefig(\"./plots/test2.pdf\", image_datatype=\"pdf\", bbox_inches=\"tight\")\n",
    "plt.show()"
   ]
  },
  {
   "cell_type": "code",
   "execution_count": 14,
   "metadata": {},
   "outputs": [
    {
     "ename": "AttributeError",
     "evalue": "module 'scvi.models.log_likelihood' has no attribute 'items'",
     "output_type": "error",
     "traceback": [
      "\u001b[0;31m---------------------------------------------------------------------------\u001b[0m",
      "\u001b[0;31mAttributeError\u001b[0m                            Traceback (most recent call last)",
      "\u001b[0;32m<ipython-input-14-f921d8f79b0e>\u001b[0m in \u001b[0;36m<module>\u001b[0;34m\u001b[0m\n\u001b[1;32m      4\u001b[0m                        \u001b[0;34m\"atlas\"\u001b[0m\u001b[0;34m:\u001b[0m \u001b[0mlks\u001b[0m\u001b[0;34m[\u001b[0m\u001b[0;36m2\u001b[0m\u001b[0;34m]\u001b[0m\u001b[0;34m,\u001b[0m\u001b[0;34m\u001b[0m\u001b[0;34m\u001b[0m\u001b[0m\n\u001b[1;32m      5\u001b[0m                        \"muris_senis\": lks[3]} \n\u001b[0;32m----> 6\u001b[0;31m               for tissue, lks in log_likelihood.items()}\n\u001b[0m\u001b[1;32m      7\u001b[0m \u001b[0ml\u001b[0m \u001b[0;34m=\u001b[0m \u001b[0mpd\u001b[0m\u001b[0;34m.\u001b[0m\u001b[0mDataFrame\u001b[0m\u001b[0;34m.\u001b[0m\u001b[0mfrom_dict\u001b[0m\u001b[0;34m(\u001b[0m\u001b[0mlikelihood\u001b[0m\u001b[0;34m,\u001b[0m \u001b[0morient\u001b[0m\u001b[0;34m=\u001b[0m\u001b[0;34m\"index\"\u001b[0m\u001b[0;34m)\u001b[0m\u001b[0;34m\u001b[0m\u001b[0;34m\u001b[0m\u001b[0m\n\u001b[1;32m      8\u001b[0m \u001b[0ml\u001b[0m\u001b[0;34m.\u001b[0m\u001b[0mto_csv\u001b[0m\u001b[0;34m(\u001b[0m\u001b[0;34m\"./data/likelihoods.csv\"\u001b[0m\u001b[0;34m)\u001b[0m\u001b[0;34m\u001b[0m\u001b[0;34m\u001b[0m\u001b[0m\n",
      "\u001b[0;31mAttributeError\u001b[0m: module 'scvi.models.log_likelihood' has no attribute 'items'"
     ]
    }
   ],
   "source": [
    "likelihood = {tissue: {\"orig\": log_lhood[tissue], \n",
    "                       \"data_full\": lks[0], \n",
    "                       \"ebi_data\": lks[1], \n",
    "                       \"atlas\": lks[2], \n",
    "                       \"muris_senis\": lks[3]} \n",
    "              for tissue, lks in log_likelihood.items()}\n",
    "l = pd.DataFrame.from_dict(likelihood, orient=\"index\")\n",
    "l.to_csv(\"./data/likelihoods.csv\")"
   ]
  },
  {
   "cell_type": "code",
   "execution_count": 15,
   "metadata": {},
   "outputs": [
    {
     "data": {
      "text/html": [
       "<div>\n",
       "<style scoped>\n",
       "    .dataframe tbody tr th:only-of-type {\n",
       "        vertical-align: middle;\n",
       "    }\n",
       "\n",
       "    .dataframe tbody tr th {\n",
       "        vertical-align: top;\n",
       "    }\n",
       "\n",
       "    .dataframe thead th {\n",
       "        text-align: right;\n",
       "    }\n",
       "</style>\n",
       "<table border=\"1\" class=\"dataframe\">\n",
       "  <thead>\n",
       "    <tr style=\"text-align: right;\">\n",
       "      <th></th>\n",
       "      <th>orig</th>\n",
       "      <th>data_full</th>\n",
       "      <th>ebi_data</th>\n",
       "      <th>atlas</th>\n",
       "      <th>muris_senis</th>\n",
       "    </tr>\n",
       "  </thead>\n",
       "  <tbody>\n",
       "    <tr>\n",
       "      <th>aorta</th>\n",
       "      <td>24310.315684</td>\n",
       "      <td>23992.295107</td>\n",
       "      <td>32075.558344</td>\n",
       "      <td>4.587417e+06</td>\n",
       "      <td>5.571919e+06</td>\n",
       "    </tr>\n",
       "    <tr>\n",
       "      <th>ascending colon</th>\n",
       "      <td>29460.074128</td>\n",
       "      <td>29853.452477</td>\n",
       "      <td>37575.660183</td>\n",
       "      <td>9.460040e+06</td>\n",
       "      <td>9.566490e+06</td>\n",
       "    </tr>\n",
       "    <tr>\n",
       "      <th>back skin</th>\n",
       "      <td>30357.389638</td>\n",
       "      <td>29995.718950</td>\n",
       "      <td>36439.681334</td>\n",
       "      <td>5.446716e+06</td>\n",
       "      <td>5.563453e+06</td>\n",
       "    </tr>\n",
       "    <tr>\n",
       "      <th>bone marrow</th>\n",
       "      <td>24258.308894</td>\n",
       "      <td>24701.243558</td>\n",
       "      <td>37663.219285</td>\n",
       "      <td>6.975455e+06</td>\n",
       "      <td>5.212873e+06</td>\n",
       "    </tr>\n",
       "    <tr>\n",
       "      <th>cerebellum</th>\n",
       "      <td>24374.276993</td>\n",
       "      <td>24772.462810</td>\n",
       "      <td>42134.700080</td>\n",
       "      <td>5.051623e+06</td>\n",
       "      <td>5.300943e+06</td>\n",
       "    </tr>\n",
       "    <tr>\n",
       "      <th>cerebral cortex</th>\n",
       "      <td>24435.349372</td>\n",
       "      <td>24767.023523</td>\n",
       "      <td>42151.180968</td>\n",
       "      <td>5.051730e+06</td>\n",
       "      <td>5.294357e+06</td>\n",
       "    </tr>\n",
       "    <tr>\n",
       "      <th>descending colon</th>\n",
       "      <td>30182.121101</td>\n",
       "      <td>29853.437064</td>\n",
       "      <td>37576.192294</td>\n",
       "      <td>9.460034e+06</td>\n",
       "      <td>9.566423e+06</td>\n",
       "    </tr>\n",
       "    <tr>\n",
       "      <th>diaphragm</th>\n",
       "      <td>23358.448943</td>\n",
       "      <td>23083.066465</td>\n",
       "      <td>32318.528097</td>\n",
       "      <td>4.835733e+06</td>\n",
       "      <td>5.392476e+06</td>\n",
       "    </tr>\n",
       "    <tr>\n",
       "      <th>endocrine pancreas</th>\n",
       "      <td>25343.399893</td>\n",
       "      <td>25431.762947</td>\n",
       "      <td>55239.081687</td>\n",
       "      <td>5.808246e+06</td>\n",
       "      <td>5.918684e+06</td>\n",
       "    </tr>\n",
       "    <tr>\n",
       "      <th>exocrine pancreas</th>\n",
       "      <td>25318.502936</td>\n",
       "      <td>25431.856914</td>\n",
       "      <td>55233.785371</td>\n",
       "      <td>5.808420e+06</td>\n",
       "      <td>5.918819e+06</td>\n",
       "    </tr>\n",
       "    <tr>\n",
       "      <th>gonadal fat pad</th>\n",
       "      <td>24067.340473</td>\n",
       "      <td>24440.238848</td>\n",
       "      <td>34505.871196</td>\n",
       "      <td>5.703128e+06</td>\n",
       "      <td>5.275506e+06</td>\n",
       "    </tr>\n",
       "    <tr>\n",
       "      <th>heart</th>\n",
       "      <td>24211.251222</td>\n",
       "      <td>24089.417400</td>\n",
       "      <td>32573.520039</td>\n",
       "      <td>4.655829e+06</td>\n",
       "      <td>5.679297e+06</td>\n",
       "    </tr>\n",
       "    <tr>\n",
       "      <th>heart left atrium</th>\n",
       "      <td>24134.629590</td>\n",
       "      <td>24197.534586</td>\n",
       "      <td>33324.501281</td>\n",
       "      <td>5.121654e+06</td>\n",
       "      <td>5.612997e+06</td>\n",
       "    </tr>\n",
       "    <tr>\n",
       "      <th>heart left atrium and heart right atrium</th>\n",
       "      <td>28761.614121</td>\n",
       "      <td>25987.963481</td>\n",
       "      <td>32783.571516</td>\n",
       "      <td>4.407188e+06</td>\n",
       "      <td>5.886274e+06</td>\n",
       "    </tr>\n",
       "    <tr>\n",
       "      <th>heart left ventricle</th>\n",
       "      <td>24068.055935</td>\n",
       "      <td>24197.587105</td>\n",
       "      <td>33325.256191</td>\n",
       "      <td>5.121539e+06</td>\n",
       "      <td>5.612951e+06</td>\n",
       "    </tr>\n",
       "    <tr>\n",
       "      <th>heart right atrium</th>\n",
       "      <td>24147.472032</td>\n",
       "      <td>24197.489966</td>\n",
       "      <td>33327.284372</td>\n",
       "      <td>5.121568e+06</td>\n",
       "      <td>5.612903e+06</td>\n",
       "    </tr>\n",
       "    <tr>\n",
       "      <th>heart right ventricle</th>\n",
       "      <td>24044.911614</td>\n",
       "      <td>24197.636422</td>\n",
       "      <td>33325.672502</td>\n",
       "      <td>5.121551e+06</td>\n",
       "      <td>5.613075e+06</td>\n",
       "    </tr>\n",
       "    <tr>\n",
       "      <th>hippocampus</th>\n",
       "      <td>24283.542368</td>\n",
       "      <td>24767.168137</td>\n",
       "      <td>42151.787223</td>\n",
       "      <td>5.051497e+06</td>\n",
       "      <td>5.294240e+06</td>\n",
       "    </tr>\n",
       "    <tr>\n",
       "      <th>interscapular brown adipose tissue</th>\n",
       "      <td>24109.324077</td>\n",
       "      <td>24440.354505</td>\n",
       "      <td>34506.393796</td>\n",
       "      <td>5.703186e+06</td>\n",
       "      <td>5.275581e+06</td>\n",
       "    </tr>\n",
       "    <tr>\n",
       "      <th>kidney</th>\n",
       "      <td>22625.049728</td>\n",
       "      <td>22271.371253</td>\n",
       "      <td>37411.555177</td>\n",
       "      <td>5.264472e+06</td>\n",
       "      <td>5.434366e+06</td>\n",
       "    </tr>\n",
       "    <tr>\n",
       "      <th>limb muscle</th>\n",
       "      <td>22296.588479</td>\n",
       "      <td>22520.458584</td>\n",
       "      <td>32941.487952</td>\n",
       "      <td>5.209049e+06</td>\n",
       "      <td>5.155609e+06</td>\n",
       "    </tr>\n",
       "    <tr>\n",
       "      <th>liver</th>\n",
       "      <td>21942.534274</td>\n",
       "      <td>21543.163306</td>\n",
       "      <td>90187.435484</td>\n",
       "      <td>6.314251e+06</td>\n",
       "      <td>5.129271e+06</td>\n",
       "    </tr>\n",
       "    <tr>\n",
       "      <th>lung</th>\n",
       "      <td>23468.995943</td>\n",
       "      <td>23734.378905</td>\n",
       "      <td>35161.248682</td>\n",
       "      <td>6.671363e+06</td>\n",
       "      <td>5.002264e+06</td>\n",
       "    </tr>\n",
       "    <tr>\n",
       "      <th>mammary gland</th>\n",
       "      <td>25527.234925</td>\n",
       "      <td>25595.109514</td>\n",
       "      <td>33268.032966</td>\n",
       "      <td>4.740028e+06</td>\n",
       "      <td>5.954302e+06</td>\n",
       "    </tr>\n",
       "    <tr>\n",
       "      <th>mesenteric adipose tissue</th>\n",
       "      <td>24101.563663</td>\n",
       "      <td>24440.279911</td>\n",
       "      <td>34505.908419</td>\n",
       "      <td>5.703084e+06</td>\n",
       "      <td>5.275548e+06</td>\n",
       "    </tr>\n",
       "    <tr>\n",
       "      <th>spleen</th>\n",
       "      <td>22483.959016</td>\n",
       "      <td>21506.230173</td>\n",
       "      <td>34185.377492</td>\n",
       "      <td>6.093651e+06</td>\n",
       "      <td>4.678463e+06</td>\n",
       "    </tr>\n",
       "    <tr>\n",
       "      <th>striatum</th>\n",
       "      <td>24452.709144</td>\n",
       "      <td>24772.682485</td>\n",
       "      <td>42134.049054</td>\n",
       "      <td>5.051159e+06</td>\n",
       "      <td>5.300823e+06</td>\n",
       "    </tr>\n",
       "    <tr>\n",
       "      <th>subcutaneous adipose tissue</th>\n",
       "      <td>24199.270458</td>\n",
       "      <td>24440.550222</td>\n",
       "      <td>34506.438405</td>\n",
       "      <td>5.703084e+06</td>\n",
       "      <td>5.275517e+06</td>\n",
       "    </tr>\n",
       "    <tr>\n",
       "      <th>thymus</th>\n",
       "      <td>31130.769231</td>\n",
       "      <td>21954.205128</td>\n",
       "      <td>39555.116371</td>\n",
       "      <td>4.582496e+06</td>\n",
       "      <td>4.950145e+06</td>\n",
       "    </tr>\n",
       "    <tr>\n",
       "      <th>tongue</th>\n",
       "      <td>35224.459206</td>\n",
       "      <td>34059.425271</td>\n",
       "      <td>38707.012274</td>\n",
       "      <td>5.444361e+06</td>\n",
       "      <td>5.999680e+06</td>\n",
       "    </tr>\n",
       "    <tr>\n",
       "      <th>trachea</th>\n",
       "      <td>25193.154930</td>\n",
       "      <td>24861.911737</td>\n",
       "      <td>33964.529577</td>\n",
       "      <td>4.716884e+06</td>\n",
       "      <td>5.680903e+06</td>\n",
       "    </tr>\n",
       "    <tr>\n",
       "      <th>urinary bladder</th>\n",
       "      <td>35888.598778</td>\n",
       "      <td>35242.268839</td>\n",
       "      <td>39518.480652</td>\n",
       "      <td>5.081432e+06</td>\n",
       "      <td>6.710254e+06</td>\n",
       "    </tr>\n",
       "  </tbody>\n",
       "</table>\n",
       "</div>"
      ],
      "text/plain": [
       "                                                  orig     data_full  \\\n",
       "aorta                                     24310.315684  23992.295107   \n",
       "ascending colon                           29460.074128  29853.452477   \n",
       "back skin                                 30357.389638  29995.718950   \n",
       "bone marrow                               24258.308894  24701.243558   \n",
       "cerebellum                                24374.276993  24772.462810   \n",
       "cerebral cortex                           24435.349372  24767.023523   \n",
       "descending colon                          30182.121101  29853.437064   \n",
       "diaphragm                                 23358.448943  23083.066465   \n",
       "endocrine pancreas                        25343.399893  25431.762947   \n",
       "exocrine pancreas                         25318.502936  25431.856914   \n",
       "gonadal fat pad                           24067.340473  24440.238848   \n",
       "heart                                     24211.251222  24089.417400   \n",
       "heart left atrium                         24134.629590  24197.534586   \n",
       "heart left atrium and heart right atrium  28761.614121  25987.963481   \n",
       "heart left ventricle                      24068.055935  24197.587105   \n",
       "heart right atrium                        24147.472032  24197.489966   \n",
       "heart right ventricle                     24044.911614  24197.636422   \n",
       "hippocampus                               24283.542368  24767.168137   \n",
       "interscapular brown adipose tissue        24109.324077  24440.354505   \n",
       "kidney                                    22625.049728  22271.371253   \n",
       "limb muscle                               22296.588479  22520.458584   \n",
       "liver                                     21942.534274  21543.163306   \n",
       "lung                                      23468.995943  23734.378905   \n",
       "mammary gland                             25527.234925  25595.109514   \n",
       "mesenteric adipose tissue                 24101.563663  24440.279911   \n",
       "spleen                                    22483.959016  21506.230173   \n",
       "striatum                                  24452.709144  24772.682485   \n",
       "subcutaneous adipose tissue               24199.270458  24440.550222   \n",
       "thymus                                    31130.769231  21954.205128   \n",
       "tongue                                    35224.459206  34059.425271   \n",
       "trachea                                   25193.154930  24861.911737   \n",
       "urinary bladder                           35888.598778  35242.268839   \n",
       "\n",
       "                                              ebi_data         atlas  \\\n",
       "aorta                                     32075.558344  4.587417e+06   \n",
       "ascending colon                           37575.660183  9.460040e+06   \n",
       "back skin                                 36439.681334  5.446716e+06   \n",
       "bone marrow                               37663.219285  6.975455e+06   \n",
       "cerebellum                                42134.700080  5.051623e+06   \n",
       "cerebral cortex                           42151.180968  5.051730e+06   \n",
       "descending colon                          37576.192294  9.460034e+06   \n",
       "diaphragm                                 32318.528097  4.835733e+06   \n",
       "endocrine pancreas                        55239.081687  5.808246e+06   \n",
       "exocrine pancreas                         55233.785371  5.808420e+06   \n",
       "gonadal fat pad                           34505.871196  5.703128e+06   \n",
       "heart                                     32573.520039  4.655829e+06   \n",
       "heart left atrium                         33324.501281  5.121654e+06   \n",
       "heart left atrium and heart right atrium  32783.571516  4.407188e+06   \n",
       "heart left ventricle                      33325.256191  5.121539e+06   \n",
       "heart right atrium                        33327.284372  5.121568e+06   \n",
       "heart right ventricle                     33325.672502  5.121551e+06   \n",
       "hippocampus                               42151.787223  5.051497e+06   \n",
       "interscapular brown adipose tissue        34506.393796  5.703186e+06   \n",
       "kidney                                    37411.555177  5.264472e+06   \n",
       "limb muscle                               32941.487952  5.209049e+06   \n",
       "liver                                     90187.435484  6.314251e+06   \n",
       "lung                                      35161.248682  6.671363e+06   \n",
       "mammary gland                             33268.032966  4.740028e+06   \n",
       "mesenteric adipose tissue                 34505.908419  5.703084e+06   \n",
       "spleen                                    34185.377492  6.093651e+06   \n",
       "striatum                                  42134.049054  5.051159e+06   \n",
       "subcutaneous adipose tissue               34506.438405  5.703084e+06   \n",
       "thymus                                    39555.116371  4.582496e+06   \n",
       "tongue                                    38707.012274  5.444361e+06   \n",
       "trachea                                   33964.529577  4.716884e+06   \n",
       "urinary bladder                           39518.480652  5.081432e+06   \n",
       "\n",
       "                                           muris_senis  \n",
       "aorta                                     5.571919e+06  \n",
       "ascending colon                           9.566490e+06  \n",
       "back skin                                 5.563453e+06  \n",
       "bone marrow                               5.212873e+06  \n",
       "cerebellum                                5.300943e+06  \n",
       "cerebral cortex                           5.294357e+06  \n",
       "descending colon                          9.566423e+06  \n",
       "diaphragm                                 5.392476e+06  \n",
       "endocrine pancreas                        5.918684e+06  \n",
       "exocrine pancreas                         5.918819e+06  \n",
       "gonadal fat pad                           5.275506e+06  \n",
       "heart                                     5.679297e+06  \n",
       "heart left atrium                         5.612997e+06  \n",
       "heart left atrium and heart right atrium  5.886274e+06  \n",
       "heart left ventricle                      5.612951e+06  \n",
       "heart right atrium                        5.612903e+06  \n",
       "heart right ventricle                     5.613075e+06  \n",
       "hippocampus                               5.294240e+06  \n",
       "interscapular brown adipose tissue        5.275581e+06  \n",
       "kidney                                    5.434366e+06  \n",
       "limb muscle                               5.155609e+06  \n",
       "liver                                     5.129271e+06  \n",
       "lung                                      5.002264e+06  \n",
       "mammary gland                             5.954302e+06  \n",
       "mesenteric adipose tissue                 5.275548e+06  \n",
       "spleen                                    4.678463e+06  \n",
       "striatum                                  5.300823e+06  \n",
       "subcutaneous adipose tissue               5.275517e+06  \n",
       "thymus                                    4.950145e+06  \n",
       "tongue                                    5.999680e+06  \n",
       "trachea                                   5.680903e+06  \n",
       "urinary bladder                           6.710254e+06  "
      ]
     },
     "execution_count": 15,
     "metadata": {},
     "output_type": "execute_result"
    }
   ],
   "source": [
    "l = pd.read_csv(\"./data/likelihoods.csv\", index_col=0)\n",
    "l"
   ]
  },
  {
   "cell_type": "code",
   "execution_count": 16,
   "metadata": {},
   "outputs": [
    {
     "name": "stdout",
     "output_type": "stream",
     "text": [
      "Rectangle(xy=(-0.4, 0), width=0.8, height=25680, angle=0)\n",
      "Rectangle(xy=(0.6, 0), width=0.8, height=25292, angle=0)\n",
      "Rectangle(xy=(1.6, 0), width=0.8, height=38884, angle=0)\n",
      "Rectangle(xy=(2.6, 0), width=0.8, height=5.59587e+06, angle=0)\n",
      "Rectangle(xy=(3.6, 0), width=0.8, height=5.74114e+06, angle=0)\n"
     ]
    },
    {
     "data": {
      "image/png": "[encoded data removed]",
      "text/plain": [
       "<Figure size 576x432 with 1 Axes>"
      ]
     },
     "metadata": {},
     "output_type": "display_data"
    }
   ],
   "source": [
    "plt.rcParams.update({'font.size': 12})\n",
    "fig = plt.figure(1,figsize=(8, 6))\n",
    "plt.style.use(\"ggplot\")\n",
    "cmap= plt.get_cmap(\"tab20\", 10)\n",
    "barlist = plt.bar(x=[\"Original\\n\\n\\n(?)\", \"Union\", \"Ebi Union\\n\\n\\n10X + smart-seq2\", \"Mouse Muris\\n\\n\\nFacs + 10X\", \"Mouse Atlas\\n\\n\\nsci-RNA-seq3\"], \n",
    "                  height=l.mean(axis=0).round(0),\n",
    "                  edgecolor=\"black\",\n",
    "                 color=cmap.colors[:5])\n",
    "for rect in barlist:\n",
    "    print(rect)\n",
    "    plt.text(x=rect.xy[0], y=rect.get_height()*1.05, s=f\"{rect.get_height():.1E}\")\n",
    "ticks = l.mean(axis=0).values.flatten().round(1)\n",
    "ticks = ticks[np.array([0,2,3])]\n",
    "plt.yticks(ticks)\n",
    "\n",
    "plt.yscale(\"log\")\n",
    "plt.savefig(\"./plots/test.pdf\", image_datatype=\"pdf\", bbox_inches=\"tight\")\n",
    "plt.show()"
   ]
  },
  {
   "cell_type": "code",
   "execution_count": 6,
   "metadata": {},
   "outputs": [
    {
     "data": {
      "text/plain": [
       "orig           2.568004e+04\n",
       "data_full      2.529187e+04\n",
       "ebi_data       3.888369e+04\n",
       "atlas          5.595871e+06\n",
       "muris_senis    5.741138e+06\n",
       "dtype: float64"
      ]
     },
     "execution_count": 6,
     "metadata": {},
     "output_type": "execute_result"
    }
   ],
   "source": [
    "l.mean(axis=0)"
   ]
  },
  {
   "cell_type": "code",
   "execution_count": 47,
   "metadata": {},
   "outputs": [],
   "source": []
  },
  {
   "cell_type": "code",
   "execution_count": 15,
   "metadata": {},
   "outputs": [
    {
     "data": {
      "text/plain": [
       "'ddfg'"
      ]
     },
     "execution_count": 15,
     "metadata": {},
     "output_type": "execute_result"
    }
   ],
   "source": []
  },
  {
   "cell_type": "code",
   "execution_count": null,
   "metadata": {},
   "outputs": [],
   "source": []
  }
 ],
 "metadata": {
  "kernelspec": {
   "display_name": "Python [conda env:scvi] *",
   "language": "python",
   "name": "conda-env-scvi-py"
  },
  "language_info": {
   "codemirror_mode": {
    "name": "ipython",
    "version": 3
   },
   "file_extension": ".py",
   "mimetype": "text/x-python",
   "name": "python",
   "nbconvert_exporter": "python",
   "pygments_lexer": "ipython3",
   "version": "3.7.4"
  },
  "pycharm": {
   "stem_cell": {
    "cell_type": "raw",
    "metadata": {
     "collapsed": false
    },
    "source": []
   }
  }
 },
 "nbformat": 4,
 "nbformat_minor": 2
}
