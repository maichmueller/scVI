{
 "cells": [
  {
   "cell_type": "code",
   "execution_count": 1,
   "metadata": {},
   "outputs": [
    {
     "name": "stderr",
     "output_type": "stream",
     "text": [
      "[2019-09-04 17:24:09,154] INFO - scvi._settings | Added StreamHandler with custom formatter to 'scvi' logger.\n",
      "/home/michael/anaconda3/envs/scvi/lib/python3.7/site-packages/sklearn/utils/linear_assignment_.py:21: DeprecationWarning: The linear_assignment_ module is deprecated in 0.21 and will be removed from 0.23. Use scipy.optimize.linear_sum_assignment instead.\n",
      "  DeprecationWarning)\n"
     ]
    }
   ],
   "source": [
    "from scvi.dataset import EbiData, MouseAtlas, UnionDataset, AnnDatasetFromAnnData\n",
    "from Eval_basis import *\n",
    "import scanpy as sc\n",
    "import pandas as pd\n",
    "import scipy.sparse as sparse\n",
    "from tqdm import tqdm_notebook as tqdm\n",
    "import urllib"
   ]
  },
  {
   "cell_type": "code",
   "execution_count": 2,
   "metadata": {},
   "outputs": [
    {
     "name": "stderr",
     "output_type": "stream",
     "text": [
      "Concatenating datasets: 100%|██████████| 1/1 [15:49<00:00, 949.27s/it]\n",
      "[2019-09-04 17:41:17,833] INFO - scvi.dataset.dataset | Union dataset is set to ignore batch annotation.\n",
      "[2019-09-04 17:41:29,668] INFO - scvi.dataset.dataset | Remapping batch_indices to [0,N]\n",
      "[2019-09-04 17:41:29,705] INFO - scvi.dataset.dataset | Union dataset is set to ignore batch annotation.\n",
      "[2019-09-04 17:41:29,726] INFO - scvi.dataset.dataset | Remapping labels to [0,N]\n",
      "[2019-09-04 17:41:29,893] INFO - scvi.dataset.dataset | Joined 1 datasets to one of shape 1331984 x 22250.\n"
     ]
    }
   ],
   "source": [
    "fpaths_and_fnames = {'data': \"./data/mouse_atlas/cleaned_data_sparse.npz\",\n",
    "                     'cell': \"./data/mouse_atlas/cell_annotation.csv\",\n",
    "                     'gene': \"./data/mouse_atlas/gene_annotation.csv\",\n",
    "                     'pheno': \"./data/mouse_atlas/phenotype_data.csv\"}\n",
    "mouse_union = UnionDataset(\"./data\", \n",
    "                          gene_map_load_filename=\"gene_maps/ensembl_mouse_genes-proteincoding\", \n",
    "                          low_memory=False)\n",
    "mouse_union.join_datasets(data_source=\"memory\", \n",
    "                          data_target=\"memory\",\n",
    "                          gene_datasets=[MouseAtlas(\"./data/mouse_atlas\",\n",
    "                                                    fpaths_and_fnames,\n",
    "                                                    True,\n",
    "                                                    False)])\n",
    "mouse_union.name = \"Mouse Atlas\""
   ]
  },
  {
   "cell_type": "code",
   "execution_count": 3,
   "metadata": {
    "scrolled": true
   },
   "outputs": [
    {
     "name": "stderr",
     "output_type": "stream",
     "text": [
      "[2019-09-04 17:46:05,741] INFO - scvi.dataset.anndataset | Dense size under 1Gb, casting to dense format (np.ndarray).\n",
      "[2019-09-04 17:46:06,310] INFO - scvi.dataset.dataset | Remapping batch_indices to [0,N]\n",
      "[2019-09-04 17:46:06,311] INFO - scvi.dataset.dataset | Remapping labels to [0,N]\n",
      "[2019-09-04 17:46:06,500] INFO - scvi.dataset.dataset | Computing the library size for the new data\n",
      "[2019-09-04 17:46:06,696] INFO - scvi.dataset.dataset | Downsampled from 7916 to 7916 cells\n",
      "[2019-09-04 17:46:07,715] INFO - scvi.dataset.dataset | Computing the library size for the new data\n",
      "[2019-09-04 17:46:08,866] INFO - scvi.dataset.anndataset | Dense size under 1Gb, casting to dense format (np.ndarray).\n",
      "[2019-09-04 17:46:09,170] INFO - scvi.dataset.dataset | Remapping batch_indices to [0,N]\n",
      "[2019-09-04 17:46:09,171] INFO - scvi.dataset.dataset | Remapping labels to [0,N]\n",
      "[2019-09-04 17:46:09,252] INFO - scvi.dataset.dataset | Computing the library size for the new data\n",
      "[2019-09-04 17:46:09,338] INFO - scvi.dataset.dataset | Downsampled from 2812 to 2812 cells\n",
      "[2019-09-04 17:46:09,624] INFO - scvi.dataset.dataset | Computing the library size for the new data\n",
      "[2019-09-04 17:46:10,479] INFO - scvi.dataset.anndataset | Dense size under 1Gb, casting to dense format (np.ndarray).\n",
      "[2019-09-04 17:46:10,765] INFO - scvi.dataset.dataset | Remapping batch_indices to [0,N]\n",
      "[2019-09-04 17:46:10,765] INFO - scvi.dataset.dataset | Remapping labels to [0,N]\n",
      "[2019-09-04 17:46:10,838] INFO - scvi.dataset.dataset | Computing the library size for the new data\n",
      "[2019-09-04 17:46:10,909] INFO - scvi.dataset.dataset | Downsampled from 3132 to 3132 cells\n",
      "[2019-09-04 17:46:11,238] INFO - scvi.dataset.dataset | Computing the library size for the new data\n",
      "[2019-09-04 17:46:12,169] INFO - scvi.dataset.anndataset | Dense size under 1Gb, casting to dense format (np.ndarray).\n",
      "[2019-09-04 17:46:12,573] INFO - scvi.dataset.dataset | Remapping batch_indices to [0,N]\n",
      "[2019-09-04 17:46:12,574] INFO - scvi.dataset.dataset | Remapping labels to [0,N]\n",
      "[2019-09-04 17:46:12,696] INFO - scvi.dataset.dataset | Computing the library size for the new data\n",
      "[2019-09-04 17:46:12,833] INFO - scvi.dataset.dataset | Downsampled from 5080 to 5080 cells\n",
      "[2019-09-04 17:46:13,441] INFO - scvi.dataset.dataset | Computing the library size for the new data\n",
      "[2019-09-04 17:46:14,656] INFO - scvi.dataset.anndataset | Dense size under 1Gb, casting to dense format (np.ndarray).\n",
      "[2019-09-04 17:46:15,012] INFO - scvi.dataset.dataset | Remapping batch_indices to [0,N]\n",
      "[2019-09-04 17:46:15,013] INFO - scvi.dataset.dataset | Remapping labels to [0,N]\n",
      "[2019-09-04 17:46:15,109] INFO - scvi.dataset.dataset | Computing the library size for the new data\n",
      "[2019-09-04 17:46:15,214] INFO - scvi.dataset.dataset | Downsampled from 4454 to 4454 cells\n",
      "[2019-09-04 17:46:15,741] INFO - scvi.dataset.dataset | Computing the library size for the new data\n",
      "[2019-09-04 17:46:18,133] INFO - scvi.dataset.dataset | Remapping batch_indices to [0,N]\n",
      "[2019-09-04 17:46:18,134] INFO - scvi.dataset.dataset | Remapping labels to [0,N]\n",
      "[2019-09-04 17:46:18,429] INFO - scvi.dataset.dataset | Computing the library size for the new data\n",
      "[2019-09-04 17:46:18,749] INFO - scvi.dataset.dataset | Downsampled from 17491 to 17491 cells\n",
      "[2019-09-04 17:46:21,426] INFO - scvi.dataset.dataset | Computing the library size for the new data\n",
      "[2019-09-04 17:46:25,959] INFO - scvi.dataset.dataset | Remapping batch_indices to [0,N]\n",
      "[2019-09-04 17:46:25,960] INFO - scvi.dataset.dataset | Remapping labels to [0,N]\n",
      "[2019-09-04 17:46:26,339] INFO - scvi.dataset.dataset | Computing the library size for the new data\n",
      "[2019-09-04 17:46:26,708] INFO - scvi.dataset.dataset | Downsampled from 24969 to 24969 cells\n",
      "[2019-09-04 17:46:30,446] INFO - scvi.dataset.dataset | Computing the library size for the new data\n",
      "[2019-09-04 17:46:34,231] INFO - scvi.dataset.anndataset | Dense size under 1Gb, casting to dense format (np.ndarray).\n",
      "[2019-09-04 17:46:34,524] INFO - scvi.dataset.dataset | Remapping batch_indices to [0,N]\n",
      "[2019-09-04 17:46:34,525] INFO - scvi.dataset.dataset | Remapping labels to [0,N]\n",
      "[2019-09-04 17:46:34,592] INFO - scvi.dataset.dataset | Computing the library size for the new data\n",
      "[2019-09-04 17:46:34,672] INFO - scvi.dataset.dataset | Downsampled from 2723 to 2723 cells\n",
      "[2019-09-04 17:46:35,038] INFO - scvi.dataset.dataset | Computing the library size for the new data\n",
      "[2019-09-04 17:46:37,530] INFO - scvi.dataset.dataset | Remapping batch_indices to [0,N]\n",
      "[2019-09-04 17:46:37,531] INFO - scvi.dataset.dataset | Remapping labels to [0,N]\n",
      "[2019-09-04 17:46:37,857] INFO - scvi.dataset.dataset | Computing the library size for the new data\n",
      "[2019-09-04 17:46:38,217] INFO - scvi.dataset.dataset | Downsampled from 19101 to 19101 cells\n",
      "[2019-09-04 17:46:41,007] INFO - scvi.dataset.dataset | Computing the library size for the new data\n",
      "[2019-09-04 17:46:43,643] INFO - scvi.dataset.anndataset | Dense size under 1Gb, casting to dense format (np.ndarray).\n",
      "[2019-09-04 17:46:43,880] INFO - scvi.dataset.dataset | Remapping batch_indices to [0,N]\n",
      "[2019-09-04 17:46:43,881] INFO - scvi.dataset.dataset | Remapping labels to [0,N]\n",
      "[2019-09-04 17:46:43,927] INFO - scvi.dataset.dataset | Computing the library size for the new data\n",
      "[2019-09-04 17:46:43,978] INFO - scvi.dataset.dataset | Downsampled from 1608 to 1608 cells\n",
      "[2019-09-04 17:46:44,123] INFO - scvi.dataset.dataset | Computing the library size for the new data\n",
      "[2019-09-04 17:46:45,261] INFO - scvi.dataset.anndataset | Dense size under 1Gb, casting to dense format (np.ndarray).\n",
      "[2019-09-04 17:46:45,967] INFO - scvi.dataset.dataset | Remapping batch_indices to [0,N]\n",
      "[2019-09-04 17:46:45,968] INFO - scvi.dataset.dataset | Remapping labels to [0,N]\n",
      "[2019-09-04 17:46:46,210] INFO - scvi.dataset.dataset | Computing the library size for the new data\n",
      "[2019-09-04 17:46:46,472] INFO - scvi.dataset.dataset | Downsampled from 11392 to 11392 cells\n",
      "[2019-09-04 17:46:47,902] INFO - scvi.dataset.dataset | Computing the library size for the new data\n",
      "[2019-09-04 17:46:49,813] INFO - scvi.dataset.anndataset | Dense size under 1Gb, casting to dense format (np.ndarray).\n",
      "[2019-09-04 17:46:50,085] INFO - scvi.dataset.dataset | Remapping batch_indices to [0,N]\n",
      "[2019-09-04 17:46:50,085] INFO - scvi.dataset.dataset | Remapping labels to [0,N]\n",
      "[2019-09-04 17:46:50,153] INFO - scvi.dataset.dataset | Computing the library size for the new data\n",
      "[2019-09-04 17:46:50,227] INFO - scvi.dataset.dataset | Downsampled from 2353 to 2353 cells\n",
      "[2019-09-04 17:46:50,476] INFO - scvi.dataset.dataset | Computing the library size for the new data\n",
      "[2019-09-04 17:46:51,301] INFO - scvi.dataset.anndataset | Dense size under 1Gb, casting to dense format (np.ndarray).\n",
      "[2019-09-04 17:46:51,758] INFO - scvi.dataset.dataset | Remapping batch_indices to [0,N]\n",
      "[2019-09-04 17:46:51,759] INFO - scvi.dataset.dataset | Remapping labels to [0,N]\n",
      "[2019-09-04 17:46:51,904] INFO - scvi.dataset.dataset | Computing the library size for the new data\n",
      "[2019-09-04 17:46:52,060] INFO - scvi.dataset.dataset | Downsampled from 6815 to 6815 cells\n",
      "[2019-09-04 17:46:52,902] INFO - scvi.dataset.dataset | Computing the library size for the new data\n",
      "[2019-09-04 17:46:53,982] INFO - scvi.dataset.anndataset | Dense size under 1Gb, casting to dense format (np.ndarray).\n",
      "[2019-09-04 17:46:54,271] INFO - scvi.dataset.dataset | Remapping batch_indices to [0,N]\n",
      "[2019-09-04 17:46:54,271] INFO - scvi.dataset.dataset | Remapping labels to [0,N]\n",
      "[2019-09-04 17:46:54,334] INFO - scvi.dataset.dataset | Computing the library size for the new data\n",
      "[2019-09-04 17:46:54,402] INFO - scvi.dataset.dataset | Downsampled from 2531 to 2531 cells\n",
      "[2019-09-04 17:46:54,684] INFO - scvi.dataset.dataset | Computing the library size for the new data\n",
      "[2019-09-04 17:46:59,180] INFO - scvi.dataset.dataset | Remapping batch_indices to [0,N]\n",
      "[2019-09-04 17:46:59,182] INFO - scvi.dataset.dataset | Remapping labels to [0,N]\n",
      "[2019-09-04 17:46:59,874] INFO - scvi.dataset.dataset | Computing the library size for the new data\n",
      "[2019-09-04 17:47:00,548] INFO - scvi.dataset.dataset | Downsampled from 41941 to 41941 cells\n",
      "[2019-09-04 17:47:10,730] INFO - scvi.dataset.dataset | Computing the library size for the new data\n"
     ]
    },
    {
     "name": "stderr",
     "output_type": "stream",
     "text": [
      "[2019-09-04 17:47:16,338] INFO - scvi.dataset.anndataset | Dense size under 1Gb, casting to dense format (np.ndarray).\n",
      "[2019-09-04 17:47:16,563] INFO - scvi.dataset.dataset | Remapping batch_indices to [0,N]\n",
      "[2019-09-04 17:47:16,564] INFO - scvi.dataset.dataset | Remapping labels to [0,N]\n",
      "[2019-09-04 17:47:16,607] INFO - scvi.dataset.dataset | Computing the library size for the new data\n",
      "[2019-09-04 17:47:16,654] INFO - scvi.dataset.dataset | Downsampled from 1561 to 1561 cells\n",
      "[2019-09-04 17:47:16,838] INFO - scvi.dataset.dataset | Computing the library size for the new data\n",
      "[2019-09-04 17:47:17,583] INFO - scvi.dataset.anndataset | Dense size under 1Gb, casting to dense format (np.ndarray).\n",
      "[2019-09-04 17:47:17,887] INFO - scvi.dataset.dataset | Remapping batch_indices to [0,N]\n",
      "[2019-09-04 17:47:17,888] INFO - scvi.dataset.dataset | Remapping labels to [0,N]\n",
      "[2019-09-04 17:47:17,955] INFO - scvi.dataset.dataset | Computing the library size for the new data\n",
      "[2019-09-04 17:47:18,027] INFO - scvi.dataset.dataset | Downsampled from 2776 to 2776 cells\n",
      "[2019-09-04 17:47:18,335] INFO - scvi.dataset.dataset | Computing the library size for the new data\n",
      "[2019-09-04 17:47:19,752] INFO - scvi.dataset.anndataset | Dense size under 1Gb, casting to dense format (np.ndarray).\n",
      "[2019-09-04 17:47:20,309] INFO - scvi.dataset.dataset | Remapping batch_indices to [0,N]\n",
      "[2019-09-04 17:47:20,310] INFO - scvi.dataset.dataset | Remapping labels to [0,N]\n",
      "[2019-09-04 17:47:20,492] INFO - scvi.dataset.dataset | Computing the library size for the new data\n",
      "[2019-09-04 17:47:20,688] INFO - scvi.dataset.dataset | Downsampled from 8817 to 8817 cells\n",
      "[2019-09-04 17:47:21,779] INFO - scvi.dataset.dataset | Computing the library size for the new data\n",
      "[2019-09-04 17:47:23,197] INFO - scvi.dataset.anndataset | Dense size under 1Gb, casting to dense format (np.ndarray).\n",
      "[2019-09-04 17:47:23,531] INFO - scvi.dataset.dataset | Remapping batch_indices to [0,N]\n",
      "[2019-09-04 17:47:23,532] INFO - scvi.dataset.dataset | Remapping labels to [0,N]\n",
      "[2019-09-04 17:47:23,617] INFO - scvi.dataset.dataset | Computing the library size for the new data\n",
      "[2019-09-04 17:47:23,710] INFO - scvi.dataset.dataset | Downsampled from 3468 to 3468 cells\n",
      "[2019-09-04 17:47:24,180] INFO - scvi.dataset.dataset | Computing the library size for the new data\n",
      "[2019-09-04 17:47:25,067] INFO - scvi.dataset.anndataset | Dense size under 1Gb, casting to dense format (np.ndarray).\n",
      "[2019-09-04 17:47:25,375] INFO - scvi.dataset.dataset | Remapping batch_indices to [0,N]\n",
      "[2019-09-04 17:47:25,375] INFO - scvi.dataset.dataset | Remapping labels to [0,N]\n",
      "[2019-09-04 17:47:25,453] INFO - scvi.dataset.dataset | Computing the library size for the new data\n",
      "[2019-09-04 17:47:25,541] INFO - scvi.dataset.dataset | Downsampled from 3104 to 3104 cells\n",
      "[2019-09-04 17:47:25,896] INFO - scvi.dataset.dataset | Computing the library size for the new data\n",
      "[2019-09-04 17:47:26,614] INFO - scvi.dataset.anndataset | Dense size under 1Gb, casting to dense format (np.ndarray).\n",
      "[2019-09-04 17:47:26,809] INFO - scvi.dataset.dataset | Remapping batch_indices to [0,N]\n",
      "[2019-09-04 17:47:26,810] INFO - scvi.dataset.dataset | Remapping labels to [0,N]\n",
      "[2019-09-04 17:47:26,842] INFO - scvi.dataset.dataset | Computing the library size for the new data\n",
      "[2019-09-04 17:47:26,876] INFO - scvi.dataset.dataset | Downsampled from 1740 to 1740 cells\n",
      "[2019-09-04 17:47:26,974] INFO - scvi.dataset.dataset | Computing the library size for the new data\n",
      "[2019-09-04 17:47:27,888] INFO - scvi.dataset.anndataset | Dense size under 1Gb, casting to dense format (np.ndarray).\n",
      "[2019-09-04 17:47:28,543] INFO - scvi.dataset.dataset | Remapping batch_indices to [0,N]\n",
      "[2019-09-04 17:47:28,544] INFO - scvi.dataset.dataset | Remapping labels to [0,N]\n",
      "[2019-09-04 17:47:28,789] INFO - scvi.dataset.dataset | Computing the library size for the new data\n",
      "[2019-09-04 17:47:29,035] INFO - scvi.dataset.dataset | Downsampled from 8956 to 8956 cells\n",
      "[2019-09-04 17:47:30,302] INFO - scvi.dataset.dataset | Computing the library size for the new data\n",
      "[2019-09-04 17:47:31,635] INFO - scvi.dataset.anndataset | Dense size under 1Gb, casting to dense format (np.ndarray).\n",
      "[2019-09-04 17:47:31,893] INFO - scvi.dataset.dataset | Remapping batch_indices to [0,N]\n",
      "[2019-09-04 17:47:31,894] INFO - scvi.dataset.dataset | Remapping labels to [0,N]\n",
      "[2019-09-04 17:47:31,947] INFO - scvi.dataset.dataset | Computing the library size for the new data\n",
      "[2019-09-04 17:47:31,998] INFO - scvi.dataset.dataset | Downsampled from 1960 to 1960 cells\n",
      "[2019-09-04 17:47:32,155] INFO - scvi.dataset.dataset | Computing the library size for the new data\n",
      "[2019-09-04 17:47:32,984] INFO - scvi.dataset.anndataset | Dense size under 1Gb, casting to dense format (np.ndarray).\n",
      "[2019-09-04 17:47:33,383] INFO - scvi.dataset.dataset | Remapping batch_indices to [0,N]\n",
      "[2019-09-04 17:47:33,384] INFO - scvi.dataset.dataset | Remapping labels to [0,N]\n",
      "[2019-09-04 17:47:33,494] INFO - scvi.dataset.dataset | Computing the library size for the new data\n",
      "[2019-09-04 17:47:33,613] INFO - scvi.dataset.dataset | Downsampled from 4614 to 4614 cells\n",
      "[2019-09-04 17:47:34,261] INFO - scvi.dataset.dataset | Computing the library size for the new data\n",
      "[2019-09-04 17:47:37,847] INFO - scvi.dataset.dataset | Remapping batch_indices to [0,N]\n",
      "[2019-09-04 17:47:37,848] INFO - scvi.dataset.dataset | Remapping labels to [0,N]\n",
      "[2019-09-04 17:47:38,362] INFO - scvi.dataset.dataset | Computing the library size for the new data\n",
      "[2019-09-04 17:47:38,831] INFO - scvi.dataset.dataset | Downsampled from 20657 to 20657 cells\n",
      "[2019-09-04 17:47:41,990] INFO - scvi.dataset.dataset | Computing the library size for the new data\n",
      "[2019-09-04 17:47:45,159] INFO - scvi.dataset.anndataset | Dense size under 1Gb, casting to dense format (np.ndarray).\n",
      "[2019-09-04 17:47:45,484] INFO - scvi.dataset.dataset | Remapping batch_indices to [0,N]\n",
      "[2019-09-04 17:47:45,485] INFO - scvi.dataset.dataset | Remapping labels to [0,N]\n",
      "[2019-09-04 17:47:45,575] INFO - scvi.dataset.dataset | Computing the library size for the new data\n",
      "[2019-09-04 17:47:45,675] INFO - scvi.dataset.dataset | Downsampled from 3874 to 3874 cells\n",
      "[2019-09-04 17:47:46,147] INFO - scvi.dataset.dataset | Computing the library size for the new data\n",
      "[2019-09-04 17:47:46,787] INFO - scvi.dataset.anndataset | Dense size under 1Gb, casting to dense format (np.ndarray).\n",
      "[2019-09-04 17:47:47,063] INFO - scvi.dataset.dataset | Remapping batch_indices to [0,N]\n",
      "[2019-09-04 17:47:47,064] INFO - scvi.dataset.dataset | Remapping labels to [0,N]\n",
      "[2019-09-04 17:47:47,127] INFO - scvi.dataset.dataset | Computing the library size for the new data\n",
      "[2019-09-04 17:47:47,193] INFO - scvi.dataset.dataset | Downsampled from 2334 to 2334 cells\n",
      "[2019-09-04 17:47:47,537] INFO - scvi.dataset.dataset | Computing the library size for the new data\n",
      "[2019-09-04 17:47:48,104] INFO - scvi.dataset.anndataset | Dense size under 1Gb, casting to dense format (np.ndarray).\n",
      "[2019-09-04 17:47:48,336] INFO - scvi.dataset.dataset | Remapping batch_indices to [0,N]\n",
      "[2019-09-04 17:47:48,337] INFO - scvi.dataset.dataset | Remapping labels to [0,N]\n",
      "[2019-09-04 17:47:48,377] INFO - scvi.dataset.dataset | Computing the library size for the new data\n",
      "[2019-09-04 17:47:48,419] INFO - scvi.dataset.dataset | Downsampled from 1887 to 1887 cells\n",
      "[2019-09-04 17:47:48,580] INFO - scvi.dataset.dataset | Computing the library size for the new data\n",
      "[2019-09-04 17:47:49,711] INFO - scvi.dataset.anndataset | Dense size under 1Gb, casting to dense format (np.ndarray).\n",
      "[2019-09-04 17:47:50,208] INFO - scvi.dataset.dataset | Remapping batch_indices to [0,N]\n",
      "[2019-09-04 17:47:50,209] INFO - scvi.dataset.dataset | Remapping labels to [0,N]\n",
      "[2019-09-04 17:47:50,353] INFO - scvi.dataset.dataset | Computing the library size for the new data\n",
      "[2019-09-04 17:47:50,518] INFO - scvi.dataset.dataset | Downsampled from 5942 to 5942 cells\n",
      "[2019-09-04 17:47:51,390] INFO - scvi.dataset.dataset | Computing the library size for the new data\n",
      "[2019-09-04 17:47:53,230] INFO - scvi.dataset.anndataset | Dense size under 1Gb, casting to dense format (np.ndarray).\n",
      "[2019-09-04 17:47:53,969] INFO - scvi.dataset.dataset | Remapping batch_indices to [0,N]\n"
     ]
    },
    {
     "name": "stderr",
     "output_type": "stream",
     "text": [
      "[2019-09-04 17:47:53,970] INFO - scvi.dataset.dataset | Remapping labels to [0,N]\n",
      "[2019-09-04 17:47:54,212] INFO - scvi.dataset.dataset | Computing the library size for the new data\n",
      "[2019-09-04 17:47:54,456] INFO - scvi.dataset.dataset | Downsampled from 9734 to 9734 cells\n",
      "[2019-09-04 17:47:55,859] INFO - scvi.dataset.dataset | Computing the library size for the new data\n",
      "[2019-09-04 17:47:59,551] INFO - scvi.dataset.dataset | Remapping batch_indices to [0,N]\n",
      "[2019-09-04 17:47:59,553] INFO - scvi.dataset.dataset | Remapping labels to [0,N]\n",
      "[2019-09-04 17:47:59,958] INFO - scvi.dataset.dataset | Computing the library size for the new data\n",
      "[2019-09-04 17:48:00,370] INFO - scvi.dataset.dataset | Downsampled from 29322 to 29322 cells\n",
      "[2019-09-04 17:48:05,984] INFO - scvi.dataset.dataset | Computing the library size for the new data\n",
      "[2019-09-04 17:48:10,673] INFO - scvi.dataset.anndataset | Dense size under 1Gb, casting to dense format (np.ndarray).\n",
      "[2019-09-04 17:48:11,117] INFO - scvi.dataset.dataset | Remapping batch_indices to [0,N]\n",
      "[2019-09-04 17:48:11,118] INFO - scvi.dataset.dataset | Remapping labels to [0,N]\n",
      "[2019-09-04 17:48:11,251] INFO - scvi.dataset.dataset | Computing the library size for the new data\n",
      "[2019-09-04 17:48:11,395] INFO - scvi.dataset.dataset | Downsampled from 6480 to 6480 cells\n",
      "[2019-09-04 17:48:12,244] INFO - scvi.dataset.dataset | Computing the library size for the new data\n",
      "[2019-09-04 17:48:13,337] INFO - scvi.dataset.anndataset | Dense size under 1Gb, casting to dense format (np.ndarray).\n",
      "[2019-09-04 17:48:13,624] INFO - scvi.dataset.dataset | Remapping batch_indices to [0,N]\n",
      "[2019-09-04 17:48:13,625] INFO - scvi.dataset.dataset | Remapping labels to [0,N]\n",
      "[2019-09-04 17:48:13,686] INFO - scvi.dataset.dataset | Computing the library size for the new data\n",
      "[2019-09-04 17:48:13,750] INFO - scvi.dataset.dataset | Downsampled from 2551 to 2551 cells\n",
      "[2019-09-04 17:48:14,041] INFO - scvi.dataset.dataset | Computing the library size for the new data\n",
      "[2019-09-04 17:48:14,467] INFO - scvi.dataset.anndataset | Dense size under 1Gb, casting to dense format (np.ndarray).\n",
      "[2019-09-04 17:48:14,678] INFO - scvi.dataset.dataset | Remapping batch_indices to [0,N]\n",
      "[2019-09-04 17:48:14,679] INFO - scvi.dataset.dataset | Remapping labels to [0,N]\n",
      "[2019-09-04 17:48:14,713] INFO - scvi.dataset.dataset | Computing the library size for the new data\n",
      "[2019-09-04 17:48:14,750] INFO - scvi.dataset.dataset | Downsampled from 1400 to 1400 cells\n",
      "[2019-09-04 17:48:14,838] INFO - scvi.dataset.dataset | Computing the library size for the new data\n",
      "[2019-09-04 17:48:15,321] INFO - scvi.dataset.anndataset | Dense size under 1Gb, casting to dense format (np.ndarray).\n",
      "[2019-09-04 17:48:15,608] INFO - scvi.dataset.dataset | Remapping batch_indices to [0,N]\n",
      "[2019-09-04 17:48:15,609] INFO - scvi.dataset.dataset | Remapping labels to [0,N]\n",
      "[2019-09-04 17:48:15,681] INFO - scvi.dataset.dataset | Computing the library size for the new data\n",
      "[2019-09-04 17:48:15,759] INFO - scvi.dataset.dataset | Downsampled from 2629 to 2629 cells\n",
      "[2019-09-04 17:48:16,032] INFO - scvi.dataset.dataset | Computing the library size for the new data\n",
      "[2019-09-04 17:48:16,980] INFO - scvi.dataset.anndataset | Dense size under 1Gb, casting to dense format (np.ndarray).\n",
      "[2019-09-04 17:48:17,475] INFO - scvi.dataset.dataset | Remapping batch_indices to [0,N]\n",
      "[2019-09-04 17:48:17,476] INFO - scvi.dataset.dataset | Remapping labels to [0,N]\n",
      "[2019-09-04 17:48:17,633] INFO - scvi.dataset.dataset | Computing the library size for the new data\n",
      "[2019-09-04 17:48:17,812] INFO - scvi.dataset.dataset | Downsampled from 7570 to 7570 cells\n",
      "[2019-09-04 17:48:18,735] INFO - scvi.dataset.dataset | Computing the library size for the new data\n",
      "[2019-09-04 17:48:19,841] INFO - scvi.dataset.anndataset | Dense size under 1Gb, casting to dense format (np.ndarray).\n",
      "[2019-09-04 17:48:20,079] INFO - scvi.dataset.dataset | Remapping batch_indices to [0,N]\n",
      "[2019-09-04 17:48:20,079] INFO - scvi.dataset.dataset | Remapping labels to [0,N]\n",
      "[2019-09-04 17:48:20,122] INFO - scvi.dataset.dataset | Computing the library size for the new data\n",
      "[2019-09-04 17:48:20,168] INFO - scvi.dataset.dataset | Downsampled from 1679 to 1679 cells\n",
      "[2019-09-04 17:48:20,287] INFO - scvi.dataset.dataset | Computing the library size for the new data\n",
      "[2019-09-04 17:48:20,904] INFO - scvi.dataset.anndataset | Dense size under 1Gb, casting to dense format (np.ndarray).\n",
      "[2019-09-04 17:48:21,237] INFO - scvi.dataset.dataset | Remapping batch_indices to [0,N]\n",
      "[2019-09-04 17:48:21,238] INFO - scvi.dataset.dataset | Remapping labels to [0,N]\n",
      "[2019-09-04 17:48:21,325] INFO - scvi.dataset.dataset | Computing the library size for the new data\n",
      "[2019-09-04 17:48:21,414] INFO - scvi.dataset.dataset | Downsampled from 3532 to 3532 cells\n",
      "[2019-09-04 17:48:21,866] INFO - scvi.dataset.dataset | Computing the library size for the new data\n"
     ]
    }
   ],
   "source": [
    "conv = pd.read_csv(\"./data/gene_maps/hugo_mouse_genes-proteincoding.csv\", header=0, index_col=0)\n",
    "conv.index = conv.index.str.lower()\n",
    "\n",
    "data_path = os.path.join((\"./data\"))\n",
    "mouse_data_path = os.path.join(data_path, \"mouse_data\")\n",
    "dsets = [] \n",
    "for file in os.listdir(f\"{data_path}/mouse_data\"):\n",
    "#     if \"droplet\" in file:\n",
    "    dset = sc.read_h5ad(os.path.join(mouse_data_path, file))\n",
    "    dset.obs.rename(columns={\"cell_ontology_class\": \"cell_types\"}, inplace=True)\n",
    "    \n",
    "    dset = AnnDatasetFromAnnData(dset)\n",
    "    \n",
    "    gns_conved = conv.reindex(np.char.lower(dset.gene_names))[\"ensembl\"]\n",
    "    if not isinstance(dset.X, np.ndarray):\n",
    "        X = dset.X.toarray()\n",
    "    else:\n",
    "        X = dset.X\n",
    "    mask = ~gns_conved.isnull()\n",
    "    \n",
    "    dset.gene_names = gns_conved[mask].values.astype(str)\n",
    "    dset.X = X[:, mask]\n",
    "    dset.cell_types = np.array([ct.replace(\"ï\", \"i\") for ct in dset.cell_types])\n",
    "    \n",
    "    dsets.append(dset)"
   ]
  },
  {
   "cell_type": "code",
   "execution_count": 4,
   "metadata": {},
   "outputs": [],
   "source": [
    "mouse_muris_senis = UnionDataset(\"./data\", \n",
    "                                 gene_map_load_filename=\"gene_maps/ensembl_mouse_genes-proteincoding\", \n",
    "                                 low_memory=False)"
   ]
  },
  {
   "cell_type": "code",
   "execution_count": 5,
   "metadata": {
    "scrolled": true
   },
   "outputs": [
    {
     "name": "stderr",
     "output_type": "stream",
     "text": [
      "Concatenating datasets: 100%|██████████| 38/38 [04:59<00:00,  6.49s/it]\n",
      "[2019-09-04 17:53:25,609] INFO - scvi.dataset.dataset | Union dataset is set to ignore batch annotation.\n",
      "[2019-09-04 17:53:31,671] INFO - scvi.dataset.dataset | Remapping batch_indices to [0,N]\n",
      "[2019-09-04 17:53:31,677] INFO - scvi.dataset.dataset | Union dataset is set to ignore batch annotation.\n",
      "[2019-09-04 17:53:31,680] INFO - scvi.dataset.dataset | Remapping labels to [0,N]\n",
      "[2019-09-04 17:53:31,710] INFO - scvi.dataset.dataset | Joined 38 datasets to one of shape 290905 x 22250.\n"
     ]
    }
   ],
   "source": [
    "mouse_muris_senis.join_datasets(data_source=\"memory\", \n",
    "                                data_target=\"memory\",\n",
    "                                gene_datasets=dsets)\n",
    "mouse_muris_senis.name = \"Tabula Muris Senis\""
   ]
  },
  {
   "cell_type": "code",
   "execution_count": 6,
   "metadata": {},
   "outputs": [],
   "source": [
    "dsets = None\n",
    "mouse_muris_senis.cell_types = np.array([ct.replace(\"ï\", \"i\") for ct in mouse_muris_senis.cell_types])"
   ]
  },
  {
   "cell_type": "code",
   "execution_count": 7,
   "metadata": {},
   "outputs": [
    {
     "data": {
      "application/vnd.jupyter.widget-view+json": {
       "model_id": "6a6107a00e194cd7a762f5dd993f1a00",
       "version_major": 2,
       "version_minor": 0
      },
      "text/plain": [
       "HBox(children=(IntProgress(value=0, description='Loading EBI datasets', max=20, style=ProgressStyle(descriptio…"
      ]
     },
     "metadata": {},
     "output_type": "display_data"
    },
    {
     "name": "stderr",
     "output_type": "stream",
     "text": [
      "/home/michael/anaconda3/envs/scvi/lib/python3.7/site-packages/IPython/core/interactiveshell.py:3326: DtypeWarning: Columns (8,20) have mixed types. Specify dtype option on import or set low_memory=False.\n",
      "  exec(code_obj, self.user_global_ns, self.user_ns)\n",
      "[2019-09-04 17:54:43,219] INFO - scvi.dataset.dataset | Remapping batch_indices to [0,N]\n",
      "[2019-09-04 17:54:43,223] INFO - scvi.dataset.dataset | Remapping labels to [0,N]\n",
      "[2019-09-04 17:54:46,383] INFO - scvi.dataset.dataset | Computing the library size for the new data\n",
      "[2019-09-04 17:54:49,442] INFO - scvi.dataset.dataset | Downsampled from 167276 to 167276 cells\n",
      "[2019-09-04 17:54:49,536] INFO - scvi.dataset.dataset | Computing the library size for the new data\n",
      "[2019-09-04 17:55:22,947] INFO - scvi.dataset.dataset | Remapping batch_indices to [0,N]\n",
      "[2019-09-04 17:55:22,950] INFO - scvi.dataset.dataset | Remapping labels to [0,N]\n",
      "[2019-09-04 17:55:24,050] INFO - scvi.dataset.dataset | Computing the library size for the new data\n",
      "[2019-09-04 17:55:25,230] INFO - scvi.dataset.dataset | Downsampled from 62848 to 62848 cells\n",
      "[2019-09-04 17:55:25,273] INFO - scvi.dataset.dataset | Computing the library size for the new data\n",
      "[2019-09-04 17:55:27,090] INFO - scvi.dataset.anndataset | Dense size under 1Gb, casting to dense format (np.ndarray).\n",
      "[2019-09-04 17:55:27,235] INFO - scvi.dataset.dataset | Remapping batch_indices to [0,N]\n",
      "[2019-09-04 17:55:27,236] INFO - scvi.dataset.dataset | Remapping labels to [0,N]\n",
      "[2019-09-04 17:55:27,290] INFO - scvi.dataset.dataset | Computing the library size for the new data\n",
      "[2019-09-04 17:55:27,349] INFO - scvi.dataset.dataset | Downsampled from 2299 to 2299 cells\n",
      "[2019-09-04 17:55:27,658] INFO - scvi.dataset.dataset | Computing the library size for the new data\n",
      "[2019-09-04 17:55:28,842] INFO - scvi.dataset.anndataset | Dense size under 1Gb, casting to dense format (np.ndarray).\n",
      "[2019-09-04 17:55:28,950] INFO - scvi.dataset.dataset | Remapping batch_indices to [0,N]\n",
      "[2019-09-04 17:55:28,951] INFO - scvi.dataset.dataset | Remapping labels to [0,N]\n",
      "[2019-09-04 17:55:28,996] INFO - scvi.dataset.dataset | Computing the library size for the new data\n",
      "[2019-09-04 17:55:29,047] INFO - scvi.dataset.dataset | Downsampled from 1953 to 1953 cells\n",
      "[2019-09-04 17:55:29,395] INFO - scvi.dataset.dataset | Computing the library size for the new data\n",
      "[2019-09-04 17:55:34,622] INFO - scvi.dataset.anndataset | Dense size under 1Gb, casting to dense format (np.ndarray).\n",
      "[2019-09-04 17:55:34,806] INFO - scvi.dataset.dataset | Remapping batch_indices to [0,N]\n",
      "[2019-09-04 17:55:34,807] INFO - scvi.dataset.dataset | Remapping labels to [0,N]\n",
      "[2019-09-04 17:55:34,871] INFO - scvi.dataset.dataset | Computing the library size for the new data\n",
      "[2019-09-04 17:55:34,938] INFO - scvi.dataset.dataset | Downsampled from 1920 to 1920 cells\n",
      "[2019-09-04 17:55:35,750] INFO - scvi.dataset.dataset | Computing the library size for the new data\n",
      "[2019-09-04 17:55:39,564] INFO - scvi.dataset.anndataset | Dense size under 1Gb, casting to dense format (np.ndarray).\n",
      "[2019-09-04 17:55:39,720] INFO - scvi.dataset.dataset | Remapping batch_indices to [0,N]\n",
      "[2019-09-04 17:55:39,721] INFO - scvi.dataset.dataset | Remapping labels to [0,N]\n",
      "[2019-09-04 17:55:39,776] INFO - scvi.dataset.dataset | Computing the library size for the new data\n",
      "[2019-09-04 17:55:39,833] INFO - scvi.dataset.dataset | Downsampled from 1521 to 1521 cells\n",
      "[2019-09-04 17:55:40,460] INFO - scvi.dataset.dataset | Computing the library size for the new data\n",
      "[2019-09-04 17:55:43,093] INFO - scvi.dataset.anndataset | Dense size under 1Gb, casting to dense format (np.ndarray).\n",
      "[2019-09-04 17:55:43,244] INFO - scvi.dataset.dataset | Remapping batch_indices to [0,N]\n",
      "[2019-09-04 17:55:43,244] INFO - scvi.dataset.dataset | Remapping labels to [0,N]\n",
      "[2019-09-04 17:55:43,298] INFO - scvi.dataset.dataset | Computing the library size for the new data\n",
      "[2019-09-04 17:55:43,362] INFO - scvi.dataset.dataset | Downsampled from 1504 to 1504 cells\n",
      "[2019-09-04 17:55:43,883] INFO - scvi.dataset.dataset | Computing the library size for the new data\n",
      "[2019-09-04 17:55:49,513] INFO - scvi.dataset.anndataset | Dense size under 1Gb, casting to dense format (np.ndarray).\n",
      "[2019-09-04 17:55:49,684] INFO - scvi.dataset.dataset | Remapping batch_indices to [0,N]\n",
      "[2019-09-04 17:55:49,685] INFO - scvi.dataset.dataset | Remapping labels to [0,N]\n",
      "[2019-09-04 17:55:49,742] INFO - scvi.dataset.dataset | Computing the library size for the new data\n",
      "[2019-09-04 17:55:49,805] INFO - scvi.dataset.dataset | Downsampled from 1787 to 1787 cells\n",
      "[2019-09-04 17:55:50,629] INFO - scvi.dataset.dataset | Computing the library size for the new data\n",
      "[2019-09-04 17:55:52,487] INFO - scvi.dataset.anndataset | Dense size under 1Gb, casting to dense format (np.ndarray).\n",
      "[2019-09-04 17:55:52,617] INFO - scvi.dataset.dataset | Remapping batch_indices to [0,N]\n",
      "[2019-09-04 17:55:52,618] INFO - scvi.dataset.dataset | Remapping labels to [0,N]\n",
      "[2019-09-04 17:55:52,651] INFO - scvi.dataset.dataset | Computing the library size for the new data\n",
      "[2019-09-04 17:55:52,691] INFO - scvi.dataset.dataset | Downsampled from 1145 to 1145 cells\n",
      "[2019-09-04 17:55:53,006] INFO - scvi.dataset.dataset | Computing the library size for the new data\n",
      "[2019-09-04 17:55:55,659] INFO - scvi.dataset.anndataset | Dense size under 1Gb, casting to dense format (np.ndarray).\n",
      "[2019-09-04 17:55:55,763] INFO - scvi.dataset.dataset | Remapping batch_indices to [0,N]\n",
      "[2019-09-04 17:55:55,764] INFO - scvi.dataset.dataset | Remapping labels to [0,N]\n",
      "[2019-09-04 17:55:55,794] INFO - scvi.dataset.dataset | Computing the library size for the new data\n",
      "[2019-09-04 17:55:55,830] INFO - scvi.dataset.dataset | Downsampled from 1078 to 1078 cells\n",
      "[2019-09-04 17:55:56,244] INFO - scvi.dataset.dataset | Computing the library size for the new data\n",
      "[2019-09-04 17:55:56,991] INFO - scvi.dataset.anndataset | Dense size under 1Gb, casting to dense format (np.ndarray).\n",
      "[2019-09-04 17:55:57,019] INFO - scvi.dataset.dataset | Remapping batch_indices to [0,N]\n",
      "[2019-09-04 17:55:57,020] INFO - scvi.dataset.dataset | Remapping labels to [0,N]\n",
      "[2019-09-04 17:55:57,026] INFO - scvi.dataset.dataset | Computing the library size for the new data\n",
      "[2019-09-04 17:55:57,040] INFO - scvi.dataset.dataset | Downsampled from 378 to 378 cells\n",
      "[2019-09-04 17:55:57,142] INFO - scvi.dataset.dataset | Computing the library size for the new data\n",
      "[2019-09-04 17:55:57,913] INFO - scvi.dataset.anndataset | Dense size under 1Gb, casting to dense format (np.ndarray).\n",
      "[2019-09-04 17:55:57,938] INFO - scvi.dataset.dataset | Remapping batch_indices to [0,N]\n",
      "[2019-09-04 17:55:57,938] INFO - scvi.dataset.dataset | Remapping labels to [0,N]\n",
      "[2019-09-04 17:55:57,944] INFO - scvi.dataset.dataset | Computing the library size for the new data\n",
      "[2019-09-04 17:55:57,949] INFO - scvi.dataset.dataset | Downsampled from 288 to 288 cells\n",
      "[2019-09-04 17:55:58,043] INFO - scvi.dataset.dataset | Computing the library size for the new data\n",
      "[2019-09-04 17:55:58,760] INFO - scvi.dataset.anndataset | Dense size under 1Gb, casting to dense format (np.ndarray).\n",
      "[2019-09-04 17:55:58,788] INFO - scvi.dataset.dataset | Remapping batch_indices to [0,N]\n",
      "[2019-09-04 17:55:58,789] INFO - scvi.dataset.dataset | Remapping labels to [0,N]\n",
      "[2019-09-04 17:55:58,794] INFO - scvi.dataset.dataset | Computing the library size for the new data\n",
      "[2019-09-04 17:55:58,803] INFO - scvi.dataset.dataset | Downsampled from 288 to 288 cells\n",
      "[2019-09-04 17:55:58,906] INFO - scvi.dataset.dataset | Computing the library size for the new data\n",
      "[2019-09-04 17:55:59,828] INFO - scvi.dataset.anndataset | Dense size under 1Gb, casting to dense format (np.ndarray).\n",
      "[2019-09-04 17:55:59,857] INFO - scvi.dataset.dataset | Remapping batch_indices to [0,N]\n",
      "[2019-09-04 17:55:59,858] INFO - scvi.dataset.dataset | Remapping labels to [0,N]\n",
      "[2019-09-04 17:55:59,863] INFO - scvi.dataset.dataset | Computing the library size for the new data\n",
      "[2019-09-04 17:55:59,869] INFO - scvi.dataset.dataset | Downsampled from 284 to 284 cells\n",
      "[2019-09-04 17:55:59,979] INFO - scvi.dataset.dataset | Computing the library size for the new data\n",
      "[2019-09-04 17:56:00,402] INFO - scvi.dataset.anndataset | Dense size under 1Gb, casting to dense format (np.ndarray).\n"
     ]
    },
    {
     "name": "stderr",
     "output_type": "stream",
     "text": [
      "[2019-09-04 17:56:00,425] INFO - scvi.dataset.dataset | Remapping batch_indices to [0,N]\n",
      "[2019-09-04 17:56:00,426] INFO - scvi.dataset.dataset | Remapping labels to [0,N]\n",
      "[2019-09-04 17:56:00,430] INFO - scvi.dataset.dataset | Computing the library size for the new data\n",
      "[2019-09-04 17:56:00,435] INFO - scvi.dataset.dataset | Downsampled from 250 to 250 cells\n",
      "[2019-09-04 17:56:00,500] INFO - scvi.dataset.dataset | Computing the library size for the new data\n",
      "[2019-09-04 17:56:00,830] INFO - scvi.dataset.anndataset | Dense size under 1Gb, casting to dense format (np.ndarray).\n",
      "[2019-09-04 17:56:00,846] INFO - scvi.dataset.dataset | Remapping batch_indices to [0,N]\n",
      "[2019-09-04 17:56:00,846] INFO - scvi.dataset.dataset | Remapping labels to [0,N]\n",
      "[2019-09-04 17:56:00,849] INFO - scvi.dataset.dataset | Computing the library size for the new data\n",
      "[2019-09-04 17:56:00,851] INFO - scvi.dataset.dataset | Downsampled from 141 to 141 cells\n",
      "[2019-09-04 17:56:00,891] INFO - scvi.dataset.dataset | Computing the library size for the new data\n",
      "[2019-09-04 17:56:01,145] INFO - scvi.dataset.anndataset | Dense size under 1Gb, casting to dense format (np.ndarray).\n",
      "[2019-09-04 17:56:01,160] INFO - scvi.dataset.dataset | Remapping batch_indices to [0,N]\n",
      "[2019-09-04 17:56:01,160] INFO - scvi.dataset.dataset | Remapping labels to [0,N]\n",
      "[2019-09-04 17:56:01,163] INFO - scvi.dataset.dataset | Computing the library size for the new data\n",
      "[2019-09-04 17:56:01,165] INFO - scvi.dataset.dataset | Downsampled from 121 to 121 cells\n",
      "[2019-09-04 17:56:01,195] INFO - scvi.dataset.dataset | Computing the library size for the new data\n",
      "[2019-09-04 17:56:01,605] INFO - scvi.dataset.anndataset | Dense size under 1Gb, casting to dense format (np.ndarray).\n",
      "[2019-09-04 17:56:01,624] INFO - scvi.dataset.dataset | Remapping batch_indices to [0,N]\n",
      "[2019-09-04 17:56:01,624] INFO - scvi.dataset.dataset | Remapping labels to [0,N]\n",
      "[2019-09-04 17:56:01,627] INFO - scvi.dataset.dataset | Computing the library size for the new data\n",
      "[2019-09-04 17:56:01,629] INFO - scvi.dataset.dataset | Downsampled from 120 to 120 cells\n",
      "[2019-09-04 17:56:01,674] INFO - scvi.dataset.dataset | Computing the library size for the new data\n",
      "[2019-09-04 17:56:01,903] INFO - scvi.dataset.anndataset | Dense size under 1Gb, casting to dense format (np.ndarray).\n",
      "[2019-09-04 17:56:01,917] INFO - scvi.dataset.dataset | Remapping batch_indices to [0,N]\n",
      "[2019-09-04 17:56:01,918] INFO - scvi.dataset.dataset | Remapping labels to [0,N]\n",
      "[2019-09-04 17:56:01,920] INFO - scvi.dataset.dataset | Computing the library size for the new data\n",
      "[2019-09-04 17:56:01,922] INFO - scvi.dataset.dataset | Downsampled from 87 to 87 cells\n",
      "[2019-09-04 17:56:01,947] INFO - scvi.dataset.dataset | Computing the library size for the new data\n",
      "[2019-09-04 17:56:02,022] INFO - scvi.dataset.anndataset | Dense size under 1Gb, casting to dense format (np.ndarray).\n",
      "[2019-09-04 17:56:02,030] INFO - scvi.dataset.dataset | Remapping batch_indices to [0,N]\n",
      "[2019-09-04 17:56:02,030] INFO - scvi.dataset.dataset | Remapping labels to [0,N]\n",
      "[2019-09-04 17:56:02,031] INFO - scvi.dataset.dataset | Computing the library size for the new data\n",
      "[2019-09-04 17:56:02,032] INFO - scvi.dataset.dataset | Downsampled from 51 to 51 cells\n",
      "[2019-09-04 17:56:02,042] INFO - scvi.dataset.dataset | Computing the library size for the new data\n"
     ]
    },
    {
     "name": "stdout",
     "output_type": "stream",
     "text": [
      "\n"
     ]
    }
   ],
   "source": [
    "ebi_datasets_ids = ['E-MTAB-6946', 'E-MTAB-7320',\n",
    "                    \"E-MTAB-7417\", \"E-MTAB-6173\", \"E-GEOD-81682\", \n",
    "                    \"E-ENAD-13\", \"E-GEOD-99235\", \"E-GEOD-71585\", \n",
    "                    \"E-GEOD-87631\", \"E-GEOD-90848\", \"E-MTAB-4547\",\n",
    "                   \"E-MTAB-6970\", \"E-MTAB-5802\", \"E-MTAB-5661\", \n",
    "                    \"E-GEOD-99058\", \"E-GEOD-106973\", \"E-MTAB-7365\",\n",
    "                   \"E-MTAB-5553\", \"E-MTAB-6925\", \"E-MTAB-6976\"]\n",
    "\n",
    "ebi_data = []\n",
    "for e_id in tqdm(ebi_datasets_ids, desc=\"Loading EBI datasets\"):\n",
    "    try:\n",
    "        data = EbiData(\"./data\", e_id)\n",
    "    except urllib.error.HTTPError:\n",
    "        data = EbiData(\"./data\", e_id, result_file='raw')\n",
    "    data.X = sparse.csr_matrix(data.X)\n",
    "    ebi_data.append(data)"
   ]
  },
  {
   "cell_type": "code",
   "execution_count": 8,
   "metadata": {},
   "outputs": [],
   "source": [
    "complete_mouse = UnionDataset(\"./data\", \n",
    "                              gene_map_load_filename=\"gene_maps/ensembl_mouse_genes-proteincoding\", \n",
    "                              low_memory=False)"
   ]
  },
  {
   "cell_type": "code",
   "execution_count": 9,
   "metadata": {
    "scrolled": true
   },
   "outputs": [
    {
     "name": "stderr",
     "output_type": "stream",
     "text": [
      "Writing dataset 'UnionDataset - Mouse Atlas' to file: 100%|██████████| 22/22 [28:19<00:00, 387.90s/it]      \n",
      "[2019-09-04 18:24:21,874] INFO - scvi.dataset.dataset | Union dataset is set to ignore batch annotation.\n"
     ]
    }
   ],
   "source": [
    "complete_mouse.join_datasets(data_source=\"memory\", \n",
    "                             data_target=\"loom\", \n",
    "                             out_filename=\"mouse_data_all.loom\", \n",
    "                             gene_datasets=ebi_data + [mouse_muris_senis, mouse_union])\n",
    "ebi_data = None\n",
    "mouse_muris_senis = None\n",
    "mouse_atlas = None"
   ]
  },
  {
   "cell_type": "code",
   "execution_count": 3,
   "metadata": {
    "scrolled": true
   },
   "outputs": [
    {
     "data": {
      "text/plain": [
       "<1868228x22250 sparse matrix of type '<class 'numpy.float64'>'\n",
       "\twith 1878290427 stored elements in Compressed Sparse Row format>"
      ]
     },
     "execution_count": 3,
     "metadata": {},
     "output_type": "execute_result"
    }
   ],
   "source": [
    "complete_mouse.X"
   ]
  },
  {
   "cell_type": "code",
   "execution_count": 2,
   "metadata": {},
   "outputs": [
    {
     "name": "stderr",
     "output_type": "stream",
     "text": [
      "Loading from file to memory iteratively: 100%|██████████| 374/374 [20:28<00:00,  3.98s/it]\n",
      "[2019-09-03 15:32:25,993] INFO - scvi.dataset.dataset | Union dataset is set to ignore batch annotation.\n",
      "[2019-09-03 15:32:46,109] INFO - scvi.dataset.dataset | Remapping labels to [0,N]\n",
      "[2019-09-03 15:32:46,368] INFO - scvi.dataset.dataset | Remapping batch_indices to [0,N]\n",
      "[2019-09-03 15:32:46,412] INFO - scvi.dataset.dataset | Union dataset is set to ignore batch annotation.\n"
     ]
    }
   ],
   "source": [
    "complete_mouse = UnionDataset(\"./data\", \n",
    "                              gene_map_load_filename=\"gene_maps/ensembl_mouse_genes-proteincoding\", \n",
    "                              data_load_filename=\"mouse_data_all.loom\",\n",
    "                              low_memory=False)"
   ]
  },
  {
   "cell_type": "code",
   "execution_count": null,
   "metadata": {
    "scrolled": true
   },
   "outputs": [
    {
     "name": "stdout",
     "output_type": "stream",
     "text": [
      "Training VAE\n",
      "Initializing training.\n"
     ]
    },
    {
     "data": {
      "application/vnd.jupyter.widget-view+json": {
       "model_id": "cd5e11c34e4645d5a4d55da5ed8d917b",
       "version_major": 2,
       "version_minor": 0
      },
      "text/plain": [
       "HBox(children=(IntProgress(value=0, description='Computing ELBO for posterior', max=685, style=ProgressStyle(d…"
      ]
     },
     "metadata": {},
     "output_type": "display_data"
    },
    {
     "name": "stdout",
     "output_type": "stream",
     "text": [
      "\n"
     ]
    },
    {
     "data": {
      "application/vnd.jupyter.widget-view+json": {
       "model_id": "da984c7aa0c0406aad3559f57500dddb",
       "version_major": 2,
       "version_minor": 0
      },
      "text/plain": [
       "HBox(children=(IntProgress(value=0, description='Computing ELBO for posterior', max=229, style=ProgressStyle(d…"
      ]
     },
     "metadata": {},
     "output_type": "display_data"
    },
    {
     "name": "stdout",
     "output_type": "stream",
     "text": [
      "\n",
      "training:   4%|▍         | 4/100 [15:52<6:20:52, 238.05s/it]"
     ]
    },
    {
     "data": {
      "application/vnd.jupyter.widget-view+json": {
       "model_id": "00f05d6633c04bd08a1e7b684dacb3df",
       "version_major": 2,
       "version_minor": 0
      },
      "text/plain": [
       "HBox(children=(IntProgress(value=0, description='Computing ELBO for posterior', max=685, style=ProgressStyle(d…"
      ]
     },
     "metadata": {},
     "output_type": "display_data"
    },
    {
     "data": {
      "application/vnd.jupyter.widget-view+json": {
       "model_id": "901568a4ac5343aba1aaa822a0a6912a",
       "version_major": 2,
       "version_minor": 0
      },
      "text/plain": [
       "HBox(children=(IntProgress(value=0, description='Computing ELBO for posterior', max=229, style=ProgressStyle(d…"
      ]
     },
     "metadata": {},
     "output_type": "display_data"
    },
    {
     "name": "stdout",
     "output_type": "stream",
     "text": [
      "training:   9%|▉         | 9/100 [41:09<6:37:03, 261.80s/it]"
     ]
    },
    {
     "data": {
      "application/vnd.jupyter.widget-view+json": {
       "model_id": "828a5e1d45f641c0a3b3f1ce9997c262",
       "version_major": 2,
       "version_minor": 0
      },
      "text/plain": [
       "HBox(children=(IntProgress(value=0, description='Computing ELBO for posterior', max=685, style=ProgressStyle(d…"
      ]
     },
     "metadata": {},
     "output_type": "display_data"
    },
    {
     "data": {
      "application/vnd.jupyter.widget-view+json": {
       "model_id": "fb107f489db944a29e1f8c915a449ce7",
       "version_major": 2,
       "version_minor": 0
      },
      "text/plain": [
       "HBox(children=(IntProgress(value=0, description='Computing ELBO for posterior', max=229, style=ProgressStyle(d…"
      ]
     },
     "metadata": {},
     "output_type": "display_data"
    },
    {
     "name": "stdout",
     "output_type": "stream",
     "text": [
      "training:  14%|█▍        | 14/100 [1:06:25<6:20:49, 265.69s/it]"
     ]
    },
    {
     "data": {
      "application/vnd.jupyter.widget-view+json": {
       "model_id": "a26d48b2e4bb45d99c2e7bde3daa7281",
       "version_major": 2,
       "version_minor": 0
      },
      "text/plain": [
       "HBox(children=(IntProgress(value=0, description='Computing ELBO for posterior', max=685, style=ProgressStyle(d…"
      ]
     },
     "metadata": {},
     "output_type": "display_data"
    },
    {
     "data": {
      "application/vnd.jupyter.widget-view+json": {
       "model_id": "83eafaa3c1b443e78506ae8e4e5e4763",
       "version_major": 2,
       "version_minor": 0
      },
      "text/plain": [
       "HBox(children=(IntProgress(value=0, description='Computing ELBO for posterior', max=229, style=ProgressStyle(d…"
      ]
     },
     "metadata": {},
     "output_type": "display_data"
    },
    {
     "name": "stdout",
     "output_type": "stream",
     "text": [
      "training:  16%|█▌        | 16/100 [1:19:57<7:31:18, 322.36s/it]"
     ]
    }
   ],
   "source": [
    "n_epochs = 100\n",
    "colors=None\n",
    "\n",
    "print(\"Training VAE\")\n",
    "\n",
    "trainer = train_vae(complete_mouse, \"./data\", f\"../trained_models/mouse_data_full_model\", n_epochs=n_epochs)\n",
    "# trainer_small = train_vae(data_small, \"./data\", f\"small_{tissue}_data_portion\", n_epochs=n_epochs)\n",
    "\n"
   ]
  },
  {
   "cell_type": "code",
   "execution_count": null,
   "metadata": {},
   "outputs": [],
   "source": [
    "mouse_ebi_celltype_data = UnionDataset(\"./data\", \n",
    "                              gene_map_load_filename=\"gene_maps/ensembl_mouse_genes-proteincoding\", \n",
    "                              low_memory=False)\n",
    "mouse_ebi_celltype_data.join_datasets(data_source=\"memory\", \n",
    "                             data_target=\"memory\", \n",
    "                             gene_datasets=[EbiData(\"./data\")])"
   ]
  },
  {
   "cell_type": "code",
   "execution_count": null,
   "metadata": {},
   "outputs": [],
   "source": [
    "dot_size = (mpl.rcParams['lines.markersize'] ** 2.0)\n",
    "\n",
    "posterior_big = plot_tsne(trainer, trainer.model, complete_mouse, f\"./maxdata_model\", image_datatype=\"pdf\",\n",
    "                          colors=colors, s=dot_size, edgecolors='black')\n",
    "\n",
    "# posterior_ebi_annotated = trainer.create_posterior(model, ebi_with_celltypes, indices=np.arange(len(dataset)))\n",
    "posterior_ebi_annotated = plot_tsne(trainer_big, trainer_big.model, ebi_with_celltypes, f\"./plots/ebi_annotated_in_maxmodel.pdf\",\n",
    "                                    image_datatype=\"pdf\", colors=colors, s=dot_size, edgecolors='black')"
   ]
  },
  {
   "cell_type": "code",
   "execution_count": null,
   "metadata": {},
   "outputs": [],
   "source": []
  },
  {
   "cell_type": "code",
   "execution_count": null,
   "metadata": {},
   "outputs": [],
   "source": []
  },
  {
   "cell_type": "code",
   "execution_count": null,
   "metadata": {},
   "outputs": [],
   "source": []
  },
  {
   "cell_type": "code",
   "execution_count": null,
   "metadata": {},
   "outputs": [],
   "source": []
  },
  {
   "cell_type": "code",
   "execution_count": null,
   "metadata": {},
   "outputs": [],
   "source": []
  },
  {
   "cell_type": "code",
   "execution_count": null,
   "metadata": {},
   "outputs": [],
   "source": []
  },
  {
   "cell_type": "code",
   "execution_count": null,
   "metadata": {},
   "outputs": [],
   "source": []
  },
  {
   "cell_type": "code",
   "execution_count": null,
   "metadata": {},
   "outputs": [],
   "source": []
  }
 ],
 "metadata": {
  "kernelspec": {
   "display_name": "Python [conda env:scvi] *",
   "language": "python",
   "name": "conda-env-scvi-py"
  },
  "language_info": {
   "codemirror_mode": {
    "name": "ipython",
    "version": 3
   },
   "file_extension": ".py",
   "mimetype": "text/x-python",
   "name": "python",
   "nbconvert_exporter": "python",
   "pygments_lexer": "ipython3",
   "version": "3.7.4"
  }
 },
 "nbformat": 4,
 "nbformat_minor": 2
}
