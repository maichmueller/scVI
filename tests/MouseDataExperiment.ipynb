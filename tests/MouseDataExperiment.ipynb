{
 "cells": [
  {
   "cell_type": "code",
   "execution_count": 1,
   "metadata": {},
   "outputs": [
    {
     "name": "stderr",
     "output_type": "stream",
     "text": [
      "[2019-08-13 15:32:44,672] INFO - scvi._settings | Added StreamHandler with custom formatter to 'scvi' logger.\n"
     ]
    }
   ],
   "source": [
    "import scvi\n",
    "from scvi.dataset import EbiData, UnionDataset, AnnDatasetFromAnnData\n",
    "import os\n",
    "import scanpy as sc\n",
    "import numpy as np\n",
    "import pandas as pd\n",
    "import pyreadr as pyrdr"
   ]
  },
  {
   "cell_type": "code",
   "execution_count": 3,
   "metadata": {
    "scrolled": true
   },
   "outputs": [
    {
     "name": "stderr",
     "output_type": "stream",
     "text": [
      "[2019-08-13 15:17:40,043] INFO - scvi.dataset.anndataset | Dense size under 1Gb, casting to dense format (np.ndarray).\n",
      "[2019-08-13 15:17:40,573] INFO - scvi.dataset.dataset | Remapping batch_indices to [0,N]\n",
      "[2019-08-13 15:17:40,574] INFO - scvi.dataset.dataset | Remapping labels to [0,N]\n",
      "[2019-08-13 15:17:40,767] INFO - scvi.dataset.dataset | Computing the library size for the new data\n",
      "[2019-08-13 15:17:40,978] INFO - scvi.dataset.dataset | Downsampled from 7916 to 7916 cells\n",
      "[2019-08-13 15:17:41,251] INFO - scvi.dataset.anndataset | Dense size under 1Gb, casting to dense format (np.ndarray).\n",
      "[2019-08-13 15:17:41,646] INFO - scvi.dataset.dataset | Remapping batch_indices to [0,N]\n",
      "[2019-08-13 15:17:41,647] INFO - scvi.dataset.dataset | Remapping labels to [0,N]\n",
      "[2019-08-13 15:17:41,766] INFO - scvi.dataset.dataset | Computing the library size for the new data\n",
      "[2019-08-13 15:17:41,885] INFO - scvi.dataset.dataset | Downsampled from 5080 to 5080 cells\n",
      "[2019-08-13 15:17:42,170] INFO - scvi.dataset.anndataset | Dense size under 1Gb, casting to dense format (np.ndarray).\n",
      "[2019-08-13 15:17:42,529] INFO - scvi.dataset.dataset | Remapping batch_indices to [0,N]\n",
      "[2019-08-13 15:17:42,529] INFO - scvi.dataset.dataset | Remapping labels to [0,N]\n",
      "[2019-08-13 15:17:42,639] INFO - scvi.dataset.dataset | Computing the library size for the new data\n",
      "[2019-08-13 15:17:42,746] INFO - scvi.dataset.dataset | Downsampled from 4454 to 4454 cells\n",
      "[2019-08-13 15:17:43,728] INFO - scvi.dataset.dataset | Remapping batch_indices to [0,N]\n",
      "[2019-08-13 15:17:43,729] INFO - scvi.dataset.dataset | Remapping labels to [0,N]\n",
      "[2019-08-13 15:17:44,002] INFO - scvi.dataset.dataset | Computing the library size for the new data\n",
      "[2019-08-13 15:17:44,266] INFO - scvi.dataset.dataset | Downsampled from 17491 to 17491 cells\n",
      "[2019-08-13 15:17:45,309] INFO - scvi.dataset.dataset | Remapping batch_indices to [0,N]\n",
      "[2019-08-13 15:17:45,310] INFO - scvi.dataset.dataset | Remapping labels to [0,N]\n",
      "[2019-08-13 15:17:45,658] INFO - scvi.dataset.dataset | Computing the library size for the new data\n",
      "[2019-08-13 15:17:46,003] INFO - scvi.dataset.dataset | Downsampled from 24969 to 24969 cells\n",
      "[2019-08-13 15:17:47,033] INFO - scvi.dataset.dataset | Remapping batch_indices to [0,N]\n",
      "[2019-08-13 15:17:47,035] INFO - scvi.dataset.dataset | Remapping labels to [0,N]\n",
      "[2019-08-13 15:17:47,361] INFO - scvi.dataset.dataset | Computing the library size for the new data\n",
      "[2019-08-13 15:17:47,700] INFO - scvi.dataset.dataset | Downsampled from 19101 to 19101 cells\n",
      "[2019-08-13 15:17:48,092] INFO - scvi.dataset.anndataset | Dense size under 1Gb, casting to dense format (np.ndarray).\n",
      "[2019-08-13 15:17:48,784] INFO - scvi.dataset.dataset | Remapping batch_indices to [0,N]\n",
      "[2019-08-13 15:17:48,785] INFO - scvi.dataset.dataset | Remapping labels to [0,N]\n",
      "[2019-08-13 15:17:49,034] INFO - scvi.dataset.dataset | Computing the library size for the new data\n",
      "[2019-08-13 15:17:49,290] INFO - scvi.dataset.dataset | Downsampled from 11392 to 11392 cells\n",
      "[2019-08-13 15:17:49,606] INFO - scvi.dataset.anndataset | Dense size under 1Gb, casting to dense format (np.ndarray).\n",
      "[2019-08-13 15:17:50,068] INFO - scvi.dataset.dataset | Remapping batch_indices to [0,N]\n",
      "[2019-08-13 15:17:50,069] INFO - scvi.dataset.dataset | Remapping labels to [0,N]\n",
      "[2019-08-13 15:17:50,220] INFO - scvi.dataset.dataset | Computing the library size for the new data\n",
      "[2019-08-13 15:17:50,382] INFO - scvi.dataset.dataset | Downsampled from 6815 to 6815 cells\n",
      "[2019-08-13 15:17:52,318] INFO - scvi.dataset.dataset | Remapping batch_indices to [0,N]\n",
      "[2019-08-13 15:17:52,320] INFO - scvi.dataset.dataset | Remapping labels to [0,N]\n",
      "[2019-08-13 15:17:53,019] INFO - scvi.dataset.dataset | Computing the library size for the new data\n",
      "[2019-08-13 15:17:53,668] INFO - scvi.dataset.dataset | Downsampled from 41941 to 41941 cells\n",
      "[2019-08-13 15:17:54,160] INFO - scvi.dataset.anndataset | Dense size under 1Gb, casting to dense format (np.ndarray).\n",
      "[2019-08-13 15:17:54,713] INFO - scvi.dataset.dataset | Remapping batch_indices to [0,N]\n",
      "[2019-08-13 15:17:54,714] INFO - scvi.dataset.dataset | Remapping labels to [0,N]\n",
      "[2019-08-13 15:17:54,912] INFO - scvi.dataset.dataset | Computing the library size for the new data\n",
      "[2019-08-13 15:17:55,109] INFO - scvi.dataset.dataset | Downsampled from 8817 to 8817 cells\n",
      "[2019-08-13 15:17:56,515] INFO - scvi.dataset.dataset | Remapping batch_indices to [0,N]\n",
      "[2019-08-13 15:17:56,516] INFO - scvi.dataset.dataset | Remapping labels to [0,N]\n",
      "[2019-08-13 15:17:56,999] INFO - scvi.dataset.dataset | Computing the library size for the new data\n",
      "[2019-08-13 15:17:57,469] INFO - scvi.dataset.dataset | Downsampled from 20657 to 20657 cells\n",
      "[2019-08-13 15:17:57,699] INFO - scvi.dataset.anndataset | Dense size under 1Gb, casting to dense format (np.ndarray).\n",
      "[2019-08-13 15:17:58,019] INFO - scvi.dataset.dataset | Remapping batch_indices to [0,N]\n",
      "[2019-08-13 15:17:58,020] INFO - scvi.dataset.dataset | Remapping labels to [0,N]\n",
      "[2019-08-13 15:17:58,107] INFO - scvi.dataset.dataset | Computing the library size for the new data\n",
      "[2019-08-13 15:17:58,209] INFO - scvi.dataset.dataset | Downsampled from 3874 to 3874 cells\n",
      "[2019-08-13 15:17:58,392] INFO - scvi.dataset.anndataset | Dense size under 1Gb, casting to dense format (np.ndarray).\n",
      "[2019-08-13 15:17:58,644] INFO - scvi.dataset.dataset | Remapping batch_indices to [0,N]\n",
      "[2019-08-13 15:17:58,645] INFO - scvi.dataset.dataset | Remapping labels to [0,N]\n",
      "[2019-08-13 15:17:58,698] INFO - scvi.dataset.dataset | Computing the library size for the new data\n",
      "[2019-08-13 15:17:58,753] INFO - scvi.dataset.dataset | Downsampled from 1887 to 1887 cells\n",
      "[2019-08-13 15:18:00,062] INFO - scvi.dataset.dataset | Remapping batch_indices to [0,N]\n",
      "[2019-08-13 15:18:00,063] INFO - scvi.dataset.dataset | Remapping labels to [0,N]\n",
      "[2019-08-13 15:18:00,435] INFO - scvi.dataset.dataset | Computing the library size for the new data\n",
      "[2019-08-13 15:18:00,834] INFO - scvi.dataset.dataset | Downsampled from 29322 to 29322 cells\n",
      "[2019-08-13 15:18:01,155] INFO - scvi.dataset.anndataset | Dense size under 1Gb, casting to dense format (np.ndarray).\n",
      "[2019-08-13 15:18:01,632] INFO - scvi.dataset.dataset | Remapping batch_indices to [0,N]\n",
      "[2019-08-13 15:18:01,633] INFO - scvi.dataset.dataset | Remapping labels to [0,N]\n",
      "[2019-08-13 15:18:01,782] INFO - scvi.dataset.dataset | Computing the library size for the new data\n",
      "[2019-08-13 15:18:01,958] INFO - scvi.dataset.dataset | Downsampled from 6480 to 6480 cells\n",
      "[2019-08-13 15:18:02,296] INFO - scvi.dataset.anndataset | Dense size under 1Gb, casting to dense format (np.ndarray).\n",
      "[2019-08-13 15:18:02,825] INFO - scvi.dataset.dataset | Remapping batch_indices to [0,N]\n",
      "[2019-08-13 15:18:02,826] INFO - scvi.dataset.dataset | Remapping labels to [0,N]\n",
      "[2019-08-13 15:18:03,003] INFO - scvi.dataset.dataset | Computing the library size for the new data\n",
      "[2019-08-13 15:18:03,195] INFO - scvi.dataset.dataset | Downsampled from 7570 to 7570 cells\n"
     ]
    }
   ],
   "source": [
    "data_path = os.path.join((\"./data\"))\n",
    "mouse_data_path = os.path.join(data_path, \"mouse_data\")\n",
    "dsets = [] \n",
    "for file in os.listdir(f\"{data_path}/mouse_data\"):\n",
    "    if \"droplet\" in file:\n",
    "        dset = sc.read_h5ad(os.path.join(mouse_data_path, file))\n",
    "        dset.obs.rename(columns={\"cell_ontology_class\": \"cell_types\"}, inplace=True)\n",
    "        dsets.append(AnnDatasetFromAnnData(dset))"
   ]
  },
  {
   "cell_type": "code",
   "execution_count": 2,
   "metadata": {
    "scrolled": true
   },
   "outputs": [
    {
     "ename": "HTTPError",
     "evalue": "HTTP Error 500: Internal Server Error (https://www.ebi.ac.uk/gxa/sc/experiments/E-MTAB-6946/)",
     "output_type": "error",
     "traceback": [
      "\u001b[0;31m---------------------------------------------------------------------------\u001b[0m",
      "\u001b[0;31mHTTPError\u001b[0m                                 Traceback (most recent call last)",
      "\u001b[0;32m<ipython-input-2-96942657d1e2>\u001b[0m in \u001b[0;36m<module>\u001b[0;34m\u001b[0m\n\u001b[0;32m----> 1\u001b[0;31m \u001b[0mdata_full\u001b[0m \u001b[0;34m=\u001b[0m \u001b[0mEbiData\u001b[0m\u001b[0;34m(\u001b[0m\u001b[0;34m\"./data\"\u001b[0m\u001b[0;34m,\u001b[0m \u001b[0mexperiment\u001b[0m\u001b[0;34m=\u001b[0m\u001b[0;34m\"E-MTAB-6946\"\u001b[0m\u001b[0;34m,\u001b[0m \u001b[0mresult_file\u001b[0m\u001b[0;34m=\u001b[0m\u001b[0;34m\"raw\"\u001b[0m\u001b[0;34m)\u001b[0m\u001b[0;34m\u001b[0m\u001b[0;34m\u001b[0m\u001b[0m\n\u001b[0m",
      "\u001b[0;32m~/GitHub/scVI_ma/scvi/dataset/ebidata.py\u001b[0m in \u001b[0;36m__init__\u001b[0;34m(self, save_path, experiment, result_file, filter_boring, cell_types_column_name, batch_indices_column_name, labels_column_name)\u001b[0m\n\u001b[1;32m     30\u001b[0m             \u001b[0;32mif\u001b[0m \u001b[0;32mnot\u001b[0m \u001b[0mpath\u001b[0m\u001b[0;34m.\u001b[0m\u001b[0misfile\u001b[0m\u001b[0;34m(\u001b[0m\u001b[0mpath\u001b[0m\u001b[0;34m.\u001b[0m\u001b[0mjoin\u001b[0m\u001b[0;34m(\u001b[0m\u001b[0mfilepath\u001b[0m\u001b[0;34m,\u001b[0m \u001b[0;34m\"experimental_design.tsv\"\u001b[0m\u001b[0;34m)\u001b[0m\u001b[0;34m)\u001b[0m\u001b[0;31m\\\u001b[0m\u001b[0;34m\u001b[0m\u001b[0;34m\u001b[0m\u001b[0m\n\u001b[1;32m     31\u001b[0m             \u001b[0;32mor\u001b[0m \u001b[0;32mnot\u001b[0m \u001b[0mpath\u001b[0m\u001b[0;34m.\u001b[0m\u001b[0misfile\u001b[0m\u001b[0;34m(\u001b[0m\u001b[0mpath\u001b[0m\u001b[0;34m.\u001b[0m\u001b[0mjoin\u001b[0m\u001b[0;34m(\u001b[0m\u001b[0mfilepath\u001b[0m\u001b[0;34m,\u001b[0m \u001b[0;34m\"expression_archive.zip\"\u001b[0m\u001b[0;34m)\u001b[0m\u001b[0;34m)\u001b[0m\u001b[0;34m:\u001b[0m\u001b[0;34m\u001b[0m\u001b[0;34m\u001b[0m\u001b[0m\n\u001b[0;32m---> 32\u001b[0;31m                 \u001b[0madata\u001b[0m \u001b[0;34m=\u001b[0m \u001b[0mscanpy\u001b[0m\u001b[0;34m.\u001b[0m\u001b[0mdatasets\u001b[0m\u001b[0;34m.\u001b[0m\u001b[0mebi_expression_atlas\u001b[0m\u001b[0;34m(\u001b[0m\u001b[0mexperiment\u001b[0m\u001b[0;34m,\u001b[0m \u001b[0mfilter_boring\u001b[0m\u001b[0;34m=\u001b[0m\u001b[0mfilter_boring\u001b[0m\u001b[0;34m)\u001b[0m\u001b[0;34m\u001b[0m\u001b[0;34m\u001b[0m\u001b[0m\n\u001b[0m\u001b[1;32m     33\u001b[0m             \u001b[0;32melse\u001b[0m\u001b[0;34m:\u001b[0m\u001b[0;34m\u001b[0m\u001b[0;34m\u001b[0m\u001b[0m\n\u001b[1;32m     34\u001b[0m                 \u001b[0madata\u001b[0m\u001b[0;34m,\u001b[0m \u001b[0mobs\u001b[0m \u001b[0;34m=\u001b[0m \u001b[0mread_archive\u001b[0m\u001b[0;34m(\u001b[0m\u001b[0mfilepath\u001b[0m\u001b[0;34m)\u001b[0m\u001b[0;34m\u001b[0m\u001b[0;34m\u001b[0m\u001b[0m\n",
      "\u001b[0;32m~/anaconda3/envs/scvi/lib/python3.7/site-packages/scanpy/datasets/_ebi_expression_atlas.py\u001b[0m in \u001b[0;36mebi_expression_atlas\u001b[0;34m(accession, filter_boring)\u001b[0m\n\u001b[1;32m    157\u001b[0m         \u001b[0;32mpass\u001b[0m\u001b[0;34m\u001b[0m\u001b[0;34m\u001b[0m\u001b[0m\n\u001b[1;32m    158\u001b[0m \u001b[0;34m\u001b[0m\u001b[0m\n\u001b[0;32m--> 159\u001b[0;31m     \u001b[0mdownload_experiment\u001b[0m\u001b[0;34m(\u001b[0m\u001b[0maccession\u001b[0m\u001b[0;34m)\u001b[0m\u001b[0;34m\u001b[0m\u001b[0;34m\u001b[0m\u001b[0m\n\u001b[0m\u001b[1;32m    160\u001b[0m \u001b[0;34m\u001b[0m\u001b[0m\n\u001b[1;32m    161\u001b[0m     \u001b[0mprint\u001b[0m\u001b[0;34m(\u001b[0m\u001b[0;34m\"Downloaded {} to {}\"\u001b[0m\u001b[0;34m.\u001b[0m\u001b[0mformat\u001b[0m\u001b[0;34m(\u001b[0m\u001b[0maccession\u001b[0m\u001b[0;34m,\u001b[0m \u001b[0mexperiment_dir\u001b[0m\u001b[0;34m.\u001b[0m\u001b[0mabsolute\u001b[0m\u001b[0;34m(\u001b[0m\u001b[0;34m)\u001b[0m\u001b[0;34m)\u001b[0m\u001b[0;34m)\u001b[0m\u001b[0;34m\u001b[0m\u001b[0;34m\u001b[0m\u001b[0m\n",
      "\u001b[0;32m~/anaconda3/envs/scvi/lib/python3.7/site-packages/scanpy/datasets/_ebi_expression_atlas.py\u001b[0m in \u001b[0;36mdownload_experiment\u001b[0;34m(accession)\u001b[0m\n\u001b[1;32m     62\u001b[0m \u001b[0;34m\u001b[0m\u001b[0m\n\u001b[1;32m     63\u001b[0m \u001b[0;32mdef\u001b[0m \u001b[0mdownload_experiment\u001b[0m\u001b[0;34m(\u001b[0m\u001b[0maccession\u001b[0m\u001b[0;34m)\u001b[0m\u001b[0;34m:\u001b[0m\u001b[0;34m\u001b[0m\u001b[0;34m\u001b[0m\u001b[0m\n\u001b[0;32m---> 64\u001b[0;31m     \u001b[0msniff_url\u001b[0m\u001b[0;34m(\u001b[0m\u001b[0maccession\u001b[0m\u001b[0;34m)\u001b[0m\u001b[0;34m\u001b[0m\u001b[0;34m\u001b[0m\u001b[0m\n\u001b[0m\u001b[1;32m     65\u001b[0m \u001b[0;34m\u001b[0m\u001b[0m\n\u001b[1;32m     66\u001b[0m     \u001b[0mbase_url\u001b[0m \u001b[0;34m=\u001b[0m \u001b[0;34m\"https://www.ebi.ac.uk/gxa/sc/experiment/{}/\"\u001b[0m\u001b[0;34m.\u001b[0m\u001b[0mformat\u001b[0m\u001b[0;34m(\u001b[0m\u001b[0maccession\u001b[0m\u001b[0;34m)\u001b[0m\u001b[0;34m\u001b[0m\u001b[0;34m\u001b[0m\u001b[0m\n",
      "\u001b[0;32m~/anaconda3/envs/scvi/lib/python3.7/site-packages/scanpy/datasets/_ebi_expression_atlas.py\u001b[0m in \u001b[0;36msniff_url\u001b[0;34m(accession)\u001b[0m\n\u001b[1;32m     54\u001b[0m     \u001b[0mbase_url\u001b[0m \u001b[0;34m=\u001b[0m \u001b[0;34m\"https://www.ebi.ac.uk/gxa/sc/experiments/{}/\"\u001b[0m\u001b[0;34m.\u001b[0m\u001b[0mformat\u001b[0m\u001b[0;34m(\u001b[0m\u001b[0maccession\u001b[0m\u001b[0;34m)\u001b[0m\u001b[0;34m\u001b[0m\u001b[0;34m\u001b[0m\u001b[0m\n\u001b[1;32m     55\u001b[0m     \u001b[0;32mtry\u001b[0m\u001b[0;34m:\u001b[0m\u001b[0;34m\u001b[0m\u001b[0;34m\u001b[0m\u001b[0m\n\u001b[0;32m---> 56\u001b[0;31m         \u001b[0;32mwith\u001b[0m \u001b[0murlopen\u001b[0m\u001b[0;34m(\u001b[0m\u001b[0mbase_url\u001b[0m\u001b[0;34m)\u001b[0m \u001b[0;32mas\u001b[0m \u001b[0mreq\u001b[0m\u001b[0;34m:\u001b[0m  \u001b[0;31m# Check if server up/ dataset exists\u001b[0m\u001b[0;34m\u001b[0m\u001b[0;34m\u001b[0m\u001b[0m\n\u001b[0m\u001b[1;32m     57\u001b[0m             \u001b[0;32mpass\u001b[0m\u001b[0;34m\u001b[0m\u001b[0;34m\u001b[0m\u001b[0m\n\u001b[1;32m     58\u001b[0m     \u001b[0;32mexcept\u001b[0m \u001b[0mHTTPError\u001b[0m \u001b[0;32mas\u001b[0m \u001b[0me\u001b[0m\u001b[0;34m:\u001b[0m\u001b[0;34m\u001b[0m\u001b[0;34m\u001b[0m\u001b[0m\n",
      "\u001b[0;32m~/anaconda3/envs/scvi/lib/python3.7/urllib/request.py\u001b[0m in \u001b[0;36murlopen\u001b[0;34m(url, data, timeout, cafile, capath, cadefault, context)\u001b[0m\n\u001b[1;32m    220\u001b[0m     \u001b[0;32melse\u001b[0m\u001b[0;34m:\u001b[0m\u001b[0;34m\u001b[0m\u001b[0;34m\u001b[0m\u001b[0m\n\u001b[1;32m    221\u001b[0m         \u001b[0mopener\u001b[0m \u001b[0;34m=\u001b[0m \u001b[0m_opener\u001b[0m\u001b[0;34m\u001b[0m\u001b[0;34m\u001b[0m\u001b[0m\n\u001b[0;32m--> 222\u001b[0;31m     \u001b[0;32mreturn\u001b[0m \u001b[0mopener\u001b[0m\u001b[0;34m.\u001b[0m\u001b[0mopen\u001b[0m\u001b[0;34m(\u001b[0m\u001b[0murl\u001b[0m\u001b[0;34m,\u001b[0m \u001b[0mdata\u001b[0m\u001b[0;34m,\u001b[0m \u001b[0mtimeout\u001b[0m\u001b[0;34m)\u001b[0m\u001b[0;34m\u001b[0m\u001b[0;34m\u001b[0m\u001b[0m\n\u001b[0m\u001b[1;32m    223\u001b[0m \u001b[0;34m\u001b[0m\u001b[0m\n\u001b[1;32m    224\u001b[0m \u001b[0;32mdef\u001b[0m \u001b[0minstall_opener\u001b[0m\u001b[0;34m(\u001b[0m\u001b[0mopener\u001b[0m\u001b[0;34m)\u001b[0m\u001b[0;34m:\u001b[0m\u001b[0;34m\u001b[0m\u001b[0;34m\u001b[0m\u001b[0m\n",
      "\u001b[0;32m~/anaconda3/envs/scvi/lib/python3.7/urllib/request.py\u001b[0m in \u001b[0;36mopen\u001b[0;34m(self, fullurl, data, timeout)\u001b[0m\n\u001b[1;32m    529\u001b[0m         \u001b[0;32mfor\u001b[0m \u001b[0mprocessor\u001b[0m \u001b[0;32min\u001b[0m \u001b[0mself\u001b[0m\u001b[0;34m.\u001b[0m\u001b[0mprocess_response\u001b[0m\u001b[0;34m.\u001b[0m\u001b[0mget\u001b[0m\u001b[0;34m(\u001b[0m\u001b[0mprotocol\u001b[0m\u001b[0;34m,\u001b[0m \u001b[0;34m[\u001b[0m\u001b[0;34m]\u001b[0m\u001b[0;34m)\u001b[0m\u001b[0;34m:\u001b[0m\u001b[0;34m\u001b[0m\u001b[0;34m\u001b[0m\u001b[0m\n\u001b[1;32m    530\u001b[0m             \u001b[0mmeth\u001b[0m \u001b[0;34m=\u001b[0m \u001b[0mgetattr\u001b[0m\u001b[0;34m(\u001b[0m\u001b[0mprocessor\u001b[0m\u001b[0;34m,\u001b[0m \u001b[0mmeth_name\u001b[0m\u001b[0;34m)\u001b[0m\u001b[0;34m\u001b[0m\u001b[0;34m\u001b[0m\u001b[0m\n\u001b[0;32m--> 531\u001b[0;31m             \u001b[0mresponse\u001b[0m \u001b[0;34m=\u001b[0m \u001b[0mmeth\u001b[0m\u001b[0;34m(\u001b[0m\u001b[0mreq\u001b[0m\u001b[0;34m,\u001b[0m \u001b[0mresponse\u001b[0m\u001b[0;34m)\u001b[0m\u001b[0;34m\u001b[0m\u001b[0;34m\u001b[0m\u001b[0m\n\u001b[0m\u001b[1;32m    532\u001b[0m \u001b[0;34m\u001b[0m\u001b[0m\n\u001b[1;32m    533\u001b[0m         \u001b[0;32mreturn\u001b[0m \u001b[0mresponse\u001b[0m\u001b[0;34m\u001b[0m\u001b[0;34m\u001b[0m\u001b[0m\n",
      "\u001b[0;32m~/anaconda3/envs/scvi/lib/python3.7/urllib/request.py\u001b[0m in \u001b[0;36mhttp_response\u001b[0;34m(self, request, response)\u001b[0m\n\u001b[1;32m    639\u001b[0m         \u001b[0;32mif\u001b[0m \u001b[0;32mnot\u001b[0m \u001b[0;34m(\u001b[0m\u001b[0;36m200\u001b[0m \u001b[0;34m<=\u001b[0m \u001b[0mcode\u001b[0m \u001b[0;34m<\u001b[0m \u001b[0;36m300\u001b[0m\u001b[0;34m)\u001b[0m\u001b[0;34m:\u001b[0m\u001b[0;34m\u001b[0m\u001b[0;34m\u001b[0m\u001b[0m\n\u001b[1;32m    640\u001b[0m             response = self.parent.error(\n\u001b[0;32m--> 641\u001b[0;31m                 'http', request, response, code, msg, hdrs)\n\u001b[0m\u001b[1;32m    642\u001b[0m \u001b[0;34m\u001b[0m\u001b[0m\n\u001b[1;32m    643\u001b[0m         \u001b[0;32mreturn\u001b[0m \u001b[0mresponse\u001b[0m\u001b[0;34m\u001b[0m\u001b[0;34m\u001b[0m\u001b[0m\n",
      "\u001b[0;32m~/anaconda3/envs/scvi/lib/python3.7/urllib/request.py\u001b[0m in \u001b[0;36merror\u001b[0;34m(self, proto, *args)\u001b[0m\n\u001b[1;32m    567\u001b[0m         \u001b[0;32mif\u001b[0m \u001b[0mhttp_err\u001b[0m\u001b[0;34m:\u001b[0m\u001b[0;34m\u001b[0m\u001b[0;34m\u001b[0m\u001b[0m\n\u001b[1;32m    568\u001b[0m             \u001b[0margs\u001b[0m \u001b[0;34m=\u001b[0m \u001b[0;34m(\u001b[0m\u001b[0mdict\u001b[0m\u001b[0;34m,\u001b[0m \u001b[0;34m'default'\u001b[0m\u001b[0;34m,\u001b[0m \u001b[0;34m'http_error_default'\u001b[0m\u001b[0;34m)\u001b[0m \u001b[0;34m+\u001b[0m \u001b[0morig_args\u001b[0m\u001b[0;34m\u001b[0m\u001b[0;34m\u001b[0m\u001b[0m\n\u001b[0;32m--> 569\u001b[0;31m             \u001b[0;32mreturn\u001b[0m \u001b[0mself\u001b[0m\u001b[0;34m.\u001b[0m\u001b[0m_call_chain\u001b[0m\u001b[0;34m(\u001b[0m\u001b[0;34m*\u001b[0m\u001b[0margs\u001b[0m\u001b[0;34m)\u001b[0m\u001b[0;34m\u001b[0m\u001b[0;34m\u001b[0m\u001b[0m\n\u001b[0m\u001b[1;32m    570\u001b[0m \u001b[0;34m\u001b[0m\u001b[0m\n\u001b[1;32m    571\u001b[0m \u001b[0;31m# XXX probably also want an abstract factory that knows when it makes\u001b[0m\u001b[0;34m\u001b[0m\u001b[0;34m\u001b[0m\u001b[0;34m\u001b[0m\u001b[0m\n",
      "\u001b[0;32m~/anaconda3/envs/scvi/lib/python3.7/urllib/request.py\u001b[0m in \u001b[0;36m_call_chain\u001b[0;34m(self, chain, kind, meth_name, *args)\u001b[0m\n\u001b[1;32m    501\u001b[0m         \u001b[0;32mfor\u001b[0m \u001b[0mhandler\u001b[0m \u001b[0;32min\u001b[0m \u001b[0mhandlers\u001b[0m\u001b[0;34m:\u001b[0m\u001b[0;34m\u001b[0m\u001b[0;34m\u001b[0m\u001b[0m\n\u001b[1;32m    502\u001b[0m             \u001b[0mfunc\u001b[0m \u001b[0;34m=\u001b[0m \u001b[0mgetattr\u001b[0m\u001b[0;34m(\u001b[0m\u001b[0mhandler\u001b[0m\u001b[0;34m,\u001b[0m \u001b[0mmeth_name\u001b[0m\u001b[0;34m)\u001b[0m\u001b[0;34m\u001b[0m\u001b[0;34m\u001b[0m\u001b[0m\n\u001b[0;32m--> 503\u001b[0;31m             \u001b[0mresult\u001b[0m \u001b[0;34m=\u001b[0m \u001b[0mfunc\u001b[0m\u001b[0;34m(\u001b[0m\u001b[0;34m*\u001b[0m\u001b[0margs\u001b[0m\u001b[0;34m)\u001b[0m\u001b[0;34m\u001b[0m\u001b[0;34m\u001b[0m\u001b[0m\n\u001b[0m\u001b[1;32m    504\u001b[0m             \u001b[0;32mif\u001b[0m \u001b[0mresult\u001b[0m \u001b[0;32mis\u001b[0m \u001b[0;32mnot\u001b[0m \u001b[0;32mNone\u001b[0m\u001b[0;34m:\u001b[0m\u001b[0;34m\u001b[0m\u001b[0;34m\u001b[0m\u001b[0m\n\u001b[1;32m    505\u001b[0m                 \u001b[0;32mreturn\u001b[0m \u001b[0mresult\u001b[0m\u001b[0;34m\u001b[0m\u001b[0;34m\u001b[0m\u001b[0m\n",
      "\u001b[0;32m~/anaconda3/envs/scvi/lib/python3.7/urllib/request.py\u001b[0m in \u001b[0;36mhttp_error_default\u001b[0;34m(self, req, fp, code, msg, hdrs)\u001b[0m\n\u001b[1;32m    647\u001b[0m \u001b[0;32mclass\u001b[0m \u001b[0mHTTPDefaultErrorHandler\u001b[0m\u001b[0;34m(\u001b[0m\u001b[0mBaseHandler\u001b[0m\u001b[0;34m)\u001b[0m\u001b[0;34m:\u001b[0m\u001b[0;34m\u001b[0m\u001b[0;34m\u001b[0m\u001b[0m\n\u001b[1;32m    648\u001b[0m     \u001b[0;32mdef\u001b[0m \u001b[0mhttp_error_default\u001b[0m\u001b[0;34m(\u001b[0m\u001b[0mself\u001b[0m\u001b[0;34m,\u001b[0m \u001b[0mreq\u001b[0m\u001b[0;34m,\u001b[0m \u001b[0mfp\u001b[0m\u001b[0;34m,\u001b[0m \u001b[0mcode\u001b[0m\u001b[0;34m,\u001b[0m \u001b[0mmsg\u001b[0m\u001b[0;34m,\u001b[0m \u001b[0mhdrs\u001b[0m\u001b[0;34m)\u001b[0m\u001b[0;34m:\u001b[0m\u001b[0;34m\u001b[0m\u001b[0;34m\u001b[0m\u001b[0m\n\u001b[0;32m--> 649\u001b[0;31m         \u001b[0;32mraise\u001b[0m \u001b[0mHTTPError\u001b[0m\u001b[0;34m(\u001b[0m\u001b[0mreq\u001b[0m\u001b[0;34m.\u001b[0m\u001b[0mfull_url\u001b[0m\u001b[0;34m,\u001b[0m \u001b[0mcode\u001b[0m\u001b[0;34m,\u001b[0m \u001b[0mmsg\u001b[0m\u001b[0;34m,\u001b[0m \u001b[0mhdrs\u001b[0m\u001b[0;34m,\u001b[0m \u001b[0mfp\u001b[0m\u001b[0;34m)\u001b[0m\u001b[0;34m\u001b[0m\u001b[0;34m\u001b[0m\u001b[0m\n\u001b[0m\u001b[1;32m    650\u001b[0m \u001b[0;34m\u001b[0m\u001b[0m\n\u001b[1;32m    651\u001b[0m \u001b[0;32mclass\u001b[0m \u001b[0mHTTPRedirectHandler\u001b[0m\u001b[0;34m(\u001b[0m\u001b[0mBaseHandler\u001b[0m\u001b[0;34m)\u001b[0m\u001b[0;34m:\u001b[0m\u001b[0;34m\u001b[0m\u001b[0;34m\u001b[0m\u001b[0m\n",
      "\u001b[0;31mHTTPError\u001b[0m: HTTP Error 500: Internal Server Error (https://www.ebi.ac.uk/gxa/sc/experiments/E-MTAB-6946/)"
     ]
    }
   ],
   "source": [
    "data_full = EbiData(\"./data\", experiment=\"E-MTAB-6946\", result_file=\"raw\")"
   ]
  },
  {
   "cell_type": "code",
   "execution_count": 3,
   "metadata": {},
   "outputs": [
    {
     "ename": "LibrdataError",
     "evalue": "Unable to open file",
     "output_type": "error",
     "traceback": [
      "\u001b[0;31m---------------------------------------------------------------------------\u001b[0m",
      "\u001b[0;31mLibrdataError\u001b[0m                             Traceback (most recent call last)",
      "\u001b[0;32m<ipython-input-3-8cdc35ba3bea>\u001b[0m in \u001b[0;36m<module>\u001b[0;34m\u001b[0m\n\u001b[0;32m----> 1\u001b[0;31m \u001b[0mresult\u001b[0m \u001b[0;34m=\u001b[0m \u001b[0mpyrdr\u001b[0m\u001b[0;34m.\u001b[0m\u001b[0mread_r\u001b[0m\u001b[0;34m(\u001b[0m\u001b[0;34m'~/Downloads/cds_cleaned_sampled_100k.RDS'\u001b[0m\u001b[0;34m)\u001b[0m\u001b[0;34m\u001b[0m\u001b[0;34m\u001b[0m\u001b[0m\n\u001b[0m",
      "\u001b[0;32m~/anaconda3/envs/scvi/lib/python3.7/site-packages/pyreadr/pyreadr.py\u001b[0m in \u001b[0;36mread_r\u001b[0;34m(path, use_objects, timezone)\u001b[0m\n\u001b[1;32m     38\u001b[0m     \u001b[0;32mif\u001b[0m \u001b[0mtimezone\u001b[0m\u001b[0;34m:\u001b[0m\u001b[0;34m\u001b[0m\u001b[0;34m\u001b[0m\u001b[0m\n\u001b[1;32m     39\u001b[0m         \u001b[0mparser\u001b[0m\u001b[0;34m.\u001b[0m\u001b[0mset_timezone\u001b[0m\u001b[0;34m(\u001b[0m\u001b[0mtimezone\u001b[0m\u001b[0;34m)\u001b[0m\u001b[0;34m\u001b[0m\u001b[0;34m\u001b[0m\u001b[0m\n\u001b[0;32m---> 40\u001b[0;31m     \u001b[0mparser\u001b[0m\u001b[0;34m.\u001b[0m\u001b[0mparse\u001b[0m\u001b[0;34m(\u001b[0m\u001b[0mpath\u001b[0m\u001b[0;34m)\u001b[0m\u001b[0;34m\u001b[0m\u001b[0;34m\u001b[0m\u001b[0m\n\u001b[0m\u001b[1;32m     41\u001b[0m \u001b[0;34m\u001b[0m\u001b[0m\n\u001b[1;32m     42\u001b[0m     \u001b[0mresult\u001b[0m \u001b[0;34m=\u001b[0m \u001b[0mOrderedDict\u001b[0m\u001b[0;34m(\u001b[0m\u001b[0;34m)\u001b[0m\u001b[0;34m\u001b[0m\u001b[0;34m\u001b[0m\u001b[0m\n",
      "\u001b[0;32m~/anaconda3/envs/scvi/lib/python3.7/site-packages/pyreadr/librdata.pyx\u001b[0m in \u001b[0;36mpyreadr.librdata.Parser.parse\u001b[0;34m()\u001b[0m\n",
      "\u001b[0;32m~/anaconda3/envs/scvi/lib/python3.7/site-packages/pyreadr/librdata.pyx\u001b[0m in \u001b[0;36mpyreadr.librdata.Parser.parse\u001b[0;34m()\u001b[0m\n",
      "\u001b[0;31mLibrdataError\u001b[0m: Unable to open file"
     ]
    }
   ],
   "source": [
    "result = pyrdr.read_r('~/Downloads/cds_cleaned_sampled_100k.RDS')"
   ]
  },
  {
   "cell_type": "code",
   "execution_count": 3,
   "metadata": {},
   "outputs": [],
   "source": [
    "union = UnionDataset(\"./data\", low_memory=False, map_fname=\"hugo_mouse_genes-proteincoding\")"
   ]
  },
  {
   "cell_type": "code",
   "execution_count": 4,
   "metadata": {},
   "outputs": [
    {
     "data": {
      "text/plain": [
       "Index(['0610009b22rik', '0610010f05rik', '0610010k14rik', '0610012g03rik',\n",
       "       '0610030e20rik', '0610040j01rik', '1110002e22rik', '1110004f10rik',\n",
       "       '1110008l16rik', '1110008p14rik',\n",
       "       ...\n",
       "       'mt-co2', 'mt-co3', 'mt-cytb', 'mt-nd1', 'mt-nd2', 'mt-nd3', 'mt-nd4',\n",
       "       'mt-nd4l', 'mt-nd5', 'mt-nd6'],\n",
       "      dtype='object', name='hugo', length=21937)"
      ]
     },
     "execution_count": 4,
     "metadata": {},
     "output_type": "execute_result"
    }
   ],
   "source": [
    "union.union_from_memory(dsets)"
   ]
  },
  {
   "cell_type": "code",
   "execution_count": 5,
   "metadata": {},
   "outputs": [
    {
     "name": "stdout",
     "output_type": "stream",
     "text": [
      "16371 / 19860\n",
      "16371 / 19860\n",
      "16371 / 19860\n",
      "16371 / 19860\n",
      "16371 / 19860\n",
      "16371 / 19860\n",
      "16371 / 19860\n",
      "16371 / 19860\n",
      "16371 / 19860\n",
      "16371 / 19860\n",
      "16371 / 19860\n",
      "16371 / 19860\n",
      "16371 / 19860\n",
      "16371 / 19860\n",
      "16371 / 19860\n",
      "16371 / 19860\n"
     ]
    }
   ],
   "source": [
    "for dset in dsets:\n",
    "    print((np.isin(np.char.upper(dset.gene_names), union.gene_names)).sum(), \"/\", len(dset.gene_names))"
   ]
  },
  {
   "cell_type": "code",
   "execution_count": 10,
   "metadata": {},
   "outputs": [
    {
     "name": "stdout",
     "output_type": "stream",
     "text": [
      "['xkr4' 'rp1' 'sox17' ... 'loc100041346' 'sly' 'erdr1']\n"
     ]
    }
   ],
   "source": [
    "print(np.char.upper(dsets[0].gene_names)[~np.isin(np.char.upper(dsets[0].gene_names), union.gene_names)])"
   ]
  },
  {
   "cell_type": "code",
   "execution_count": 8,
   "metadata": {},
   "outputs": [
    {
     "name": "stderr",
     "output_type": "stream",
     "text": [
      "[2019-08-13 11:04:32,591] INFO - scvi.dataset.dataset | Downsampling from 21937 to 16366 genes\n",
      "[2019-08-13 11:04:39,995] INFO - scvi.dataset.dataset | Filtering non-expressing cells.\n",
      "[2019-08-13 11:04:44,600] INFO - scvi.dataset.dataset | Downsampled from 217766 to 217766 cells\n"
     ]
    }
   ],
   "source": []
  },
  {
   "cell_type": "code",
   "execution_count": 7,
   "metadata": {},
   "outputs": [
    {
     "data": {
      "text/plain": [
       "<217766x21937 sparse matrix of type '<class 'numpy.float32'>'\n",
       "\twith 433547280 stored elements in Compressed Sparse Row format>"
      ]
     },
     "execution_count": 7,
     "metadata": {},
     "output_type": "execute_result"
    }
   ],
   "source": [
    "union."
   ]
  },
  {
   "cell_type": "code",
   "execution_count": null,
   "metadata": {},
   "outputs": [],
   "source": []
  }
 ],
 "metadata": {
  "kernelspec": {
   "display_name": "Python [conda env:scvi] *",
   "language": "python",
   "name": "conda-env-scvi-py"
  },
  "language_info": {
   "codemirror_mode": {
    "name": "ipython",
    "version": 3
   },
   "file_extension": ".py",
   "mimetype": "text/x-python",
   "name": "python",
   "nbconvert_exporter": "python",
   "pygments_lexer": "ipython3",
   "version": "3.7.4"
  }
 },
 "nbformat": 4,
 "nbformat_minor": 2
}
