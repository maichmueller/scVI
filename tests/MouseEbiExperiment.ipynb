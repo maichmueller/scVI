{
 "cells": [
  {
   "cell_type": "code",
   "execution_count": 1,
   "metadata": {},
   "outputs": [
    {
     "name": "stderr",
     "output_type": "stream",
     "text": [
      "[2019-09-04 15:18:43,673] INFO - scvi._settings | Added StreamHandler with custom formatter to 'scvi' logger.\n",
      "/home/michael/anaconda3/envs/scvi/lib/python3.7/site-packages/sklearn/utils/linear_assignment_.py:21: DeprecationWarning: The linear_assignment_ module is deprecated in 0.21 and will be removed from 0.23. Use scipy.optimize.linear_sum_assignment instead.\n",
      "  DeprecationWarning)\n"
     ]
    }
   ],
   "source": [
    "from scvi.dataset import EbiData, MouseAtlas, UnionDataset, AnnDatasetFromAnnData\n",
    "from Eval_basis import *\n",
    "import scanpy as sc\n",
    "import pandas as pd\n",
    "import scipy.sparse as sparse\n",
    "from tqdm import tqdm_notebook as tqdm\n",
    "import urllib"
   ]
  },
  {
   "cell_type": "code",
   "execution_count": 2,
   "metadata": {},
   "outputs": [
    {
     "data": {
      "application/vnd.jupyter.widget-view+json": {
       "model_id": "2e39b323e977407cab440d19b43c81e3",
       "version_major": 2,
       "version_minor": 0
      },
      "text/plain": [
       "HBox(children=(IntProgress(value=0, description='Loading EBI datasets', max=20, style=ProgressStyle(descriptio…"
      ]
     },
     "metadata": {},
     "output_type": "display_data"
    },
    {
     "name": "stderr",
     "output_type": "stream",
     "text": [
      "/home/michael/anaconda3/envs/scvi/lib/python3.7/site-packages/IPython/core/interactiveshell.py:3326: DtypeWarning: Columns (8,20) have mixed types. Specify dtype option on import or set low_memory=False.\n",
      "  exec(code_obj, self.user_global_ns, self.user_ns)\n",
      "[2019-09-04 15:19:55,786] INFO - scvi.dataset.dataset | Remapping labels to [0,N]\n",
      "[2019-09-04 15:19:55,791] INFO - scvi.dataset.dataset | Remapping batch_indices to [0,N]\n",
      "[2019-09-04 15:19:58,350] INFO - scvi.dataset.dataset | Computing the library size for the new data\n",
      "[2019-09-04 15:20:01,350] INFO - scvi.dataset.dataset | Downsampled from 167276 to 167276 cells\n",
      "[2019-09-04 15:20:30,685] INFO - scvi.dataset.dataset | Remapping labels to [0,N]\n",
      "[2019-09-04 15:20:30,687] INFO - scvi.dataset.dataset | Remapping batch_indices to [0,N]\n",
      "[2019-09-04 15:20:31,728] INFO - scvi.dataset.dataset | Computing the library size for the new data\n",
      "[2019-09-04 15:20:32,896] INFO - scvi.dataset.dataset | Downsampled from 62848 to 62848 cells\n",
      "[2019-09-04 15:20:33,539] INFO - scvi.dataset.anndataset | Dense size under 1Gb, casting to dense format (np.ndarray).\n",
      "[2019-09-04 15:20:33,600] INFO - scvi.dataset.dataset | Remapping labels to [0,N]\n",
      "[2019-09-04 15:20:33,600] INFO - scvi.dataset.dataset | Remapping batch_indices to [0,N]\n",
      "[2019-09-04 15:20:33,627] INFO - scvi.dataset.dataset | Computing the library size for the new data\n",
      "[2019-09-04 15:20:33,654] INFO - scvi.dataset.dataset | Downsampled from 2299 to 2299 cells\n",
      "[2019-09-04 15:20:34,794] INFO - scvi.dataset.anndataset | Dense size under 1Gb, casting to dense format (np.ndarray).\n",
      "[2019-09-04 15:20:34,851] INFO - scvi.dataset.dataset | Remapping labels to [0,N]\n",
      "[2019-09-04 15:20:34,852] INFO - scvi.dataset.dataset | Remapping batch_indices to [0,N]\n",
      "[2019-09-04 15:20:34,875] INFO - scvi.dataset.dataset | Computing the library size for the new data\n",
      "[2019-09-04 15:20:34,898] INFO - scvi.dataset.dataset | Downsampled from 1953 to 1953 cells\n",
      "[2019-09-04 15:20:39,904] INFO - scvi.dataset.anndataset | Dense size under 1Gb, casting to dense format (np.ndarray).\n",
      "[2019-09-04 15:20:40,007] INFO - scvi.dataset.dataset | Remapping labels to [0,N]\n",
      "[2019-09-04 15:20:40,008] INFO - scvi.dataset.dataset | Remapping batch_indices to [0,N]\n",
      "[2019-09-04 15:20:40,042] INFO - scvi.dataset.dataset | Computing the library size for the new data\n",
      "[2019-09-04 15:20:40,078] INFO - scvi.dataset.dataset | Downsampled from 1920 to 1920 cells\n",
      "[2019-09-04 15:20:43,639] INFO - scvi.dataset.anndataset | Dense size under 1Gb, casting to dense format (np.ndarray).\n",
      "[2019-09-04 15:20:43,730] INFO - scvi.dataset.dataset | Remapping labels to [0,N]\n",
      "[2019-09-04 15:20:43,730] INFO - scvi.dataset.dataset | Remapping batch_indices to [0,N]\n",
      "[2019-09-04 15:20:43,760] INFO - scvi.dataset.dataset | Computing the library size for the new data\n",
      "[2019-09-04 15:20:43,791] INFO - scvi.dataset.dataset | Downsampled from 1521 to 1521 cells\n",
      "[2019-09-04 15:20:46,277] INFO - scvi.dataset.anndataset | Dense size under 1Gb, casting to dense format (np.ndarray).\n",
      "[2019-09-04 15:20:46,366] INFO - scvi.dataset.dataset | Remapping labels to [0,N]\n",
      "[2019-09-04 15:20:46,367] INFO - scvi.dataset.dataset | Remapping batch_indices to [0,N]\n",
      "[2019-09-04 15:20:46,400] INFO - scvi.dataset.dataset | Computing the library size for the new data\n",
      "[2019-09-04 15:20:46,432] INFO - scvi.dataset.dataset | Downsampled from 1504 to 1504 cells\n",
      "[2019-09-04 15:20:51,838] INFO - scvi.dataset.anndataset | Dense size under 1Gb, casting to dense format (np.ndarray).\n",
      "[2019-09-04 15:20:51,949] INFO - scvi.dataset.dataset | Remapping labels to [0,N]\n",
      "[2019-09-04 15:20:51,950] INFO - scvi.dataset.dataset | Remapping batch_indices to [0,N]\n",
      "[2019-09-04 15:20:51,983] INFO - scvi.dataset.dataset | Computing the library size for the new data\n",
      "[2019-09-04 15:20:52,017] INFO - scvi.dataset.dataset | Downsampled from 1787 to 1787 cells\n",
      "[2019-09-04 15:20:53,706] INFO - scvi.dataset.anndataset | Dense size under 1Gb, casting to dense format (np.ndarray).\n",
      "[2019-09-04 15:20:53,763] INFO - scvi.dataset.dataset | Remapping labels to [0,N]\n",
      "[2019-09-04 15:20:53,764] INFO - scvi.dataset.dataset | Remapping batch_indices to [0,N]\n",
      "[2019-09-04 15:20:53,783] INFO - scvi.dataset.dataset | Computing the library size for the new data\n",
      "[2019-09-04 15:20:53,802] INFO - scvi.dataset.dataset | Downsampled from 1145 to 1145 cells\n",
      "[2019-09-04 15:20:56,327] INFO - scvi.dataset.anndataset | Dense size under 1Gb, casting to dense format (np.ndarray).\n",
      "[2019-09-04 15:20:56,390] INFO - scvi.dataset.dataset | Remapping labels to [0,N]\n",
      "[2019-09-04 15:20:56,390] INFO - scvi.dataset.dataset | Remapping batch_indices to [0,N]\n",
      "[2019-09-04 15:20:56,409] INFO - scvi.dataset.dataset | Computing the library size for the new data\n",
      "[2019-09-04 15:20:56,427] INFO - scvi.dataset.dataset | Downsampled from 1078 to 1078 cells\n",
      "[2019-09-04 15:20:57,095] INFO - scvi.dataset.anndataset | Dense size under 1Gb, casting to dense format (np.ndarray).\n",
      "[2019-09-04 15:20:57,122] INFO - scvi.dataset.dataset | Remapping labels to [0,N]\n",
      "[2019-09-04 15:20:57,122] INFO - scvi.dataset.dataset | Remapping batch_indices to [0,N]\n",
      "[2019-09-04 15:20:57,128] INFO - scvi.dataset.dataset | Computing the library size for the new data\n",
      "[2019-09-04 15:20:57,135] INFO - scvi.dataset.dataset | Downsampled from 378 to 378 cells\n",
      "[2019-09-04 15:20:57,861] INFO - scvi.dataset.anndataset | Dense size under 1Gb, casting to dense format (np.ndarray).\n",
      "[2019-09-04 15:20:57,885] INFO - scvi.dataset.dataset | Remapping labels to [0,N]\n",
      "[2019-09-04 15:20:57,886] INFO - scvi.dataset.dataset | Remapping batch_indices to [0,N]\n",
      "[2019-09-04 15:20:57,890] INFO - scvi.dataset.dataset | Computing the library size for the new data\n",
      "[2019-09-04 15:20:57,895] INFO - scvi.dataset.dataset | Downsampled from 288 to 288 cells\n",
      "[2019-09-04 15:20:58,583] INFO - scvi.dataset.anndataset | Dense size under 1Gb, casting to dense format (np.ndarray).\n",
      "[2019-09-04 15:20:58,607] INFO - scvi.dataset.dataset | Remapping labels to [0,N]\n",
      "[2019-09-04 15:20:58,607] INFO - scvi.dataset.dataset | Remapping batch_indices to [0,N]\n",
      "[2019-09-04 15:20:58,612] INFO - scvi.dataset.dataset | Computing the library size for the new data\n",
      "[2019-09-04 15:20:58,617] INFO - scvi.dataset.dataset | Downsampled from 288 to 288 cells\n",
      "[2019-09-04 15:20:59,497] INFO - scvi.dataset.anndataset | Dense size under 1Gb, casting to dense format (np.ndarray).\n",
      "[2019-09-04 15:20:59,524] INFO - scvi.dataset.dataset | Remapping labels to [0,N]\n",
      "[2019-09-04 15:20:59,525] INFO - scvi.dataset.dataset | Remapping batch_indices to [0,N]\n",
      "[2019-09-04 15:20:59,530] INFO - scvi.dataset.dataset | Computing the library size for the new data\n",
      "[2019-09-04 15:20:59,535] INFO - scvi.dataset.dataset | Downsampled from 284 to 284 cells\n",
      "[2019-09-04 15:20:59,930] INFO - scvi.dataset.anndataset | Dense size under 1Gb, casting to dense format (np.ndarray).\n",
      "[2019-09-04 15:20:59,950] INFO - scvi.dataset.dataset | Remapping labels to [0,N]\n",
      "[2019-09-04 15:20:59,950] INFO - scvi.dataset.dataset | Remapping batch_indices to [0,N]\n",
      "[2019-09-04 15:20:59,954] INFO - scvi.dataset.dataset | Computing the library size for the new data\n",
      "[2019-09-04 15:20:59,959] INFO - scvi.dataset.dataset | Downsampled from 250 to 250 cells\n",
      "[2019-09-04 15:21:00,274] INFO - scvi.dataset.anndataset | Dense size under 1Gb, casting to dense format (np.ndarray).\n",
      "[2019-09-04 15:21:00,290] INFO - scvi.dataset.dataset | Remapping labels to [0,N]\n",
      "[2019-09-04 15:21:00,290] INFO - scvi.dataset.dataset | Remapping batch_indices to [0,N]\n",
      "[2019-09-04 15:21:00,293] INFO - scvi.dataset.dataset | Computing the library size for the new data\n",
      "[2019-09-04 15:21:00,296] INFO - scvi.dataset.dataset | Downsampled from 141 to 141 cells\n",
      "[2019-09-04 15:21:00,530] INFO - scvi.dataset.anndataset | Dense size under 1Gb, casting to dense format (np.ndarray).\n",
      "[2019-09-04 15:21:00,544] INFO - scvi.dataset.dataset | Remapping labels to [0,N]\n",
      "[2019-09-04 15:21:00,545] INFO - scvi.dataset.dataset | Remapping batch_indices to [0,N]\n",
      "[2019-09-04 15:21:00,548] INFO - scvi.dataset.dataset | Computing the library size for the new data\n",
      "[2019-09-04 15:21:00,550] INFO - scvi.dataset.dataset | Downsampled from 121 to 121 cells\n"
     ]
    },
    {
     "name": "stderr",
     "output_type": "stream",
     "text": [
      "[2019-09-04 15:21:00,939] INFO - scvi.dataset.anndataset | Dense size under 1Gb, casting to dense format (np.ndarray).\n",
      "[2019-09-04 15:21:00,957] INFO - scvi.dataset.dataset | Remapping labels to [0,N]\n",
      "[2019-09-04 15:21:00,957] INFO - scvi.dataset.dataset | Remapping batch_indices to [0,N]\n",
      "[2019-09-04 15:21:00,960] INFO - scvi.dataset.dataset | Computing the library size for the new data\n",
      "[2019-09-04 15:21:00,963] INFO - scvi.dataset.dataset | Downsampled from 120 to 120 cells\n",
      "[2019-09-04 15:21:01,177] INFO - scvi.dataset.anndataset | Dense size under 1Gb, casting to dense format (np.ndarray).\n",
      "[2019-09-04 15:21:01,191] INFO - scvi.dataset.dataset | Remapping labels to [0,N]\n",
      "[2019-09-04 15:21:01,192] INFO - scvi.dataset.dataset | Remapping batch_indices to [0,N]\n",
      "[2019-09-04 15:21:01,194] INFO - scvi.dataset.dataset | Computing the library size for the new data\n",
      "[2019-09-04 15:21:01,196] INFO - scvi.dataset.dataset | Downsampled from 87 to 87 cells\n",
      "[2019-09-04 15:21:01,258] INFO - scvi.dataset.anndataset | Dense size under 1Gb, casting to dense format (np.ndarray).\n",
      "[2019-09-04 15:21:01,266] INFO - scvi.dataset.dataset | Remapping labels to [0,N]\n",
      "[2019-09-04 15:21:01,266] INFO - scvi.dataset.dataset | Remapping batch_indices to [0,N]\n",
      "[2019-09-04 15:21:01,267] INFO - scvi.dataset.dataset | Computing the library size for the new data\n",
      "[2019-09-04 15:21:01,268] INFO - scvi.dataset.dataset | Downsampled from 51 to 51 cells\n"
     ]
    },
    {
     "name": "stdout",
     "output_type": "stream",
     "text": [
      "\n"
     ]
    }
   ],
   "source": [
    "ebi_datasets_ids = ['E-MTAB-6946', 'E-MTAB-7320',\n",
    "                    \"E-MTAB-7417\", \"E-MTAB-6173\", \"E-GEOD-81682\", \n",
    "                    \"E-ENAD-13\", \"E-GEOD-99235\", \"E-GEOD-71585\", \n",
    "                    \"E-GEOD-87631\", \"E-GEOD-90848\", \"E-MTAB-4547\",\n",
    "                   \"E-MTAB-6970\", \"E-MTAB-5802\", \"E-MTAB-5661\", \n",
    "                    \"E-GEOD-99058\", \"E-GEOD-106973\", \"E-MTAB-7365\",\n",
    "                   \"E-MTAB-5553\", \"E-MTAB-6925\", \"E-MTAB-6976\"]\n",
    "\n",
    "ebi_data = []\n",
    "for e_id in tqdm(ebi_datasets_ids, desc=\"Loading EBI datasets\"):\n",
    "    try:\n",
    "        data = EbiData(\"./data\", e_id)\n",
    "    except urllib.error.HTTPError:\n",
    "        data = EbiData(\"./data\", e_id, result_file='raw')\n",
    "    ebi_data.append(data)"
   ]
  },
  {
   "cell_type": "code",
   "execution_count": 3,
   "metadata": {},
   "outputs": [
    {
     "name": "stderr",
     "output_type": "stream",
     "text": [
      "Concatenating datasets: 100%|██████████| 20/20 [04:15<00:00,  4.50s/it]\n",
      "[2019-09-04 15:25:20,075] INFO - scvi.dataset.dataset | Union dataset is set to ignore batch annotation.\n",
      "[2019-09-04 15:25:24,940] INFO - scvi.dataset.dataset | Remapping labels to [0,N]\n",
      "[2019-09-04 15:25:24,953] INFO - scvi.dataset.dataset | Remapping batch_indices to [0,N]\n",
      "[2019-09-04 15:25:24,957] INFO - scvi.dataset.dataset | Union dataset is set to ignore batch annotation.\n",
      "[2019-09-04 15:25:24,960] INFO - scvi.dataset.dataset | Joined 20 datasets to one of shape 245339 x 22250.\n"
     ]
    }
   ],
   "source": [
    "mouse_ebi = UnionDataset(\"./data\", \n",
    "                              gene_map_load_filename=\"gene_maps/ensembl_mouse_genes-proteincoding\", \n",
    "                              low_memory=False)\n",
    "mouse_ebi.join_datasets(data_source=\"memory\", \n",
    "                             data_target=\"memory\", \n",
    "                             gene_datasets=ebi_data)\n",
    "ebi_data = None"
   ]
  },
  {
   "cell_type": "code",
   "execution_count": null,
   "metadata": {},
   "outputs": [],
   "source": []
  },
  {
   "cell_type": "code",
   "execution_count": 4,
   "metadata": {},
   "outputs": [],
   "source": [
    "def do_procedure(dataset, ebi_data, model_filename, tsne_filename):\n",
    "    n_epochs = 100\n",
    "    colors = None\n",
    "\n",
    "    print(\"Training VAE\")\n",
    "\n",
    "    trainer = train_vae(dataset, \"./data\", f\"../trained_models/{model_filename}\", n_epochs=n_epochs)\n",
    "\n",
    "    dot_size = (mpl.rcParams['lines.markersize'] ** 2.0)\n",
    "\n",
    "    _ = plot_tsne(trainer, trainer.model, dataset, f\"./{tsne_filename}\", image_datatype=\"pdf\",\n",
    "                  colors=colors, s=dot_size, edgecolors='black')\n",
    "\n",
    "    _ = plot_tsne(trainer, trainer.model, ebi_data,\n",
    "                  f\"./plots/ebi_annotated_data_in_{tsne_filename}\",\n",
    "                  image_datatype=\"pdf\", colors=colors, s=dot_size, edgecolors='black')"
   ]
  },
  {
   "cell_type": "code",
   "execution_count": 5,
   "metadata": {},
   "outputs": [
    {
     "name": "stderr",
     "output_type": "stream",
     "text": [
      "[2019-09-04 15:26:10,878] WARNING - scvi.dataset.dataset | This dataset has some empty cells, this might fail scVI inference.Data should be filtered with `my_dataset.filter_cells_by_count()\n",
      "[2019-09-04 15:26:10,898] INFO - scvi.dataset.dataset | Remapping labels to [0,N]\n",
      "[2019-09-04 15:26:10,904] INFO - scvi.dataset.dataset | Remapping batch_indices to [0,N]\n",
      "[2019-09-04 15:26:11,944] INFO - scvi.dataset.dataset | Computing the library size for the new data\n",
      "[2019-09-04 15:26:12,988] INFO - scvi.dataset.dataset | Downsampled from 50896 to 35577 cells\n",
      "Concatenating datasets: 100%|██████████| 1/1 [00:32<00:00, 32.72s/it]\n",
      "[2019-09-04 15:26:46,157] INFO - scvi.dataset.dataset | Union dataset is set to ignore batch annotation.\n",
      "[2019-09-04 15:26:47,167] INFO - scvi.dataset.dataset | Remapping labels to [0,N]\n",
      "[2019-09-04 15:26:47,172] INFO - scvi.dataset.dataset | Remapping batch_indices to [0,N]\n",
      "[2019-09-04 15:26:47,173] INFO - scvi.dataset.dataset | Union dataset is set to ignore batch annotation.\n",
      "[2019-09-04 15:26:47,173] INFO - scvi.dataset.dataset | Joined 1 datasets to one of shape 35577 x 22250.\n"
     ]
    },
    {
     "data": {
      "text/plain": [
       "GeneExpressionDataset object with n_cells x nb_genes = 35577 x 22250\n",
       "    gene_attribute_names: 'gene_names'\n",
       "    cell_attribute_names: 'labels', 'batch_indices', 'local_vars', 'local_means'\n",
       "    cell_categorical_attribute_names: 'labels', 'batch_indices'"
      ]
     },
     "execution_count": 5,
     "metadata": {},
     "output_type": "execute_result"
    }
   ],
   "source": [
    "ebi = UnionDataset(\"./data\", \n",
    "                              gene_map_load_filename=\"gene_maps/ensembl_mouse_genes-proteincoding\", \n",
    "                              low_memory=False)\n",
    "ebi.join_datasets(data_source=\"memory\", \n",
    "                             data_target=\"memory\", \n",
    "                             gene_datasets=[EbiData(\"./data\")])"
   ]
  },
  {
   "cell_type": "code",
   "execution_count": 7,
   "metadata": {},
   "outputs": [
    {
     "name": "stdout",
     "output_type": "stream",
     "text": [
      "Training VAE\n",
      "Initializing training.\n",
      "training: 100%|██████████| 100/100 [25:36<00:00, 18.84s/it]\n"
     ]
    }
   ],
   "source": [
    "do_procedure(mouse_ebi, ebi, \"ebi_data_full\", \"ebi_data_full_tsne\")"
   ]
  },
  {
   "cell_type": "code",
   "execution_count": null,
   "metadata": {},
   "outputs": [],
   "source": []
  }
 ],
 "metadata": {
  "kernelspec": {
   "display_name": "Python [conda env:scvi] *",
   "language": "python",
   "name": "conda-env-scvi-py"
  },
  "language_info": {
   "codemirror_mode": {
    "name": "ipython",
    "version": 3
   },
   "file_extension": ".py",
   "mimetype": "text/x-python",
   "name": "python",
   "nbconvert_exporter": "python",
   "pygments_lexer": "ipython3",
   "version": "3.7.4"
  }
 },
 "nbformat": 4,
 "nbformat_minor": 2
}
